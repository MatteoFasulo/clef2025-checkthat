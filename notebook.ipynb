{
 "cells": [
  {
   "cell_type": "markdown",
   "metadata": {},
   "source": [
    "# Subjectivity in News Articles\n",
    "\n",
    "## Group:\n",
    "- Luca Babboni - luca.babboni2@studio.unibo.it\n",
    "- Matteo Fasulo - matteo.fasulo@studio.unibo.it\n",
    "- Luca Tedeschini - luca.tedeschini3@studio.unibo.it\n",
    "\n",
    "## Description\n",
    "\n",
    "This notebook addresses Task 1 proposed in [CheckThat Lab](https://checkthat.gitlab.io/clef2025/) of CLEF 2025. In this task, systems are challenged to distinguish whether a sentence from a news article expresses the subjective view of the author behind it or presents an objective view on the covered topic instead.\n",
    "\n",
    "This is a binary classification tasks in which systems have to identify whether a text sequence (a sentence or a paragraph) is subjective (SUBJ) or objective (OBJ).\n",
    "\n",
    "The task comprises three settings:\n",
    "\n",
    "* Monolingual: train and test on data in a given language\n",
    "* Multilingual: train and test on data comprising several languages\n",
    "* Zero-shot: train on several languages and test on unseen languages\n",
    "\n",
    "training data in five languages:\n",
    "* Arabic\n",
    "* Bulgarian\n",
    "* English\n",
    "* German\n",
    "* Italian\n",
    "\n",
    "The official evaluation is macro-averaged F1 between the two classes."
   ]
  },
  {
   "cell_type": "code",
   "execution_count": 3,
   "metadata": {
    "execution": {
     "iopub.execute_input": "2025-03-01T14:23:14.338382Z",
     "iopub.status.busy": "2025-03-01T14:23:14.338025Z",
     "iopub.status.idle": "2025-03-01T14:23:14.344254Z",
     "shell.execute_reply": "2025-03-01T14:23:14.343376Z",
     "shell.execute_reply.started": "2025-03-01T14:23:14.338357Z"
    },
    "trusted": true
   },
   "outputs": [
    {
     "name": "stderr",
     "output_type": "stream",
     "text": [
      "/home/matteo/Documenti/VSCODE/clef2025-checkthat/.venv/lib/python3.10/site-packages/tqdm/auto.py:21: TqdmWarning: IProgress not found. Please update jupyter and ipywidgets. See https://ipywidgets.readthedocs.io/en/stable/user_install.html\n",
      "  from .autonotebook import tqdm as notebook_tqdm\n"
     ]
    }
   ],
   "source": [
    "from collections import defaultdict\n",
    "import os\n",
    "import gc\n",
    "from pathlib import Path\n",
    "\n",
    "import csv\n",
    "\n",
    "import matplotlib.pyplot as plt\n",
    "import numpy as np\n",
    "import pandas as pd\n",
    "\n",
    "from tqdm import tqdm\n",
    "\n",
    "from joblib import delayed, Parallel\n",
    "\n",
    "from sklearn.preprocessing import LabelBinarizer\n",
    "from sklearn.linear_model import LogisticRegression\n",
    "from sklearn.metrics import accuracy_score, precision_recall_fscore_support, f1_score, confusion_matrix, ConfusionMatrixDisplay\n",
    "from sklearn.utils.class_weight import compute_class_weight\n",
    "\n",
    "import torch\n",
    "import torch.nn as nn\n",
    "from torch.utils.data import DataLoader, RandomSampler, TensorDataset\n",
    "\n",
    "from sentence_transformers import SentenceTransformer\n",
    "from datasets import Dataset\n",
    "from huggingface_hub import notebook_login\n",
    "from transformers.modeling_outputs import SequenceClassifierOutput\n",
    "from transformers import AutoTokenizer, AutoModel, AutoModelForSequenceClassification, Trainer, TrainingArguments, DataCollatorWithPadding, RobertaTokenizerFast, RobertaForSequenceClassification, pipeline, AdamW, get_linear_schedule_with_warmup"
   ]
  },
  {
   "cell_type": "code",
   "execution_count": 4,
   "metadata": {
    "execution": {
     "iopub.execute_input": "2025-03-01T14:11:28.885484Z",
     "iopub.status.busy": "2025-03-01T14:11:28.884806Z",
     "iopub.status.idle": "2025-03-01T14:11:28.955786Z",
     "shell.execute_reply": "2025-03-01T14:11:28.954839Z",
     "shell.execute_reply.started": "2025-03-01T14:11:28.885459Z"
    },
    "trusted": true
   },
   "outputs": [
    {
     "name": "stdout",
     "output_type": "stream",
     "text": [
      "Using device: cuda\n"
     ]
    }
   ],
   "source": [
    "SEED = 42\n",
    "device = 'cuda' if torch.cuda.is_available() else 'cpu'\n",
    "print(f\"Using device: {device}\")"
   ]
  },
  {
   "cell_type": "code",
   "execution_count": 5,
   "metadata": {
    "execution": {
     "iopub.execute_input": "2025-03-01T14:11:28.956861Z",
     "iopub.status.busy": "2025-03-01T14:11:28.956623Z",
     "iopub.status.idle": "2025-03-01T14:11:28.985212Z",
     "shell.execute_reply": "2025-03-01T14:11:28.984546Z",
     "shell.execute_reply.started": "2025-03-01T14:11:28.956840Z"
    },
    "trusted": true
   },
   "outputs": [],
   "source": [
    "np.random.seed(SEED)\n",
    "torch.manual_seed(SEED)\n",
    "torch.cuda.manual_seed_all(SEED)"
   ]
  },
  {
   "cell_type": "code",
   "execution_count": null,
   "metadata": {
    "execution": {
     "iopub.execute_input": "2025-03-01T14:11:28.987218Z",
     "iopub.status.busy": "2025-03-01T14:11:28.986974Z",
     "iopub.status.idle": "2025-03-01T14:11:29.209397Z",
     "shell.execute_reply": "2025-03-01T14:11:29.208492Z",
     "shell.execute_reply.started": "2025-03-01T14:11:28.987199Z"
    },
    "trusted": true
   },
   "outputs": [],
   "source": [
    "data_folder = '/kaggle/input/clef2025-checkthat/data' # data\n",
    "dataset = pd.DataFrame(columns=['sentence_id','sentence','label','lang','split'])\n",
    "\n",
    "for language in os.listdir(data_folder):\n",
    "    for filename in os.listdir(f\"{data_folder}{os.sep}{language}\"):\n",
    "        if '.tsv' in filename:\n",
    "            abs_path = f\"{data_folder}{os.sep}{language}{os.sep}{filename}\"\n",
    "            df = pd.read_csv(abs_path, sep='\\t', quoting=csv.QUOTE_NONE)\n",
    "            if 'solved_conflict' in df.columns:\n",
    "                df.drop(columns=['solved_conflict'], inplace=True)\n",
    "            df['lang'] = language\n",
    "            df['split'] = Path(filename).stem\n",
    "            dataset = pd.concat([dataset, df], axis=0)"
   ]
  },
  {
   "cell_type": "code",
   "execution_count": 9,
   "metadata": {
    "execution": {
     "iopub.execute_input": "2025-03-01T14:11:29.210928Z",
     "iopub.status.busy": "2025-03-01T14:11:29.210622Z",
     "iopub.status.idle": "2025-03-01T14:11:29.231646Z",
     "shell.execute_reply": "2025-03-01T14:11:29.230813Z",
     "shell.execute_reply.started": "2025-03-01T14:11:29.210901Z"
    },
    "trusted": true
   },
   "outputs": [
    {
     "name": "stdout",
     "output_type": "stream",
     "text": [
      "Train: (6418, 5)\n",
      "Dev: (4733, 5)\n",
      "Test: (2332, 5)\n"
     ]
    }
   ],
   "source": [
    "train = dataset[dataset['split'].str.contains('train')].copy()\n",
    "dev = dataset[dataset['split'].str.contains('dev')].copy()\n",
    "test = dataset[dataset['split'].str.contains('dev_test')].copy()\n",
    "\n",
    "print(f\"Train: {train.shape}\")\n",
    "print(f\"Dev: {dev.shape}\")\n",
    "print(f\"Test: {test.shape}\")"
   ]
  },
  {
   "cell_type": "code",
   "execution_count": 10,
   "metadata": {
    "execution": {
     "iopub.execute_input": "2025-03-01T14:11:29.232839Z",
     "iopub.status.busy": "2025-03-01T14:11:29.232586Z",
     "iopub.status.idle": "2025-03-01T14:11:29.253158Z",
     "shell.execute_reply": "2025-03-01T14:11:29.252499Z",
     "shell.execute_reply.started": "2025-03-01T14:11:29.232820Z"
    },
    "trusted": true
   },
   "outputs": [
    {
     "name": "stdout",
     "output_type": "stream",
     "text": [
      "Train: label\n",
      "OBJ     0.631349\n",
      "SUBJ    0.368651\n",
      "Name: proportion, dtype: float64\n",
      "Dev: label\n",
      "OBJ     0.634481\n",
      "SUBJ    0.365519\n",
      "Name: proportion, dtype: float64\n",
      "Test: label\n",
      "OBJ     0.657376\n",
      "SUBJ    0.342624\n",
      "Name: proportion, dtype: float64\n"
     ]
    }
   ],
   "source": [
    "print(f\"Train: {train['label'].value_counts(normalize=True)}\")\n",
    "print(f\"Dev: {dev['label'].value_counts(normalize=True)}\")\n",
    "print(f\"Test: {test['label'].value_counts(normalize=True)}\")"
   ]
  },
  {
   "cell_type": "markdown",
   "metadata": {},
   "source": [
    "Legend:\n",
    "* Objective -> 0\n",
    "* Subjective -> 1"
   ]
  },
  {
   "cell_type": "code",
   "execution_count": 11,
   "metadata": {
    "execution": {
     "iopub.execute_input": "2025-03-01T14:11:29.254336Z",
     "iopub.status.busy": "2025-03-01T14:11:29.254008Z",
     "iopub.status.idle": "2025-03-01T14:11:29.272564Z",
     "shell.execute_reply": "2025-03-01T14:11:29.271923Z",
     "shell.execute_reply.started": "2025-03-01T14:11:29.254286Z"
    },
    "trusted": true
   },
   "outputs": [],
   "source": [
    "train.loc[:, 'label'] = train['label'].apply(lambda x: 0 if x == 'OBJ' else 1)\n",
    "dev.loc[:, 'label'] = dev['label'].apply(lambda x: 0 if x == 'OBJ' else 1)\n",
    "test.loc[:, 'label'] = test['label'].apply(lambda x: 0 if x == 'OBJ' else 1)"
   ]
  },
  {
   "cell_type": "code",
   "execution_count": 12,
   "metadata": {
    "execution": {
     "iopub.execute_input": "2025-03-01T14:11:29.273760Z",
     "iopub.status.busy": "2025-03-01T14:11:29.273423Z",
     "iopub.status.idle": "2025-03-01T14:11:29.288347Z",
     "shell.execute_reply": "2025-03-01T14:11:29.287622Z",
     "shell.execute_reply.started": "2025-03-01T14:11:29.273731Z"
    },
    "trusted": true
   },
   "outputs": [],
   "source": [
    "train['label'] = train['label'].astype(int)\n",
    "dev['label'] = dev['label'].astype(int)\n",
    "test['label'] = test['label'].astype(int)"
   ]
  },
  {
   "cell_type": "code",
   "execution_count": 16,
   "metadata": {
    "execution": {
     "iopub.execute_input": "2025-03-01T13:27:47.899875Z",
     "iopub.status.busy": "2025-03-01T13:27:47.899667Z",
     "iopub.status.idle": "2025-03-01T13:27:47.912147Z",
     "shell.execute_reply": "2025-03-01T13:27:47.911464Z",
     "shell.execute_reply.started": "2025-03-01T13:27:47.899858Z"
    },
    "trusted": true
   },
   "outputs": [],
   "source": [
    "#notebook_login()"
   ]
  },
  {
   "cell_type": "markdown",
   "metadata": {},
   "source": [
    "# Baseline Model"
   ]
  },
  {
   "cell_type": "code",
   "execution_count": 24,
   "metadata": {
    "execution": {
     "iopub.execute_input": "2025-03-01T13:29:30.444250Z",
     "iopub.status.busy": "2025-03-01T13:29:30.443940Z",
     "iopub.status.idle": "2025-03-01T13:29:40.089044Z",
     "shell.execute_reply": "2025-03-01T13:29:40.088330Z",
     "shell.execute_reply.started": "2025-03-01T13:29:30.444228Z"
    },
    "trusted": true
   },
   "outputs": [
    {
     "data": {
      "application/vnd.jupyter.widget-view+json": {
       "model_id": "a9e618c3b5b645c088d5bee595d6a098",
       "version_major": 2,
       "version_minor": 0
      },
      "text/plain": [
       "modules.json:   0%|          | 0.00/229 [00:00<?, ?B/s]"
      ]
     },
     "metadata": {},
     "output_type": "display_data"
    },
    {
     "data": {
      "application/vnd.jupyter.widget-view+json": {
       "model_id": "31e7b1426d9d4a18a97422da4fe13b4e",
       "version_major": 2,
       "version_minor": 0
      },
      "text/plain": [
       "config_sentence_transformers.json:   0%|          | 0.00/122 [00:00<?, ?B/s]"
      ]
     },
     "metadata": {},
     "output_type": "display_data"
    },
    {
     "data": {
      "application/vnd.jupyter.widget-view+json": {
       "model_id": "5c6b59f0b3294a529d0c2e8628d41452",
       "version_major": 2,
       "version_minor": 0
      },
      "text/plain": [
       "README.md:   0%|          | 0.00/4.12k [00:00<?, ?B/s]"
      ]
     },
     "metadata": {},
     "output_type": "display_data"
    },
    {
     "data": {
      "application/vnd.jupyter.widget-view+json": {
       "model_id": "80f0b7b907d14d10b5926d86b72e0038",
       "version_major": 2,
       "version_minor": 0
      },
      "text/plain": [
       "sentence_bert_config.json:   0%|          | 0.00/53.0 [00:00<?, ?B/s]"
      ]
     },
     "metadata": {},
     "output_type": "display_data"
    },
    {
     "data": {
      "application/vnd.jupyter.widget-view+json": {
       "model_id": "32cc3cc6a6ed4056841cdc9138817dbd",
       "version_major": 2,
       "version_minor": 0
      },
      "text/plain": [
       "config.json:   0%|          | 0.00/645 [00:00<?, ?B/s]"
      ]
     },
     "metadata": {},
     "output_type": "display_data"
    },
    {
     "data": {
      "application/vnd.jupyter.widget-view+json": {
       "model_id": "03494affe157471e935af41993fa33ec",
       "version_major": 2,
       "version_minor": 0
      },
      "text/plain": [
       "model.safetensors:   0%|          | 0.00/471M [00:00<?, ?B/s]"
      ]
     },
     "metadata": {},
     "output_type": "display_data"
    },
    {
     "data": {
      "application/vnd.jupyter.widget-view+json": {
       "model_id": "a22684730f0f40ed980614e22e9d30c0",
       "version_major": 2,
       "version_minor": 0
      },
      "text/plain": [
       "tokenizer_config.json:   0%|          | 0.00/480 [00:00<?, ?B/s]"
      ]
     },
     "metadata": {},
     "output_type": "display_data"
    },
    {
     "data": {
      "application/vnd.jupyter.widget-view+json": {
       "model_id": "f854f38a63d545d997cd4caeabd4f05e",
       "version_major": 2,
       "version_minor": 0
      },
      "text/plain": [
       "tokenizer.json:   0%|          | 0.00/9.08M [00:00<?, ?B/s]"
      ]
     },
     "metadata": {},
     "output_type": "display_data"
    },
    {
     "data": {
      "application/vnd.jupyter.widget-view+json": {
       "model_id": "51b36b78bf3a4be5988a755a7225ecc3",
       "version_major": 2,
       "version_minor": 0
      },
      "text/plain": [
       "special_tokens_map.json:   0%|          | 0.00/239 [00:00<?, ?B/s]"
      ]
     },
     "metadata": {},
     "output_type": "display_data"
    },
    {
     "data": {
      "application/vnd.jupyter.widget-view+json": {
       "model_id": "1fb0e8efdad44d8db93175cc0e547009",
       "version_major": 2,
       "version_minor": 0
      },
      "text/plain": [
       "1_Pooling%2Fconfig.json:   0%|          | 0.00/190 [00:00<?, ?B/s]"
      ]
     },
     "metadata": {},
     "output_type": "display_data"
    }
   ],
   "source": [
    "vect = SentenceTransformer(\"paraphrase-multilingual-MiniLM-L12-v2\")"
   ]
  },
  {
   "cell_type": "code",
   "execution_count": 31,
   "metadata": {
    "execution": {
     "iopub.execute_input": "2025-03-01T13:30:26.177546Z",
     "iopub.status.busy": "2025-03-01T13:30:26.177215Z",
     "iopub.status.idle": "2025-03-01T13:30:32.983735Z",
     "shell.execute_reply": "2025-03-01T13:30:32.982840Z",
     "shell.execute_reply.started": "2025-03-01T13:30:26.177519Z"
    },
    "trusted": true
   },
   "outputs": [
    {
     "data": {
      "application/vnd.jupyter.widget-view+json": {
       "model_id": "0706c0e1767c49379fa369fa92872970",
       "version_major": 2,
       "version_minor": 0
      },
      "text/plain": [
       "Batches:   0%|          | 0/201 [00:00<?, ?it/s]"
      ]
     },
     "metadata": {},
     "output_type": "display_data"
    },
    {
     "data": {
      "text/html": [
       "<style>#sk-container-id-3 {color: black;background-color: white;}#sk-container-id-3 pre{padding: 0;}#sk-container-id-3 div.sk-toggleable {background-color: white;}#sk-container-id-3 label.sk-toggleable__label {cursor: pointer;display: block;width: 100%;margin-bottom: 0;padding: 0.3em;box-sizing: border-box;text-align: center;}#sk-container-id-3 label.sk-toggleable__label-arrow:before {content: \"▸\";float: left;margin-right: 0.25em;color: #696969;}#sk-container-id-3 label.sk-toggleable__label-arrow:hover:before {color: black;}#sk-container-id-3 div.sk-estimator:hover label.sk-toggleable__label-arrow:before {color: black;}#sk-container-id-3 div.sk-toggleable__content {max-height: 0;max-width: 0;overflow: hidden;text-align: left;background-color: #f0f8ff;}#sk-container-id-3 div.sk-toggleable__content pre {margin: 0.2em;color: black;border-radius: 0.25em;background-color: #f0f8ff;}#sk-container-id-3 input.sk-toggleable__control:checked~div.sk-toggleable__content {max-height: 200px;max-width: 100%;overflow: auto;}#sk-container-id-3 input.sk-toggleable__control:checked~label.sk-toggleable__label-arrow:before {content: \"▾\";}#sk-container-id-3 div.sk-estimator input.sk-toggleable__control:checked~label.sk-toggleable__label {background-color: #d4ebff;}#sk-container-id-3 div.sk-label input.sk-toggleable__control:checked~label.sk-toggleable__label {background-color: #d4ebff;}#sk-container-id-3 input.sk-hidden--visually {border: 0;clip: rect(1px 1px 1px 1px);clip: rect(1px, 1px, 1px, 1px);height: 1px;margin: -1px;overflow: hidden;padding: 0;position: absolute;width: 1px;}#sk-container-id-3 div.sk-estimator {font-family: monospace;background-color: #f0f8ff;border: 1px dotted black;border-radius: 0.25em;box-sizing: border-box;margin-bottom: 0.5em;}#sk-container-id-3 div.sk-estimator:hover {background-color: #d4ebff;}#sk-container-id-3 div.sk-parallel-item::after {content: \"\";width: 100%;border-bottom: 1px solid gray;flex-grow: 1;}#sk-container-id-3 div.sk-label:hover label.sk-toggleable__label {background-color: #d4ebff;}#sk-container-id-3 div.sk-serial::before {content: \"\";position: absolute;border-left: 1px solid gray;box-sizing: border-box;top: 0;bottom: 0;left: 50%;z-index: 0;}#sk-container-id-3 div.sk-serial {display: flex;flex-direction: column;align-items: center;background-color: white;padding-right: 0.2em;padding-left: 0.2em;position: relative;}#sk-container-id-3 div.sk-item {position: relative;z-index: 1;}#sk-container-id-3 div.sk-parallel {display: flex;align-items: stretch;justify-content: center;background-color: white;position: relative;}#sk-container-id-3 div.sk-item::before, #sk-container-id-3 div.sk-parallel-item::before {content: \"\";position: absolute;border-left: 1px solid gray;box-sizing: border-box;top: 0;bottom: 0;left: 50%;z-index: -1;}#sk-container-id-3 div.sk-parallel-item {display: flex;flex-direction: column;z-index: 1;position: relative;background-color: white;}#sk-container-id-3 div.sk-parallel-item:first-child::after {align-self: flex-end;width: 50%;}#sk-container-id-3 div.sk-parallel-item:last-child::after {align-self: flex-start;width: 50%;}#sk-container-id-3 div.sk-parallel-item:only-child::after {width: 0;}#sk-container-id-3 div.sk-dashed-wrapped {border: 1px dashed gray;margin: 0 0.4em 0.5em 0.4em;box-sizing: border-box;padding-bottom: 0.4em;background-color: white;}#sk-container-id-3 div.sk-label label {font-family: monospace;font-weight: bold;display: inline-block;line-height: 1.2em;}#sk-container-id-3 div.sk-label-container {text-align: center;}#sk-container-id-3 div.sk-container {/* jupyter's `normalize.less` sets `[hidden] { display: none; }` but bootstrap.min.css set `[hidden] { display: none !important; }` so we also need the `!important` here to be able to override the default hidden behavior on the sphinx rendered scikit-learn.org. See: https://github.com/scikit-learn/scikit-learn/issues/21755 */display: inline-block !important;position: relative;}#sk-container-id-3 div.sk-text-repr-fallback {display: none;}</style><div id=\"sk-container-id-3\" class=\"sk-top-container\"><div class=\"sk-text-repr-fallback\"><pre>LogisticRegression(class_weight=&#x27;balanced&#x27;, random_state=42, solver=&#x27;saga&#x27;)</pre><b>In a Jupyter environment, please rerun this cell to show the HTML representation or trust the notebook. <br />On GitHub, the HTML representation is unable to render, please try loading this page with nbviewer.org.</b></div><div class=\"sk-container\" hidden><div class=\"sk-item\"><div class=\"sk-estimator sk-toggleable\"><input class=\"sk-toggleable__control sk-hidden--visually\" id=\"sk-estimator-id-3\" type=\"checkbox\" checked><label for=\"sk-estimator-id-3\" class=\"sk-toggleable__label sk-toggleable__label-arrow\">LogisticRegression</label><div class=\"sk-toggleable__content\"><pre>LogisticRegression(class_weight=&#x27;balanced&#x27;, random_state=42, solver=&#x27;saga&#x27;)</pre></div></div></div></div></div>"
      ],
      "text/plain": [
       "LogisticRegression(class_weight='balanced', random_state=42, solver='saga')"
      ]
     },
     "execution_count": 31,
     "metadata": {},
     "output_type": "execute_result"
    }
   ],
   "source": [
    "model = LogisticRegression(class_weight=\"balanced\", solver='saga', random_state=SEED)\n",
    "model.fit(X=vect.encode(train['sentence'].values), y=train['label'].values)"
   ]
  },
  {
   "cell_type": "code",
   "execution_count": 32,
   "metadata": {
    "execution": {
     "iopub.execute_input": "2025-03-01T13:30:36.828055Z",
     "iopub.status.busy": "2025-03-01T13:30:36.827782Z",
     "iopub.status.idle": "2025-03-01T13:30:38.370082Z",
     "shell.execute_reply": "2025-03-01T13:30:38.369368Z",
     "shell.execute_reply.started": "2025-03-01T13:30:36.828035Z"
    },
    "trusted": true
   },
   "outputs": [
    {
     "data": {
      "application/vnd.jupyter.widget-view+json": {
       "model_id": "8fda0a1c3241422cbfad2343319fd42c",
       "version_major": 2,
       "version_minor": 0
      },
      "text/plain": [
       "Batches:   0%|          | 0/73 [00:00<?, ?it/s]"
      ]
     },
     "metadata": {},
     "output_type": "display_data"
    }
   ],
   "source": [
    "predictions = model.predict(X=vect.encode(test['sentence'].values)).tolist()"
   ]
  },
  {
   "cell_type": "code",
   "execution_count": 33,
   "metadata": {
    "execution": {
     "iopub.execute_input": "2025-03-01T13:30:38.371325Z",
     "iopub.status.busy": "2025-03-01T13:30:38.371087Z",
     "iopub.status.idle": "2025-03-01T13:30:38.378085Z",
     "shell.execute_reply": "2025-03-01T13:30:38.377276Z",
     "shell.execute_reply.started": "2025-03-01T13:30:38.371305Z"
    },
    "trusted": true
   },
   "outputs": [],
   "source": [
    "pred_df = pd.DataFrame()\n",
    "pred_df['sentence_id'] = test['sentence_id']\n",
    "pred_df['label'] = predictions"
   ]
  },
  {
   "cell_type": "code",
   "execution_count": 34,
   "metadata": {
    "execution": {
     "iopub.execute_input": "2025-03-01T13:30:38.379860Z",
     "iopub.status.busy": "2025-03-01T13:30:38.379550Z",
     "iopub.status.idle": "2025-03-01T13:30:38.392774Z",
     "shell.execute_reply": "2025-03-01T13:30:38.392119Z",
     "shell.execute_reply.started": "2025-03-01T13:30:38.379839Z"
    },
    "trusted": true
   },
   "outputs": [],
   "source": [
    "def evaluate_model(gold_values, predicted_values):\n",
    "    acc = accuracy_score(gold_values, predicted_values)\n",
    "    m_prec, m_rec, m_f1, m_s = precision_recall_fscore_support(gold_values, predicted_values, average=\"macro\",\n",
    "                                                               zero_division=0)\n",
    "    p_prec, p_rec, p_f1, p_s = precision_recall_fscore_support(gold_values, predicted_values, labels=[1],\n",
    "                                                               zero_division=0)\n",
    "\n",
    "    return {\n",
    "        'macro_F1': m_f1,\n",
    "        'macro_P': m_prec,\n",
    "        'macro_R': m_rec,\n",
    "        'SUBJ_F1': p_f1[0],\n",
    "        'SUBJ_P': p_prec[0],\n",
    "        'SUBJ_R': p_rec[0],\n",
    "        'accuracy': acc\n",
    "    }"
   ]
  },
  {
   "cell_type": "code",
   "execution_count": 35,
   "metadata": {
    "execution": {
     "iopub.execute_input": "2025-03-01T13:30:38.393826Z",
     "iopub.status.busy": "2025-03-01T13:30:38.393562Z",
     "iopub.status.idle": "2025-03-01T13:30:38.419252Z",
     "shell.execute_reply": "2025-03-01T13:30:38.418657Z",
     "shell.execute_reply.started": "2025-03-01T13:30:38.393799Z"
    },
    "trusted": true
   },
   "outputs": [
    {
     "data": {
      "text/plain": [
       "{'macro_F1': 0.6220011992495018,\n",
       " 'macro_P': 0.6223227143343395,\n",
       " 'macro_R': 0.633496534725811,\n",
       " 'SUBJ_F1': 0.538037486218302,\n",
       " 'SUBJ_P': 0.4807881773399015,\n",
       " 'SUBJ_R': 0.6107634543178974,\n",
       " 'accuracy': 0.6406518010291595}"
      ]
     },
     "execution_count": 35,
     "metadata": {},
     "output_type": "execute_result"
    }
   ],
   "source": [
    "evaluate_model(gold_values=test.label.values, predicted_values=predictions)"
   ]
  },
  {
   "cell_type": "code",
   "execution_count": 50,
   "metadata": {
    "execution": {
     "iopub.execute_input": "2025-03-01T13:43:34.624531Z",
     "iopub.status.busy": "2025-03-01T13:43:34.624212Z",
     "iopub.status.idle": "2025-03-01T13:43:34.949752Z",
     "shell.execute_reply": "2025-03-01T13:43:34.949004Z",
     "shell.execute_reply.started": "2025-03-01T13:43:34.624505Z"
    },
    "trusted": true
   },
   "outputs": [
    {
     "data": {
      "text/plain": [
       "65"
      ]
     },
     "execution_count": 50,
     "metadata": {},
     "output_type": "execute_result"
    }
   ],
   "source": [
    "torch.cuda.empty_cache()\n",
    "\n",
    "del model\n",
    "\n",
    "gc.collect()"
   ]
  },
  {
   "cell_type": "markdown",
   "metadata": {},
   "source": [
    "# ModernBERT-base"
   ]
  },
  {
   "cell_type": "code",
   "execution_count": 10,
   "metadata": {
    "execution": {
     "iopub.execute_input": "2025-03-01T14:12:11.528715Z",
     "iopub.status.busy": "2025-03-01T14:12:11.528279Z",
     "iopub.status.idle": "2025-03-01T14:12:15.699494Z",
     "shell.execute_reply": "2025-03-01T14:12:15.698492Z",
     "shell.execute_reply.started": "2025-03-01T14:12:11.528676Z"
    },
    "trusted": true
   },
   "outputs": [
    {
     "name": "stderr",
     "output_type": "stream",
     "text": [
      "Some weights of DebertaV2ForSequenceClassification were not initialized from the model checkpoint at microsoft/mdeberta-v3-base and are newly initialized: ['classifier.bias', 'classifier.weight', 'pooler.dense.bias', 'pooler.dense.weight']\n",
      "You should probably TRAIN this model on a down-stream task to be able to use it for predictions and inference.\n"
     ]
    }
   ],
   "source": [
    "model_card = \"microsoft/mdeberta-v3-base\"\n",
    "tokenizer = AutoTokenizer.from_pretrained(model_card, use_Fast=False)\n",
    "model = AutoModelForSequenceClassification.from_pretrained(\n",
    "    model_card, \n",
    "    num_labels=2, \n",
    "    id2label={0: 'OBJ', 1: 'SUBJ'}, \n",
    "    label2id={'OBJ': 0, 'SUBJ': 1},\n",
    "    output_attentions = False,\n",
    "    output_hidden_states = False\n",
    ")"
   ]
  },
  {
   "cell_type": "code",
   "execution_count": 11,
   "metadata": {
    "execution": {
     "iopub.execute_input": "2025-03-01T14:12:55.995211Z",
     "iopub.status.busy": "2025-03-01T14:12:55.994878Z",
     "iopub.status.idle": "2025-03-01T14:12:56.500636Z",
     "shell.execute_reply": "2025-03-01T14:12:56.499886Z",
     "shell.execute_reply.started": "2025-03-01T14:12:55.995183Z"
    },
    "trusted": true
   },
   "outputs": [
    {
     "data": {
      "text/plain": [
       "DebertaV2ForSequenceClassification(\n",
       "  (deberta): DebertaV2Model(\n",
       "    (embeddings): DebertaV2Embeddings(\n",
       "      (word_embeddings): Embedding(251000, 768, padding_idx=0)\n",
       "      (LayerNorm): LayerNorm((768,), eps=1e-07, elementwise_affine=True)\n",
       "      (dropout): Dropout(p=0.1, inplace=False)\n",
       "    )\n",
       "    (encoder): DebertaV2Encoder(\n",
       "      (layer): ModuleList(\n",
       "        (0-11): 12 x DebertaV2Layer(\n",
       "          (attention): DebertaV2Attention(\n",
       "            (self): DisentangledSelfAttention(\n",
       "              (query_proj): Linear(in_features=768, out_features=768, bias=True)\n",
       "              (key_proj): Linear(in_features=768, out_features=768, bias=True)\n",
       "              (value_proj): Linear(in_features=768, out_features=768, bias=True)\n",
       "              (pos_dropout): Dropout(p=0.1, inplace=False)\n",
       "              (dropout): Dropout(p=0.1, inplace=False)\n",
       "            )\n",
       "            (output): DebertaV2SelfOutput(\n",
       "              (dense): Linear(in_features=768, out_features=768, bias=True)\n",
       "              (LayerNorm): LayerNorm((768,), eps=1e-07, elementwise_affine=True)\n",
       "              (dropout): Dropout(p=0.1, inplace=False)\n",
       "            )\n",
       "          )\n",
       "          (intermediate): DebertaV2Intermediate(\n",
       "            (dense): Linear(in_features=768, out_features=3072, bias=True)\n",
       "            (intermediate_act_fn): GELUActivation()\n",
       "          )\n",
       "          (output): DebertaV2Output(\n",
       "            (dense): Linear(in_features=3072, out_features=768, bias=True)\n",
       "            (LayerNorm): LayerNorm((768,), eps=1e-07, elementwise_affine=True)\n",
       "            (dropout): Dropout(p=0.1, inplace=False)\n",
       "          )\n",
       "        )\n",
       "      )\n",
       "      (rel_embeddings): Embedding(512, 768)\n",
       "      (LayerNorm): LayerNorm((768,), eps=1e-07, elementwise_affine=True)\n",
       "    )\n",
       "  )\n",
       "  (pooler): ContextPooler(\n",
       "    (dense): Linear(in_features=768, out_features=768, bias=True)\n",
       "    (dropout): Dropout(p=0, inplace=False)\n",
       "  )\n",
       "  (classifier): Linear(in_features=768, out_features=2, bias=True)\n",
       "  (dropout): Dropout(p=0.1, inplace=False)\n",
       ")"
      ]
     },
     "execution_count": 11,
     "metadata": {},
     "output_type": "execute_result"
    }
   ],
   "source": [
    "model.cuda()"
   ]
  },
  {
   "cell_type": "code",
   "execution_count": 12,
   "metadata": {
    "execution": {
     "iopub.execute_input": "2025-03-01T14:13:05.311294Z",
     "iopub.status.busy": "2025-03-01T14:13:05.310978Z",
     "iopub.status.idle": "2025-03-01T14:13:05.386888Z",
     "shell.execute_reply": "2025-03-01T14:13:05.386202Z",
     "shell.execute_reply.started": "2025-03-01T14:13:05.311262Z"
    },
    "trusted": true
   },
   "outputs": [
    {
     "data": {
      "text/plain": [
       "Embedding(250102, 768, padding_idx=0)"
      ]
     },
     "execution_count": 12,
     "metadata": {},
     "output_type": "execute_result"
    }
   ],
   "source": [
    "model.resize_token_embeddings(len(tokenizer))"
   ]
  },
  {
   "cell_type": "code",
   "execution_count": 19,
   "metadata": {
    "execution": {
     "iopub.execute_input": "2025-03-01T14:18:18.261504Z",
     "iopub.status.busy": "2025-03-01T14:18:18.261149Z",
     "iopub.status.idle": "2025-03-01T14:18:18.266728Z",
     "shell.execute_reply": "2025-03-01T14:18:18.265944Z",
     "shell.execute_reply.started": "2025-03-01T14:18:18.261461Z"
    },
    "trusted": true
   },
   "outputs": [],
   "source": [
    "def tokenize_text(sentences: pd.Series, max_length: int = 40):\n",
    "    input_ids = []\n",
    "    attention_masks = []\n",
    "    for sent in tqdm(sentences, desc='Tokenize of sentences'):\n",
    "        encoded = tokenizer.encode_plus(\n",
    "            sent,\n",
    "            add_special_tokens=True,\n",
    "            max_length=max_length,\n",
    "            padding='max_length',\n",
    "            truncation=True,\n",
    "            return_attention_mask = True,\n",
    "            return_tensors = 'pt')\n",
    "\n",
    "        input_ids.append(encoded['input_ids'])\n",
    "        attention_masks.append(encoded['attention_mask'])\n",
    "\n",
    "    input_ids = torch.cat(input_ids, dim=0)\n",
    "    attention_masks = torch.cat(attention_masks, dim=0)\n",
    "    return input_ids, attention_masks\n",
    "\n",
    "def create_dataloader(input_ids, attention_masks, labels, batch_size):\n",
    "    dataset = TensorDataset(input_ids, attention_masks, labels)\n",
    "    return DataLoader(dataset, sampler=RandomSampler(dataset), batch_size=batch_size)"
   ]
  },
  {
   "cell_type": "code",
   "execution_count": 21,
   "metadata": {
    "execution": {
     "iopub.execute_input": "2025-03-01T14:18:34.608241Z",
     "iopub.status.busy": "2025-03-01T14:18:34.607929Z",
     "iopub.status.idle": "2025-03-01T14:18:38.915511Z",
     "shell.execute_reply": "2025-03-01T14:18:38.914573Z",
     "shell.execute_reply.started": "2025-03-01T14:18:34.608220Z"
    },
    "trusted": true
   },
   "outputs": [
    {
     "name": "stderr",
     "output_type": "stream",
     "text": [
      "Tokenize of sentences: 100%|██████████| 6418/6418 [00:02<00:00, 2642.06it/s]\n",
      "Tokenize of sentences: 100%|██████████| 4733/4733 [00:01<00:00, 2578.90it/s]\n"
     ]
    }
   ],
   "source": [
    "train_input_ids, train_attention_masks = tokenize_text(train['sentence'].to_list())\n",
    "dev_input_ids, dev_attention_masks = tokenize_text(dev['sentence'].to_list())"
   ]
  },
  {
   "cell_type": "code",
   "execution_count": 40,
   "metadata": {
    "execution": {
     "iopub.execute_input": "2025-03-01T14:24:39.248789Z",
     "iopub.status.busy": "2025-03-01T14:24:39.248477Z",
     "iopub.status.idle": "2025-03-01T14:24:39.257215Z",
     "shell.execute_reply": "2025-03-01T14:24:39.256385Z",
     "shell.execute_reply.started": "2025-03-01T14:24:39.248767Z"
    },
    "trusted": true
   },
   "outputs": [],
   "source": [
    "epochs = 5\n",
    "train_dl = create_dataloader(train_input_ids, train_attention_masks, torch.Tensor(train['label'].values), batch_size=32)\n",
    "dev_dl = create_dataloader(dev_input_ids, dev_attention_masks, torch.Tensor(dev['label'].values), batch_size=32)\n",
    "optimizer = AdamW(model.parameters(), lr=5e-5, weight_decay=1e-1)\n",
    "total_steps = len(train_dl) * epochs\n",
    "scheduler = get_linear_schedule_with_warmup(optimizer, num_warmup_steps=200, num_training_steps=total_steps)"
   ]
  },
  {
   "cell_type": "code",
   "execution_count": null,
   "metadata": {
    "execution": {
     "iopub.execute_input": "2025-03-01T14:37:16.310705Z",
     "iopub.status.busy": "2025-03-01T14:37:16.310251Z",
     "iopub.status.idle": "2025-03-01T14:38:08.210770Z",
     "shell.execute_reply": "2025-03-01T14:38:08.209700Z",
     "shell.execute_reply.started": "2025-03-01T14:37:16.310670Z"
    },
    "trusted": true
   },
   "outputs": [
    {
     "name": "stdout",
     "output_type": "stream",
     "text": [
      "======== Epoch 1 / 5 ========\n",
      "Training...\n"
     ]
    },
    {
     "name": "stderr",
     "output_type": "stream",
     "text": [
      "201it [00:43,  4.60it/s]\n"
     ]
    },
    {
     "name": "stdout",
     "output_type": "stream",
     "text": [
      "Average training loss: 0.348\n",
      "Running Validation...\n"
     ]
    },
    {
     "name": "stderr",
     "output_type": "stream",
     "text": [
      "Validation set: 100%|██████████| 148/148 [00:08<00:00, 18.19it/s]\n"
     ]
    },
    {
     "ename": "TypeError",
     "evalue": "The first input argument needs to be a sequence",
     "output_type": "error",
     "traceback": [
      "\u001b[0;31m---------------------------------------------------------------------------\u001b[0m",
      "\u001b[0;31mTypeError\u001b[0m                                 Traceback (most recent call last)",
      "\u001b[0;32m<ipython-input-48-656f4b449ea6>\u001b[0m in \u001b[0;36m<cell line: 5>\u001b[0;34m()\u001b[0m\n\u001b[1;32m     68\u001b[0m \u001b[0;34m\u001b[0m\u001b[0m\n\u001b[1;32m     69\u001b[0m     \u001b[0;31m# Printing the cr\u001b[0m\u001b[0;34m\u001b[0m\u001b[0;34m\u001b[0m\u001b[0m\n\u001b[0;32m---> 70\u001b[0;31m     \u001b[0mflat_predictions\u001b[0m \u001b[0;34m=\u001b[0m \u001b[0mnp\u001b[0m\u001b[0;34m.\u001b[0m\u001b[0mconcatenate\u001b[0m\u001b[0;34m(\u001b[0m\u001b[0mpredictions\u001b[0m\u001b[0;34m,\u001b[0m \u001b[0maxis\u001b[0m\u001b[0;34m=\u001b[0m\u001b[0;36m0\u001b[0m\u001b[0;34m)\u001b[0m\u001b[0;34m\u001b[0m\u001b[0;34m\u001b[0m\u001b[0m\n\u001b[0m\u001b[1;32m     71\u001b[0m     \u001b[0mflat_predictions\u001b[0m \u001b[0;34m=\u001b[0m \u001b[0mnp\u001b[0m\u001b[0;34m.\u001b[0m\u001b[0margmax\u001b[0m\u001b[0;34m(\u001b[0m\u001b[0mflat_predictions\u001b[0m\u001b[0;34m,\u001b[0m \u001b[0maxis\u001b[0m\u001b[0;34m=\u001b[0m\u001b[0;36m1\u001b[0m\u001b[0;34m)\u001b[0m\u001b[0;34m.\u001b[0m\u001b[0mflatten\u001b[0m\u001b[0;34m(\u001b[0m\u001b[0;34m)\u001b[0m\u001b[0;34m\u001b[0m\u001b[0;34m\u001b[0m\u001b[0m\n\u001b[1;32m     72\u001b[0m     \u001b[0mflat_true_labels\u001b[0m \u001b[0;34m=\u001b[0m \u001b[0mnp\u001b[0m\u001b[0;34m.\u001b[0m\u001b[0mconcatenate\u001b[0m\u001b[0;34m(\u001b[0m\u001b[0mlabels\u001b[0m\u001b[0;34m,\u001b[0m \u001b[0maxis\u001b[0m\u001b[0;34m=\u001b[0m\u001b[0;36m0\u001b[0m\u001b[0;34m)\u001b[0m\u001b[0;34m\u001b[0m\u001b[0;34m\u001b[0m\u001b[0m\n",
      "\u001b[0;31mTypeError\u001b[0m: The first input argument needs to be a sequence"
     ]
    }
   ],
   "source": [
    "true_labels = defaultdict(list)\n",
    "predictions = defaultdict(list)\n",
    "val_losses = {}\n",
    "training_stats = []\n",
    "\n",
    "for i, epoch in enumerate(range(epochs), start=1):\n",
    "    print(f\"======== Epoch {i} / {epochs} ========\")\n",
    "    print('Training...')\n",
    "\n",
    "    total_train_loss = 0\n",
    "    model.train()\n",
    "\n",
    "    for step, batch in tqdm(enumerate(train_dl)):\n",
    "        b_input_ids, b_input_mask, b_labels = batch\n",
    "        b_input_ids = b_input_ids.to(device)\n",
    "        b_input_mask = b_input_mask.to(device)\n",
    "        b_labels = b_labels.to(device)\n",
    "\n",
    "        model.zero_grad()\n",
    "\n",
    "        result = model(b_input_ids,\n",
    "          attention_mask=b_input_mask,\n",
    "          labels=b_labels,\n",
    "          return_dict=True)\n",
    "\n",
    "        loss = result.loss\n",
    "        total_train_loss += loss.item()\n",
    "\n",
    "        loss.backward()\n",
    "\n",
    "        torch.nn.utils.clip_grad_norm_(model.parameters(), 1.0)\n",
    "\n",
    "        optimizer.step()\n",
    "        scheduler.step()\n",
    "        \n",
    "    avg_train_loss = total_train_loss / len(train_dl)\n",
    "\n",
    "    print(f\"Average training loss: {avg_train_loss:.3f}\")\n",
    "          \n",
    "    print(\"Running Validation...\")\n",
    "\n",
    "    model.eval()\n",
    "\n",
    "    total_eval_loss = 0\n",
    "\n",
    "    for batch in tqdm(dev_dl, desc=\"Evaluating\"):\n",
    "        b_input_ids, b_input_mask, b_labels = batch\n",
    "        b_input_ids = b_input_ids.to(device)\n",
    "        b_input_mask = b_input_mask.to(device)\n",
    "        b_labels = b_labels.to(device)\n",
    "\n",
    "        with torch.no_grad():\n",
    "            result = model(b_input_ids,\n",
    "                          token_type_ids=None,\n",
    "                          attention_mask=b_input_mask,\n",
    "                          labels=b_labels,\n",
    "                          return_dict=True)\n",
    "\n",
    "        loss = result.loss\n",
    "        logits = result.logits\n",
    "\n",
    "        total_eval_loss += loss.item()\n",
    "\n",
    "        logits = logits.detach().cpu().numpy()\n",
    "        label_ids = b_labels.to('cpu').numpy()\n",
    "\n",
    "        true_labels[i].append(label_ids)\n",
    "        predictions[i].append(logits)\n",
    "\n",
    "    # Printing the cr\n",
    "    flat_predictions = np.concatenate(predictions[i], axis=0)\n",
    "    flat_predictions = np.argmax(flat_predictions, axis=1).flatten()\n",
    "    flat_true_labels = np.concatenate(true_labels[i], axis=0)\n",
    "    \n",
    "    stats = evaluate_model(flat_true_labels, flat_predictions)\n",
    "\n",
    "    # Calculate the average loss over all of the batches.\n",
    "    avg_val_loss = total_eval_loss / len(dev_dl)\n",
    "    val_losses[i] = avg_val_loss\n",
    "    print(\"  Validation Loss: {0:.3f}\".format(avg_val_loss))\n",
    "\n",
    "    training_stats.append(stats)"
   ]
  },
  {
   "cell_type": "code",
   "execution_count": 14,
   "metadata": {
    "execution": {
     "iopub.execute_input": "2025-03-01T13:45:25.241805Z",
     "iopub.status.busy": "2025-03-01T13:45:25.241567Z",
     "iopub.status.idle": "2025-03-01T13:45:25.247578Z",
     "shell.execute_reply": "2025-03-01T13:45:25.246872Z",
     "shell.execute_reply.started": "2025-03-01T13:45:25.241785Z"
    },
    "trusted": true
   },
   "outputs": [],
   "source": [
    "# Taken from https://github.com/huggingface/transformers/blob/main/src/transformers/trainer.py#L3700 (with some minor changes removing useless parts)\n",
    "class CustomTrainer(Trainer):\n",
    "    def __init__(self, class_weights, device, *args, **kwargs):\n",
    "        super().__init__(*args, **kwargs)\n",
    "        # You pass the class weights when instantiating the Trainer\n",
    "        self.class_weights = class_weights\n",
    "        self.device = device\n",
    "\n",
    "    def compute_loss(self, model, inputs, return_outputs=False, num_items_in_batch=None):\n",
    "        if self.label_smoother is not None and \"labels\" in inputs:\n",
    "            labels = inputs.pop(\"labels\")\n",
    "        else:\n",
    "            labels = None\n",
    "        outputs = model(**inputs)\n",
    "        if self.args.past_index >= 0:\n",
    "            self._past = outputs[self.args.past_index]\n",
    "\n",
    "        if labels is not None:\n",
    "            loss = self.label_smoother(outputs, labels)\n",
    "        else:\n",
    "            # We extract the logits from the model outputs\n",
    "            logits = outputs.get('logits')\n",
    "            # We compute the loss manually passing the class weights to the loss function\n",
    "            criterion = torch.nn.CrossEntropyLoss(weight=self.class_weights.to(self.device)) # Modified to use the class weights\n",
    "            # We compute the loss using the modified criterion\n",
    "            loss = criterion(logits, inputs['labels'])\n",
    "\n",
    "        return (loss, outputs) if return_outputs else loss"
   ]
  },
  {
   "cell_type": "code",
   "execution_count": 15,
   "metadata": {
    "execution": {
     "iopub.execute_input": "2025-03-01T13:45:25.248663Z",
     "iopub.status.busy": "2025-03-01T13:45:25.248364Z",
     "iopub.status.idle": "2025-03-01T13:45:25.305426Z",
     "shell.execute_reply": "2025-03-01T13:45:25.304732Z",
     "shell.execute_reply.started": "2025-03-01T13:45:25.248633Z"
    },
    "trusted": true
   },
   "outputs": [
    {
     "data": {
      "text/plain": [
       "tensor([0.7920, 1.3563])"
      ]
     },
     "execution_count": 15,
     "metadata": {},
     "output_type": "execute_result"
    }
   ],
   "source": [
    "class_weights = compute_class_weight(class_weight=\"balanced\", classes=np.unique(train['label']), y=train['label'])\n",
    "class_weights = torch.tensor(class_weights, dtype=torch.float32)\n",
    "class_weights"
   ]
  },
  {
   "cell_type": "code",
   "execution_count": 16,
   "metadata": {
    "execution": {
     "iopub.execute_input": "2025-03-01T13:45:25.306442Z",
     "iopub.status.busy": "2025-03-01T13:45:25.306236Z",
     "iopub.status.idle": "2025-03-01T13:45:25.311310Z",
     "shell.execute_reply": "2025-03-01T13:45:25.310498Z",
     "shell.execute_reply.started": "2025-03-01T13:45:25.306425Z"
    },
    "trusted": true
   },
   "outputs": [],
   "source": [
    "def compute_metrics(output_info):\n",
    "    \"\"\"\n",
    "    Compute various evaluation metrics for model predictions.\n",
    "    \n",
    "    Args:\n",
    "        output_info (tuple): A tuple containing the model predictions and the true labels.\n",
    "            - predictions (np.ndarray): The predicted labels from the model.\n",
    "            - labels (np.ndarray): The true labels.\n",
    "    \n",
    "    Returns:\n",
    "        dict: A dictionary containing the computed metrics:\n",
    "            - 'f1': The F1 score (macro average).\n",
    "            - 'accuracy': The accuracy score.\n",
    "            - 'precision': The precision score (macro average).\n",
    "            - 'recall': The recall score (macro average).\n",
    "    \"\"\"\n",
    "    predictions, labels = output_info\n",
    "    predictions = np.array(predictions)\n",
    "    labels = np.array(labels)\n",
    "    predictions = np.argmax(predictions, axis=-1)\n",
    "    \n",
    "    f1 = f1_score(labels, predictions, average=\"macro\", zero_division=0)\n",
    "    acc = accuracy_score(labels, predictions)\n",
    "    \n",
    "    return {\"f1\" : f1, \"accuracy\" : acc}"
   ]
  },
  {
   "cell_type": "code",
   "execution_count": 17,
   "metadata": {
    "execution": {
     "iopub.execute_input": "2025-03-01T13:45:25.312217Z",
     "iopub.status.busy": "2025-03-01T13:45:25.311988Z",
     "iopub.status.idle": "2025-03-01T13:45:25.821776Z",
     "shell.execute_reply": "2025-03-01T13:45:25.821067Z",
     "shell.execute_reply.started": "2025-03-01T13:45:25.312198Z"
    },
    "trusted": true
   },
   "outputs": [],
   "source": [
    "trainer = CustomTrainer(\n",
    "    model=model,\n",
    "    args=training_args,\n",
    "    train_dataset=train_dl,\n",
    "    eval_dataset=dev_dl,\n",
    "    data_collator=data_collator,\n",
    "    compute_metrics=compute_metrics,\n",
    "    class_weights=class_weights,\n",
    "    device=device,\n",
    ")"
   ]
  },
  {
   "cell_type": "code",
   "execution_count": 18,
   "metadata": {
    "execution": {
     "iopub.execute_input": "2025-03-01T13:45:25.822965Z",
     "iopub.status.busy": "2025-03-01T13:45:25.822643Z",
     "iopub.status.idle": "2025-03-01T14:01:20.374743Z",
     "shell.execute_reply": "2025-03-01T14:01:20.373899Z",
     "shell.execute_reply.started": "2025-03-01T13:45:25.822933Z"
    },
    "trusted": true
   },
   "outputs": [
    {
     "data": {
      "text/html": [
       "\n",
       "    <div>\n",
       "      \n",
       "      <progress value='1005' max='1005' style='width:300px; height:20px; vertical-align: middle;'></progress>\n",
       "      [1005/1005 15:52, Epoch 5/5]\n",
       "    </div>\n",
       "    <table border=\"1\" class=\"dataframe\">\n",
       "  <thead>\n",
       " <tr style=\"text-align: left;\">\n",
       "      <th>Epoch</th>\n",
       "      <th>Training Loss</th>\n",
       "      <th>Validation Loss</th>\n",
       "      <th>F1</th>\n",
       "      <th>Accuracy</th>\n",
       "    </tr>\n",
       "  </thead>\n",
       "  <tbody>\n",
       "    <tr>\n",
       "      <td>1</td>\n",
       "      <td>0.588500</td>\n",
       "      <td>0.677161</td>\n",
       "      <td>0.674505</td>\n",
       "      <td>0.676315</td>\n",
       "    </tr>\n",
       "    <tr>\n",
       "      <td>2</td>\n",
       "      <td>0.506300</td>\n",
       "      <td>0.573425</td>\n",
       "      <td>0.706160</td>\n",
       "      <td>0.740968</td>\n",
       "    </tr>\n",
       "    <tr>\n",
       "      <td>3</td>\n",
       "      <td>0.445300</td>\n",
       "      <td>0.678541</td>\n",
       "      <td>0.709967</td>\n",
       "      <td>0.742658</td>\n",
       "    </tr>\n",
       "    <tr>\n",
       "      <td>4</td>\n",
       "      <td>0.383000</td>\n",
       "      <td>0.718300</td>\n",
       "      <td>0.711703</td>\n",
       "      <td>0.747940</td>\n",
       "    </tr>\n",
       "    <tr>\n",
       "      <td>5</td>\n",
       "      <td>0.326700</td>\n",
       "      <td>0.753619</td>\n",
       "      <td>0.706157</td>\n",
       "      <td>0.739277</td>\n",
       "    </tr>\n",
       "  </tbody>\n",
       "</table><p>"
      ],
      "text/plain": [
       "<IPython.core.display.HTML object>"
      ]
     },
     "metadata": {},
     "output_type": "display_data"
    },
    {
     "data": {
      "text/plain": [
       "TrainOutput(global_step=1005, training_loss=0.4556496041331125, metrics={'train_runtime': 953.5422, 'train_samples_per_second': 33.653, 'train_steps_per_second': 1.054, 'total_flos': 2868856118589840.0, 'train_loss': 0.4556496041331125, 'epoch': 5.0})"
      ]
     },
     "execution_count": 18,
     "metadata": {},
     "output_type": "execute_result"
    }
   ],
   "source": [
    "trainer.train()"
   ]
  },
  {
   "cell_type": "code",
   "execution_count": 21,
   "metadata": {
    "execution": {
     "iopub.execute_input": "2025-03-01T14:01:55.087907Z",
     "iopub.status.busy": "2025-03-01T14:01:55.087539Z",
     "iopub.status.idle": "2025-03-01T14:02:12.101336Z",
     "shell.execute_reply": "2025-03-01T14:02:12.100441Z",
     "shell.execute_reply.started": "2025-03-01T14:01:55.087877Z"
    },
    "trusted": true
   },
   "outputs": [
    {
     "data": {
      "application/vnd.jupyter.widget-view+json": {
       "model_id": "0c888e905c7f422489c4b0480ebb7398",
       "version_major": 2,
       "version_minor": 0
      },
      "text/plain": [
       "Map:   0%|          | 0/748 [00:00<?, ? examples/s]"
      ]
     },
     "metadata": {},
     "output_type": "display_data"
    },
    {
     "data": {
      "text/html": [],
      "text/plain": [
       "<IPython.core.display.HTML object>"
      ]
     },
     "metadata": {},
     "output_type": "display_data"
    },
    {
     "name": "stdout",
     "output_type": "stream",
     "text": [
      "Prediction of language: arabic\n",
      "F1 Macro: 0.5032807159698065\n"
     ]
    },
    {
     "data": {
      "image/png": "[encoded data removed]",
      "text/plain": [
       "<Figure size 640x480 with 2 Axes>"
      ]
     },
     "metadata": {},
     "output_type": "display_data"
    },
    {
     "data": {
      "application/vnd.jupyter.widget-view+json": {
       "model_id": "83c90bf7a55140e3b17ebb3f55fd368e",
       "version_major": 2,
       "version_minor": 0
      },
      "text/plain": [
       "Map:   0%|          | 0/250 [00:00<?, ? examples/s]"
      ]
     },
     "metadata": {},
     "output_type": "display_data"
    },
    {
     "data": {
      "text/html": [],
      "text/plain": [
       "<IPython.core.display.HTML object>"
      ]
     },
     "metadata": {},
     "output_type": "display_data"
    },
    {
     "name": "stdout",
     "output_type": "stream",
     "text": [
      "Prediction of language: bulgarian\n",
      "F1 Macro: 0.7919216646266829\n"
     ]
    },
    {
     "data": {
      "image/png": "[encoded data removed]",
      "text/plain": [
       "<Figure size 640x480 with 2 Axes>"
      ]
     },
     "metadata": {},
     "output_type": "display_data"
    },
    {
     "data": {
      "application/vnd.jupyter.widget-view+json": {
       "model_id": "e46e75a6c85a4753878f29490845990e",
       "version_major": 2,
       "version_minor": 0
      },
      "text/plain": [
       "Map:   0%|          | 0/484 [00:00<?, ? examples/s]"
      ]
     },
     "metadata": {},
     "output_type": "display_data"
    },
    {
     "data": {
      "text/html": [],
      "text/plain": [
       "<IPython.core.display.HTML object>"
      ]
     },
     "metadata": {},
     "output_type": "display_data"
    },
    {
     "name": "stdout",
     "output_type": "stream",
     "text": [
      "Prediction of language: english\n",
      "F1 Macro: 0.7506721949993718\n"
     ]
    },
    {
     "data": {
      "image/png": "[encoded data removed]",
      "text/plain": [
       "<Figure size 640x480 with 2 Axes>"
      ]
     },
     "metadata": {},
     "output_type": "display_data"
    },
    {
     "data": {
      "application/vnd.jupyter.widget-view+json": {
       "model_id": "c7c448d6de1441d7a279f589e954922d",
       "version_major": 2,
       "version_minor": 0
      },
      "text/plain": [
       "Map:   0%|          | 0/337 [00:00<?, ? examples/s]"
      ]
     },
     "metadata": {},
     "output_type": "display_data"
    },
    {
     "data": {
      "text/html": [],
      "text/plain": [
       "<IPython.core.display.HTML object>"
      ]
     },
     "metadata": {},
     "output_type": "display_data"
    },
    {
     "name": "stdout",
     "output_type": "stream",
     "text": [
      "Prediction of language: german\n",
      "F1 Macro: 0.8827220029232499\n"
     ]
    },
    {
     "data": {
      "image/png": "[encoded data removed]",
      "text/plain": [
       "<Figure size 640x480 with 2 Axes>"
      ]
     },
     "metadata": {},
     "output_type": "display_data"
    },
    {
     "data": {
      "application/vnd.jupyter.widget-view+json": {
       "model_id": "cdf61264529c440891297c4a76d78822",
       "version_major": 2,
       "version_minor": 0
      },
      "text/plain": [
       "Map:   0%|          | 0/513 [00:00<?, ? examples/s]"
      ]
     },
     "metadata": {},
     "output_type": "display_data"
    },
    {
     "data": {
      "text/html": [],
      "text/plain": [
       "<IPython.core.display.HTML object>"
      ]
     },
     "metadata": {},
     "output_type": "display_data"
    },
    {
     "name": "stdout",
     "output_type": "stream",
     "text": [
      "Prediction of language: italian\n",
      "F1 Macro: 0.7340803062323059\n"
     ]
    },
    {
     "data": {
      "image/png": "[encoded data removed]",
      "text/plain": [
       "<Figure size 640x480 with 2 Axes>"
      ]
     },
     "metadata": {},
     "output_type": "display_data"
    }
   ],
   "source": [
    "results_df = pd.DataFrame(columns=['model','f1','acc','lang'])\n",
    "\n",
    "for language in test['lang'].unique():\n",
    "    test_dl = Dataset.from_pandas(test[test['lang'] == language])\n",
    "    test_dl = test_dl.map(preprocess_text, batched=True)\n",
    "    predictions, labels, _ = trainer.predict(test_dl)\n",
    "    predictions = np.argmax(predictions, axis=1)\n",
    "    f1_macro = f1_score(labels, predictions, average=\"macro\", zero_division=0)\n",
    "    acc = accuracy_score(labels, predictions)\n",
    "\n",
    "    results_df.loc[len(results_df)] = [model_card, f1_macro, acc, language]\n",
    "\n",
    "    print(\"Prediction of language:\", language)\n",
    "    print(\"F1 Macro:\", f1_score(labels, predictions, average=\"macro\", zero_division=0))\n",
    "    \n",
    "    ConfusionMatrixDisplay.from_predictions(labels, predictions, normalize='all')\n",
    "    plt.title(f\"Confusion Matrix ({language})\")\n",
    "    plt.show()"
   ]
  },
  {
   "cell_type": "code",
   "execution_count": 22,
   "metadata": {
    "execution": {
     "iopub.execute_input": "2025-03-01T14:02:15.558955Z",
     "iopub.status.busy": "2025-03-01T14:02:15.558658Z",
     "iopub.status.idle": "2025-03-01T14:02:15.579944Z",
     "shell.execute_reply": "2025-03-01T14:02:15.579080Z",
     "shell.execute_reply.started": "2025-03-01T14:02:15.558933Z"
    },
    "trusted": true
   },
   "outputs": [
    {
     "data": {
      "text/html": [
       "<div>\n",
       "<style scoped>\n",
       "    .dataframe tbody tr th:only-of-type {\n",
       "        vertical-align: middle;\n",
       "    }\n",
       "\n",
       "    .dataframe tbody tr th {\n",
       "        vertical-align: top;\n",
       "    }\n",
       "\n",
       "    .dataframe thead th {\n",
       "        text-align: right;\n",
       "    }\n",
       "</style>\n",
       "<table border=\"1\" class=\"dataframe\">\n",
       "  <thead>\n",
       "    <tr style=\"text-align: right;\">\n",
       "      <th></th>\n",
       "      <th>model</th>\n",
       "      <th>f1</th>\n",
       "      <th>acc</th>\n",
       "      <th>lang</th>\n",
       "    </tr>\n",
       "  </thead>\n",
       "  <tbody>\n",
       "    <tr>\n",
       "      <th>0</th>\n",
       "      <td>microsoft/mdeberta-v3-base</td>\n",
       "      <td>0.503281</td>\n",
       "      <td>0.562834</td>\n",
       "      <td>arabic</td>\n",
       "    </tr>\n",
       "    <tr>\n",
       "      <th>1</th>\n",
       "      <td>microsoft/mdeberta-v3-base</td>\n",
       "      <td>0.791922</td>\n",
       "      <td>0.796000</td>\n",
       "      <td>bulgarian</td>\n",
       "    </tr>\n",
       "    <tr>\n",
       "      <th>2</th>\n",
       "      <td>microsoft/mdeberta-v3-base</td>\n",
       "      <td>0.750672</td>\n",
       "      <td>0.830579</td>\n",
       "      <td>english</td>\n",
       "    </tr>\n",
       "    <tr>\n",
       "      <th>3</th>\n",
       "      <td>microsoft/mdeberta-v3-base</td>\n",
       "      <td>0.882722</td>\n",
       "      <td>0.896142</td>\n",
       "      <td>german</td>\n",
       "    </tr>\n",
       "    <tr>\n",
       "      <th>4</th>\n",
       "      <td>microsoft/mdeberta-v3-base</td>\n",
       "      <td>0.734080</td>\n",
       "      <td>0.822612</td>\n",
       "      <td>italian</td>\n",
       "    </tr>\n",
       "  </tbody>\n",
       "</table>\n",
       "</div>"
      ],
      "text/plain": [
       "                        model        f1       acc       lang\n",
       "0  microsoft/mdeberta-v3-base  0.503281  0.562834     arabic\n",
       "1  microsoft/mdeberta-v3-base  0.791922  0.796000  bulgarian\n",
       "2  microsoft/mdeberta-v3-base  0.750672  0.830579    english\n",
       "3  microsoft/mdeberta-v3-base  0.882722  0.896142     german\n",
       "4  microsoft/mdeberta-v3-base  0.734080  0.822612    italian"
      ]
     },
     "execution_count": 22,
     "metadata": {},
     "output_type": "execute_result"
    }
   ],
   "source": [
    "results_df"
   ]
  },
  {
   "cell_type": "markdown",
   "metadata": {},
   "source": [
    "# Emotions"
   ]
  },
  {
   "cell_type": "code",
   "execution_count": null,
   "metadata": {
    "trusted": true
   },
   "outputs": [],
   "source": [
    "model_card = \"arpanghoshal/EmoRoBERTa\"\n",
    "tokenizer = RobertaTokenizerFast.from_pretrained(model_card)\n",
    "model = RobertaForSequenceClassification.from_pretrained(model_card, from_tf=True)"
   ]
  },
  {
   "cell_type": "code",
   "execution_count": null,
   "metadata": {
    "trusted": true
   },
   "outputs": [],
   "source": [
    "emotion = pipeline('sentiment-analysis', model='arpanghoshal/EmoRoBERTa', return_all_scores= True)"
   ]
  },
  {
   "cell_type": "code",
   "execution_count": null,
   "metadata": {
    "trusted": true
   },
   "outputs": [],
   "source": [
    "# Example\n",
    "print(train_data.iloc[0]['sentence'], train_data.iloc[0]['label'])\n",
    "emotion_labels = emotion(train_data.iloc[0]['sentence'])\n",
    "pd.DataFrame(emotion_labels[0]).sort_values(by='score', ascending=False)"
   ]
  },
  {
   "cell_type": "code",
   "execution_count": null,
   "metadata": {
    "trusted": true
   },
   "outputs": [],
   "source": [
    "emotion_array = np.zeros((train_data.shape[0], 28))\n",
    "\n",
    "for i, sentence in enumerate(tqdm(train_data['sentence'])):\n",
    "    result = emotion(sentence)[0]\n",
    "    emotion_array[i] = np.array([list(d.values())[1] for d in result])"
   ]
  },
  {
   "cell_type": "code",
   "execution_count": null,
   "metadata": {
    "trusted": true
   },
   "outputs": [],
   "source": [
    "emotion_df_train = pd.DataFrame(emotion_array, columns=[list(d.values())[0] for d in result])\n",
    "emotion_df_train.head()"
   ]
  },
  {
   "cell_type": "code",
   "execution_count": null,
   "metadata": {
    "trusted": true
   },
   "outputs": [],
   "source": [
    "train_data_augmented = pd.concat([train_data, emotion_df_train], axis=1)\n",
    "train_data_augmented.head()"
   ]
  },
  {
   "cell_type": "code",
   "execution_count": null,
   "metadata": {
    "trusted": true
   },
   "outputs": [],
   "source": [
    "emotion_array = np.zeros((test_data.shape[0], 28))\n",
    "\n",
    "for i, sentence in enumerate(tqdm(test_data['sentence'])):\n",
    "    result = emotion(sentence)[0]\n",
    "    emotion_array[i] = np.array([list(d.values())[1] for d in result])"
   ]
  },
  {
   "cell_type": "code",
   "execution_count": null,
   "metadata": {
    "trusted": true
   },
   "outputs": [],
   "source": [
    "emotion_df_test = pd.DataFrame(emotion_array, columns=[list(d.values())[0] for d in result])\n",
    "emotion_df_test.head()"
   ]
  },
  {
   "cell_type": "code",
   "execution_count": null,
   "metadata": {
    "trusted": true
   },
   "outputs": [],
   "source": [
    "test_data_augmented = pd.concat([test_data, emotion_df_test], axis=1)\n",
    "test_data_augmented.head()"
   ]
  },
  {
   "cell_type": "code",
   "execution_count": null,
   "metadata": {
    "trusted": true
   },
   "outputs": [],
   "source": [
    "if not os.path.exists('/kaggle/input/clef2025-checkthat/data/english/train_en_aug.csv'):\n",
    "    train_data_augmented.to_csv('train_en_aug.csv', encoding='UTF-8')\n",
    "    test_data_augmented.to_csv('dev_test_en_aug.csv', encoding='UTF-8')\n",
    "else:\n",
    "    train_data_augmented = pd.read_csv('/kaggle/input/clef2025-checkthat/data/english/train_en_aug.csv', encoding='UTF-8', index_col=0)\n",
    "    test_data_augmented = pd.read_csv('/kaggle/input/clef2025-checkthat/data/english/dev_test_en_aug.csv', encoding='UTF-8', index_col=0)"
   ]
  },
  {
   "cell_type": "code",
   "execution_count": null,
   "metadata": {
    "trusted": true
   },
   "outputs": [],
   "source": [
    "def preprocess(text):\n",
    "    preprocessed_text = []\n",
    "    for t in text.split():\n",
    "        if len(t) > 1:\n",
    "            t = '@user' if t[0] == '@' and t.count('@') == 1 else t\n",
    "            t = 'http' if t.startswith('http') else t\n",
    "        preprocessed_text.append(t)\n",
    "    return ' '.join(preprocessed_text)"
   ]
  },
  {
   "cell_type": "code",
   "execution_count": null,
   "metadata": {
    "trusted": true
   },
   "outputs": [],
   "source": [
    "# Taken from https://github.com/huggingface/transformers/blob/main/src/transformers/trainer.py#L3700 (with some minor changes removing useless parts)\n",
    "class CustomTrainer(Trainer):\n",
    "    def __init__(self, class_weights, device, *args, **kwargs):\n",
    "        super().__init__(*args, **kwargs)\n",
    "        # You pass the class weights when instantiating the Trainer\n",
    "        self.class_weights = class_weights\n",
    "        self.device = device\n",
    "\n",
    "    def compute_loss(self, model, inputs, return_outputs=False, num_items_in_batch=None):\n",
    "        if self.label_smoother is not None and \"labels\" in inputs:\n",
    "            labels = inputs.pop(\"labels\")\n",
    "        else:\n",
    "            labels = None\n",
    "        outputs = model(**inputs)\n",
    "        if self.args.past_index >= 0:\n",
    "            self._past = outputs[self.args.past_index]\n",
    "\n",
    "        if labels is not None:\n",
    "            loss = self.label_smoother(outputs, labels)\n",
    "        else:\n",
    "            # We extract the logits from the model outputs\n",
    "            logits = outputs.logits\n",
    "            # We compute the loss manually passing the class weights to the loss function\n",
    "            criterion = torch.nn.CrossEntropyLoss(weight=self.class_weights.to(self.device)) # Modified to use the class weights\n",
    "            # We compute the loss using the modified criterion\n",
    "            loss = criterion(logits, inputs['labels'])\n",
    "\n",
    "        return (loss, outputs) if return_outputs else loss"
   ]
  },
  {
   "cell_type": "code",
   "execution_count": null,
   "metadata": {
    "trusted": true
   },
   "outputs": [],
   "source": [
    "class CustomEmotionModel(nn.Module):\n",
    "    def __init__(self, model_card: str, num_labels: int, num_emotions: int, class_weights: torch.Tensor, device):\n",
    "        super(CustomEmotionModel, self).__init__()\n",
    "        self.base_model = AutoModel.from_pretrained(model_card)\n",
    "        #self.emotion_branch = nn.Linear(num_emotions, 128)  # Example: 128 hidden units\n",
    "        self.classifier = nn.Linear(self.base_model.config.hidden_size + 28, num_labels)\n",
    "        self.class_weights = class_weights.to(device)\n",
    "\n",
    "    def forward(self, input_ids, attention_mask, emotion_features, labels=None):\n",
    "        outputs = self.base_model(input_ids=input_ids, attention_mask=attention_mask)\n",
    "        pooled_output = outputs.last_hidden_state[:, 0, :]  # CLS token representation\n",
    "        \n",
    "        # Process emotion features\n",
    "        #emotion_output = torch.relu(self.emotion_branch(emotion_features))\n",
    "        \n",
    "        # Concatenate base model output with emotion features\n",
    "        combined_output = torch.cat((pooled_output, emotion_features), dim=1)\n",
    "        \n",
    "        # Apply classification layer\n",
    "        logits = self.classifier(combined_output)\n",
    "\n",
    "        loss = None\n",
    "        if labels is not None:\n",
    "            criterion = torch.nn.CrossEntropyLoss(weight=self.class_weights)\n",
    "            loss = criterion(logits, labels)\n",
    "\n",
    "        return SequenceClassifierOutput(loss=loss, logits=logits)"
   ]
  },
  {
   "cell_type": "code",
   "execution_count": null,
   "metadata": {
    "trusted": true
   },
   "outputs": [],
   "source": [
    "train_data_augmented['all_emotions'] = train_data_augmented[train_data_augmented.columns[-28:]].apply(lambda x: np.array(x.values, dtype=np.float32), axis=1)\n",
    "test_data_augmented['all_emotions'] = test_data_augmented[test_data_augmented.columns[-28:]].apply(lambda x: np.array(x.values, dtype=np.float32), axis=1)"
   ]
  },
  {
   "cell_type": "code",
   "execution_count": null,
   "metadata": {
    "trusted": true
   },
   "outputs": [],
   "source": [
    "train_dl = Dataset.from_pandas(train_data_augmented)\n",
    "test_dl = Dataset.from_pandas(test_data_augmented)"
   ]
  },
  {
   "cell_type": "code",
   "execution_count": null,
   "metadata": {
    "trusted": true
   },
   "outputs": [],
   "source": [
    "class_weights = compute_class_weight(class_weight=\"balanced\", classes=np.unique(train_data['label']), y=train_data['label'])\n",
    "class_weights = torch.tensor(class_weights, dtype=torch.float32)\n",
    "class_weights"
   ]
  },
  {
   "cell_type": "code",
   "execution_count": null,
   "metadata": {
    "trusted": true
   },
   "outputs": [],
   "source": [
    "model_card = \"cardiffnlp/twitter-roberta-base-2022-154m\"\n",
    "tokenizer = AutoTokenizer.from_pretrained(model_card, use_Fast=False)\n",
    "model = CustomEmotionModel(model_card, num_labels = 2, num_emotions=28, class_weights=class_weights, device=device)"
   ]
  },
  {
   "cell_type": "code",
   "execution_count": null,
   "metadata": {
    "trusted": true
   },
   "outputs": [],
   "source": [
    "def tokenize_and_prepare(texts):\n",
    "    tokenized = tokenizer(texts['sentence'])\n",
    "    return {**tokenized, 'emotion_features': texts['all_emotions']}"
   ]
  },
  {
   "cell_type": "code",
   "execution_count": null,
   "metadata": {
    "trusted": true
   },
   "outputs": [],
   "source": [
    "train_dl = train_dl.map(tokenize_and_prepare, batched=True)\n",
    "test_dl = test_dl.map(tokenize_and_prepare, batched=True)"
   ]
  },
  {
   "cell_type": "code",
   "execution_count": null,
   "metadata": {
    "trusted": true
   },
   "outputs": [],
   "source": [
    "data_collator = DataCollatorWithPadding(tokenizer=tokenizer, return_tensors=\"pt\")"
   ]
  },
  {
   "cell_type": "code",
   "execution_count": null,
   "metadata": {
    "trusted": true
   },
   "outputs": [],
   "source": [
    "training_args = TrainingArguments(\n",
    "    output_dir=f'model',                 \n",
    "    learning_rate=5e-6,\n",
    "    per_device_train_batch_size=16,         \n",
    "    per_device_eval_batch_size=16,\n",
    "    lr_scheduler_type='linear',\n",
    "    label_smoothing_factor=0.1,\n",
    "    num_train_epochs=10,\n",
    "    weight_decay=1e-2,\n",
    "    eval_strategy=\"epoch\",       \n",
    "    save_strategy=\"no\",           \n",
    "    #save_safetensors=True,\n",
    "    #load_best_model_at_end=True,\n",
    "    report_to='none',\n",
    "    seed=SEED,\n",
    "    data_seed=SEED\n",
    ")"
   ]
  },
  {
   "cell_type": "code",
   "execution_count": null,
   "metadata": {
    "trusted": true
   },
   "outputs": [],
   "source": [
    "def compute_metrics(output_info):\n",
    "    \"\"\"\n",
    "    Compute various evaluation metrics for model predictions.\n",
    "    \n",
    "    Args:\n",
    "        output_info (tuple): A tuple containing the model predictions and the true labels.\n",
    "            - predictions (np.ndarray): The predicted labels from the model.\n",
    "            - labels (np.ndarray): The true labels.\n",
    "    \n",
    "    Returns:\n",
    "        dict: A dictionary containing the computed metrics:\n",
    "            - 'f1': The F1 score (macro average).\n",
    "            - 'accuracy': The accuracy score.\n",
    "            - 'precision': The precision score (macro average).\n",
    "            - 'recall': The recall score (macro average).\n",
    "    \"\"\"\n",
    "    predictions, labels = output_info\n",
    "    predictions = np.array(predictions)\n",
    "    labels = np.array(labels)\n",
    "    predictions = np.argmax(predictions, axis=-1)\n",
    "    \n",
    "    f1 = f1_score(labels, predictions, average=\"macro\", zero_division=0)\n",
    "    acc = accuracy_score(labels, predictions)\n",
    "    \n",
    "    return {\"f1-score\" : f1, \"Accuracy\" : acc}"
   ]
  },
  {
   "cell_type": "code",
   "execution_count": null,
   "metadata": {
    "trusted": true
   },
   "outputs": [],
   "source": [
    "trainer = CustomTrainer(\n",
    "    model=model,\n",
    "    args=training_args,\n",
    "    train_dataset=train_dl,\n",
    "    eval_dataset=test_dl,\n",
    "    data_collator=data_collator,\n",
    "    compute_metrics=compute_metrics,\n",
    "    class_weights=class_weights,\n",
    "    device=device,\n",
    ")"
   ]
  },
  {
   "cell_type": "code",
   "execution_count": null,
   "metadata": {
    "trusted": true
   },
   "outputs": [],
   "source": [
    "trainer.train()"
   ]
  },
  {
   "cell_type": "code",
   "execution_count": null,
   "metadata": {
    "trusted": true
   },
   "outputs": [],
   "source": [
    "from sklearn.metrics import confusion_matrix, ConfusionMatrixDisplay, roc_auc_score\n",
    "prediction, labels, _ = trainer.predict(test_dl)\n",
    "prediction = np.argmax(prediction, axis=1)\n",
    "cm = confusion_matrix(y_true=labels, y_pred=prediction, normalize='all')\n",
    "print(roc_auc_score(labels, prediction))\n",
    "\n",
    "ConfusionMatrixDisplay(cm).plot()"
   ]
  }
 ],
 "metadata": {
  "kaggle": {
   "accelerator": "gpu",
   "dataSources": [
    {
     "datasetId": 6742324,
     "isSourceIdPinned": false,
     "sourceId": 10881030,
     "sourceType": "datasetVersion"
    }
   ],
   "isGpuEnabled": true,
   "isInternetEnabled": true,
   "language": "python",
   "sourceType": "notebook"
  },
  "kernelspec": {
   "display_name": ".venv",
   "language": "python",
   "name": "python3"
  },
  "language_info": {
   "codemirror_mode": {
    "name": "ipython",
    "version": 3
   },
   "file_extension": ".py",
   "mimetype": "text/x-python",
   "name": "python",
   "nbconvert_exporter": "python",
   "pygments_lexer": "ipython3",
   "version": "3.10.15"
  }
 },
 "nbformat": 4,
 "nbformat_minor": 4
}
