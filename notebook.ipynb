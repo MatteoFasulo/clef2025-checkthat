{
 "cells": [
  {
   "cell_type": "markdown",
   "metadata": {},
   "source": [
    "# Subjectivity in News Articles\n",
    "\n",
    "## Group:\n",
    "- Luca Babboni - luca.babboni2@studio.unibo.it\n",
    "- Matteo Fasulo - matteo.fasulo@studio.unibo.it\n",
    "- Luca Tedeschini - luca.tedeschini3@studio.unibo.it\n",
    "\n",
    "## Description\n",
    "\n",
    "This notebook addresses Task 1 proposed in [CheckThat Lab](https://checkthat.gitlab.io/clef2025/) of CLEF 2025. In this task, systems are challenged to distinguish whether a sentence from a news article expresses the subjective view of the author behind it or presents an objective view on the covered topic instead.\n",
    "\n",
    "This is a binary classification tasks in which systems have to identify whether a text sequence (a sentence or a paragraph) is subjective (SUBJ) or objective (OBJ).\n",
    "\n",
    "The task comprises three settings:\n",
    "\n",
    "* Monolingual: train and test on data in a given language\n",
    "* Multilingual: train and test on data comprising several languages\n",
    "* Zero-shot: train on several languages and test on unseen languages\n",
    "\n",
    "training data in five languages:\n",
    "* Arabic\n",
    "* Bulgarian\n",
    "* English\n",
    "* German\n",
    "* Italian\n",
    "\n",
    "The official evaluation is macro-averaged F1 between the two classes."
   ]
  },
  {
   "cell_type": "code",
   "execution_count": null,
   "metadata": {
    "execution": {
     "iopub.execute_input": "2025-02-27T17:41:06.426876Z",
     "iopub.status.busy": "2025-02-27T17:41:06.426542Z",
     "iopub.status.idle": "2025-02-27T17:41:06.431733Z",
     "shell.execute_reply": "2025-02-27T17:41:06.430948Z",
     "shell.execute_reply.started": "2025-02-27T17:41:06.426850Z"
    },
    "trusted": true
   },
   "outputs": [
    {
     "name": "stderr",
     "output_type": "stream",
     "text": [
      "2025-02-27 20:26:23.282371: I tensorflow/core/util/port.cc:153] oneDNN custom operations are on. You may see slightly different numerical results due to floating-point round-off errors from different computation orders. To turn them off, set the environment variable `TF_ENABLE_ONEDNN_OPTS=0`.\n",
      "2025-02-27 20:26:23.283221: I external/local_xla/xla/tsl/cuda/cudart_stub.cc:32] Could not find cuda drivers on your machine, GPU will not be used.\n",
      "2025-02-27 20:26:23.285397: I external/local_xla/xla/tsl/cuda/cudart_stub.cc:32] Could not find cuda drivers on your machine, GPU will not be used.\n",
      "2025-02-27 20:26:23.289936: E external/local_xla/xla/stream_executor/cuda/cuda_fft.cc:477] Unable to register cuFFT factory: Attempting to register factory for plugin cuFFT when one has already been registered\n",
      "WARNING: All log messages before absl::InitializeLog() is called are written to STDERR\n",
      "E0000 00:00:1740684383.298434   30201 cuda_dnn.cc:8310] Unable to register cuDNN factory: Attempting to register factory for plugin cuDNN when one has already been registered\n",
      "E0000 00:00:1740684383.300936   30201 cuda_blas.cc:1418] Unable to register cuBLAS factory: Attempting to register factory for plugin cuBLAS when one has already been registered\n",
      "2025-02-27 20:26:23.311336: I tensorflow/core/platform/cpu_feature_guard.cc:210] This TensorFlow binary is optimized to use available CPU instructions in performance-critical operations.\n",
      "To enable the following instructions: AVX2 AVX512F AVX512_VNNI AVX512_BF16 FMA, in other operations, rebuild TensorFlow with the appropriate compiler flags.\n"
     ]
    }
   ],
   "source": [
    "import os\n",
    "\n",
    "import csv\n",
    "\n",
    "import numpy as np\n",
    "import pandas as pd\n",
    "\n",
    "from tqdm import tqdm\n",
    "\n",
    "from joblib import delayed, Parallel\n",
    "\n",
    "from sklearn.linear_model import LogisticRegression\n",
    "from sklearn.metrics import accuracy_score, precision_recall_fscore_support, roc_auc_score, f1_score\n",
    "\n",
    "from sklearn.utils.class_weight import compute_class_weight\n",
    "\n",
    "import torch\n",
    "import torch.nn as nn\n",
    "\n",
    "from sentence_transformers import SentenceTransformer\n",
    "from datasets import Dataset\n",
    "from huggingface_hub import notebook_login\n",
    "from transformers import AutoTokenizer, AutoModel, AutoModelForSequenceClassification, Trainer, TrainingArguments, DataCollatorWithPadding, RobertaTokenizerFast, RobertaForSequenceClassification, pipeline"
   ]
  },
  {
   "cell_type": "code",
   "execution_count": 2,
   "metadata": {
    "execution": {
     "iopub.execute_input": "2025-02-27T17:28:01.515980Z",
     "iopub.status.busy": "2025-02-27T17:28:01.515692Z",
     "iopub.status.idle": "2025-02-27T17:28:01.523130Z",
     "shell.execute_reply": "2025-02-27T17:28:01.522366Z",
     "shell.execute_reply.started": "2025-02-27T17:28:01.515953Z"
    },
    "trusted": true
   },
   "outputs": [],
   "source": [
    "SEED = 42\n",
    "device = 'cuda' if torch.cuda.is_available() else 'cpu'"
   ]
  },
  {
   "cell_type": "code",
   "execution_count": null,
   "metadata": {
    "execution": {
     "iopub.execute_input": "2025-02-27T17:28:01.816567Z",
     "iopub.status.busy": "2025-02-27T17:28:01.816284Z",
     "iopub.status.idle": "2025-02-27T17:28:01.819833Z",
     "shell.execute_reply": "2025-02-27T17:28:01.818938Z",
     "shell.execute_reply.started": "2025-02-27T17:28:01.816547Z"
    },
    "trusted": true
   },
   "outputs": [],
   "source": [
    "train_filepath = '/kaggle/input/clef2025-checkthat/data/english/train_en.tsv'\n",
    "test_filepath = '/kaggle/input/clef2025-checkthat/data/english/dev_test_en.tsv'"
   ]
  },
  {
   "cell_type": "code",
   "execution_count": 4,
   "metadata": {
    "execution": {
     "iopub.execute_input": "2025-02-27T17:28:01.991574Z",
     "iopub.status.busy": "2025-02-27T17:28:01.991211Z",
     "iopub.status.idle": "2025-02-27T17:28:02.044564Z",
     "shell.execute_reply": "2025-02-27T17:28:02.043675Z",
     "shell.execute_reply.started": "2025-02-27T17:28:01.991545Z"
    },
    "trusted": true
   },
   "outputs": [],
   "source": [
    "train_data = pd.read_csv(train_filepath, sep='\\t', quoting=csv.QUOTE_NONE)\n",
    "test_data = pd.read_csv(test_filepath, sep='\\t', quoting=csv.QUOTE_NONE)"
   ]
  },
  {
   "cell_type": "code",
   "execution_count": 5,
   "metadata": {
    "execution": {
     "iopub.execute_input": "2025-02-27T17:28:02.176604Z",
     "iopub.status.busy": "2025-02-27T17:28:02.175992Z",
     "iopub.status.idle": "2025-02-27T17:28:02.193608Z",
     "shell.execute_reply": "2025-02-27T17:28:02.192732Z",
     "shell.execute_reply.started": "2025-02-27T17:28:02.176560Z"
    },
    "trusted": true
   },
   "outputs": [
    {
     "data": {
      "text/plain": [
       "(label\n",
       " OBJ     532\n",
       " SUBJ    298\n",
       " Name: count, dtype: int64,\n",
       " label\n",
       " OBJ     362\n",
       " SUBJ    122\n",
       " Name: count, dtype: int64)"
      ]
     },
     "execution_count": 5,
     "metadata": {},
     "output_type": "execute_result"
    }
   ],
   "source": [
    "train_data.label.value_counts(), test_data.label.value_counts()"
   ]
  },
  {
   "cell_type": "markdown",
   "metadata": {},
   "source": [
    "Legend:\n",
    "* Objective -> 0\n",
    "* Subjective -> 1"
   ]
  },
  {
   "cell_type": "code",
   "execution_count": 6,
   "metadata": {
    "execution": {
     "iopub.execute_input": "2025-02-27T17:28:03.374982Z",
     "iopub.status.busy": "2025-02-27T17:28:03.374668Z",
     "iopub.status.idle": "2025-02-27T17:28:03.380630Z",
     "shell.execute_reply": "2025-02-27T17:28:03.379789Z",
     "shell.execute_reply.started": "2025-02-27T17:28:03.374955Z"
    },
    "trusted": true
   },
   "outputs": [],
   "source": [
    "train_data['label'] = train_data['label'].apply(lambda x: 1 if x == 'SUBJ' else 0)\n",
    "test_data['label'] = test_data['label'].apply(lambda x: 1 if x == 'SUBJ' else 0)"
   ]
  },
  {
   "cell_type": "code",
   "execution_count": 7,
   "metadata": {
    "execution": {
     "iopub.execute_input": "2025-02-27T17:28:06.880110Z",
     "iopub.status.busy": "2025-02-27T17:28:06.879828Z",
     "iopub.status.idle": "2025-02-27T17:28:06.897022Z",
     "shell.execute_reply": "2025-02-27T17:28:06.896122Z",
     "shell.execute_reply.started": "2025-02-27T17:28:06.880090Z"
    },
    "trusted": true
   },
   "outputs": [
    {
     "data": {
      "application/vnd.jupyter.widget-view+json": {
       "model_id": "431a2813e7574319868371d0026d3073",
       "version_major": 2,
       "version_minor": 0
      },
      "text/plain": [
       "VBox(children=(HTML(value='<center> <img\\nsrc=https://huggingface.co/front/assets/huggingface_logo-noborder.sv…"
      ]
     },
     "metadata": {},
     "output_type": "display_data"
    }
   ],
   "source": [
    "notebook_login()"
   ]
  },
  {
   "cell_type": "markdown",
   "metadata": {},
   "source": [
    "# Baseline Model"
   ]
  },
  {
   "cell_type": "code",
   "execution_count": 8,
   "metadata": {
    "execution": {
     "iopub.execute_input": "2025-02-27T17:28:28.506308Z",
     "iopub.status.busy": "2025-02-27T17:28:28.506016Z",
     "iopub.status.idle": "2025-02-27T17:28:34.358502Z",
     "shell.execute_reply": "2025-02-27T17:28:34.357423Z",
     "shell.execute_reply.started": "2025-02-27T17:28:28.506287Z"
    },
    "trusted": true
   },
   "outputs": [],
   "source": [
    "vect = SentenceTransformer(\"all-mpnet-base-v2\")"
   ]
  },
  {
   "cell_type": "code",
   "execution_count": 9,
   "metadata": {
    "execution": {
     "iopub.execute_input": "2025-02-27T17:28:34.360046Z",
     "iopub.status.busy": "2025-02-27T17:28:34.359742Z",
     "iopub.status.idle": "2025-02-27T17:28:36.222518Z",
     "shell.execute_reply": "2025-02-27T17:28:36.221627Z",
     "shell.execute_reply.started": "2025-02-27T17:28:34.360019Z"
    },
    "trusted": true
   },
   "outputs": [
    {
     "name": "stderr",
     "output_type": "stream",
     "text": [
      "/home/sbrodox/Desktop/githubrepos/clef2025-checkthat/env/lib/python3.10/site-packages/torch/nn/modules/linear.py:125: UserWarning: Attempting to use hipBLASLt on an unsupported architecture! Overriding blas backend to hipblas (Triggered internally at /pytorch/aten/src/ATen/Context.cpp:310.)\n",
      "  return F.linear(input, self.weight, self.bias)\n"
     ]
    },
    {
     "data": {
      "text/html": [
       "<style>#sk-container-id-1 {\n",
       "  /* Definition of color scheme common for light and dark mode */\n",
       "  --sklearn-color-text: #000;\n",
       "  --sklearn-color-text-muted: #666;\n",
       "  --sklearn-color-line: gray;\n",
       "  /* Definition of color scheme for unfitted estimators */\n",
       "  --sklearn-color-unfitted-level-0: #fff5e6;\n",
       "  --sklearn-color-unfitted-level-1: #f6e4d2;\n",
       "  --sklearn-color-unfitted-level-2: #ffe0b3;\n",
       "  --sklearn-color-unfitted-level-3: chocolate;\n",
       "  /* Definition of color scheme for fitted estimators */\n",
       "  --sklearn-color-fitted-level-0: #f0f8ff;\n",
       "  --sklearn-color-fitted-level-1: #d4ebff;\n",
       "  --sklearn-color-fitted-level-2: #b3dbfd;\n",
       "  --sklearn-color-fitted-level-3: cornflowerblue;\n",
       "\n",
       "  /* Specific color for light theme */\n",
       "  --sklearn-color-text-on-default-background: var(--sg-text-color, var(--theme-code-foreground, var(--jp-content-font-color1, black)));\n",
       "  --sklearn-color-background: var(--sg-background-color, var(--theme-background, var(--jp-layout-color0, white)));\n",
       "  --sklearn-color-border-box: var(--sg-text-color, var(--theme-code-foreground, var(--jp-content-font-color1, black)));\n",
       "  --sklearn-color-icon: #696969;\n",
       "\n",
       "  @media (prefers-color-scheme: dark) {\n",
       "    /* Redefinition of color scheme for dark theme */\n",
       "    --sklearn-color-text-on-default-background: var(--sg-text-color, var(--theme-code-foreground, var(--jp-content-font-color1, white)));\n",
       "    --sklearn-color-background: var(--sg-background-color, var(--theme-background, var(--jp-layout-color0, #111)));\n",
       "    --sklearn-color-border-box: var(--sg-text-color, var(--theme-code-foreground, var(--jp-content-font-color1, white)));\n",
       "    --sklearn-color-icon: #878787;\n",
       "  }\n",
       "}\n",
       "\n",
       "#sk-container-id-1 {\n",
       "  color: var(--sklearn-color-text);\n",
       "}\n",
       "\n",
       "#sk-container-id-1 pre {\n",
       "  padding: 0;\n",
       "}\n",
       "\n",
       "#sk-container-id-1 input.sk-hidden--visually {\n",
       "  border: 0;\n",
       "  clip: rect(1px 1px 1px 1px);\n",
       "  clip: rect(1px, 1px, 1px, 1px);\n",
       "  height: 1px;\n",
       "  margin: -1px;\n",
       "  overflow: hidden;\n",
       "  padding: 0;\n",
       "  position: absolute;\n",
       "  width: 1px;\n",
       "}\n",
       "\n",
       "#sk-container-id-1 div.sk-dashed-wrapped {\n",
       "  border: 1px dashed var(--sklearn-color-line);\n",
       "  margin: 0 0.4em 0.5em 0.4em;\n",
       "  box-sizing: border-box;\n",
       "  padding-bottom: 0.4em;\n",
       "  background-color: var(--sklearn-color-background);\n",
       "}\n",
       "\n",
       "#sk-container-id-1 div.sk-container {\n",
       "  /* jupyter's `normalize.less` sets `[hidden] { display: none; }`\n",
       "     but bootstrap.min.css set `[hidden] { display: none !important; }`\n",
       "     so we also need the `!important` here to be able to override the\n",
       "     default hidden behavior on the sphinx rendered scikit-learn.org.\n",
       "     See: https://github.com/scikit-learn/scikit-learn/issues/21755 */\n",
       "  display: inline-block !important;\n",
       "  position: relative;\n",
       "}\n",
       "\n",
       "#sk-container-id-1 div.sk-text-repr-fallback {\n",
       "  display: none;\n",
       "}\n",
       "\n",
       "div.sk-parallel-item,\n",
       "div.sk-serial,\n",
       "div.sk-item {\n",
       "  /* draw centered vertical line to link estimators */\n",
       "  background-image: linear-gradient(var(--sklearn-color-text-on-default-background), var(--sklearn-color-text-on-default-background));\n",
       "  background-size: 2px 100%;\n",
       "  background-repeat: no-repeat;\n",
       "  background-position: center center;\n",
       "}\n",
       "\n",
       "/* Parallel-specific style estimator block */\n",
       "\n",
       "#sk-container-id-1 div.sk-parallel-item::after {\n",
       "  content: \"\";\n",
       "  width: 100%;\n",
       "  border-bottom: 2px solid var(--sklearn-color-text-on-default-background);\n",
       "  flex-grow: 1;\n",
       "}\n",
       "\n",
       "#sk-container-id-1 div.sk-parallel {\n",
       "  display: flex;\n",
       "  align-items: stretch;\n",
       "  justify-content: center;\n",
       "  background-color: var(--sklearn-color-background);\n",
       "  position: relative;\n",
       "}\n",
       "\n",
       "#sk-container-id-1 div.sk-parallel-item {\n",
       "  display: flex;\n",
       "  flex-direction: column;\n",
       "}\n",
       "\n",
       "#sk-container-id-1 div.sk-parallel-item:first-child::after {\n",
       "  align-self: flex-end;\n",
       "  width: 50%;\n",
       "}\n",
       "\n",
       "#sk-container-id-1 div.sk-parallel-item:last-child::after {\n",
       "  align-self: flex-start;\n",
       "  width: 50%;\n",
       "}\n",
       "\n",
       "#sk-container-id-1 div.sk-parallel-item:only-child::after {\n",
       "  width: 0;\n",
       "}\n",
       "\n",
       "/* Serial-specific style estimator block */\n",
       "\n",
       "#sk-container-id-1 div.sk-serial {\n",
       "  display: flex;\n",
       "  flex-direction: column;\n",
       "  align-items: center;\n",
       "  background-color: var(--sklearn-color-background);\n",
       "  padding-right: 1em;\n",
       "  padding-left: 1em;\n",
       "}\n",
       "\n",
       "\n",
       "/* Toggleable style: style used for estimator/Pipeline/ColumnTransformer box that is\n",
       "clickable and can be expanded/collapsed.\n",
       "- Pipeline and ColumnTransformer use this feature and define the default style\n",
       "- Estimators will overwrite some part of the style using the `sk-estimator` class\n",
       "*/\n",
       "\n",
       "/* Pipeline and ColumnTransformer style (default) */\n",
       "\n",
       "#sk-container-id-1 div.sk-toggleable {\n",
       "  /* Default theme specific background. It is overwritten whether we have a\n",
       "  specific estimator or a Pipeline/ColumnTransformer */\n",
       "  background-color: var(--sklearn-color-background);\n",
       "}\n",
       "\n",
       "/* Toggleable label */\n",
       "#sk-container-id-1 label.sk-toggleable__label {\n",
       "  cursor: pointer;\n",
       "  display: flex;\n",
       "  width: 100%;\n",
       "  margin-bottom: 0;\n",
       "  padding: 0.5em;\n",
       "  box-sizing: border-box;\n",
       "  text-align: center;\n",
       "  align-items: start;\n",
       "  justify-content: space-between;\n",
       "  gap: 0.5em;\n",
       "}\n",
       "\n",
       "#sk-container-id-1 label.sk-toggleable__label .caption {\n",
       "  font-size: 0.6rem;\n",
       "  font-weight: lighter;\n",
       "  color: var(--sklearn-color-text-muted);\n",
       "}\n",
       "\n",
       "#sk-container-id-1 label.sk-toggleable__label-arrow:before {\n",
       "  /* Arrow on the left of the label */\n",
       "  content: \"▸\";\n",
       "  float: left;\n",
       "  margin-right: 0.25em;\n",
       "  color: var(--sklearn-color-icon);\n",
       "}\n",
       "\n",
       "#sk-container-id-1 label.sk-toggleable__label-arrow:hover:before {\n",
       "  color: var(--sklearn-color-text);\n",
       "}\n",
       "\n",
       "/* Toggleable content - dropdown */\n",
       "\n",
       "#sk-container-id-1 div.sk-toggleable__content {\n",
       "  max-height: 0;\n",
       "  max-width: 0;\n",
       "  overflow: hidden;\n",
       "  text-align: left;\n",
       "  /* unfitted */\n",
       "  background-color: var(--sklearn-color-unfitted-level-0);\n",
       "}\n",
       "\n",
       "#sk-container-id-1 div.sk-toggleable__content.fitted {\n",
       "  /* fitted */\n",
       "  background-color: var(--sklearn-color-fitted-level-0);\n",
       "}\n",
       "\n",
       "#sk-container-id-1 div.sk-toggleable__content pre {\n",
       "  margin: 0.2em;\n",
       "  border-radius: 0.25em;\n",
       "  color: var(--sklearn-color-text);\n",
       "  /* unfitted */\n",
       "  background-color: var(--sklearn-color-unfitted-level-0);\n",
       "}\n",
       "\n",
       "#sk-container-id-1 div.sk-toggleable__content.fitted pre {\n",
       "  /* unfitted */\n",
       "  background-color: var(--sklearn-color-fitted-level-0);\n",
       "}\n",
       "\n",
       "#sk-container-id-1 input.sk-toggleable__control:checked~div.sk-toggleable__content {\n",
       "  /* Expand drop-down */\n",
       "  max-height: 200px;\n",
       "  max-width: 100%;\n",
       "  overflow: auto;\n",
       "}\n",
       "\n",
       "#sk-container-id-1 input.sk-toggleable__control:checked~label.sk-toggleable__label-arrow:before {\n",
       "  content: \"▾\";\n",
       "}\n",
       "\n",
       "/* Pipeline/ColumnTransformer-specific style */\n",
       "\n",
       "#sk-container-id-1 div.sk-label input.sk-toggleable__control:checked~label.sk-toggleable__label {\n",
       "  color: var(--sklearn-color-text);\n",
       "  background-color: var(--sklearn-color-unfitted-level-2);\n",
       "}\n",
       "\n",
       "#sk-container-id-1 div.sk-label.fitted input.sk-toggleable__control:checked~label.sk-toggleable__label {\n",
       "  background-color: var(--sklearn-color-fitted-level-2);\n",
       "}\n",
       "\n",
       "/* Estimator-specific style */\n",
       "\n",
       "/* Colorize estimator box */\n",
       "#sk-container-id-1 div.sk-estimator input.sk-toggleable__control:checked~label.sk-toggleable__label {\n",
       "  /* unfitted */\n",
       "  background-color: var(--sklearn-color-unfitted-level-2);\n",
       "}\n",
       "\n",
       "#sk-container-id-1 div.sk-estimator.fitted input.sk-toggleable__control:checked~label.sk-toggleable__label {\n",
       "  /* fitted */\n",
       "  background-color: var(--sklearn-color-fitted-level-2);\n",
       "}\n",
       "\n",
       "#sk-container-id-1 div.sk-label label.sk-toggleable__label,\n",
       "#sk-container-id-1 div.sk-label label {\n",
       "  /* The background is the default theme color */\n",
       "  color: var(--sklearn-color-text-on-default-background);\n",
       "}\n",
       "\n",
       "/* On hover, darken the color of the background */\n",
       "#sk-container-id-1 div.sk-label:hover label.sk-toggleable__label {\n",
       "  color: var(--sklearn-color-text);\n",
       "  background-color: var(--sklearn-color-unfitted-level-2);\n",
       "}\n",
       "\n",
       "/* Label box, darken color on hover, fitted */\n",
       "#sk-container-id-1 div.sk-label.fitted:hover label.sk-toggleable__label.fitted {\n",
       "  color: var(--sklearn-color-text);\n",
       "  background-color: var(--sklearn-color-fitted-level-2);\n",
       "}\n",
       "\n",
       "/* Estimator label */\n",
       "\n",
       "#sk-container-id-1 div.sk-label label {\n",
       "  font-family: monospace;\n",
       "  font-weight: bold;\n",
       "  display: inline-block;\n",
       "  line-height: 1.2em;\n",
       "}\n",
       "\n",
       "#sk-container-id-1 div.sk-label-container {\n",
       "  text-align: center;\n",
       "}\n",
       "\n",
       "/* Estimator-specific */\n",
       "#sk-container-id-1 div.sk-estimator {\n",
       "  font-family: monospace;\n",
       "  border: 1px dotted var(--sklearn-color-border-box);\n",
       "  border-radius: 0.25em;\n",
       "  box-sizing: border-box;\n",
       "  margin-bottom: 0.5em;\n",
       "  /* unfitted */\n",
       "  background-color: var(--sklearn-color-unfitted-level-0);\n",
       "}\n",
       "\n",
       "#sk-container-id-1 div.sk-estimator.fitted {\n",
       "  /* fitted */\n",
       "  background-color: var(--sklearn-color-fitted-level-0);\n",
       "}\n",
       "\n",
       "/* on hover */\n",
       "#sk-container-id-1 div.sk-estimator:hover {\n",
       "  /* unfitted */\n",
       "  background-color: var(--sklearn-color-unfitted-level-2);\n",
       "}\n",
       "\n",
       "#sk-container-id-1 div.sk-estimator.fitted:hover {\n",
       "  /* fitted */\n",
       "  background-color: var(--sklearn-color-fitted-level-2);\n",
       "}\n",
       "\n",
       "/* Specification for estimator info (e.g. \"i\" and \"?\") */\n",
       "\n",
       "/* Common style for \"i\" and \"?\" */\n",
       "\n",
       ".sk-estimator-doc-link,\n",
       "a:link.sk-estimator-doc-link,\n",
       "a:visited.sk-estimator-doc-link {\n",
       "  float: right;\n",
       "  font-size: smaller;\n",
       "  line-height: 1em;\n",
       "  font-family: monospace;\n",
       "  background-color: var(--sklearn-color-background);\n",
       "  border-radius: 1em;\n",
       "  height: 1em;\n",
       "  width: 1em;\n",
       "  text-decoration: none !important;\n",
       "  margin-left: 0.5em;\n",
       "  text-align: center;\n",
       "  /* unfitted */\n",
       "  border: var(--sklearn-color-unfitted-level-1) 1pt solid;\n",
       "  color: var(--sklearn-color-unfitted-level-1);\n",
       "}\n",
       "\n",
       ".sk-estimator-doc-link.fitted,\n",
       "a:link.sk-estimator-doc-link.fitted,\n",
       "a:visited.sk-estimator-doc-link.fitted {\n",
       "  /* fitted */\n",
       "  border: var(--sklearn-color-fitted-level-1) 1pt solid;\n",
       "  color: var(--sklearn-color-fitted-level-1);\n",
       "}\n",
       "\n",
       "/* On hover */\n",
       "div.sk-estimator:hover .sk-estimator-doc-link:hover,\n",
       ".sk-estimator-doc-link:hover,\n",
       "div.sk-label-container:hover .sk-estimator-doc-link:hover,\n",
       ".sk-estimator-doc-link:hover {\n",
       "  /* unfitted */\n",
       "  background-color: var(--sklearn-color-unfitted-level-3);\n",
       "  color: var(--sklearn-color-background);\n",
       "  text-decoration: none;\n",
       "}\n",
       "\n",
       "div.sk-estimator.fitted:hover .sk-estimator-doc-link.fitted:hover,\n",
       ".sk-estimator-doc-link.fitted:hover,\n",
       "div.sk-label-container:hover .sk-estimator-doc-link.fitted:hover,\n",
       ".sk-estimator-doc-link.fitted:hover {\n",
       "  /* fitted */\n",
       "  background-color: var(--sklearn-color-fitted-level-3);\n",
       "  color: var(--sklearn-color-background);\n",
       "  text-decoration: none;\n",
       "}\n",
       "\n",
       "/* Span, style for the box shown on hovering the info icon */\n",
       ".sk-estimator-doc-link span {\n",
       "  display: none;\n",
       "  z-index: 9999;\n",
       "  position: relative;\n",
       "  font-weight: normal;\n",
       "  right: .2ex;\n",
       "  padding: .5ex;\n",
       "  margin: .5ex;\n",
       "  width: min-content;\n",
       "  min-width: 20ex;\n",
       "  max-width: 50ex;\n",
       "  color: var(--sklearn-color-text);\n",
       "  box-shadow: 2pt 2pt 4pt #999;\n",
       "  /* unfitted */\n",
       "  background: var(--sklearn-color-unfitted-level-0);\n",
       "  border: .5pt solid var(--sklearn-color-unfitted-level-3);\n",
       "}\n",
       "\n",
       ".sk-estimator-doc-link.fitted span {\n",
       "  /* fitted */\n",
       "  background: var(--sklearn-color-fitted-level-0);\n",
       "  border: var(--sklearn-color-fitted-level-3);\n",
       "}\n",
       "\n",
       ".sk-estimator-doc-link:hover span {\n",
       "  display: block;\n",
       "}\n",
       "\n",
       "/* \"?\"-specific style due to the `<a>` HTML tag */\n",
       "\n",
       "#sk-container-id-1 a.estimator_doc_link {\n",
       "  float: right;\n",
       "  font-size: 1rem;\n",
       "  line-height: 1em;\n",
       "  font-family: monospace;\n",
       "  background-color: var(--sklearn-color-background);\n",
       "  border-radius: 1rem;\n",
       "  height: 1rem;\n",
       "  width: 1rem;\n",
       "  text-decoration: none;\n",
       "  /* unfitted */\n",
       "  color: var(--sklearn-color-unfitted-level-1);\n",
       "  border: var(--sklearn-color-unfitted-level-1) 1pt solid;\n",
       "}\n",
       "\n",
       "#sk-container-id-1 a.estimator_doc_link.fitted {\n",
       "  /* fitted */\n",
       "  border: var(--sklearn-color-fitted-level-1) 1pt solid;\n",
       "  color: var(--sklearn-color-fitted-level-1);\n",
       "}\n",
       "\n",
       "/* On hover */\n",
       "#sk-container-id-1 a.estimator_doc_link:hover {\n",
       "  /* unfitted */\n",
       "  background-color: var(--sklearn-color-unfitted-level-3);\n",
       "  color: var(--sklearn-color-background);\n",
       "  text-decoration: none;\n",
       "}\n",
       "\n",
       "#sk-container-id-1 a.estimator_doc_link.fitted:hover {\n",
       "  /* fitted */\n",
       "  background-color: var(--sklearn-color-fitted-level-3);\n",
       "}\n",
       "</style><div id=\"sk-container-id-1\" class=\"sk-top-container\"><div class=\"sk-text-repr-fallback\"><pre>LogisticRegression(class_weight=&#x27;balanced&#x27;, random_state=42)</pre><b>In a Jupyter environment, please rerun this cell to show the HTML representation or trust the notebook. <br />On GitHub, the HTML representation is unable to render, please try loading this page with nbviewer.org.</b></div><div class=\"sk-container\" hidden><div class=\"sk-item\"><div class=\"sk-estimator fitted sk-toggleable\"><input class=\"sk-toggleable__control sk-hidden--visually\" id=\"sk-estimator-id-1\" type=\"checkbox\" checked><label for=\"sk-estimator-id-1\" class=\"sk-toggleable__label fitted sk-toggleable__label-arrow\"><div><div>LogisticRegression</div></div><div><a class=\"sk-estimator-doc-link fitted\" rel=\"noreferrer\" target=\"_blank\" href=\"https://scikit-learn.org/1.6/modules/generated/sklearn.linear_model.LogisticRegression.html\">?<span>Documentation for LogisticRegression</span></a><span class=\"sk-estimator-doc-link fitted\">i<span>Fitted</span></span></div></label><div class=\"sk-toggleable__content fitted\"><pre>LogisticRegression(class_weight=&#x27;balanced&#x27;, random_state=42)</pre></div> </div></div></div></div>"
      ],
      "text/plain": [
       "LogisticRegression(class_weight='balanced', random_state=42)"
      ]
     },
     "execution_count": 9,
     "metadata": {},
     "output_type": "execute_result"
    }
   ],
   "source": [
    "model = LogisticRegression(class_weight=\"balanced\", random_state=SEED)\n",
    "model.fit(X=vect.encode(train_data['sentence'].values), y=train_data['label'].values)"
   ]
  },
  {
   "cell_type": "code",
   "execution_count": 10,
   "metadata": {
    "execution": {
     "iopub.execute_input": "2025-02-27T17:28:36.224203Z",
     "iopub.status.busy": "2025-02-27T17:28:36.223950Z",
     "iopub.status.idle": "2025-02-27T17:28:37.043837Z",
     "shell.execute_reply": "2025-02-27T17:28:37.043163Z",
     "shell.execute_reply.started": "2025-02-27T17:28:36.224181Z"
    },
    "trusted": true
   },
   "outputs": [],
   "source": [
    "predictions = model.predict(X=vect.encode(test_data['sentence'].values)).tolist()"
   ]
  },
  {
   "cell_type": "code",
   "execution_count": 11,
   "metadata": {
    "execution": {
     "iopub.execute_input": "2025-02-27T17:28:37.044918Z",
     "iopub.status.busy": "2025-02-27T17:28:37.044683Z",
     "iopub.status.idle": "2025-02-27T17:28:37.052402Z",
     "shell.execute_reply": "2025-02-27T17:28:37.051687Z",
     "shell.execute_reply.started": "2025-02-27T17:28:37.044899Z"
    },
    "trusted": true
   },
   "outputs": [],
   "source": [
    "pred_df = pd.DataFrame()\n",
    "pred_df['sentence_id'] = test_data['sentence_id']\n",
    "pred_df['label'] = predictions"
   ]
  },
  {
   "cell_type": "code",
   "execution_count": 12,
   "metadata": {
    "execution": {
     "iopub.execute_input": "2025-02-27T17:28:37.053363Z",
     "iopub.status.busy": "2025-02-27T17:28:37.053151Z",
     "iopub.status.idle": "2025-02-27T17:28:37.069279Z",
     "shell.execute_reply": "2025-02-27T17:28:37.068678Z",
     "shell.execute_reply.started": "2025-02-27T17:28:37.053345Z"
    },
    "trusted": true
   },
   "outputs": [],
   "source": [
    "def evaluate_model(gold_values, predicted_values):\n",
    "    acc = accuracy_score(gold_values, predicted_values)\n",
    "    m_prec, m_rec, m_f1, m_s = precision_recall_fscore_support(gold_values, predicted_values, average=\"macro\",\n",
    "                                                               zero_division=0)\n",
    "    p_prec, p_rec, p_f1, p_s = precision_recall_fscore_support(gold_values, predicted_values, labels=[1],\n",
    "                                                               zero_division=0)\n",
    "    #roc_auc = roc_auc_score(gold_values, predicted_probabilities)\n",
    "\n",
    "    return {\n",
    "        'macro_F1': m_f1,\n",
    "        'macro_P': m_prec,\n",
    "        'macro_R': m_rec,\n",
    "        'SUBJ_F1': p_f1[0],\n",
    "        'SUBJ_P': p_prec[0],\n",
    "        'SUBJ_R': p_rec[0],\n",
    "        'accuracy': acc,\n",
    "        #'roc_auc': roc_auc\n",
    "    }"
   ]
  },
  {
   "cell_type": "code",
   "execution_count": 13,
   "metadata": {
    "execution": {
     "iopub.execute_input": "2025-02-27T17:28:37.070076Z",
     "iopub.status.busy": "2025-02-27T17:28:37.069875Z",
     "iopub.status.idle": "2025-02-27T17:28:37.090774Z",
     "shell.execute_reply": "2025-02-27T17:28:37.089936Z",
     "shell.execute_reply.started": "2025-02-27T17:28:37.070058Z"
    },
    "trusted": true
   },
   "outputs": [
    {
     "data": {
      "text/plain": [
       "{'macro_F1': 0.6408223299348154,\n",
       " 'macro_P': 0.6906694403710398,\n",
       " 'macro_R': 0.6265963227968481,\n",
       " 'SUBJ_F1': np.float64(0.42487046632124353),\n",
       " 'SUBJ_P': np.float64(0.5774647887323944),\n",
       " 'SUBJ_R': np.float64(0.3360655737704918),\n",
       " 'accuracy': 0.7706611570247934}"
      ]
     },
     "execution_count": 13,
     "metadata": {},
     "output_type": "execute_result"
    }
   ],
   "source": [
    "evaluate_model(gold_values=test_data.label.values, predicted_values=predictions)"
   ]
  },
  {
   "cell_type": "markdown",
   "metadata": {},
   "source": [
    "# Twitter RoBERTa-base 2022 154M"
   ]
  },
  {
   "cell_type": "code",
   "execution_count": 14,
   "metadata": {
    "execution": {
     "iopub.execute_input": "2025-02-27T17:28:40.702014Z",
     "iopub.status.busy": "2025-02-27T17:28:40.701729Z",
     "iopub.status.idle": "2025-02-27T17:28:45.722382Z",
     "shell.execute_reply": "2025-02-27T17:28:45.721312Z",
     "shell.execute_reply.started": "2025-02-27T17:28:40.701992Z"
    },
    "trusted": true
   },
   "outputs": [
    {
     "name": "stderr",
     "output_type": "stream",
     "text": [
      "Some weights of RobertaForSequenceClassification were not initialized from the model checkpoint at cardiffnlp/twitter-roberta-base-2022-154m and are newly initialized: ['classifier.dense.bias', 'classifier.dense.weight', 'classifier.out_proj.bias', 'classifier.out_proj.weight']\n",
      "You should probably TRAIN this model on a down-stream task to be able to use it for predictions and inference.\n"
     ]
    }
   ],
   "source": [
    "model_card = \"cardiffnlp/twitter-roberta-base-2022-154m\"\n",
    "tokenizer = AutoTokenizer.from_pretrained(model_card, use_Fast=False)\n",
    "model = AutoModelForSequenceClassification.from_pretrained(model_card, num_labels=2, id2label={0: 'OBJ', 1: 'SUBJ'}, label2id={'OBJ': 0, 'SUBJ': 1})"
   ]
  },
  {
   "cell_type": "code",
   "execution_count": 15,
   "metadata": {
    "execution": {
     "iopub.execute_input": "2025-02-27T17:28:45.724463Z",
     "iopub.status.busy": "2025-02-27T17:28:45.724178Z",
     "iopub.status.idle": "2025-02-27T17:28:45.729206Z",
     "shell.execute_reply": "2025-02-27T17:28:45.728414Z",
     "shell.execute_reply.started": "2025-02-27T17:28:45.724426Z"
    },
    "trusted": true
   },
   "outputs": [],
   "source": [
    "def preprocess_text(texts):\n",
    "    return tokenizer(texts['sentence'])"
   ]
  },
  {
   "cell_type": "code",
   "execution_count": 16,
   "metadata": {
    "execution": {
     "iopub.execute_input": "2025-02-27T17:28:45.730872Z",
     "iopub.status.busy": "2025-02-27T17:28:45.730674Z",
     "iopub.status.idle": "2025-02-27T17:28:45.771197Z",
     "shell.execute_reply": "2025-02-27T17:28:45.770387Z",
     "shell.execute_reply.started": "2025-02-27T17:28:45.730856Z"
    },
    "trusted": true
   },
   "outputs": [],
   "source": [
    "train_dl = Dataset.from_pandas(train_data)\n",
    "test_dl = Dataset.from_pandas(test_data)"
   ]
  },
  {
   "cell_type": "code",
   "execution_count": 17,
   "metadata": {
    "execution": {
     "iopub.execute_input": "2025-02-27T17:28:45.772994Z",
     "iopub.status.busy": "2025-02-27T17:28:45.772570Z",
     "iopub.status.idle": "2025-02-27T17:28:45.990925Z",
     "shell.execute_reply": "2025-02-27T17:28:45.989924Z",
     "shell.execute_reply.started": "2025-02-27T17:28:45.772972Z"
    },
    "trusted": true
   },
   "outputs": [
    {
     "data": {
      "application/vnd.jupyter.widget-view+json": {
       "model_id": "b87e516fd38d4893b3c3a27dc3f1139a",
       "version_major": 2,
       "version_minor": 0
      },
      "text/plain": [
       "Map:   0%|          | 0/830 [00:00<?, ? examples/s]"
      ]
     },
     "metadata": {},
     "output_type": "display_data"
    },
    {
     "data": {
      "application/vnd.jupyter.widget-view+json": {
       "model_id": "8253b1f37b38468a9196ee6dfd69bf45",
       "version_major": 2,
       "version_minor": 0
      },
      "text/plain": [
       "Map:   0%|          | 0/484 [00:00<?, ? examples/s]"
      ]
     },
     "metadata": {},
     "output_type": "display_data"
    }
   ],
   "source": [
    "train_dl = train_dl.map(preprocess_text, batched=True)\n",
    "test_dl = test_dl.map(preprocess_text, batched=True)"
   ]
  },
  {
   "cell_type": "code",
   "execution_count": 18,
   "metadata": {
    "execution": {
     "iopub.execute_input": "2025-02-27T17:28:45.992211Z",
     "iopub.status.busy": "2025-02-27T17:28:45.991887Z",
     "iopub.status.idle": "2025-02-27T17:28:45.995979Z",
     "shell.execute_reply": "2025-02-27T17:28:45.995151Z",
     "shell.execute_reply.started": "2025-02-27T17:28:45.992179Z"
    },
    "trusted": true
   },
   "outputs": [],
   "source": [
    "data_collator = DataCollatorWithPadding(tokenizer=tokenizer)"
   ]
  },
  {
   "cell_type": "code",
   "execution_count": 19,
   "metadata": {
    "execution": {
     "iopub.execute_input": "2025-02-27T17:28:45.996951Z",
     "iopub.status.busy": "2025-02-27T17:28:45.996723Z",
     "iopub.status.idle": "2025-02-27T17:28:46.037988Z",
     "shell.execute_reply": "2025-02-27T17:28:46.037392Z",
     "shell.execute_reply.started": "2025-02-27T17:28:45.996923Z"
    },
    "trusted": true
   },
   "outputs": [],
   "source": [
    "training_args = TrainingArguments(\n",
    "    output_dir=f'model',                 \n",
    "    learning_rate=5e-6,\n",
    "    per_device_train_batch_size=16,         \n",
    "    per_device_eval_batch_size=16,\n",
    "    num_train_epochs=10,\n",
    "    weight_decay=1e-4,\n",
    "    eval_strategy=\"epoch\",       \n",
    "    save_strategy=\"no\",           \n",
    "    #save_safetensors=True,\n",
    "    #load_best_model_at_end=True,\n",
    "    report_to='none',\n",
    "    seed=SEED,\n",
    "    data_seed=SEED\n",
    ")"
   ]
  },
  {
   "cell_type": "code",
   "execution_count": 20,
   "metadata": {
    "execution": {
     "iopub.execute_input": "2025-02-27T17:28:46.039357Z",
     "iopub.status.busy": "2025-02-27T17:28:46.039081Z",
     "iopub.status.idle": "2025-02-27T17:28:46.044937Z",
     "shell.execute_reply": "2025-02-27T17:28:46.044228Z",
     "shell.execute_reply.started": "2025-02-27T17:28:46.039337Z"
    },
    "trusted": true
   },
   "outputs": [],
   "source": [
    "# Taken from https://github.com/huggingface/transformers/blob/main/src/transformers/trainer.py#L3700 (with some minor changes removing useless parts)\n",
    "class CustomTrainer(Trainer):\n",
    "    def __init__(self, class_weights, device, *args, **kwargs):\n",
    "        super().__init__(*args, **kwargs)\n",
    "        # You pass the class weights when instantiating the Trainer\n",
    "        self.class_weights = class_weights\n",
    "        self.device = device\n",
    "\n",
    "    def compute_loss(self, model, inputs, return_outputs=False, num_items_in_batch=None):\n",
    "        if self.label_smoother is not None and \"labels\" in inputs:\n",
    "            labels = inputs.pop(\"labels\")\n",
    "        else:\n",
    "            labels = None\n",
    "        outputs = model(**inputs)\n",
    "        if self.args.past_index >= 0:\n",
    "            self._past = outputs[self.args.past_index]\n",
    "\n",
    "        if labels is not None:\n",
    "            loss = self.label_smoother(outputs, labels)\n",
    "        else:\n",
    "            # We extract the logits from the model outputs\n",
    "            logits = outputs.get('logits')\n",
    "            # We compute the loss manually passing the class weights to the loss function\n",
    "            criterion = torch.nn.CrossEntropyLoss(weight=self.class_weights.to(self.device)) # Modified to use the class weights\n",
    "            # We compute the loss using the modified criterion\n",
    "            loss = criterion(logits, inputs['labels'])\n",
    "\n",
    "        return (loss, outputs) if return_outputs else loss"
   ]
  },
  {
   "cell_type": "code",
   "execution_count": 21,
   "metadata": {
    "execution": {
     "iopub.execute_input": "2025-02-27T17:28:46.046561Z",
     "iopub.status.busy": "2025-02-27T17:28:46.046312Z",
     "iopub.status.idle": "2025-02-27T17:28:46.075793Z",
     "shell.execute_reply": "2025-02-27T17:28:46.075109Z",
     "shell.execute_reply.started": "2025-02-27T17:28:46.046542Z"
    },
    "trusted": true
   },
   "outputs": [
    {
     "data": {
      "text/plain": [
       "tensor([0.7801, 1.3926])"
      ]
     },
     "execution_count": 21,
     "metadata": {},
     "output_type": "execute_result"
    }
   ],
   "source": [
    "class_weights = compute_class_weight(class_weight=\"balanced\", classes=np.unique(train_data['label']), y=train_data['label'])\n",
    "class_weights = torch.tensor(class_weights, dtype=torch.float32)\n",
    "class_weights"
   ]
  },
  {
   "cell_type": "code",
   "execution_count": null,
   "metadata": {
    "execution": {
     "iopub.execute_input": "2025-02-27T17:58:06.831437Z",
     "iopub.status.busy": "2025-02-27T17:58:06.831095Z",
     "iopub.status.idle": "2025-02-27T17:58:06.836143Z",
     "shell.execute_reply": "2025-02-27T17:58:06.835247Z",
     "shell.execute_reply.started": "2025-02-27T17:58:06.831409Z"
    },
    "trusted": true
   },
   "outputs": [],
   "source": [
    "def compute_metrics(output_info):\n",
    "    \"\"\"\n",
    "    Compute various evaluation metrics for model predictions.\n",
    "    \n",
    "    Args:\n",
    "        output_info (tuple): A tuple containing the model predictions and the true labels.\n",
    "            - predictions (np.ndarray): The predicted labels from the model.\n",
    "            - labels (np.ndarray): The true labels.\n",
    "    \n",
    "    Returns:\n",
    "        dict: A dictionary containing the computed metrics:\n",
    "            - 'f1': The F1 score (macro average).\n",
    "            - 'accuracy': The accuracy score.\n",
    "            - 'precision': The precision score (macro average).\n",
    "            - 'recall': The recall score (macro average).\n",
    "    \"\"\"\n",
    "    print(output_info)\n",
    "    predictions, labels = output_info\n",
    "    predictions = np.array(predictions)\n",
    "    labels = np.array(labels)\n",
    "    predictions = np.argmax(predictions, axis=-1)\n",
    "    \n",
    "    f1 = f1_score(labels, predictions, average=\"macro\", zero_division=0)\n",
    "    acc = accuracy_score(labels, predictions)\n",
    "    \n",
    "    return {\"f1-score\" : f1, \"Accuracy\" : acc}"
   ]
  },
  {
   "cell_type": "code",
   "execution_count": 24,
   "metadata": {
    "execution": {
     "iopub.execute_input": "2025-02-27T17:28:46.928159Z",
     "iopub.status.busy": "2025-02-27T17:28:46.927862Z",
     "iopub.status.idle": "2025-02-27T17:28:47.121813Z",
     "shell.execute_reply": "2025-02-27T17:28:47.121104Z",
     "shell.execute_reply.started": "2025-02-27T17:28:46.928137Z"
    },
    "trusted": true
   },
   "outputs": [],
   "source": [
    "trainer = CustomTrainer(\n",
    "    model=model,\n",
    "    args=training_args,\n",
    "    train_dataset=train_dl,\n",
    "    eval_dataset=test_dl,\n",
    "    data_collator=data_collator,\n",
    "    compute_metrics=compute_metrics,\n",
    "    class_weights=class_weights,\n",
    "    device=device,\n",
    ")"
   ]
  },
  {
   "cell_type": "code",
   "execution_count": 25,
   "metadata": {
    "execution": {
     "iopub.execute_input": "2025-02-27T17:28:47.184448Z",
     "iopub.status.busy": "2025-02-27T17:28:47.184021Z",
     "iopub.status.idle": "2025-02-27T17:30:07.832474Z",
     "shell.execute_reply": "2025-02-27T17:30:07.831760Z",
     "shell.execute_reply.started": "2025-02-27T17:28:47.184416Z"
    },
    "trusted": true
   },
   "outputs": [
    {
     "data": {
      "text/html": [
       "\n",
       "    <div>\n",
       "      \n",
       "      <progress value='520' max='520' style='width:300px; height:20px; vertical-align: middle;'></progress>\n",
       "      [520/520 01:15, Epoch 10/10]\n",
       "    </div>\n",
       "    <table border=\"1\" class=\"dataframe\">\n",
       "  <thead>\n",
       " <tr style=\"text-align: left;\">\n",
       "      <th>Epoch</th>\n",
       "      <th>Training Loss</th>\n",
       "      <th>Validation Loss</th>\n",
       "      <th>F1-score</th>\n",
       "      <th>Accuracy</th>\n",
       "    </tr>\n",
       "  </thead>\n",
       "  <tbody>\n",
       "    <tr>\n",
       "      <td>1</td>\n",
       "      <td>No log</td>\n",
       "      <td>0.672813</td>\n",
       "      <td>0.427896</td>\n",
       "      <td>0.747934</td>\n",
       "    </tr>\n",
       "    <tr>\n",
       "      <td>2</td>\n",
       "      <td>No log</td>\n",
       "      <td>0.610597</td>\n",
       "      <td>0.568870</td>\n",
       "      <td>0.764463</td>\n",
       "    </tr>\n",
       "    <tr>\n",
       "      <td>3</td>\n",
       "      <td>No log</td>\n",
       "      <td>0.588170</td>\n",
       "      <td>0.640164</td>\n",
       "      <td>0.783058</td>\n",
       "    </tr>\n",
       "    <tr>\n",
       "      <td>4</td>\n",
       "      <td>No log</td>\n",
       "      <td>0.544097</td>\n",
       "      <td>0.693212</td>\n",
       "      <td>0.799587</td>\n",
       "    </tr>\n",
       "    <tr>\n",
       "      <td>5</td>\n",
       "      <td>No log</td>\n",
       "      <td>0.656458</td>\n",
       "      <td>0.660726</td>\n",
       "      <td>0.795455</td>\n",
       "    </tr>\n",
       "    <tr>\n",
       "      <td>6</td>\n",
       "      <td>No log</td>\n",
       "      <td>0.647451</td>\n",
       "      <td>0.686666</td>\n",
       "      <td>0.807851</td>\n",
       "    </tr>\n",
       "    <tr>\n",
       "      <td>7</td>\n",
       "      <td>No log</td>\n",
       "      <td>0.655587</td>\n",
       "      <td>0.698769</td>\n",
       "      <td>0.809917</td>\n",
       "    </tr>\n",
       "    <tr>\n",
       "      <td>8</td>\n",
       "      <td>No log</td>\n",
       "      <td>0.722645</td>\n",
       "      <td>0.690804</td>\n",
       "      <td>0.811983</td>\n",
       "    </tr>\n",
       "    <tr>\n",
       "      <td>9</td>\n",
       "      <td>No log</td>\n",
       "      <td>0.788891</td>\n",
       "      <td>0.661697</td>\n",
       "      <td>0.799587</td>\n",
       "    </tr>\n",
       "    <tr>\n",
       "      <td>10</td>\n",
       "      <td>0.364500</td>\n",
       "      <td>0.772912</td>\n",
       "      <td>0.681288</td>\n",
       "      <td>0.807851</td>\n",
       "    </tr>\n",
       "  </tbody>\n",
       "</table><p>"
      ],
      "text/plain": [
       "<IPython.core.display.HTML object>"
      ]
     },
     "metadata": {},
     "output_type": "display_data"
    },
    {
     "data": {
      "text/plain": [
       "TrainOutput(global_step=520, training_loss=0.3574243848140423, metrics={'train_runtime': 75.7716, 'train_samples_per_second': 109.54, 'train_steps_per_second': 6.863, 'total_flos': 295059520812600.0, 'train_loss': 0.3574243848140423, 'epoch': 10.0})"
      ]
     },
     "execution_count": 25,
     "metadata": {},
     "output_type": "execute_result"
    }
   ],
   "source": [
    "trainer.train()"
   ]
  },
  {
   "cell_type": "markdown",
   "metadata": {},
   "source": [
    "# Emotions"
   ]
  },
  {
   "cell_type": "code",
   "execution_count": 29,
   "metadata": {
    "execution": {
     "iopub.execute_input": "2025-02-27T17:30:20.595235Z",
     "iopub.status.busy": "2025-02-27T17:30:20.594953Z",
     "iopub.status.idle": "2025-02-27T17:30:26.401760Z",
     "shell.execute_reply": "2025-02-27T17:30:26.401073Z",
     "shell.execute_reply.started": "2025-02-27T17:30:20.595214Z"
    },
    "trusted": true
   },
   "outputs": [
    {
     "name": "stderr",
     "output_type": "stream",
     "text": [
      "2025-02-27 20:28:44.102974: E external/local_xla/xla/stream_executor/cuda/cuda_driver.cc:152] failed call to cuInit: INTERNAL: CUDA error: Failed call to cuInit: UNKNOWN ERROR (303)\n",
      "All TF 2.0 model weights were used when initializing RobertaForSequenceClassification.\n",
      "\n",
      "All the weights of RobertaForSequenceClassification were initialized from the TF 2.0 model.\n",
      "If your task is similar to the task the model of the checkpoint was trained on, you can already use RobertaForSequenceClassification for predictions without further training.\n"
     ]
    }
   ],
   "source": [
    "model_card = \"arpanghoshal/EmoRoBERTa\"\n",
    "tokenizer = RobertaTokenizerFast.from_pretrained(model_card)\n",
    "model = RobertaForSequenceClassification.from_pretrained(model_card, from_tf=True)"
   ]
  },
  {
   "cell_type": "code",
   "execution_count": 30,
   "metadata": {
    "execution": {
     "iopub.execute_input": "2025-02-27T17:30:26.403107Z",
     "iopub.status.busy": "2025-02-27T17:30:26.402837Z",
     "iopub.status.idle": "2025-02-27T17:30:28.466434Z",
     "shell.execute_reply": "2025-02-27T17:30:28.465722Z",
     "shell.execute_reply.started": "2025-02-27T17:30:26.403086Z"
    },
    "trusted": true
   },
   "outputs": [
    {
     "name": "stderr",
     "output_type": "stream",
     "text": [
      "All model checkpoint layers were used when initializing TFRobertaForSequenceClassification.\n",
      "\n",
      "All the layers of TFRobertaForSequenceClassification were initialized from the model checkpoint at arpanghoshal/EmoRoBERTa.\n",
      "If your task is similar to the task the model of the checkpoint was trained on, you can already use TFRobertaForSequenceClassification for predictions without further training.\n",
      "Device set to use 0\n",
      "/home/sbrodox/Desktop/githubrepos/clef2025-checkthat/env/lib/python3.10/site-packages/transformers/pipelines/text_classification.py:106: UserWarning: `return_all_scores` is now deprecated,  if want a similar functionality use `top_k=None` instead of `return_all_scores=True` or `top_k=1` instead of `return_all_scores=False`.\n",
      "  warnings.warn(\n"
     ]
    }
   ],
   "source": [
    "emotion = pipeline('sentiment-analysis', model='arpanghoshal/EmoRoBERTa', return_all_scores= True)"
   ]
  },
  {
   "cell_type": "code",
   "execution_count": 31,
   "metadata": {
    "execution": {
     "iopub.execute_input": "2025-02-27T17:30:28.467826Z",
     "iopub.status.busy": "2025-02-27T17:30:28.467535Z",
     "iopub.status.idle": "2025-02-27T17:30:29.862794Z",
     "shell.execute_reply": "2025-02-27T17:30:29.861919Z",
     "shell.execute_reply.started": "2025-02-27T17:30:28.467804Z"
    },
    "trusted": true
   },
   "outputs": [
    {
     "name": "stdout",
     "output_type": "stream",
     "text": [
      "Gone are the days when they led the world in recession-busting 1\n"
     ]
    },
    {
     "data": {
      "text/html": [
       "<div>\n",
       "<style scoped>\n",
       "    .dataframe tbody tr th:only-of-type {\n",
       "        vertical-align: middle;\n",
       "    }\n",
       "\n",
       "    .dataframe tbody tr th {\n",
       "        vertical-align: top;\n",
       "    }\n",
       "\n",
       "    .dataframe thead th {\n",
       "        text-align: right;\n",
       "    }\n",
       "</style>\n",
       "<table border=\"1\" class=\"dataframe\">\n",
       "  <thead>\n",
       "    <tr style=\"text-align: right;\">\n",
       "      <th></th>\n",
       "      <th>label</th>\n",
       "      <th>score</th>\n",
       "    </tr>\n",
       "  </thead>\n",
       "  <tbody>\n",
       "    <tr>\n",
       "      <th>22</th>\n",
       "      <td>realization</td>\n",
       "      <td>0.370919</td>\n",
       "    </tr>\n",
       "    <tr>\n",
       "      <th>27</th>\n",
       "      <td>neutral</td>\n",
       "      <td>0.308371</td>\n",
       "    </tr>\n",
       "    <tr>\n",
       "      <th>9</th>\n",
       "      <td>disappointment</td>\n",
       "      <td>0.295116</td>\n",
       "    </tr>\n",
       "    <tr>\n",
       "      <th>3</th>\n",
       "      <td>annoyance</td>\n",
       "      <td>0.006366</td>\n",
       "    </tr>\n",
       "    <tr>\n",
       "      <th>4</th>\n",
       "      <td>approval</td>\n",
       "      <td>0.003771</td>\n",
       "    </tr>\n",
       "    <tr>\n",
       "      <th>20</th>\n",
       "      <td>optimism</td>\n",
       "      <td>0.002501</td>\n",
       "    </tr>\n",
       "    <tr>\n",
       "      <th>25</th>\n",
       "      <td>sadness</td>\n",
       "      <td>0.002472</td>\n",
       "    </tr>\n",
       "    <tr>\n",
       "      <th>10</th>\n",
       "      <td>disapproval</td>\n",
       "      <td>0.001753</td>\n",
       "    </tr>\n",
       "    <tr>\n",
       "      <th>0</th>\n",
       "      <td>admiration</td>\n",
       "      <td>0.001569</td>\n",
       "    </tr>\n",
       "    <tr>\n",
       "      <th>11</th>\n",
       "      <td>disgust</td>\n",
       "      <td>0.001283</td>\n",
       "    </tr>\n",
       "    <tr>\n",
       "      <th>6</th>\n",
       "      <td>confusion</td>\n",
       "      <td>0.001009</td>\n",
       "    </tr>\n",
       "    <tr>\n",
       "      <th>8</th>\n",
       "      <td>desire</td>\n",
       "      <td>0.000840</td>\n",
       "    </tr>\n",
       "    <tr>\n",
       "      <th>26</th>\n",
       "      <td>surprise</td>\n",
       "      <td>0.000803</td>\n",
       "    </tr>\n",
       "    <tr>\n",
       "      <th>12</th>\n",
       "      <td>embarrassment</td>\n",
       "      <td>0.000647</td>\n",
       "    </tr>\n",
       "    <tr>\n",
       "      <th>24</th>\n",
       "      <td>remorse</td>\n",
       "      <td>0.000479</td>\n",
       "    </tr>\n",
       "    <tr>\n",
       "      <th>7</th>\n",
       "      <td>curiosity</td>\n",
       "      <td>0.000406</td>\n",
       "    </tr>\n",
       "    <tr>\n",
       "      <th>17</th>\n",
       "      <td>joy</td>\n",
       "      <td>0.000406</td>\n",
       "    </tr>\n",
       "    <tr>\n",
       "      <th>18</th>\n",
       "      <td>love</td>\n",
       "      <td>0.000332</td>\n",
       "    </tr>\n",
       "    <tr>\n",
       "      <th>2</th>\n",
       "      <td>anger</td>\n",
       "      <td>0.000157</td>\n",
       "    </tr>\n",
       "    <tr>\n",
       "      <th>21</th>\n",
       "      <td>pride</td>\n",
       "      <td>0.000134</td>\n",
       "    </tr>\n",
       "    <tr>\n",
       "      <th>15</th>\n",
       "      <td>gratitude</td>\n",
       "      <td>0.000129</td>\n",
       "    </tr>\n",
       "    <tr>\n",
       "      <th>23</th>\n",
       "      <td>relief</td>\n",
       "      <td>0.000118</td>\n",
       "    </tr>\n",
       "    <tr>\n",
       "      <th>13</th>\n",
       "      <td>excitement</td>\n",
       "      <td>0.000099</td>\n",
       "    </tr>\n",
       "    <tr>\n",
       "      <th>1</th>\n",
       "      <td>amusement</td>\n",
       "      <td>0.000095</td>\n",
       "    </tr>\n",
       "    <tr>\n",
       "      <th>19</th>\n",
       "      <td>nervousness</td>\n",
       "      <td>0.000081</td>\n",
       "    </tr>\n",
       "    <tr>\n",
       "      <th>5</th>\n",
       "      <td>caring</td>\n",
       "      <td>0.000059</td>\n",
       "    </tr>\n",
       "    <tr>\n",
       "      <th>14</th>\n",
       "      <td>fear</td>\n",
       "      <td>0.000045</td>\n",
       "    </tr>\n",
       "    <tr>\n",
       "      <th>16</th>\n",
       "      <td>grief</td>\n",
       "      <td>0.000040</td>\n",
       "    </tr>\n",
       "  </tbody>\n",
       "</table>\n",
       "</div>"
      ],
      "text/plain": [
       "             label     score\n",
       "22     realization  0.370919\n",
       "27         neutral  0.308371\n",
       "9   disappointment  0.295116\n",
       "3        annoyance  0.006366\n",
       "4         approval  0.003771\n",
       "20        optimism  0.002501\n",
       "25         sadness  0.002472\n",
       "10     disapproval  0.001753\n",
       "0       admiration  0.001569\n",
       "11         disgust  0.001283\n",
       "6        confusion  0.001009\n",
       "8           desire  0.000840\n",
       "26        surprise  0.000803\n",
       "12   embarrassment  0.000647\n",
       "24         remorse  0.000479\n",
       "7        curiosity  0.000406\n",
       "17             joy  0.000406\n",
       "18            love  0.000332\n",
       "2            anger  0.000157\n",
       "21           pride  0.000134\n",
       "15       gratitude  0.000129\n",
       "23          relief  0.000118\n",
       "13      excitement  0.000099\n",
       "1        amusement  0.000095\n",
       "19     nervousness  0.000081\n",
       "5           caring  0.000059\n",
       "14            fear  0.000045\n",
       "16           grief  0.000040"
      ]
     },
     "execution_count": 31,
     "metadata": {},
     "output_type": "execute_result"
    }
   ],
   "source": [
    "# Example\n",
    "print(train_data.iloc[0]['sentence'], train_data.iloc[0]['label'])\n",
    "emotion_labels = emotion(train_data.iloc[0]['sentence'])\n",
    "pd.DataFrame(emotion_labels[0]).sort_values(by='score', ascending=False)"
   ]
  },
  {
   "cell_type": "code",
   "execution_count": 32,
   "metadata": {
    "trusted": true
   },
   "outputs": [
    {
     "name": "stderr",
     "output_type": "stream",
     "text": [
      "100%|██████████| 830/830 [01:10<00:00, 11.80it/s]\n"
     ]
    }
   ],
   "source": [
    "emotion_array = np.zeros((train_data.shape[0], 28))\n",
    "\n",
    "for i, sentence in enumerate(tqdm(train_data['sentence'])):\n",
    "    result = emotion(sentence)[0]\n",
    "    emotion_array[i] = np.array([list(d.values())[1] for d in result])"
   ]
  },
  {
   "cell_type": "code",
   "execution_count": 33,
   "metadata": {
    "execution": {
     "iopub.execute_input": "2025-02-27T16:51:48.529875Z",
     "iopub.status.busy": "2025-02-27T16:51:48.529421Z",
     "iopub.status.idle": "2025-02-27T16:51:48.550684Z",
     "shell.execute_reply": "2025-02-27T16:51:48.549587Z",
     "shell.execute_reply.started": "2025-02-27T16:51:48.529834Z"
    },
    "trusted": true
   },
   "outputs": [
    {
     "data": {
      "text/html": [
       "<div>\n",
       "<style scoped>\n",
       "    .dataframe tbody tr th:only-of-type {\n",
       "        vertical-align: middle;\n",
       "    }\n",
       "\n",
       "    .dataframe tbody tr th {\n",
       "        vertical-align: top;\n",
       "    }\n",
       "\n",
       "    .dataframe thead th {\n",
       "        text-align: right;\n",
       "    }\n",
       "</style>\n",
       "<table border=\"1\" class=\"dataframe\">\n",
       "  <thead>\n",
       "    <tr style=\"text-align: right;\">\n",
       "      <th></th>\n",
       "      <th>admiration</th>\n",
       "      <th>amusement</th>\n",
       "      <th>anger</th>\n",
       "      <th>annoyance</th>\n",
       "      <th>approval</th>\n",
       "      <th>caring</th>\n",
       "      <th>confusion</th>\n",
       "      <th>curiosity</th>\n",
       "      <th>desire</th>\n",
       "      <th>disappointment</th>\n",
       "      <th>...</th>\n",
       "      <th>love</th>\n",
       "      <th>nervousness</th>\n",
       "      <th>optimism</th>\n",
       "      <th>pride</th>\n",
       "      <th>realization</th>\n",
       "      <th>relief</th>\n",
       "      <th>remorse</th>\n",
       "      <th>sadness</th>\n",
       "      <th>surprise</th>\n",
       "      <th>neutral</th>\n",
       "    </tr>\n",
       "  </thead>\n",
       "  <tbody>\n",
       "    <tr>\n",
       "      <th>0</th>\n",
       "      <td>0.001569</td>\n",
       "      <td>0.000095</td>\n",
       "      <td>0.000157</td>\n",
       "      <td>0.006366</td>\n",
       "      <td>0.003771</td>\n",
       "      <td>0.000059</td>\n",
       "      <td>0.001009</td>\n",
       "      <td>0.000406</td>\n",
       "      <td>0.000840</td>\n",
       "      <td>0.295116</td>\n",
       "      <td>...</td>\n",
       "      <td>0.000332</td>\n",
       "      <td>0.000081</td>\n",
       "      <td>0.002501</td>\n",
       "      <td>0.000134</td>\n",
       "      <td>0.370919</td>\n",
       "      <td>0.000118</td>\n",
       "      <td>0.000479</td>\n",
       "      <td>0.002472</td>\n",
       "      <td>0.000803</td>\n",
       "      <td>0.308371</td>\n",
       "    </tr>\n",
       "    <tr>\n",
       "      <th>1</th>\n",
       "      <td>0.000021</td>\n",
       "      <td>0.000125</td>\n",
       "      <td>0.000232</td>\n",
       "      <td>0.000431</td>\n",
       "      <td>0.000237</td>\n",
       "      <td>0.001657</td>\n",
       "      <td>0.000134</td>\n",
       "      <td>0.000066</td>\n",
       "      <td>0.000486</td>\n",
       "      <td>0.000117</td>\n",
       "      <td>...</td>\n",
       "      <td>0.000008</td>\n",
       "      <td>0.000179</td>\n",
       "      <td>0.990538</td>\n",
       "      <td>0.000081</td>\n",
       "      <td>0.000629</td>\n",
       "      <td>0.000210</td>\n",
       "      <td>0.000638</td>\n",
       "      <td>0.000158</td>\n",
       "      <td>0.000158</td>\n",
       "      <td>0.000849</td>\n",
       "    </tr>\n",
       "    <tr>\n",
       "      <th>2</th>\n",
       "      <td>0.000049</td>\n",
       "      <td>0.001679</td>\n",
       "      <td>0.003128</td>\n",
       "      <td>0.946737</td>\n",
       "      <td>0.001021</td>\n",
       "      <td>0.000024</td>\n",
       "      <td>0.002792</td>\n",
       "      <td>0.000393</td>\n",
       "      <td>0.000149</td>\n",
       "      <td>0.000748</td>\n",
       "      <td>...</td>\n",
       "      <td>0.000012</td>\n",
       "      <td>0.000314</td>\n",
       "      <td>0.000164</td>\n",
       "      <td>0.000124</td>\n",
       "      <td>0.001899</td>\n",
       "      <td>0.000035</td>\n",
       "      <td>0.000024</td>\n",
       "      <td>0.000103</td>\n",
       "      <td>0.000060</td>\n",
       "      <td>0.026365</td>\n",
       "    </tr>\n",
       "    <tr>\n",
       "      <th>3</th>\n",
       "      <td>0.000052</td>\n",
       "      <td>0.000260</td>\n",
       "      <td>0.000044</td>\n",
       "      <td>0.000441</td>\n",
       "      <td>0.001115</td>\n",
       "      <td>0.000070</td>\n",
       "      <td>0.000278</td>\n",
       "      <td>0.000303</td>\n",
       "      <td>0.000099</td>\n",
       "      <td>0.005117</td>\n",
       "      <td>...</td>\n",
       "      <td>0.000054</td>\n",
       "      <td>0.000472</td>\n",
       "      <td>0.001911</td>\n",
       "      <td>0.000040</td>\n",
       "      <td>0.045726</td>\n",
       "      <td>0.000123</td>\n",
       "      <td>0.000073</td>\n",
       "      <td>0.000460</td>\n",
       "      <td>0.861293</td>\n",
       "      <td>0.077763</td>\n",
       "    </tr>\n",
       "    <tr>\n",
       "      <th>4</th>\n",
       "      <td>0.000269</td>\n",
       "      <td>0.000101</td>\n",
       "      <td>0.000034</td>\n",
       "      <td>0.000148</td>\n",
       "      <td>0.000979</td>\n",
       "      <td>0.000038</td>\n",
       "      <td>0.000029</td>\n",
       "      <td>0.000036</td>\n",
       "      <td>0.000171</td>\n",
       "      <td>0.000067</td>\n",
       "      <td>...</td>\n",
       "      <td>0.000012</td>\n",
       "      <td>0.000016</td>\n",
       "      <td>0.000761</td>\n",
       "      <td>0.000014</td>\n",
       "      <td>0.000136</td>\n",
       "      <td>0.000014</td>\n",
       "      <td>0.000022</td>\n",
       "      <td>0.000019</td>\n",
       "      <td>0.000061</td>\n",
       "      <td>0.996816</td>\n",
       "    </tr>\n",
       "  </tbody>\n",
       "</table>\n",
       "<p>5 rows × 28 columns</p>\n",
       "</div>"
      ],
      "text/plain": [
       "   admiration  amusement     anger  annoyance  approval    caring  confusion  \\\n",
       "0    0.001569   0.000095  0.000157   0.006366  0.003771  0.000059   0.001009   \n",
       "1    0.000021   0.000125  0.000232   0.000431  0.000237  0.001657   0.000134   \n",
       "2    0.000049   0.001679  0.003128   0.946737  0.001021  0.000024   0.002792   \n",
       "3    0.000052   0.000260  0.000044   0.000441  0.001115  0.000070   0.000278   \n",
       "4    0.000269   0.000101  0.000034   0.000148  0.000979  0.000038   0.000029   \n",
       "\n",
       "   curiosity    desire  disappointment  ...      love  nervousness  optimism  \\\n",
       "0   0.000406  0.000840        0.295116  ...  0.000332     0.000081  0.002501   \n",
       "1   0.000066  0.000486        0.000117  ...  0.000008     0.000179  0.990538   \n",
       "2   0.000393  0.000149        0.000748  ...  0.000012     0.000314  0.000164   \n",
       "3   0.000303  0.000099        0.005117  ...  0.000054     0.000472  0.001911   \n",
       "4   0.000036  0.000171        0.000067  ...  0.000012     0.000016  0.000761   \n",
       "\n",
       "      pride  realization    relief   remorse   sadness  surprise   neutral  \n",
       "0  0.000134     0.370919  0.000118  0.000479  0.002472  0.000803  0.308371  \n",
       "1  0.000081     0.000629  0.000210  0.000638  0.000158  0.000158  0.000849  \n",
       "2  0.000124     0.001899  0.000035  0.000024  0.000103  0.000060  0.026365  \n",
       "3  0.000040     0.045726  0.000123  0.000073  0.000460  0.861293  0.077763  \n",
       "4  0.000014     0.000136  0.000014  0.000022  0.000019  0.000061  0.996816  \n",
       "\n",
       "[5 rows x 28 columns]"
      ]
     },
     "execution_count": 33,
     "metadata": {},
     "output_type": "execute_result"
    }
   ],
   "source": [
    "emotion_df_train = pd.DataFrame(emotion_array, columns=[list(d.values())[0] for d in result])\n",
    "emotion_df_train.head()"
   ]
  },
  {
   "cell_type": "code",
   "execution_count": 34,
   "metadata": {
    "execution": {
     "iopub.execute_input": "2025-02-27T16:52:16.388054Z",
     "iopub.status.busy": "2025-02-27T16:52:16.387607Z",
     "iopub.status.idle": "2025-02-27T16:52:16.412695Z",
     "shell.execute_reply": "2025-02-27T16:52:16.411259Z",
     "shell.execute_reply.started": "2025-02-27T16:52:16.388013Z"
    },
    "trusted": true
   },
   "outputs": [
    {
     "data": {
      "text/html": [
       "<div>\n",
       "<style scoped>\n",
       "    .dataframe tbody tr th:only-of-type {\n",
       "        vertical-align: middle;\n",
       "    }\n",
       "\n",
       "    .dataframe tbody tr th {\n",
       "        vertical-align: top;\n",
       "    }\n",
       "\n",
       "    .dataframe thead th {\n",
       "        text-align: right;\n",
       "    }\n",
       "</style>\n",
       "<table border=\"1\" class=\"dataframe\">\n",
       "  <thead>\n",
       "    <tr style=\"text-align: right;\">\n",
       "      <th></th>\n",
       "      <th>sentence_id</th>\n",
       "      <th>sentence</th>\n",
       "      <th>label</th>\n",
       "      <th>solved_conflict</th>\n",
       "      <th>admiration</th>\n",
       "      <th>amusement</th>\n",
       "      <th>anger</th>\n",
       "      <th>annoyance</th>\n",
       "      <th>approval</th>\n",
       "      <th>caring</th>\n",
       "      <th>...</th>\n",
       "      <th>love</th>\n",
       "      <th>nervousness</th>\n",
       "      <th>optimism</th>\n",
       "      <th>pride</th>\n",
       "      <th>realization</th>\n",
       "      <th>relief</th>\n",
       "      <th>remorse</th>\n",
       "      <th>sadness</th>\n",
       "      <th>surprise</th>\n",
       "      <th>neutral</th>\n",
       "    </tr>\n",
       "  </thead>\n",
       "  <tbody>\n",
       "    <tr>\n",
       "      <th>0</th>\n",
       "      <td>b9e1635a-72aa-467f-86d6-f56ef09f62c3</td>\n",
       "      <td>Gone are the days when they led the world in r...</td>\n",
       "      <td>1</td>\n",
       "      <td>True</td>\n",
       "      <td>0.001569</td>\n",
       "      <td>0.000095</td>\n",
       "      <td>0.000157</td>\n",
       "      <td>0.006366</td>\n",
       "      <td>0.003771</td>\n",
       "      <td>0.000059</td>\n",
       "      <td>...</td>\n",
       "      <td>0.000332</td>\n",
       "      <td>0.000081</td>\n",
       "      <td>0.002501</td>\n",
       "      <td>0.000134</td>\n",
       "      <td>0.370919</td>\n",
       "      <td>0.000118</td>\n",
       "      <td>0.000479</td>\n",
       "      <td>0.002472</td>\n",
       "      <td>0.000803</td>\n",
       "      <td>0.308371</td>\n",
       "    </tr>\n",
       "    <tr>\n",
       "      <th>1</th>\n",
       "      <td>f99b5143-70d2-494a-a2f5-c68f10d09d0a</td>\n",
       "      <td>The trend is expected to reverse as soon as ne...</td>\n",
       "      <td>0</td>\n",
       "      <td>False</td>\n",
       "      <td>0.000021</td>\n",
       "      <td>0.000125</td>\n",
       "      <td>0.000232</td>\n",
       "      <td>0.000431</td>\n",
       "      <td>0.000237</td>\n",
       "      <td>0.001657</td>\n",
       "      <td>...</td>\n",
       "      <td>0.000008</td>\n",
       "      <td>0.000179</td>\n",
       "      <td>0.990538</td>\n",
       "      <td>0.000081</td>\n",
       "      <td>0.000629</td>\n",
       "      <td>0.000210</td>\n",
       "      <td>0.000638</td>\n",
       "      <td>0.000158</td>\n",
       "      <td>0.000158</td>\n",
       "      <td>0.000849</td>\n",
       "    </tr>\n",
       "    <tr>\n",
       "      <th>2</th>\n",
       "      <td>4076639c-aa56-4202-ae0f-9d9217f8da68</td>\n",
       "      <td>But there is the specious point again.</td>\n",
       "      <td>0</td>\n",
       "      <td>False</td>\n",
       "      <td>0.000049</td>\n",
       "      <td>0.001679</td>\n",
       "      <td>0.003128</td>\n",
       "      <td>0.946737</td>\n",
       "      <td>0.001021</td>\n",
       "      <td>0.000024</td>\n",
       "      <td>...</td>\n",
       "      <td>0.000012</td>\n",
       "      <td>0.000314</td>\n",
       "      <td>0.000164</td>\n",
       "      <td>0.000124</td>\n",
       "      <td>0.001899</td>\n",
       "      <td>0.000035</td>\n",
       "      <td>0.000024</td>\n",
       "      <td>0.000103</td>\n",
       "      <td>0.000060</td>\n",
       "      <td>0.026365</td>\n",
       "    </tr>\n",
       "    <tr>\n",
       "      <th>3</th>\n",
       "      <td>b057c366-698e-419d-a284-9b16d835c64e</td>\n",
       "      <td>He added he wouldn’t be surprised to see a new...</td>\n",
       "      <td>0</td>\n",
       "      <td>False</td>\n",
       "      <td>0.000052</td>\n",
       "      <td>0.000260</td>\n",
       "      <td>0.000044</td>\n",
       "      <td>0.000441</td>\n",
       "      <td>0.001115</td>\n",
       "      <td>0.000070</td>\n",
       "      <td>...</td>\n",
       "      <td>0.000054</td>\n",
       "      <td>0.000472</td>\n",
       "      <td>0.001911</td>\n",
       "      <td>0.000040</td>\n",
       "      <td>0.045726</td>\n",
       "      <td>0.000123</td>\n",
       "      <td>0.000073</td>\n",
       "      <td>0.000460</td>\n",
       "      <td>0.861293</td>\n",
       "      <td>0.077763</td>\n",
       "    </tr>\n",
       "    <tr>\n",
       "      <th>4</th>\n",
       "      <td>a5a9645e-7850-41ba-90a2-5def725cd5b8</td>\n",
       "      <td>Not less government, you see; the same amount ...</td>\n",
       "      <td>1</td>\n",
       "      <td>False</td>\n",
       "      <td>0.000269</td>\n",
       "      <td>0.000101</td>\n",
       "      <td>0.000034</td>\n",
       "      <td>0.000148</td>\n",
       "      <td>0.000979</td>\n",
       "      <td>0.000038</td>\n",
       "      <td>...</td>\n",
       "      <td>0.000012</td>\n",
       "      <td>0.000016</td>\n",
       "      <td>0.000761</td>\n",
       "      <td>0.000014</td>\n",
       "      <td>0.000136</td>\n",
       "      <td>0.000014</td>\n",
       "      <td>0.000022</td>\n",
       "      <td>0.000019</td>\n",
       "      <td>0.000061</td>\n",
       "      <td>0.996816</td>\n",
       "    </tr>\n",
       "  </tbody>\n",
       "</table>\n",
       "<p>5 rows × 32 columns</p>\n",
       "</div>"
      ],
      "text/plain": [
       "                            sentence_id  \\\n",
       "0  b9e1635a-72aa-467f-86d6-f56ef09f62c3   \n",
       "1  f99b5143-70d2-494a-a2f5-c68f10d09d0a   \n",
       "2  4076639c-aa56-4202-ae0f-9d9217f8da68   \n",
       "3  b057c366-698e-419d-a284-9b16d835c64e   \n",
       "4  a5a9645e-7850-41ba-90a2-5def725cd5b8   \n",
       "\n",
       "                                            sentence  label  solved_conflict  \\\n",
       "0  Gone are the days when they led the world in r...      1             True   \n",
       "1  The trend is expected to reverse as soon as ne...      0            False   \n",
       "2             But there is the specious point again.      0            False   \n",
       "3  He added he wouldn’t be surprised to see a new...      0            False   \n",
       "4  Not less government, you see; the same amount ...      1            False   \n",
       "\n",
       "   admiration  amusement     anger  annoyance  approval    caring  ...  \\\n",
       "0    0.001569   0.000095  0.000157   0.006366  0.003771  0.000059  ...   \n",
       "1    0.000021   0.000125  0.000232   0.000431  0.000237  0.001657  ...   \n",
       "2    0.000049   0.001679  0.003128   0.946737  0.001021  0.000024  ...   \n",
       "3    0.000052   0.000260  0.000044   0.000441  0.001115  0.000070  ...   \n",
       "4    0.000269   0.000101  0.000034   0.000148  0.000979  0.000038  ...   \n",
       "\n",
       "       love  nervousness  optimism     pride  realization    relief   remorse  \\\n",
       "0  0.000332     0.000081  0.002501  0.000134     0.370919  0.000118  0.000479   \n",
       "1  0.000008     0.000179  0.990538  0.000081     0.000629  0.000210  0.000638   \n",
       "2  0.000012     0.000314  0.000164  0.000124     0.001899  0.000035  0.000024   \n",
       "3  0.000054     0.000472  0.001911  0.000040     0.045726  0.000123  0.000073   \n",
       "4  0.000012     0.000016  0.000761  0.000014     0.000136  0.000014  0.000022   \n",
       "\n",
       "    sadness  surprise   neutral  \n",
       "0  0.002472  0.000803  0.308371  \n",
       "1  0.000158  0.000158  0.000849  \n",
       "2  0.000103  0.000060  0.026365  \n",
       "3  0.000460  0.861293  0.077763  \n",
       "4  0.000019  0.000061  0.996816  \n",
       "\n",
       "[5 rows x 32 columns]"
      ]
     },
     "execution_count": 34,
     "metadata": {},
     "output_type": "execute_result"
    }
   ],
   "source": [
    "train_data_augmented = pd.concat([train_data, emotion_df_train], axis=1)\n",
    "train_data_augmented.head()"
   ]
  },
  {
   "cell_type": "code",
   "execution_count": 35,
   "metadata": {
    "execution": {
     "iopub.execute_input": "2025-02-27T16:56:29.661344Z",
     "iopub.status.busy": "2025-02-27T16:56:29.660925Z",
     "iopub.status.idle": "2025-02-27T16:58:48.482408Z",
     "shell.execute_reply": "2025-02-27T16:58:48.480675Z",
     "shell.execute_reply.started": "2025-02-27T16:56:29.661310Z"
    },
    "trusted": true
   },
   "outputs": [
    {
     "name": "stderr",
     "output_type": "stream",
     "text": [
      "100%|██████████| 484/484 [00:41<00:00, 11.80it/s]\n"
     ]
    }
   ],
   "source": [
    "emotion_array = np.zeros((test_data.shape[0], 28))\n",
    "\n",
    "for i, sentence in enumerate(tqdm(test_data['sentence'])):\n",
    "    result = emotion(sentence)[0]\n",
    "    emotion_array[i] = np.array([list(d.values())[1] for d in result])"
   ]
  },
  {
   "cell_type": "code",
   "execution_count": 36,
   "metadata": {
    "execution": {
     "iopub.execute_input": "2025-02-27T16:58:48.484320Z",
     "iopub.status.busy": "2025-02-27T16:58:48.483965Z",
     "iopub.status.idle": "2025-02-27T16:58:48.507866Z",
     "shell.execute_reply": "2025-02-27T16:58:48.506047Z",
     "shell.execute_reply.started": "2025-02-27T16:58:48.484289Z"
    },
    "trusted": true
   },
   "outputs": [
    {
     "data": {
      "text/html": [
       "<div>\n",
       "<style scoped>\n",
       "    .dataframe tbody tr th:only-of-type {\n",
       "        vertical-align: middle;\n",
       "    }\n",
       "\n",
       "    .dataframe tbody tr th {\n",
       "        vertical-align: top;\n",
       "    }\n",
       "\n",
       "    .dataframe thead th {\n",
       "        text-align: right;\n",
       "    }\n",
       "</style>\n",
       "<table border=\"1\" class=\"dataframe\">\n",
       "  <thead>\n",
       "    <tr style=\"text-align: right;\">\n",
       "      <th></th>\n",
       "      <th>admiration</th>\n",
       "      <th>amusement</th>\n",
       "      <th>anger</th>\n",
       "      <th>annoyance</th>\n",
       "      <th>approval</th>\n",
       "      <th>caring</th>\n",
       "      <th>confusion</th>\n",
       "      <th>curiosity</th>\n",
       "      <th>desire</th>\n",
       "      <th>disappointment</th>\n",
       "      <th>...</th>\n",
       "      <th>love</th>\n",
       "      <th>nervousness</th>\n",
       "      <th>optimism</th>\n",
       "      <th>pride</th>\n",
       "      <th>realization</th>\n",
       "      <th>relief</th>\n",
       "      <th>remorse</th>\n",
       "      <th>sadness</th>\n",
       "      <th>surprise</th>\n",
       "      <th>neutral</th>\n",
       "    </tr>\n",
       "  </thead>\n",
       "  <tbody>\n",
       "    <tr>\n",
       "      <th>0</th>\n",
       "      <td>0.000211</td>\n",
       "      <td>0.000236</td>\n",
       "      <td>0.000009</td>\n",
       "      <td>0.000151</td>\n",
       "      <td>0.077252</td>\n",
       "      <td>0.000118</td>\n",
       "      <td>0.000153</td>\n",
       "      <td>0.000028</td>\n",
       "      <td>0.000184</td>\n",
       "      <td>0.000205</td>\n",
       "      <td>...</td>\n",
       "      <td>0.000039</td>\n",
       "      <td>0.000038</td>\n",
       "      <td>0.001291</td>\n",
       "      <td>0.000048</td>\n",
       "      <td>0.027910</td>\n",
       "      <td>0.000072</td>\n",
       "      <td>0.000056</td>\n",
       "      <td>0.000050</td>\n",
       "      <td>0.000034</td>\n",
       "      <td>0.891072</td>\n",
       "    </tr>\n",
       "    <tr>\n",
       "      <th>1</th>\n",
       "      <td>0.000428</td>\n",
       "      <td>0.000470</td>\n",
       "      <td>0.000124</td>\n",
       "      <td>0.000181</td>\n",
       "      <td>0.002491</td>\n",
       "      <td>0.000174</td>\n",
       "      <td>0.000955</td>\n",
       "      <td>0.000099</td>\n",
       "      <td>0.000650</td>\n",
       "      <td>0.000106</td>\n",
       "      <td>...</td>\n",
       "      <td>0.000465</td>\n",
       "      <td>0.000490</td>\n",
       "      <td>0.001429</td>\n",
       "      <td>0.000063</td>\n",
       "      <td>0.000649</td>\n",
       "      <td>0.000025</td>\n",
       "      <td>0.000232</td>\n",
       "      <td>0.000235</td>\n",
       "      <td>0.000270</td>\n",
       "      <td>0.981867</td>\n",
       "    </tr>\n",
       "    <tr>\n",
       "      <th>2</th>\n",
       "      <td>0.000551</td>\n",
       "      <td>0.000124</td>\n",
       "      <td>0.000021</td>\n",
       "      <td>0.000141</td>\n",
       "      <td>0.020175</td>\n",
       "      <td>0.000029</td>\n",
       "      <td>0.000042</td>\n",
       "      <td>0.000016</td>\n",
       "      <td>0.000033</td>\n",
       "      <td>0.000214</td>\n",
       "      <td>...</td>\n",
       "      <td>0.000020</td>\n",
       "      <td>0.000011</td>\n",
       "      <td>0.000158</td>\n",
       "      <td>0.000011</td>\n",
       "      <td>0.002110</td>\n",
       "      <td>0.000021</td>\n",
       "      <td>0.000025</td>\n",
       "      <td>0.000056</td>\n",
       "      <td>0.000020</td>\n",
       "      <td>0.974265</td>\n",
       "    </tr>\n",
       "    <tr>\n",
       "      <th>3</th>\n",
       "      <td>0.000420</td>\n",
       "      <td>0.000101</td>\n",
       "      <td>0.000017</td>\n",
       "      <td>0.000120</td>\n",
       "      <td>0.982816</td>\n",
       "      <td>0.000085</td>\n",
       "      <td>0.000133</td>\n",
       "      <td>0.000135</td>\n",
       "      <td>0.000268</td>\n",
       "      <td>0.000049</td>\n",
       "      <td>...</td>\n",
       "      <td>0.000642</td>\n",
       "      <td>0.000057</td>\n",
       "      <td>0.000740</td>\n",
       "      <td>0.000048</td>\n",
       "      <td>0.000641</td>\n",
       "      <td>0.000560</td>\n",
       "      <td>0.000010</td>\n",
       "      <td>0.000016</td>\n",
       "      <td>0.000017</td>\n",
       "      <td>0.010893</td>\n",
       "    </tr>\n",
       "    <tr>\n",
       "      <th>4</th>\n",
       "      <td>0.000398</td>\n",
       "      <td>0.000266</td>\n",
       "      <td>0.000027</td>\n",
       "      <td>0.000141</td>\n",
       "      <td>0.000731</td>\n",
       "      <td>0.000063</td>\n",
       "      <td>0.000014</td>\n",
       "      <td>0.000032</td>\n",
       "      <td>0.000096</td>\n",
       "      <td>0.000066</td>\n",
       "      <td>...</td>\n",
       "      <td>0.000027</td>\n",
       "      <td>0.000021</td>\n",
       "      <td>0.000153</td>\n",
       "      <td>0.000019</td>\n",
       "      <td>0.000096</td>\n",
       "      <td>0.000013</td>\n",
       "      <td>0.000040</td>\n",
       "      <td>0.000051</td>\n",
       "      <td>0.000040</td>\n",
       "      <td>0.996801</td>\n",
       "    </tr>\n",
       "  </tbody>\n",
       "</table>\n",
       "<p>5 rows × 28 columns</p>\n",
       "</div>"
      ],
      "text/plain": [
       "   admiration  amusement     anger  annoyance  approval    caring  confusion  \\\n",
       "0    0.000211   0.000236  0.000009   0.000151  0.077252  0.000118   0.000153   \n",
       "1    0.000428   0.000470  0.000124   0.000181  0.002491  0.000174   0.000955   \n",
       "2    0.000551   0.000124  0.000021   0.000141  0.020175  0.000029   0.000042   \n",
       "3    0.000420   0.000101  0.000017   0.000120  0.982816  0.000085   0.000133   \n",
       "4    0.000398   0.000266  0.000027   0.000141  0.000731  0.000063   0.000014   \n",
       "\n",
       "   curiosity    desire  disappointment  ...      love  nervousness  optimism  \\\n",
       "0   0.000028  0.000184        0.000205  ...  0.000039     0.000038  0.001291   \n",
       "1   0.000099  0.000650        0.000106  ...  0.000465     0.000490  0.001429   \n",
       "2   0.000016  0.000033        0.000214  ...  0.000020     0.000011  0.000158   \n",
       "3   0.000135  0.000268        0.000049  ...  0.000642     0.000057  0.000740   \n",
       "4   0.000032  0.000096        0.000066  ...  0.000027     0.000021  0.000153   \n",
       "\n",
       "      pride  realization    relief   remorse   sadness  surprise   neutral  \n",
       "0  0.000048     0.027910  0.000072  0.000056  0.000050  0.000034  0.891072  \n",
       "1  0.000063     0.000649  0.000025  0.000232  0.000235  0.000270  0.981867  \n",
       "2  0.000011     0.002110  0.000021  0.000025  0.000056  0.000020  0.974265  \n",
       "3  0.000048     0.000641  0.000560  0.000010  0.000016  0.000017  0.010893  \n",
       "4  0.000019     0.000096  0.000013  0.000040  0.000051  0.000040  0.996801  \n",
       "\n",
       "[5 rows x 28 columns]"
      ]
     },
     "execution_count": 36,
     "metadata": {},
     "output_type": "execute_result"
    }
   ],
   "source": [
    "emotion_df_test = pd.DataFrame(emotion_array, columns=[list(d.values())[0] for d in result])\n",
    "emotion_df_test.head()"
   ]
  },
  {
   "cell_type": "code",
   "execution_count": 37,
   "metadata": {
    "execution": {
     "iopub.execute_input": "2025-02-27T16:58:48.510608Z",
     "iopub.status.busy": "2025-02-27T16:58:48.510221Z",
     "iopub.status.idle": "2025-02-27T16:58:48.542064Z",
     "shell.execute_reply": "2025-02-27T16:58:48.541181Z",
     "shell.execute_reply.started": "2025-02-27T16:58:48.510578Z"
    },
    "trusted": true
   },
   "outputs": [
    {
     "data": {
      "text/html": [
       "<div>\n",
       "<style scoped>\n",
       "    .dataframe tbody tr th:only-of-type {\n",
       "        vertical-align: middle;\n",
       "    }\n",
       "\n",
       "    .dataframe tbody tr th {\n",
       "        vertical-align: top;\n",
       "    }\n",
       "\n",
       "    .dataframe thead th {\n",
       "        text-align: right;\n",
       "    }\n",
       "</style>\n",
       "<table border=\"1\" class=\"dataframe\">\n",
       "  <thead>\n",
       "    <tr style=\"text-align: right;\">\n",
       "      <th></th>\n",
       "      <th>sentence_id</th>\n",
       "      <th>sentence</th>\n",
       "      <th>label</th>\n",
       "      <th>admiration</th>\n",
       "      <th>amusement</th>\n",
       "      <th>anger</th>\n",
       "      <th>annoyance</th>\n",
       "      <th>approval</th>\n",
       "      <th>caring</th>\n",
       "      <th>confusion</th>\n",
       "      <th>...</th>\n",
       "      <th>love</th>\n",
       "      <th>nervousness</th>\n",
       "      <th>optimism</th>\n",
       "      <th>pride</th>\n",
       "      <th>realization</th>\n",
       "      <th>relief</th>\n",
       "      <th>remorse</th>\n",
       "      <th>sadness</th>\n",
       "      <th>surprise</th>\n",
       "      <th>neutral</th>\n",
       "    </tr>\n",
       "  </thead>\n",
       "  <tbody>\n",
       "    <tr>\n",
       "      <th>0</th>\n",
       "      <td>44f33601-157a-42ce-aa9f-0f7d305501f2</td>\n",
       "      <td>Blanco established himself earlier in his care...</td>\n",
       "      <td>0</td>\n",
       "      <td>0.000211</td>\n",
       "      <td>0.000236</td>\n",
       "      <td>0.000009</td>\n",
       "      <td>0.000151</td>\n",
       "      <td>0.077252</td>\n",
       "      <td>0.000118</td>\n",
       "      <td>0.000153</td>\n",
       "      <td>...</td>\n",
       "      <td>0.000039</td>\n",
       "      <td>0.000038</td>\n",
       "      <td>0.001291</td>\n",
       "      <td>0.000048</td>\n",
       "      <td>0.027910</td>\n",
       "      <td>0.000072</td>\n",
       "      <td>0.000056</td>\n",
       "      <td>0.000050</td>\n",
       "      <td>0.000034</td>\n",
       "      <td>0.891072</td>\n",
       "    </tr>\n",
       "    <tr>\n",
       "      <th>1</th>\n",
       "      <td>6f9e0f53-f76c-432f-bbea-b78400d600b8</td>\n",
       "      <td>RULE 13: ARTIFICIAL INTELLIGENCE  Not only thi...</td>\n",
       "      <td>0</td>\n",
       "      <td>0.000428</td>\n",
       "      <td>0.000470</td>\n",
       "      <td>0.000124</td>\n",
       "      <td>0.000181</td>\n",
       "      <td>0.002491</td>\n",
       "      <td>0.000174</td>\n",
       "      <td>0.000955</td>\n",
       "      <td>...</td>\n",
       "      <td>0.000465</td>\n",
       "      <td>0.000490</td>\n",
       "      <td>0.001429</td>\n",
       "      <td>0.000063</td>\n",
       "      <td>0.000649</td>\n",
       "      <td>0.000025</td>\n",
       "      <td>0.000232</td>\n",
       "      <td>0.000235</td>\n",
       "      <td>0.000270</td>\n",
       "      <td>0.981867</td>\n",
       "    </tr>\n",
       "    <tr>\n",
       "      <th>2</th>\n",
       "      <td>61f93bdc-4c3e-4963-926c-0bbf139b44b9</td>\n",
       "      <td>The valuation is required by law and the figur...</td>\n",
       "      <td>0</td>\n",
       "      <td>0.000551</td>\n",
       "      <td>0.000124</td>\n",
       "      <td>0.000021</td>\n",
       "      <td>0.000141</td>\n",
       "      <td>0.020175</td>\n",
       "      <td>0.000029</td>\n",
       "      <td>0.000042</td>\n",
       "      <td>...</td>\n",
       "      <td>0.000020</td>\n",
       "      <td>0.000011</td>\n",
       "      <td>0.000158</td>\n",
       "      <td>0.000011</td>\n",
       "      <td>0.002110</td>\n",
       "      <td>0.000021</td>\n",
       "      <td>0.000025</td>\n",
       "      <td>0.000056</td>\n",
       "      <td>0.000020</td>\n",
       "      <td>0.974265</td>\n",
       "    </tr>\n",
       "    <tr>\n",
       "      <th>3</th>\n",
       "      <td>902148ec-dda3-4736-b318-0f20c63a1cf3</td>\n",
       "      <td>A sip can really hit the spot after a long bik...</td>\n",
       "      <td>1</td>\n",
       "      <td>0.000420</td>\n",
       "      <td>0.000101</td>\n",
       "      <td>0.000017</td>\n",
       "      <td>0.000120</td>\n",
       "      <td>0.982816</td>\n",
       "      <td>0.000085</td>\n",
       "      <td>0.000133</td>\n",
       "      <td>...</td>\n",
       "      <td>0.000642</td>\n",
       "      <td>0.000057</td>\n",
       "      <td>0.000740</td>\n",
       "      <td>0.000048</td>\n",
       "      <td>0.000641</td>\n",
       "      <td>0.000560</td>\n",
       "      <td>0.000010</td>\n",
       "      <td>0.000016</td>\n",
       "      <td>0.000017</td>\n",
       "      <td>0.010893</td>\n",
       "    </tr>\n",
       "    <tr>\n",
       "      <th>4</th>\n",
       "      <td>065b1996-4b40-4c74-9f62-afb44f69834e</td>\n",
       "      <td>\"Lobster!\"\"\"</td>\n",
       "      <td>0</td>\n",
       "      <td>0.000398</td>\n",
       "      <td>0.000266</td>\n",
       "      <td>0.000027</td>\n",
       "      <td>0.000141</td>\n",
       "      <td>0.000731</td>\n",
       "      <td>0.000063</td>\n",
       "      <td>0.000014</td>\n",
       "      <td>...</td>\n",
       "      <td>0.000027</td>\n",
       "      <td>0.000021</td>\n",
       "      <td>0.000153</td>\n",
       "      <td>0.000019</td>\n",
       "      <td>0.000096</td>\n",
       "      <td>0.000013</td>\n",
       "      <td>0.000040</td>\n",
       "      <td>0.000051</td>\n",
       "      <td>0.000040</td>\n",
       "      <td>0.996801</td>\n",
       "    </tr>\n",
       "  </tbody>\n",
       "</table>\n",
       "<p>5 rows × 31 columns</p>\n",
       "</div>"
      ],
      "text/plain": [
       "                            sentence_id  \\\n",
       "0  44f33601-157a-42ce-aa9f-0f7d305501f2   \n",
       "1  6f9e0f53-f76c-432f-bbea-b78400d600b8   \n",
       "2  61f93bdc-4c3e-4963-926c-0bbf139b44b9   \n",
       "3  902148ec-dda3-4736-b318-0f20c63a1cf3   \n",
       "4  065b1996-4b40-4c74-9f62-afb44f69834e   \n",
       "\n",
       "                                            sentence  label  admiration  \\\n",
       "0  Blanco established himself earlier in his care...      0    0.000211   \n",
       "1  RULE 13: ARTIFICIAL INTELLIGENCE  Not only thi...      0    0.000428   \n",
       "2  The valuation is required by law and the figur...      0    0.000551   \n",
       "3  A sip can really hit the spot after a long bik...      1    0.000420   \n",
       "4                                       \"Lobster!\"\"\"      0    0.000398   \n",
       "\n",
       "   amusement     anger  annoyance  approval    caring  confusion  ...  \\\n",
       "0   0.000236  0.000009   0.000151  0.077252  0.000118   0.000153  ...   \n",
       "1   0.000470  0.000124   0.000181  0.002491  0.000174   0.000955  ...   \n",
       "2   0.000124  0.000021   0.000141  0.020175  0.000029   0.000042  ...   \n",
       "3   0.000101  0.000017   0.000120  0.982816  0.000085   0.000133  ...   \n",
       "4   0.000266  0.000027   0.000141  0.000731  0.000063   0.000014  ...   \n",
       "\n",
       "       love  nervousness  optimism     pride  realization    relief   remorse  \\\n",
       "0  0.000039     0.000038  0.001291  0.000048     0.027910  0.000072  0.000056   \n",
       "1  0.000465     0.000490  0.001429  0.000063     0.000649  0.000025  0.000232   \n",
       "2  0.000020     0.000011  0.000158  0.000011     0.002110  0.000021  0.000025   \n",
       "3  0.000642     0.000057  0.000740  0.000048     0.000641  0.000560  0.000010   \n",
       "4  0.000027     0.000021  0.000153  0.000019     0.000096  0.000013  0.000040   \n",
       "\n",
       "    sadness  surprise   neutral  \n",
       "0  0.000050  0.000034  0.891072  \n",
       "1  0.000235  0.000270  0.981867  \n",
       "2  0.000056  0.000020  0.974265  \n",
       "3  0.000016  0.000017  0.010893  \n",
       "4  0.000051  0.000040  0.996801  \n",
       "\n",
       "[5 rows x 31 columns]"
      ]
     },
     "execution_count": 37,
     "metadata": {},
     "output_type": "execute_result"
    }
   ],
   "source": [
    "test_data_augmented = pd.concat([test_data, emotion_df_test], axis=1)\n",
    "test_data_augmented.head()"
   ]
  },
  {
   "cell_type": "code",
   "execution_count": 38,
   "metadata": {
    "execution": {
     "iopub.execute_input": "2025-02-27T18:08:48.657494Z",
     "iopub.status.busy": "2025-02-27T18:08:48.657176Z",
     "iopub.status.idle": "2025-02-27T18:08:48.687451Z",
     "shell.execute_reply": "2025-02-27T18:08:48.686718Z",
     "shell.execute_reply.started": "2025-02-27T18:08:48.657468Z"
    },
    "trusted": true
   },
   "outputs": [],
   "source": [
    "if not os.path.exists('train_en_aug.csv'):\n",
    "    train_data_augmented.to_csv('train_en_aug.csv', encoding='UTF-8')\n",
    "    test_data_augmented.to_csv('dev_test_en_aug.csv', encoding='UTF-8')\n",
    "else:\n",
    "    train_data_augmented = pd.read_csv('train_en_aug.csv', encoding='UTF-8', index_col=0)\n",
    "    test_data_augmented = pd.read_csv('dev_test_en_aug.csv', encoding='UTF-8', index_col=0)"
   ]
  },
  {
   "cell_type": "code",
   "execution_count": 112,
   "metadata": {
    "execution": {
     "iopub.execute_input": "2025-02-27T18:08:50.038602Z",
     "iopub.status.busy": "2025-02-27T18:08:50.038278Z",
     "iopub.status.idle": "2025-02-27T18:08:50.043364Z",
     "shell.execute_reply": "2025-02-27T18:08:50.042357Z",
     "shell.execute_reply.started": "2025-02-27T18:08:50.038579Z"
    },
    "trusted": true
   },
   "outputs": [],
   "source": [
    "def preprocess(text):\n",
    "    preprocessed_text = []\n",
    "    for t in text.split():\n",
    "        if len(t) > 1:\n",
    "            t = '@user' if t[0] == '@' and t.count('@') == 1 else t\n",
    "            t = 'http' if t.startswith('http') else t\n",
    "        preprocessed_text.append(t)\n",
    "    return ' '.join(preprocessed_text)"
   ]
  },
  {
   "cell_type": "code",
   "execution_count": 113,
   "metadata": {
    "execution": {
     "iopub.execute_input": "2025-02-27T18:08:50.173111Z",
     "iopub.status.busy": "2025-02-27T18:08:50.172823Z",
     "iopub.status.idle": "2025-02-27T18:08:50.179133Z",
     "shell.execute_reply": "2025-02-27T18:08:50.178224Z",
     "shell.execute_reply.started": "2025-02-27T18:08:50.173090Z"
    },
    "trusted": true
   },
   "outputs": [],
   "source": [
    "# Taken from https://github.com/huggingface/transformers/blob/main/src/transformers/trainer.py#L3700 (with some minor changes removing useless parts)\n",
    "class CustomTrainer(Trainer):\n",
    "    def __init__(self, class_weights, device, *args, **kwargs):\n",
    "        super().__init__(*args, **kwargs)\n",
    "        # You pass the class weights when instantiating the Trainer\n",
    "        self.class_weights = class_weights\n",
    "        self.device = device\n",
    "\n",
    "    def compute_loss(self, model, inputs, return_outputs=False, num_items_in_batch=None):\n",
    "        if self.label_smoother is not None and \"labels\" in inputs:\n",
    "            labels = inputs.pop(\"labels\")\n",
    "        else:\n",
    "            labels = None\n",
    "        outputs = model(**inputs)\n",
    "        if self.args.past_index >= 0:\n",
    "            self._past = outputs[self.args.past_index]\n",
    "\n",
    "        if labels is not None:\n",
    "            loss = self.label_smoother(outputs, labels)\n",
    "        else:\n",
    "            # We extract the logits from the model outputs\n",
    "            logits = outputs.logits\n",
    "            # We compute the loss manually passing the class weights to the loss function\n",
    "            criterion = torch.nn.CrossEntropyLoss(weight=self.class_weights.to(self.device)) # Modified to use the class weights\n",
    "            # We compute the loss using the modified criterion\n",
    "            loss = criterion(logits, inputs['labels'])\n",
    "\n",
    "        return (loss, outputs) if return_outputs else loss"
   ]
  },
  {
   "cell_type": "code",
   "execution_count": null,
   "metadata": {
    "execution": {
     "iopub.execute_input": "2025-02-27T18:14:30.292486Z",
     "iopub.status.busy": "2025-02-27T18:14:30.292133Z",
     "iopub.status.idle": "2025-02-27T18:14:30.298428Z",
     "shell.execute_reply": "2025-02-27T18:14:30.297443Z",
     "shell.execute_reply.started": "2025-02-27T18:14:30.292460Z"
    },
    "trusted": true
   },
   "outputs": [],
   "source": [
    "from transformers.modeling_outputs import SequenceClassifierOutput\n",
    "\n",
    "class CustomEmotionModel(nn.Module):\n",
    "    def __init__(self, model_card: str, num_labels: int = 2, num_emotions: int = 28):\n",
    "        super(CustomEmotionModel, self).__init__()\n",
    "        self.base_model = AutoModel.from_pretrained(model_card)\n",
    "        self.emotion_branch = nn.Linear(num_emotions, 128)  # Example: 128 hidden units\n",
    "        self.dropout = nn.Dropout(0.1)\n",
    "        self.classifier = nn.Linear(self.base_model.config.hidden_size + 128, num_labels)\n",
    "\n",
    "    def forward(self, input_ids, attention_mask, emotion_features, labels=None):\n",
    "        outputs = self.base_model(input_ids=input_ids, attention_mask=attention_mask)\n",
    "        pooled_output = outputs.last_hidden_state[:, 0, :]  # CLS token representation\n",
    "        \n",
    "        # Process emotion features\n",
    "        emotion_output = torch.relu(self.emotion_branch(emotion_features))\n",
    "        \n",
    "        # Concatenate base model output with emotion features\n",
    "        combined_output = torch.cat((pooled_output, emotion_output), dim=1)\n",
    "        \n",
    "        # Apply dropout and classification layer\n",
    "        combined_output = self.dropout(combined_output)\n",
    "        logits = self.classifier(combined_output)\n",
    "\n",
    "        loss = None\n",
    "        if labels is not None:\n",
    "            criterion = torch.nn.CrossEntropyLoss()\n",
    "            loss = criterion(logits, labels)\n",
    "\n",
    "        return SequenceClassifierOutput(loss=loss, logits=logits)\n",
    "    \n",
    "\n",
    "\"\"\"Should be something like\n",
    "    def forward(self, input_ids, attention_mask, emotion_features, labels=None):\n",
    "        outputs = self.base_model(input_ids=input_ids, attention_mask=attention_mask)\n",
    "        pooled_output = outputs.last_hidden_state[:, 0, :]  # CLS token representation\n",
    "        \n",
    "        # Process emotion features\n",
    "        emotion_output = torch.relu(self.emotion_branch(emotion_features))\n",
    "        \n",
    "        # Concatenate base model output with emotion features\n",
    "        combined_output = torch.cat((pooled_output, emotion_output), dim=1)\n",
    "        \n",
    "        # Apply dropout and classification layer\n",
    "        combined_output = self.dropout(combined_output)\n",
    "        logits = self.classifier(combined_output)\n",
    "\n",
    "        loss = None\n",
    "        if labels is not None:\n",
    "            if self.class_weights is not None:\n",
    "                criterion = torch.nn.CrossEntropyLoss(weight=self.class_weights)\n",
    "            else:\n",
    "                criterion = torch.nn.CrossEntropyLoss()\n",
    "            loss = criterion(logits, labels)\n",
    "\n",
    "        return SequenceClassifierOutput(loss=loss, logits=logits)\n",
    "\n",
    "    but it doesn't have the class_weight in input so it yields errors\n",
    "\"\"\"\n"
   ]
  },
  {
   "cell_type": "code",
   "execution_count": 140,
   "metadata": {
    "execution": {
     "iopub.execute_input": "2025-02-27T18:08:51.452919Z",
     "iopub.status.busy": "2025-02-27T18:08:51.452501Z",
     "iopub.status.idle": "2025-02-27T18:08:51.468073Z",
     "shell.execute_reply": "2025-02-27T18:08:51.467493Z",
     "shell.execute_reply.started": "2025-02-27T18:08:51.452891Z"
    },
    "trusted": true
   },
   "outputs": [
    {
     "ename": "ValueError",
     "evalue": "setting an array element with a sequence.",
     "output_type": "error",
     "traceback": [
      "\u001b[0;31m---------------------------------------------------------------------------\u001b[0m",
      "\u001b[0;31mTypeError\u001b[0m                                 Traceback (most recent call last)",
      "\u001b[0;31mTypeError\u001b[0m: only length-1 arrays can be converted to Python scalars",
      "\nThe above exception was the direct cause of the following exception:\n",
      "\u001b[0;31mValueError\u001b[0m                                Traceback (most recent call last)",
      "Cell \u001b[0;32mIn[140], line 1\u001b[0m\n\u001b[0;32m----> 1\u001b[0m train_data_augmented[\u001b[38;5;124m'\u001b[39m\u001b[38;5;124mall_emotions\u001b[39m\u001b[38;5;124m'\u001b[39m] \u001b[38;5;241m=\u001b[39m \u001b[43mtrain_data_augmented\u001b[49m\u001b[43m[\u001b[49m\u001b[43mtrain_data_augmented\u001b[49m\u001b[38;5;241;43m.\u001b[39;49m\u001b[43mcolumns\u001b[49m\u001b[43m[\u001b[49m\u001b[38;5;241;43m-\u001b[39;49m\u001b[38;5;241;43m28\u001b[39;49m\u001b[43m:\u001b[49m\u001b[43m]\u001b[49m\u001b[43m]\u001b[49m\u001b[38;5;241;43m.\u001b[39;49m\u001b[43mapply\u001b[49m\u001b[43m(\u001b[49m\u001b[38;5;28;43;01mlambda\u001b[39;49;00m\u001b[43m \u001b[49m\u001b[43mx\u001b[49m\u001b[43m:\u001b[49m\u001b[43m \u001b[49m\u001b[43mnp\u001b[49m\u001b[38;5;241;43m.\u001b[39;49m\u001b[43marray\u001b[49m\u001b[43m(\u001b[49m\u001b[43mx\u001b[49m\u001b[38;5;241;43m.\u001b[39;49m\u001b[43mvalues\u001b[49m\u001b[43m,\u001b[49m\u001b[43m \u001b[49m\u001b[43mdtype\u001b[49m\u001b[38;5;241;43m=\u001b[39;49m\u001b[43mnp\u001b[49m\u001b[38;5;241;43m.\u001b[39;49m\u001b[43mfloat32\u001b[49m\u001b[43m)\u001b[49m\u001b[43m,\u001b[49m\u001b[43m \u001b[49m\u001b[43maxis\u001b[49m\u001b[38;5;241;43m=\u001b[39;49m\u001b[38;5;241;43m1\u001b[39;49m\u001b[43m)\u001b[49m\n\u001b[1;32m      2\u001b[0m test_data_augmented[\u001b[38;5;124m'\u001b[39m\u001b[38;5;124mall_emotions\u001b[39m\u001b[38;5;124m'\u001b[39m] \u001b[38;5;241m=\u001b[39m test_data_augmented[test_data_augmented\u001b[38;5;241m.\u001b[39mcolumns[\u001b[38;5;241m-\u001b[39m\u001b[38;5;241m28\u001b[39m:]]\u001b[38;5;241m.\u001b[39mapply(\u001b[38;5;28;01mlambda\u001b[39;00m x: np\u001b[38;5;241m.\u001b[39marray(x\u001b[38;5;241m.\u001b[39mvalues, dtype\u001b[38;5;241m=\u001b[39mnp\u001b[38;5;241m.\u001b[39mfloat32), axis\u001b[38;5;241m=\u001b[39m\u001b[38;5;241m1\u001b[39m)\n",
      "File \u001b[0;32m~/Desktop/githubrepos/clef2025-checkthat/env/lib/python3.10/site-packages/pandas/core/frame.py:10374\u001b[0m, in \u001b[0;36mDataFrame.apply\u001b[0;34m(self, func, axis, raw, result_type, args, by_row, engine, engine_kwargs, **kwargs)\u001b[0m\n\u001b[1;32m  10360\u001b[0m \u001b[38;5;28;01mfrom\u001b[39;00m\u001b[38;5;250m \u001b[39m\u001b[38;5;21;01mpandas\u001b[39;00m\u001b[38;5;21;01m.\u001b[39;00m\u001b[38;5;21;01mcore\u001b[39;00m\u001b[38;5;21;01m.\u001b[39;00m\u001b[38;5;21;01mapply\u001b[39;00m\u001b[38;5;250m \u001b[39m\u001b[38;5;28;01mimport\u001b[39;00m frame_apply\n\u001b[1;32m  10362\u001b[0m op \u001b[38;5;241m=\u001b[39m frame_apply(\n\u001b[1;32m  10363\u001b[0m     \u001b[38;5;28mself\u001b[39m,\n\u001b[1;32m  10364\u001b[0m     func\u001b[38;5;241m=\u001b[39mfunc,\n\u001b[0;32m   (...)\u001b[0m\n\u001b[1;32m  10372\u001b[0m     kwargs\u001b[38;5;241m=\u001b[39mkwargs,\n\u001b[1;32m  10373\u001b[0m )\n\u001b[0;32m> 10374\u001b[0m \u001b[38;5;28;01mreturn\u001b[39;00m \u001b[43mop\u001b[49m\u001b[38;5;241;43m.\u001b[39;49m\u001b[43mapply\u001b[49m\u001b[43m(\u001b[49m\u001b[43m)\u001b[49m\u001b[38;5;241m.\u001b[39m__finalize__(\u001b[38;5;28mself\u001b[39m, method\u001b[38;5;241m=\u001b[39m\u001b[38;5;124m\"\u001b[39m\u001b[38;5;124mapply\u001b[39m\u001b[38;5;124m\"\u001b[39m)\n",
      "File \u001b[0;32m~/Desktop/githubrepos/clef2025-checkthat/env/lib/python3.10/site-packages/pandas/core/apply.py:916\u001b[0m, in \u001b[0;36mFrameApply.apply\u001b[0;34m(self)\u001b[0m\n\u001b[1;32m    913\u001b[0m \u001b[38;5;28;01melif\u001b[39;00m \u001b[38;5;28mself\u001b[39m\u001b[38;5;241m.\u001b[39mraw:\n\u001b[1;32m    914\u001b[0m     \u001b[38;5;28;01mreturn\u001b[39;00m \u001b[38;5;28mself\u001b[39m\u001b[38;5;241m.\u001b[39mapply_raw(engine\u001b[38;5;241m=\u001b[39m\u001b[38;5;28mself\u001b[39m\u001b[38;5;241m.\u001b[39mengine, engine_kwargs\u001b[38;5;241m=\u001b[39m\u001b[38;5;28mself\u001b[39m\u001b[38;5;241m.\u001b[39mengine_kwargs)\n\u001b[0;32m--> 916\u001b[0m \u001b[38;5;28;01mreturn\u001b[39;00m \u001b[38;5;28;43mself\u001b[39;49m\u001b[38;5;241;43m.\u001b[39;49m\u001b[43mapply_standard\u001b[49m\u001b[43m(\u001b[49m\u001b[43m)\u001b[49m\n",
      "File \u001b[0;32m~/Desktop/githubrepos/clef2025-checkthat/env/lib/python3.10/site-packages/pandas/core/apply.py:1063\u001b[0m, in \u001b[0;36mFrameApply.apply_standard\u001b[0;34m(self)\u001b[0m\n\u001b[1;32m   1061\u001b[0m \u001b[38;5;28;01mdef\u001b[39;00m\u001b[38;5;250m \u001b[39m\u001b[38;5;21mapply_standard\u001b[39m(\u001b[38;5;28mself\u001b[39m):\n\u001b[1;32m   1062\u001b[0m     \u001b[38;5;28;01mif\u001b[39;00m \u001b[38;5;28mself\u001b[39m\u001b[38;5;241m.\u001b[39mengine \u001b[38;5;241m==\u001b[39m \u001b[38;5;124m\"\u001b[39m\u001b[38;5;124mpython\u001b[39m\u001b[38;5;124m\"\u001b[39m:\n\u001b[0;32m-> 1063\u001b[0m         results, res_index \u001b[38;5;241m=\u001b[39m \u001b[38;5;28;43mself\u001b[39;49m\u001b[38;5;241;43m.\u001b[39;49m\u001b[43mapply_series_generator\u001b[49m\u001b[43m(\u001b[49m\u001b[43m)\u001b[49m\n\u001b[1;32m   1064\u001b[0m     \u001b[38;5;28;01melse\u001b[39;00m:\n\u001b[1;32m   1065\u001b[0m         results, res_index \u001b[38;5;241m=\u001b[39m \u001b[38;5;28mself\u001b[39m\u001b[38;5;241m.\u001b[39mapply_series_numba()\n",
      "File \u001b[0;32m~/Desktop/githubrepos/clef2025-checkthat/env/lib/python3.10/site-packages/pandas/core/apply.py:1081\u001b[0m, in \u001b[0;36mFrameApply.apply_series_generator\u001b[0;34m(self)\u001b[0m\n\u001b[1;32m   1078\u001b[0m \u001b[38;5;28;01mwith\u001b[39;00m option_context(\u001b[38;5;124m\"\u001b[39m\u001b[38;5;124mmode.chained_assignment\u001b[39m\u001b[38;5;124m\"\u001b[39m, \u001b[38;5;28;01mNone\u001b[39;00m):\n\u001b[1;32m   1079\u001b[0m     \u001b[38;5;28;01mfor\u001b[39;00m i, v \u001b[38;5;129;01min\u001b[39;00m \u001b[38;5;28menumerate\u001b[39m(series_gen):\n\u001b[1;32m   1080\u001b[0m         \u001b[38;5;66;03m# ignore SettingWithCopy here in case the user mutates\u001b[39;00m\n\u001b[0;32m-> 1081\u001b[0m         results[i] \u001b[38;5;241m=\u001b[39m \u001b[38;5;28;43mself\u001b[39;49m\u001b[38;5;241;43m.\u001b[39;49m\u001b[43mfunc\u001b[49m\u001b[43m(\u001b[49m\u001b[43mv\u001b[49m\u001b[43m,\u001b[49m\u001b[43m \u001b[49m\u001b[38;5;241;43m*\u001b[39;49m\u001b[38;5;28;43mself\u001b[39;49m\u001b[38;5;241;43m.\u001b[39;49m\u001b[43margs\u001b[49m\u001b[43m,\u001b[49m\u001b[43m \u001b[49m\u001b[38;5;241;43m*\u001b[39;49m\u001b[38;5;241;43m*\u001b[39;49m\u001b[38;5;28;43mself\u001b[39;49m\u001b[38;5;241;43m.\u001b[39;49m\u001b[43mkwargs\u001b[49m\u001b[43m)\u001b[49m\n\u001b[1;32m   1082\u001b[0m         \u001b[38;5;28;01mif\u001b[39;00m \u001b[38;5;28misinstance\u001b[39m(results[i], ABCSeries):\n\u001b[1;32m   1083\u001b[0m             \u001b[38;5;66;03m# If we have a view on v, we need to make a copy because\u001b[39;00m\n\u001b[1;32m   1084\u001b[0m             \u001b[38;5;66;03m#  series_generator will swap out the underlying data\u001b[39;00m\n\u001b[1;32m   1085\u001b[0m             results[i] \u001b[38;5;241m=\u001b[39m results[i]\u001b[38;5;241m.\u001b[39mcopy(deep\u001b[38;5;241m=\u001b[39m\u001b[38;5;28;01mFalse\u001b[39;00m)\n",
      "Cell \u001b[0;32mIn[140], line 1\u001b[0m, in \u001b[0;36m<lambda>\u001b[0;34m(x)\u001b[0m\n\u001b[0;32m----> 1\u001b[0m train_data_augmented[\u001b[38;5;124m'\u001b[39m\u001b[38;5;124mall_emotions\u001b[39m\u001b[38;5;124m'\u001b[39m] \u001b[38;5;241m=\u001b[39m train_data_augmented[train_data_augmented\u001b[38;5;241m.\u001b[39mcolumns[\u001b[38;5;241m-\u001b[39m\u001b[38;5;241m28\u001b[39m:]]\u001b[38;5;241m.\u001b[39mapply(\u001b[38;5;28;01mlambda\u001b[39;00m x: \u001b[43mnp\u001b[49m\u001b[38;5;241;43m.\u001b[39;49m\u001b[43marray\u001b[49m\u001b[43m(\u001b[49m\u001b[43mx\u001b[49m\u001b[38;5;241;43m.\u001b[39;49m\u001b[43mvalues\u001b[49m\u001b[43m,\u001b[49m\u001b[43m \u001b[49m\u001b[43mdtype\u001b[49m\u001b[38;5;241;43m=\u001b[39;49m\u001b[43mnp\u001b[49m\u001b[38;5;241;43m.\u001b[39;49m\u001b[43mfloat32\u001b[49m\u001b[43m)\u001b[49m, axis\u001b[38;5;241m=\u001b[39m\u001b[38;5;241m1\u001b[39m)\n\u001b[1;32m      2\u001b[0m test_data_augmented[\u001b[38;5;124m'\u001b[39m\u001b[38;5;124mall_emotions\u001b[39m\u001b[38;5;124m'\u001b[39m] \u001b[38;5;241m=\u001b[39m test_data_augmented[test_data_augmented\u001b[38;5;241m.\u001b[39mcolumns[\u001b[38;5;241m-\u001b[39m\u001b[38;5;241m28\u001b[39m:]]\u001b[38;5;241m.\u001b[39mapply(\u001b[38;5;28;01mlambda\u001b[39;00m x: np\u001b[38;5;241m.\u001b[39marray(x\u001b[38;5;241m.\u001b[39mvalues, dtype\u001b[38;5;241m=\u001b[39mnp\u001b[38;5;241m.\u001b[39mfloat32), axis\u001b[38;5;241m=\u001b[39m\u001b[38;5;241m1\u001b[39m)\n",
      "\u001b[0;31mValueError\u001b[0m: setting an array element with a sequence."
     ]
    }
   ],
   "source": [
    "train_data_augmented['all_emotions'] = train_data_augmented[train_data_augmented.columns[-28:]].apply(lambda x: np.array(x.values, dtype=np.float32), axis=1)\n",
    "test_data_augmented['all_emotions'] = test_data_augmented[test_data_augmented.columns[-28:]].apply(lambda x: np.array(x.values, dtype=np.float32), axis=1)"
   ]
  },
  {
   "cell_type": "code",
   "execution_count": 141,
   "metadata": {
    "execution": {
     "iopub.execute_input": "2025-02-27T18:08:53.188872Z",
     "iopub.status.busy": "2025-02-27T18:08:53.188569Z",
     "iopub.status.idle": "2025-02-27T18:08:53.245840Z",
     "shell.execute_reply": "2025-02-27T18:08:53.245189Z",
     "shell.execute_reply.started": "2025-02-27T18:08:53.188850Z"
    },
    "trusted": true
   },
   "outputs": [],
   "source": [
    "train_dl = Dataset.from_pandas(train_data_augmented)\n",
    "test_dl = Dataset.from_pandas(test_data_augmented)"
   ]
  },
  {
   "cell_type": "code",
   "execution_count": 142,
   "metadata": {
    "execution": {
     "iopub.execute_input": "2025-02-27T18:08:54.235454Z",
     "iopub.status.busy": "2025-02-27T18:08:54.235135Z",
     "iopub.status.idle": "2025-02-27T18:08:54.239134Z",
     "shell.execute_reply": "2025-02-27T18:08:54.238362Z",
     "shell.execute_reply.started": "2025-02-27T18:08:54.235429Z"
    },
    "trusted": true
   },
   "outputs": [],
   "source": [
    "def tokenize_and_prepare(texts):\n",
    "    tokenized = tokenizer(texts['sentence'])\n",
    "    return {**tokenized, 'emotion_features': texts['all_emotions']}"
   ]
  },
  {
   "cell_type": "code",
   "execution_count": 143,
   "metadata": {
    "execution": {
     "iopub.execute_input": "2025-02-27T18:08:54.958823Z",
     "iopub.status.busy": "2025-02-27T18:08:54.958519Z",
     "iopub.status.idle": "2025-02-27T18:08:55.164731Z",
     "shell.execute_reply": "2025-02-27T18:08:55.163818Z",
     "shell.execute_reply.started": "2025-02-27T18:08:54.958800Z"
    },
    "trusted": true
   },
   "outputs": [
    {
     "data": {
      "application/vnd.jupyter.widget-view+json": {
       "model_id": "7e1e02c66151422cb4d532d7abb20921",
       "version_major": 2,
       "version_minor": 0
      },
      "text/plain": [
       "Map:   0%|          | 0/830 [00:00<?, ? examples/s]"
      ]
     },
     "metadata": {},
     "output_type": "display_data"
    },
    {
     "data": {
      "application/vnd.jupyter.widget-view+json": {
       "model_id": "be1f2331b8ac4772a21c5ff0221c9bf4",
       "version_major": 2,
       "version_minor": 0
      },
      "text/plain": [
       "Map:   0%|          | 0/484 [00:00<?, ? examples/s]"
      ]
     },
     "metadata": {},
     "output_type": "display_data"
    }
   ],
   "source": [
    "train_dl = train_dl.map(tokenize_and_prepare, batched=True)\n",
    "test_dl = test_dl.map(tokenize_and_prepare, batched=True)"
   ]
  },
  {
   "cell_type": "code",
   "execution_count": 144,
   "metadata": {
    "execution": {
     "iopub.execute_input": "2025-02-27T18:08:55.807718Z",
     "iopub.status.busy": "2025-02-27T18:08:55.807388Z",
     "iopub.status.idle": "2025-02-27T18:08:55.811513Z",
     "shell.execute_reply": "2025-02-27T18:08:55.810546Z",
     "shell.execute_reply.started": "2025-02-27T18:08:55.807696Z"
    },
    "trusted": true
   },
   "outputs": [],
   "source": [
    "data_collator = DataCollatorWithPadding(tokenizer=tokenizer, return_tensors=\"pt\")\n"
   ]
  },
  {
   "cell_type": "code",
   "execution_count": 145,
   "metadata": {
    "execution": {
     "iopub.execute_input": "2025-02-27T18:14:33.239088Z",
     "iopub.status.busy": "2025-02-27T18:14:33.238802Z",
     "iopub.status.idle": "2025-02-27T18:14:33.266344Z",
     "shell.execute_reply": "2025-02-27T18:14:33.265661Z",
     "shell.execute_reply.started": "2025-02-27T18:14:33.239066Z"
    },
    "trusted": true
   },
   "outputs": [],
   "source": [
    "training_args = TrainingArguments(\n",
    "    output_dir=f'model',                 \n",
    "    learning_rate=5e-6,\n",
    "    per_device_train_batch_size=16,         \n",
    "    per_device_eval_batch_size=16,\n",
    "    num_train_epochs=10,\n",
    "    weight_decay=1e-4,\n",
    "    eval_strategy=\"epoch\",       \n",
    "    save_strategy=\"no\",           \n",
    "    #save_safetensors=True,\n",
    "    #load_best_model_at_end=True,\n",
    "    report_to='none',\n",
    "    seed=SEED,\n",
    "    data_seed=SEED\n",
    ")"
   ]
  },
  {
   "cell_type": "code",
   "execution_count": 146,
   "metadata": {
    "execution": {
     "iopub.execute_input": "2025-02-27T18:14:33.415140Z",
     "iopub.status.busy": "2025-02-27T18:14:33.414913Z",
     "iopub.status.idle": "2025-02-27T18:14:33.423744Z",
     "shell.execute_reply": "2025-02-27T18:14:33.423044Z",
     "shell.execute_reply.started": "2025-02-27T18:14:33.415122Z"
    },
    "trusted": true
   },
   "outputs": [
    {
     "data": {
      "text/plain": [
       "tensor([0.7801, 1.3926])"
      ]
     },
     "execution_count": 146,
     "metadata": {},
     "output_type": "execute_result"
    }
   ],
   "source": [
    "class_weights = compute_class_weight(class_weight=\"balanced\", classes=np.unique(train_data['label']), y=train_data['label'])\n",
    "class_weights = torch.tensor(class_weights, dtype=torch.float32)\n",
    "class_weights"
   ]
  },
  {
   "cell_type": "code",
   "execution_count": 147,
   "metadata": {
    "execution": {
     "iopub.execute_input": "2025-02-27T18:14:33.624373Z",
     "iopub.status.busy": "2025-02-27T18:14:33.624098Z",
     "iopub.status.idle": "2025-02-27T18:14:34.307484Z",
     "shell.execute_reply": "2025-02-27T18:14:34.306437Z",
     "shell.execute_reply.started": "2025-02-27T18:14:33.624345Z"
    },
    "trusted": true
   },
   "outputs": [
    {
     "name": "stderr",
     "output_type": "stream",
     "text": [
      "Some weights of RobertaModel were not initialized from the model checkpoint at cardiffnlp/twitter-roberta-base-2022-154m and are newly initialized: ['roberta.pooler.dense.bias', 'roberta.pooler.dense.weight']\n",
      "You should probably TRAIN this model on a down-stream task to be able to use it for predictions and inference.\n"
     ]
    }
   ],
   "source": [
    "model_card = \"cardiffnlp/twitter-roberta-base-2022-154m\"\n",
    "tokenizer = AutoTokenizer.from_pretrained(model_card, use_Fast=False)\n",
    "model = CustomEmotionModel(model_card, num_labels = 2, num_emotions=28)"
   ]
  },
  {
   "cell_type": "code",
   "execution_count": 148,
   "metadata": {},
   "outputs": [],
   "source": [
    "def compute_metrics(output_info):\n",
    "    \"\"\"\n",
    "    Compute various evaluation metrics for model predictions.\n",
    "    \n",
    "    Args:\n",
    "        output_info (tuple): A tuple containing the model predictions and the true labels.\n",
    "            - predictions (np.ndarray): The predicted labels from the model.\n",
    "            - labels (np.ndarray): The true labels.\n",
    "    \n",
    "    Returns:\n",
    "        dict: A dictionary containing the computed metrics:\n",
    "            - 'f1': The F1 score (macro average).\n",
    "            - 'accuracy': The accuracy score.\n",
    "            - 'precision': The precision score (macro average).\n",
    "            - 'recall': The recall score (macro average).\n",
    "    \"\"\"\n",
    "    predictions, labels = output_info\n",
    "    predictions = np.array(predictions)\n",
    "    labels = np.array(labels)\n",
    "    predictions = np.argmax(predictions, axis=-1)\n",
    "    \n",
    "    f1 = f1_score(labels, predictions, average=\"macro\", zero_division=0)\n",
    "    acc = accuracy_score(labels, predictions)\n",
    "    \n",
    "    return {\"f1-score\" : f1, \"Accuracy\" : acc}"
   ]
  },
  {
   "cell_type": "code",
   "execution_count": 149,
   "metadata": {
    "execution": {
     "iopub.execute_input": "2025-02-27T18:14:34.309540Z",
     "iopub.status.busy": "2025-02-27T18:14:34.309236Z",
     "iopub.status.idle": "2025-02-27T18:14:34.502338Z",
     "shell.execute_reply": "2025-02-27T18:14:34.501662Z",
     "shell.execute_reply.started": "2025-02-27T18:14:34.309504Z"
    },
    "trusted": true
   },
   "outputs": [],
   "source": [
    "trainer = CustomTrainer(\n",
    "    model=model,\n",
    "    args=training_args,\n",
    "    train_dataset=train_dl,\n",
    "    eval_dataset=test_dl,\n",
    "    data_collator=data_collator,\n",
    "    compute_metrics=compute_metrics,\n",
    "    class_weights=class_weights,\n",
    "    device=device,\n",
    ")"
   ]
  },
  {
   "cell_type": "code",
   "execution_count": 150,
   "metadata": {
    "execution": {
     "iopub.execute_input": "2025-02-27T18:14:35.585522Z",
     "iopub.status.busy": "2025-02-27T18:14:35.585194Z",
     "iopub.status.idle": "2025-02-27T18:14:44.320087Z",
     "shell.execute_reply": "2025-02-27T18:14:44.318931Z",
     "shell.execute_reply.started": "2025-02-27T18:14:35.585495Z"
    },
    "trusted": true
   },
   "outputs": [
    {
     "data": {
      "text/html": [
       "\n",
       "    <div>\n",
       "      \n",
       "      <progress value='520' max='520' style='width:300px; height:20px; vertical-align: middle;'></progress>\n",
       "      [520/520 01:15, Epoch 10/10]\n",
       "    </div>\n",
       "    <table border=\"1\" class=\"dataframe\">\n",
       "  <thead>\n",
       " <tr style=\"text-align: left;\">\n",
       "      <th>Epoch</th>\n",
       "      <th>Training Loss</th>\n",
       "      <th>Validation Loss</th>\n",
       "      <th>F1-score</th>\n",
       "      <th>Accuracy</th>\n",
       "    </tr>\n",
       "  </thead>\n",
       "  <tbody>\n",
       "    <tr>\n",
       "      <td>1</td>\n",
       "      <td>No log</td>\n",
       "      <td>0.668794</td>\n",
       "      <td>0.485730</td>\n",
       "      <td>0.762397</td>\n",
       "    </tr>\n",
       "    <tr>\n",
       "      <td>2</td>\n",
       "      <td>No log</td>\n",
       "      <td>0.586765</td>\n",
       "      <td>0.567568</td>\n",
       "      <td>0.768595</td>\n",
       "    </tr>\n",
       "    <tr>\n",
       "      <td>3</td>\n",
       "      <td>No log</td>\n",
       "      <td>0.552118</td>\n",
       "      <td>0.637979</td>\n",
       "      <td>0.791322</td>\n",
       "    </tr>\n",
       "    <tr>\n",
       "      <td>4</td>\n",
       "      <td>No log</td>\n",
       "      <td>0.502421</td>\n",
       "      <td>0.718515</td>\n",
       "      <td>0.816116</td>\n",
       "    </tr>\n",
       "    <tr>\n",
       "      <td>5</td>\n",
       "      <td>No log</td>\n",
       "      <td>0.660964</td>\n",
       "      <td>0.638356</td>\n",
       "      <td>0.795455</td>\n",
       "    </tr>\n",
       "    <tr>\n",
       "      <td>6</td>\n",
       "      <td>No log</td>\n",
       "      <td>0.691435</td>\n",
       "      <td>0.647083</td>\n",
       "      <td>0.797521</td>\n",
       "    </tr>\n",
       "    <tr>\n",
       "      <td>7</td>\n",
       "      <td>No log</td>\n",
       "      <td>0.668955</td>\n",
       "      <td>0.665685</td>\n",
       "      <td>0.803719</td>\n",
       "    </tr>\n",
       "    <tr>\n",
       "      <td>8</td>\n",
       "      <td>No log</td>\n",
       "      <td>0.702885</td>\n",
       "      <td>0.677698</td>\n",
       "      <td>0.809917</td>\n",
       "    </tr>\n",
       "    <tr>\n",
       "      <td>9</td>\n",
       "      <td>No log</td>\n",
       "      <td>0.723253</td>\n",
       "      <td>0.677698</td>\n",
       "      <td>0.809917</td>\n",
       "    </tr>\n",
       "    <tr>\n",
       "      <td>10</td>\n",
       "      <td>0.342700</td>\n",
       "      <td>0.770981</td>\n",
       "      <td>0.662624</td>\n",
       "      <td>0.803719</td>\n",
       "    </tr>\n",
       "  </tbody>\n",
       "</table><p>"
      ],
      "text/plain": [
       "<IPython.core.display.HTML object>"
      ]
     },
     "metadata": {},
     "output_type": "display_data"
    },
    {
     "data": {
      "text/plain": [
       "TrainOutput(global_step=520, training_loss=0.33451887644254247, metrics={'train_runtime': 75.4638, 'train_samples_per_second': 109.986, 'train_steps_per_second': 6.891, 'total_flos': 0.0, 'train_loss': 0.33451887644254247, 'epoch': 10.0})"
      ]
     },
     "execution_count": 150,
     "metadata": {},
     "output_type": "execute_result"
    }
   ],
   "source": [
    "trainer.train()"
   ]
  },
  {
   "cell_type": "code",
   "execution_count": null,
   "metadata": {},
   "outputs": [],
   "source": []
  }
 ],
 "metadata": {
  "kaggle": {
   "accelerator": "gpu",
   "dataSources": [
    {
     "datasetId": 6742324,
     "sourceId": 10854945,
     "sourceType": "datasetVersion"
    }
   ],
   "dockerImageVersionId": 30918,
   "isGpuEnabled": true,
   "isInternetEnabled": true,
   "language": "python",
   "sourceType": "notebook"
  },
  "kernelspec": {
   "display_name": "env",
   "language": "python",
   "name": "python3"
  },
  "language_info": {
   "codemirror_mode": {
    "name": "ipython",
    "version": 3
   },
   "file_extension": ".py",
   "mimetype": "text/x-python",
   "name": "python",
   "nbconvert_exporter": "python",
   "pygments_lexer": "ipython3",
   "version": "3.10.12"
  }
 },
 "nbformat": 4,
 "nbformat_minor": 4
}
