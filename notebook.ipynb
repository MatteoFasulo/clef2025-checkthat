{
 "cells": [
  {
   "cell_type": "markdown",
   "metadata": {},
   "source": [
    "# Subjectivity in News Articles\n",
    "\n",
    "## Group:\n",
    "- Luca Babboni - luca.babboni2@studio.unibo.it\n",
    "- Matteo Fasulo - matteo.fasulo@studio.unibo.it\n",
    "- Luca Tedeschini - luca.tedeschini3@studio.unibo.it\n",
    "\n",
    "## Description\n",
    "\n",
    "This notebook addresses Task 1 proposed in [CheckThat Lab](https://checkthat.gitlab.io/clef2025/) of CLEF 2025. In this task, systems are challenged to distinguish whether a sentence from a news article expresses the subjective view of the author behind it or presents an objective view on the covered topic instead.\n",
    "\n",
    "This is a binary classification tasks in which systems have to identify whether a text sequence (a sentence or a paragraph) is subjective (SUBJ) or objective (OBJ).\n",
    "\n",
    "The task comprises three settings:\n",
    "\n",
    "* Monolingual: train and test on data in a given language\n",
    "* Multilingual: train and test on data comprising several languages\n",
    "* Zero-shot: train on several languages and test on unseen languages\n",
    "\n",
    "training data in five languages:\n",
    "* Arabic\n",
    "* Bulgarian\n",
    "* English\n",
    "* German\n",
    "* Italian\n",
    "\n",
    "The official evaluation is macro-averaged F1 between the two classes."
   ]
  },
  {
   "cell_type": "code",
   "execution_count": 1,
   "metadata": {
    "execution": {
     "iopub.execute_input": "2025-03-03T09:51:48.169690Z",
     "iopub.status.busy": "2025-03-03T09:51:48.169168Z",
     "iopub.status.idle": "2025-03-03T09:51:48.177751Z",
     "shell.execute_reply": "2025-03-03T09:51:48.176909Z",
     "shell.execute_reply.started": "2025-03-03T09:51:48.169620Z"
    },
    "trusted": true
   },
   "outputs": [
    {
     "name": "stderr",
     "output_type": "stream",
     "text": [
      "/home/matteo/Documenti/VSCODE/clef2025-checkthat/.venv/lib/python3.10/site-packages/tqdm/auto.py:21: TqdmWarning: IProgress not found. Please update jupyter and ipywidgets. See https://ipywidgets.readthedocs.io/en/stable/user_install.html\n",
      "  from .autonotebook import tqdm as notebook_tqdm\n"
     ]
    }
   ],
   "source": [
    "from collections import defaultdict\n",
    "import os\n",
    "import gc\n",
    "from pathlib import Path\n",
    "\n",
    "import csv\n",
    "\n",
    "import matplotlib.pyplot as plt\n",
    "import numpy as np\n",
    "import pandas as pd\n",
    "\n",
    "from tqdm import tqdm\n",
    "\n",
    "from joblib import delayed, Parallel\n",
    "\n",
    "from sklearn.preprocessing import LabelBinarizer\n",
    "from sklearn.linear_model import LogisticRegression\n",
    "from sklearn.metrics import accuracy_score, precision_recall_fscore_support, f1_score, confusion_matrix, ConfusionMatrixDisplay\n",
    "from sklearn.utils.class_weight import compute_class_weight\n",
    "\n",
    "import torch\n",
    "import torch.nn as nn\n",
    "from torch.utils.data import DataLoader, TensorDataset\n",
    "\n",
    "from sentence_transformers import SentenceTransformer\n",
    "from datasets import Dataset\n",
    "from huggingface_hub import notebook_login\n",
    "from transformers.modeling_outputs import SequenceClassifierOutput\n",
    "from transformers import AutoTokenizer, AutoModel, AutoModelForSequenceClassification, Trainer, TrainingArguments, DataCollatorWithPadding, RobertaTokenizerFast, RobertaForSequenceClassification, pipeline, get_linear_schedule_with_warmup"
   ]
  },
  {
   "cell_type": "code",
   "execution_count": 2,
   "metadata": {
    "execution": {
     "iopub.execute_input": "2025-03-03T09:51:51.629506Z",
     "iopub.status.busy": "2025-03-03T09:51:51.629187Z",
     "iopub.status.idle": "2025-03-03T09:51:51.701028Z",
     "shell.execute_reply": "2025-03-03T09:51:51.700154Z",
     "shell.execute_reply.started": "2025-03-03T09:51:51.629482Z"
    },
    "trusted": true
   },
   "outputs": [
    {
     "name": "stdout",
     "output_type": "stream",
     "text": [
      "Using device: cuda\n"
     ]
    }
   ],
   "source": [
    "SEED = 42\n",
    "device = 'cuda' if torch.cuda.is_available() else 'cpu'\n",
    "print(f\"Using device: {device}\")"
   ]
  },
  {
   "cell_type": "code",
   "execution_count": 3,
   "metadata": {
    "execution": {
     "iopub.execute_input": "2025-03-03T09:51:51.884149Z",
     "iopub.status.busy": "2025-03-03T09:51:51.883773Z",
     "iopub.status.idle": "2025-03-03T09:51:51.893917Z",
     "shell.execute_reply": "2025-03-03T09:51:51.893085Z",
     "shell.execute_reply.started": "2025-03-03T09:51:51.884121Z"
    },
    "trusted": true
   },
   "outputs": [],
   "source": [
    "np.random.seed(SEED)\n",
    "torch.manual_seed(SEED)\n",
    "torch.cuda.manual_seed_all(SEED)"
   ]
  },
  {
   "cell_type": "code",
   "execution_count": 4,
   "metadata": {
    "execution": {
     "iopub.execute_input": "2025-03-03T10:44:14.516120Z",
     "iopub.status.busy": "2025-03-03T10:44:14.515778Z",
     "iopub.status.idle": "2025-03-03T10:44:14.529775Z",
     "shell.execute_reply": "2025-03-03T10:44:14.528864Z",
     "shell.execute_reply.started": "2025-03-03T10:44:14.516094Z"
    },
    "trusted": true
   },
   "outputs": [],
   "source": [
    "class Subjectivity:\n",
    "    def __init__(self, data_folder: str = 'data', seed: int = 42, device: str = 'cuda'):\n",
    "        self.seed = seed\n",
    "        self.device = device\n",
    "        self.languages = [language for language in os.listdir(data_folder)]\n",
    "\n",
    "        dataset = self.create_dataset(data_folder=data_folder)\n",
    "        self.dataset = dataset\n",
    "        \n",
    "        train, dev, test = self.get_splits(dataset, print_shapes=True)\n",
    "        self.train = train\n",
    "        self.dev = dev\n",
    "        self.test = test\n",
    "\n",
    "        self.all_data = self.get_per_lang_dataset()\n",
    "        \n",
    "\n",
    "    def create_dataset(self, data_folder: str = 'data'):\n",
    "        dataset = pd.DataFrame(columns=['sentence_id','sentence','label','lang','split'])\n",
    "        for language in os.listdir(data_folder):\n",
    "            for filename in os.listdir(f\"{data_folder}{os.sep}{language}\"):\n",
    "                if '.tsv' in filename:\n",
    "                    abs_path = f\"{data_folder}{os.sep}{language}{os.sep}{filename}\"\n",
    "                    df = pd.read_csv(abs_path, sep='\\t', quoting=csv.QUOTE_NONE)\n",
    "                    if 'solved_conflict' in df.columns:\n",
    "                        df.drop(columns=['solved_conflict'], inplace=True)\n",
    "                    df['lang'] = language\n",
    "                    df['split'] = Path(filename).stem\n",
    "                    dataset = pd.concat([dataset, df], axis=0)\n",
    "        return dataset\n",
    "\n",
    "    def get_splits(self, dataset: pd.DataFrame, print_shapes: bool = True):\n",
    "        train = dataset[dataset['split'].str.contains('train')].copy()\n",
    "        dev = dataset[(dataset['split'].str.contains('dev')) & ~(dataset['split'].str.contains('dev_test'))].copy()\n",
    "        test = dataset[dataset['split'].str.contains('dev_test')].copy()\n",
    "\n",
    "        # encode the target variable to int (0: obj; 1: subj)\n",
    "        train.loc[:, 'label'] = train['label'].apply(lambda x: 0 if x == 'OBJ' else 1)\n",
    "        dev.loc[:, 'label'] = dev['label'].apply(lambda x: 0 if x == 'OBJ' else 1)\n",
    "        test.loc[:, 'label'] = test['label'].apply(lambda x: 0 if x == 'OBJ' else 1)\n",
    "\n",
    "        # cast to int\n",
    "        train['label'] = train['label'].astype(int)\n",
    "        dev['label'] = dev['label'].astype(int)\n",
    "        test['label'] = test['label'].astype(int)\n",
    "\n",
    "        if print_shapes:\n",
    "            print(f\"Train: {train.shape}\")\n",
    "            print(f\"Dev: {dev.shape}\")\n",
    "            print(f\"Test: {test.shape}\")\n",
    "            \n",
    "        return train, dev, test\n",
    "\n",
    "    def get_per_lang_dataset(self):\n",
    "        \"\"\"\n",
    "        dataset_dict = {\n",
    "            'english': {\n",
    "                'train': ...\n",
    "                'dev': ...\n",
    "                'test': ...\n",
    "            },\n",
    "        }\n",
    "        \"\"\"\n",
    "        dataset_dict = {}\n",
    "        for language in self.languages:\n",
    "            dataset_dict[language] = {}\n",
    "            # get the train data\n",
    "            dataset_dict[language]['train'] = self.train[self.train['lang']==language].copy()\n",
    "            # get the dev data\n",
    "            dataset_dict[language]['dev'] = self.dev[self.dev['lang']==language].copy()\n",
    "            # get the test data\n",
    "            dataset_dict[language]['test'] = self.test[self.test['lang']==language].copy()\n",
    "        return dataset_dict\n",
    "\n",
    "    def print_label_distrib(self, dataset: pd.DataFrame):\n",
    "        print(dataset['label'].value_counts(normalize=True))\n",
    "\n",
    "    def get_baseline_model(self, model_name: str = \"paraphrase-multilingual-MiniLM-L12-v2\"):\n",
    "        vect = SentenceTransformer(model_name)\n",
    "        self.vect = vect\n",
    "        return vect\n",
    "\n",
    "    def train_baseline_model(self, vect, train_data: pd.DataFrame, test_data: pd.DataFrame, solver: str = 'saga'):\n",
    "        model = LogisticRegression(class_weight=\"balanced\", solver=solver, random_state=self.seed)\n",
    "        model.fit(X=vect.encode(train_data['sentence'].values), y=train_data['label'].values)\n",
    "        predictions = model.predict(X=vect.encode(test_data['sentence'].values)).tolist()\n",
    "\n",
    "        # eval performances\n",
    "        perfs = self.evaluate_model(gold_values=test_data['label'].values, predicted_values=predictions)\n",
    "\n",
    "        return perfs\n",
    "\n",
    "    def get_tokenizer(self, model_card: str = \"microsoft/mdeberta-v3-base\"):\n",
    "        tokenizer = AutoTokenizer.from_pretrained(model_card)\n",
    "        self.tokenizer = tokenizer\n",
    "        return tokenizer\n",
    "\n",
    "    def get_model(self, model_card: str = \"microsoft/mdeberta-v3-base\", *args, **kwargs):\n",
    "        model = AutoModelForSequenceClassification.from_pretrained(model_card, *args, **kwargs)\n",
    "        self.model = model\n",
    "        return model\n",
    "\n",
    "    def get_class_weights(self, dataset: pd.DataFrame):\n",
    "        class_weights = compute_class_weight('balanced', classes=np.unique(dataset['label']), y=dataset['label']).to(self.device)\n",
    "        return class_weights\n",
    "\n",
    "    def tokenize_text(self, sentences: pd.Series, max_length: int = 100):\n",
    "        input_ids = []\n",
    "        attention_masks = []\n",
    "        total_length = 0\n",
    "        i = 0\n",
    "        for sent in tqdm(sentences, desc='Tokenize of sentences'):\n",
    "            total_length += len(sent)\n",
    "            i += 1\n",
    "            encoded = self.tokenizer.encode_plus(\n",
    "                sent,\n",
    "                add_special_tokens=True,\n",
    "                max_length=max_length,\n",
    "                padding='max_length',\n",
    "                truncation=True,\n",
    "                return_attention_mask = True,\n",
    "                return_tensors = 'pt')\n",
    "\n",
    "            input_ids.append(encoded['input_ids'])\n",
    "            attention_masks.append(encoded['attention_mask'])\n",
    "\n",
    "        input_ids = torch.cat(input_ids, dim=0)\n",
    "        attention_masks = torch.cat(attention_masks, dim=0)\n",
    "        return input_ids, attention_masks\n",
    "\n",
    "    def create_dataloader(self, input_ids, attention_masks, labels, batch_size: int, shuffle: bool = True, pin_mem: bool = False):\n",
    "        dataset = TensorDataset(input_ids, attention_masks, labels)\n",
    "        return DataLoader(dataset, batch_size=batch_size, shuffle=shuffle, pin_memory=pin_mem)\n",
    "\n",
    "    def train_model(self, model, model_name: str, train_dl, dev_dl, criterion, optimizer, scheduler, epochs: int, device):\n",
    "\n",
    "        # Resize model token embeddings to the len of tokenizer\n",
    "        model.resize_token_embeddings(len(self.tokenizer))\n",
    "\n",
    "        # Move model to device\n",
    "        model.to(device)\n",
    "        \n",
    "        true_labels = defaultdict(list)\n",
    "        predictions = defaultdict(list)\n",
    "        val_losses = {}\n",
    "        training_stats = []\n",
    "        \n",
    "        best_val_loss = float('inf')\n",
    "        for i, epoch in enumerate(range(epochs), start=1):\n",
    "        \n",
    "            total_train_loss = 0\n",
    "            model.train()\n",
    "        \n",
    "            for batch in tqdm(train_dl, desc=f\"Epoch {i}/{epochs}\"):\n",
    "                b_input_ids, b_input_mask, b_labels = batch\n",
    "                b_input_ids = b_input_ids.to(device)\n",
    "                b_input_mask = b_input_mask.to(device)\n",
    "                b_labels = b_labels.to(device)\n",
    "        \n",
    "                model.zero_grad()\n",
    "        \n",
    "                result = model(b_input_ids,\n",
    "                attention_mask=b_input_mask,\n",
    "                labels=b_labels,\n",
    "                return_dict=True)\n",
    "        \n",
    "                logits = result.logits\n",
    "        \n",
    "                # Compute weighted loss manually\n",
    "                loss = criterion(logits, b_labels) # Use weighted loss\n",
    "                total_train_loss += loss.item()\n",
    "        \n",
    "                loss.backward()\n",
    "        \n",
    "                torch.nn.utils.clip_grad_norm_(model.parameters(), 1.0)\n",
    "        \n",
    "                optimizer.step()\n",
    "                scheduler.step()\n",
    "                \n",
    "            avg_train_loss = total_train_loss / len(train_dl)\n",
    "        \n",
    "            model.eval()\n",
    "        \n",
    "            total_eval_loss = 0\n",
    "        \n",
    "            for batch in tqdm(dev_dl, desc=\"Evaluating\"):\n",
    "                b_input_ids, b_input_mask, b_labels = batch\n",
    "                b_input_ids = b_input_ids.to(device)\n",
    "                b_input_mask = b_input_mask.to(device)\n",
    "                b_labels = b_labels.to(device)\n",
    "        \n",
    "                with torch.no_grad():\n",
    "                    result = model(b_input_ids,\n",
    "                                token_type_ids=None,\n",
    "                                attention_mask=b_input_mask,\n",
    "                                labels=b_labels,\n",
    "                                return_dict=True)\n",
    "        \n",
    "                logits = result.logits\n",
    "        \n",
    "                loss = criterion(logits, b_labels) # Use weighted loss\n",
    "                total_eval_loss += loss.item()\n",
    "        \n",
    "                logits = logits.detach().cpu().numpy()\n",
    "                label_ids = b_labels.to('cpu').numpy()\n",
    "        \n",
    "                true_labels[i].append(label_ids)\n",
    "                predictions[i].append(logits)\n",
    "        \n",
    "            # Printing the cr\n",
    "            flat_predictions = np.concatenate(predictions[i], axis=0)\n",
    "            flat_predictions = np.argmax(flat_predictions, axis=1).flatten()\n",
    "            flat_true_labels = np.concatenate(true_labels[i], axis=0)\n",
    "            \n",
    "            stats = self.evaluate_model(flat_true_labels, flat_predictions)\n",
    "        \n",
    "            # Calculate the average loss over all of the batches.\n",
    "            avg_val_loss = total_eval_loss / len(dev_dl)\n",
    "            val_losses[i] = avg_val_loss\n",
    "        \n",
    "            print(f\"Epoch {i}/{epochs}\\tTrain Loss: {avg_train_loss:.6f}\\tVal Loss: {avg_val_loss:.6f}\\tL.rate: {optimizer.param_groups[0]['lr']:.6f}\\tVal F1: {stats['macro_F1']:.4f}\")\n",
    "            \n",
    "            if avg_val_loss < best_val_loss:\n",
    "                best_val_loss = avg_val_loss\n",
    "                print(\"Saving model with new val loss:\", best_val_loss)\n",
    "                torch.save(model.state_dict(), model_name)\n",
    "        \n",
    "            training_stats.append(stats)\n",
    "\n",
    "        print(\"Loading the best model checkpoint\")\n",
    "        model.load_state_dict(torch.load(model_name, weights_only=True))\n",
    "\n",
    "        return model\n",
    "\n",
    "    def evaluate_model(self, gold_values, predicted_values):\n",
    "        acc = accuracy_score(gold_values, predicted_values)\n",
    "        m_prec, m_rec, m_f1, m_s = precision_recall_fscore_support(gold_values, predicted_values, average=\"macro\",\n",
    "                                                                   zero_division=0)\n",
    "        p_prec, p_rec, p_f1, p_s = precision_recall_fscore_support(gold_values, predicted_values, labels=[1],\n",
    "                                                                   zero_division=0)\n",
    "    \n",
    "        return {\n",
    "            'macro_F1': m_f1,\n",
    "            'macro_P': m_prec,\n",
    "            'macro_R': m_rec,\n",
    "            'SUBJ_F1': p_f1[0],\n",
    "            'SUBJ_P': p_prec[0],\n",
    "            'SUBJ_R': p_rec[0],\n",
    "            'accuracy': acc\n",
    "        }"
   ]
  },
  {
   "cell_type": "code",
   "execution_count": null,
   "metadata": {
    "execution": {
     "iopub.execute_input": "2025-03-03T10:44:14.870400Z",
     "iopub.status.busy": "2025-03-03T10:44:14.870117Z",
     "iopub.status.idle": "2025-03-03T10:44:14.873412Z",
     "shell.execute_reply": "2025-03-03T10:44:14.872654Z",
     "shell.execute_reply.started": "2025-03-03T10:44:14.870377Z"
    },
    "trusted": true
   },
   "outputs": [],
   "source": [
    "data_folder = '/kaggle/input/clef2025-checkthat/data' # data"
   ]
  },
  {
   "cell_type": "code",
   "execution_count": 8,
   "metadata": {
    "execution": {
     "iopub.execute_input": "2025-03-03T10:44:16.321292Z",
     "iopub.status.busy": "2025-03-03T10:44:16.320970Z",
     "iopub.status.idle": "2025-03-03T10:44:16.462296Z",
     "shell.execute_reply": "2025-03-03T10:44:16.461552Z",
     "shell.execute_reply.started": "2025-03-03T10:44:16.321265Z"
    },
    "trusted": true
   },
   "outputs": [
    {
     "name": "stdout",
     "output_type": "stream",
     "text": [
      "Train: (6418, 5)\n",
      "Dev: (2401, 5)\n",
      "Test: (2332, 5)\n"
     ]
    }
   ],
   "source": [
    "detector = Subjectivity(data_folder=data_folder, seed=SEED, device=device)"
   ]
  },
  {
   "cell_type": "code",
   "execution_count": 9,
   "metadata": {
    "execution": {
     "iopub.execute_input": "2025-03-03T10:44:16.487984Z",
     "iopub.status.busy": "2025-03-03T10:44:16.487681Z",
     "iopub.status.idle": "2025-03-03T10:44:16.494897Z",
     "shell.execute_reply": "2025-03-03T10:44:16.493996Z",
     "shell.execute_reply.started": "2025-03-03T10:44:16.487963Z"
    },
    "trusted": true
   },
   "outputs": [
    {
     "name": "stdout",
     "output_type": "stream",
     "text": [
      "label\n",
      "0    0.631349\n",
      "1    0.368651\n",
      "Name: proportion, dtype: float64\n",
      "label\n",
      "0    0.612245\n",
      "1    0.387755\n",
      "Name: proportion, dtype: float64\n",
      "label\n",
      "0    0.657376\n",
      "1    0.342624\n",
      "Name: proportion, dtype: float64\n"
     ]
    }
   ],
   "source": [
    "detector.print_label_distrib(detector.train)\n",
    "detector.print_label_distrib(detector.dev)\n",
    "detector.print_label_distrib(detector.test)"
   ]
  },
  {
   "cell_type": "code",
   "execution_count": 121,
   "metadata": {
    "execution": {
     "iopub.execute_input": "2025-03-03T10:44:18.776529Z",
     "iopub.status.busy": "2025-03-03T10:44:18.776243Z",
     "iopub.status.idle": "2025-03-03T10:44:18.779534Z",
     "shell.execute_reply": "2025-03-03T10:44:18.778848Z",
     "shell.execute_reply.started": "2025-03-03T10:44:18.776508Z"
    },
    "trusted": true
   },
   "outputs": [],
   "source": [
    "#notebook_login()"
   ]
  },
  {
   "cell_type": "markdown",
   "metadata": {},
   "source": [
    "# Baseline Model (English)"
   ]
  },
  {
   "cell_type": "code",
   "execution_count": 123,
   "metadata": {
    "execution": {
     "iopub.execute_input": "2025-03-03T10:44:55.818455Z",
     "iopub.status.busy": "2025-03-03T10:44:55.818149Z",
     "iopub.status.idle": "2025-03-03T10:44:59.904552Z",
     "shell.execute_reply": "2025-03-03T10:44:59.903637Z",
     "shell.execute_reply.started": "2025-03-03T10:44:55.818434Z"
    },
    "trusted": true
   },
   "outputs": [
    {
     "data": {
      "text/plain": [
       "SentenceTransformer(\n",
       "  (0): Transformer({'max_seq_length': 128, 'do_lower_case': False}) with Transformer model: BertModel \n",
       "  (1): Pooling({'word_embedding_dimension': 384, 'pooling_mode_cls_token': False, 'pooling_mode_mean_tokens': True, 'pooling_mode_max_tokens': False, 'pooling_mode_mean_sqrt_len_tokens': False, 'pooling_mode_weightedmean_tokens': False, 'pooling_mode_lasttoken': False, 'include_prompt': True})\n",
       ")"
      ]
     },
     "execution_count": 123,
     "metadata": {},
     "output_type": "execute_result"
    }
   ],
   "source": [
    "vect = detector.get_baseline_model(model_name=\"paraphrase-multilingual-MiniLM-L12-v2\")\n",
    "vect"
   ]
  },
  {
   "cell_type": "code",
   "execution_count": 125,
   "metadata": {
    "execution": {
     "iopub.execute_input": "2025-03-03T10:45:39.469438Z",
     "iopub.status.busy": "2025-03-03T10:45:39.469116Z",
     "iopub.status.idle": "2025-03-03T10:45:40.774277Z",
     "shell.execute_reply": "2025-03-03T10:45:40.773422Z",
     "shell.execute_reply.started": "2025-03-03T10:45:39.469406Z"
    },
    "trusted": true
   },
   "outputs": [
    {
     "data": {
      "application/vnd.jupyter.widget-view+json": {
       "model_id": "40c375fcda094ff297663f591c9c78b6",
       "version_major": 2,
       "version_minor": 0
      },
      "text/plain": [
       "Batches:   0%|          | 0/26 [00:00<?, ?it/s]"
      ]
     },
     "metadata": {},
     "output_type": "display_data"
    },
    {
     "name": "stderr",
     "output_type": "stream",
     "text": [
      "/usr/local/lib/python3.10/dist-packages/sklearn/linear_model/_sag.py:350: ConvergenceWarning: The max_iter was reached which means the coef_ did not converge\n",
      "  warnings.warn(\n"
     ]
    },
    {
     "data": {
      "application/vnd.jupyter.widget-view+json": {
       "model_id": "22c51cf3aec0416da3d3c421e61bf26b",
       "version_major": 2,
       "version_minor": 0
      },
      "text/plain": [
       "Batches:   0%|          | 0/16 [00:00<?, ?it/s]"
      ]
     },
     "metadata": {},
     "output_type": "display_data"
    },
    {
     "data": {
      "text/plain": [
       "{'macro_F1': 0.6328683996014854,\n",
       " 'macro_P': 0.6328683996014853,\n",
       " 'macro_R': 0.6328683996014853,\n",
       " 'SUBJ_F1': 0.4508196721311476,\n",
       " 'SUBJ_P': 0.45081967213114754,\n",
       " 'SUBJ_R': 0.45081967213114754,\n",
       " 'accuracy': 0.7231404958677686}"
      ]
     },
     "execution_count": 125,
     "metadata": {},
     "output_type": "execute_result"
    }
   ],
   "source": [
    "detector.train_baseline_model(vect, detector.all_data['english']['train'], detector.all_data['english']['test'])"
   ]
  },
  {
   "cell_type": "markdown",
   "metadata": {},
   "source": [
    "# Baseline Model (italian)"
   ]
  },
  {
   "cell_type": "code",
   "execution_count": 127,
   "metadata": {
    "execution": {
     "iopub.execute_input": "2025-03-03T10:46:41.905045Z",
     "iopub.status.busy": "2025-03-03T10:46:41.904741Z",
     "iopub.status.idle": "2025-03-03T10:46:43.880991Z",
     "shell.execute_reply": "2025-03-03T10:46:43.880178Z",
     "shell.execute_reply.started": "2025-03-03T10:46:41.905024Z"
    },
    "trusted": true
   },
   "outputs": [
    {
     "data": {
      "application/vnd.jupyter.widget-view+json": {
       "model_id": "c1c311a61ce2495682346a8c39687a0c",
       "version_major": 2,
       "version_minor": 0
      },
      "text/plain": [
       "Batches:   0%|          | 0/51 [00:00<?, ?it/s]"
      ]
     },
     "metadata": {},
     "output_type": "display_data"
    },
    {
     "data": {
      "application/vnd.jupyter.widget-view+json": {
       "model_id": "31a74d75666847668890a363ab8ba97b",
       "version_major": 2,
       "version_minor": 0
      },
      "text/plain": [
       "Batches:   0%|          | 0/17 [00:00<?, ?it/s]"
      ]
     },
     "metadata": {},
     "output_type": "display_data"
    },
    {
     "data": {
      "text/plain": [
       "{'macro_F1': 0.6320502510378404,\n",
       " 'macro_P': 0.6294871794871795,\n",
       " 'macro_R': 0.656605944765174,\n",
       " 'SUBJ_F1': 0.5015105740181269,\n",
       " 'SUBJ_P': 0.4256410256410256,\n",
       " 'SUBJ_R': 0.6102941176470589,\n",
       " 'accuracy': 0.6783625730994152}"
      ]
     },
     "execution_count": 127,
     "metadata": {},
     "output_type": "execute_result"
    }
   ],
   "source": [
    "detector.train_baseline_model(vect, detector.all_data['italian']['train'], detector.all_data['italian']['test'])"
   ]
  },
  {
   "cell_type": "markdown",
   "metadata": {},
   "source": [
    "# Baseline Model (multilingual)"
   ]
  },
  {
   "cell_type": "code",
   "execution_count": null,
   "metadata": {
    "execution": {
     "iopub.execute_input": "2025-03-03T10:46:06.711176Z",
     "iopub.status.busy": "2025-03-03T10:46:06.710840Z",
     "iopub.status.idle": "2025-03-03T10:46:15.429719Z",
     "shell.execute_reply": "2025-03-03T10:46:15.428818Z",
     "shell.execute_reply.started": "2025-03-03T10:46:06.711150Z"
    },
    "trusted": true
   },
   "outputs": [
    {
     "data": {
      "application/vnd.jupyter.widget-view+json": {
       "model_id": "c250ee7aa40245da9c832116d22c6ab3",
       "version_major": 2,
       "version_minor": 0
      },
      "text/plain": [
       "Batches:   0%|          | 0/201 [00:00<?, ?it/s]"
      ]
     },
     "metadata": {},
     "output_type": "display_data"
    },
    {
     "data": {
      "application/vnd.jupyter.widget-view+json": {
       "model_id": "0eec9de48a4840c1b3c5e7e0160a4690",
       "version_major": 2,
       "version_minor": 0
      },
      "text/plain": [
       "Batches:   0%|          | 0/73 [00:00<?, ?it/s]"
      ]
     },
     "metadata": {},
     "output_type": "display_data"
    },
    {
     "data": {
      "text/plain": [
       "{'macro_F1': 0.6220011992495018,\n",
       " 'macro_P': 0.6223227143343395,\n",
       " 'macro_R': 0.633496534725811,\n",
       " 'SUBJ_F1': 0.538037486218302,\n",
       " 'SUBJ_P': 0.4807881773399015,\n",
       " 'SUBJ_R': 0.6107634543178974,\n",
       " 'accuracy': 0.6406518010291595}"
      ]
     },
     "execution_count": 126,
     "metadata": {},
     "output_type": "execute_result"
    }
   ],
   "source": [
    "detector.train_baseline_model(vect, detector.train, detector.test)"
   ]
  },
  {
   "cell_type": "markdown",
   "metadata": {},
   "source": [
    "# mDeBERTta v3 base (German)"
   ]
  },
  {
   "cell_type": "code",
   "execution_count": 128,
   "metadata": {
    "execution": {
     "iopub.execute_input": "2025-03-03T10:47:23.814639Z",
     "iopub.status.busy": "2025-03-03T10:47:23.814298Z",
     "iopub.status.idle": "2025-03-03T10:47:24.190035Z",
     "shell.execute_reply": "2025-03-03T10:47:24.189113Z",
     "shell.execute_reply.started": "2025-03-03T10:47:23.814592Z"
    },
    "trusted": true
   },
   "outputs": [
    {
     "data": {
      "text/plain": [
       "36"
      ]
     },
     "execution_count": 128,
     "metadata": {},
     "output_type": "execute_result"
    }
   ],
   "source": [
    "with torch.no_grad():\n",
    "    torch.cuda.empty_cache()\n",
    "\n",
    "if 'model' in locals() or 'model' in globals():\n",
    "    del model\n",
    "    print(\"Model deleted!\")\n",
    "\n",
    "gc.collect()"
   ]
  },
  {
   "cell_type": "code",
   "execution_count": null,
   "metadata": {
    "execution": {
     "iopub.execute_input": "2025-03-03T10:47:30.654253Z",
     "iopub.status.busy": "2025-03-03T10:47:30.653811Z",
     "iopub.status.idle": "2025-03-03T10:47:35.114399Z",
     "shell.execute_reply": "2025-03-03T10:47:35.113711Z",
     "shell.execute_reply.started": "2025-03-03T10:47:30.654225Z"
    },
    "trusted": true
   },
   "outputs": [
    {
     "data": {
      "application/vnd.jupyter.widget-view+json": {
       "model_id": "83d121f6bda04e55b00e0e40a69db731",
       "version_major": 2,
       "version_minor": 0
      },
      "text/plain": [
       "tokenizer_config.json:   0%|          | 0.00/52.0 [00:00<?, ?B/s]"
      ]
     },
     "metadata": {},
     "output_type": "display_data"
    },
    {
     "data": {
      "application/vnd.jupyter.widget-view+json": {
       "model_id": "7786a77587c64131892ec69f7b659699",
       "version_major": 2,
       "version_minor": 0
      },
      "text/plain": [
       "config.json:   0%|          | 0.00/579 [00:00<?, ?B/s]"
      ]
     },
     "metadata": {},
     "output_type": "display_data"
    },
    {
     "data": {
      "application/vnd.jupyter.widget-view+json": {
       "model_id": "e18ae90524fd42bd9e6d66cd99ea1054",
       "version_major": 2,
       "version_minor": 0
      },
      "text/plain": [
       "spm.model:   0%|          | 0.00/4.31M [00:00<?, ?B/s]"
      ]
     },
     "metadata": {},
     "output_type": "display_data"
    },
    {
     "name": "stderr",
     "output_type": "stream",
     "text": [
      "/usr/local/lib/python3.10/dist-packages/transformers/convert_slow_tokenizer.py:561: UserWarning: The sentencepiece tokenizer that you are converting to a fast tokenizer uses the byte fallback option which is not implemented in the fast tokenizers. In practice this means that the fast version of the tokenizer can produce unknown tokens whereas the sentencepiece version would have converted these unknown tokens into a sequence of byte tokens matching the original piece of text.\n",
      "  warnings.warn(\n"
     ]
    }
   ],
   "source": [
    "model_card = \"microsoft/mdeberta-v3-base\"\n",
    "tokenizer = detector.get_tokenizer(model_card=model_card)"
   ]
  },
  {
   "cell_type": "code",
   "execution_count": null,
   "metadata": {
    "execution": {
     "iopub.execute_input": "2025-03-03T10:47:36.945829Z",
     "iopub.status.busy": "2025-03-03T10:47:36.945467Z",
     "iopub.status.idle": "2025-03-03T10:48:21.283737Z",
     "shell.execute_reply": "2025-03-03T10:48:21.282661Z",
     "shell.execute_reply.started": "2025-03-03T10:47:36.945801Z"
    },
    "trusted": true
   },
   "outputs": [
    {
     "data": {
      "application/vnd.jupyter.widget-view+json": {
       "model_id": "259d242c436e4a48a00c04f72cbde27e",
       "version_major": 2,
       "version_minor": 0
      },
      "text/plain": [
       "pytorch_model.bin:   0%|          | 0.00/1.33G [00:00<?, ?B/s]"
      ]
     },
     "metadata": {},
     "output_type": "display_data"
    },
    {
     "name": "stderr",
     "output_type": "stream",
     "text": [
      "Some weights of DebertaV2ForSequenceClassification were not initialized from the model checkpoint at microsoft/mdeberta-v3-base and are newly initialized: ['classifier.bias', 'classifier.weight', 'pooler.dense.bias', 'pooler.dense.weight']\n",
      "You should probably TRAIN this model on a down-stream task to be able to use it for predictions and inference.\n"
     ]
    }
   ],
   "source": [
    "model = detector.get_model(\n",
    "    model_card=model_card, \n",
    "    num_labels=2, \n",
    "    id2label={0: 'OBJ', 1: 'SUBJ'}, \n",
    "    label2id={'OBJ': 0, 'SUBJ': 1},\n",
    "    output_attentions = False,\n",
    "    output_hidden_states = False\n",
    ")"
   ]
  },
  {
   "cell_type": "code",
   "execution_count": null,
   "metadata": {},
   "outputs": [],
   "source": [
    "language = 'german'\n",
    "\n",
    "epochs = 5\n",
    "batch_size = 16\n",
    "lr = 1e-5\n",
    "weight_decay = 0.3\n",
    "n_warmup_steps = 200\n",
    "label_smoothing = 0.1\n",
    "\n",
    "# Get the data\n",
    "X_train, y_train = detector.all_data[language]['train']['sentence'], detector.all_data[language]['train']['label']\n",
    "X_dev, y_dev = detector.all_data[language]['dev']['sentence'], detector.all_data[language]['dev']['label']\n",
    "X_test, y_test = detector.all_data[language]['test']['sentence'], detector.all_data[language]['test']['label']\n",
    "\n",
    "# Convert y to tensor\n",
    "y_train = torch.tensor(y_train.values)\n",
    "y_dev = torch.tensor(y_dev.values)\n",
    "y_test = torch.tensor(y_test.values)\n",
    "\n",
    "# Tokenize the text\n",
    "train_input_ids, train_attention_masks = detector.tokenize_text(X_train)\n",
    "dev_input_ids, dev_attention_masks = detector.tokenize_text(X_dev)\n",
    "test_input_ids, test_attention_masks = detector.tokenize_text(X_test)\n",
    "\n",
    "# Create dataloaders\n",
    "train_dl = detector.create_dataloader(train_input_ids, train_attention_masks, y_train, batch_size=batch_size, shuffle=True, pin_mem=True)\n",
    "dev_dl = detector.create_dataloader(dev_input_ids, dev_attention_masks, y_dev, batch_size=batch_size, shuffle=False, pin_mem=True)\n",
    "test_dl = detector.create_dataloader(test_input_ids, test_attention_masks, y_test, batch_size=batch_size, shuffle=False, pin_mem=False)\n",
    "\n",
    "class_weights = detector.get_class_weights(detector.all_data[language]['train'])\n",
    "\n",
    "optimizer = torch.optim.AdamW(model.parameters(), lr=lr, weight_decay=weight_decay)\n",
    "total_steps = len(train_dl) * epochs\n",
    "scheduler = get_linear_schedule_with_warmup(optimizer, num_warmup_steps=n_warmup_steps, num_training_steps=total_steps)\n",
    "criterion = torch.nn.CrossEntropyLoss(weight=class_weights, label_smoothing=label_smoothing)"
   ]
  },
  {
   "cell_type": "code",
   "execution_count": null,
   "metadata": {
    "execution": {
     "iopub.execute_input": "2025-03-01T18:33:15.885607Z",
     "iopub.status.busy": "2025-03-01T18:33:15.885311Z",
     "iopub.status.idle": "2025-03-01T18:38:05.789529Z",
     "shell.execute_reply": "2025-03-01T18:38:05.788830Z",
     "shell.execute_reply.started": "2025-03-01T18:33:15.885585Z"
    },
    "trusted": true
   },
   "outputs": [
    {
     "name": "stderr",
     "output_type": "stream",
     "text": [
      "Epoch 1/5: 100%|██████████| 101/101 [00:44<00:00,  2.27it/s]\n",
      "Evaluating: 100%|██████████| 74/74 [00:10<00:00,  7.08it/s]\n"
     ]
    },
    {
     "name": "stdout",
     "output_type": "stream",
     "text": [
      "Epoch 1/5\tTrain Loss: 0.725024\tVal Loss: 0.717706\tL.rate: 0.000005\tVal F1: 0.5377\n",
      "Saving model with new val loss: 0.7177063258918556\n"
     ]
    },
    {
     "name": "stderr",
     "output_type": "stream",
     "text": [
      "Epoch 2/5: 100%|██████████| 101/101 [00:44<00:00,  2.27it/s]\n",
      "Evaluating: 100%|██████████| 74/74 [00:10<00:00,  6.98it/s]\n"
     ]
    },
    {
     "name": "stdout",
     "output_type": "stream",
     "text": [
      "Epoch 2/5\tTrain Loss: 0.688711\tVal Loss: 0.637752\tL.rate: 0.000010\tVal F1: 0.7379\n",
      "Saving model with new val loss: 0.6377523879747133\n"
     ]
    },
    {
     "name": "stderr",
     "output_type": "stream",
     "text": [
      "Epoch 3/5: 100%|██████████| 101/101 [00:45<00:00,  2.23it/s]\n",
      "Evaluating: 100%|██████████| 74/74 [00:10<00:00,  6.97it/s]\n"
     ]
    },
    {
     "name": "stdout",
     "output_type": "stream",
     "text": [
      "Epoch 3/5\tTrain Loss: 0.551740\tVal Loss: 0.594088\tL.rate: 0.000007\tVal F1: 0.7302\n",
      "Saving model with new val loss: 0.5940875253967337\n"
     ]
    },
    {
     "name": "stderr",
     "output_type": "stream",
     "text": [
      "Epoch 4/5: 100%|██████████| 101/101 [00:45<00:00,  2.24it/s]\n",
      "Evaluating: 100%|██████████| 74/74 [00:10<00:00,  6.96it/s]\n"
     ]
    },
    {
     "name": "stdout",
     "output_type": "stream",
     "text": [
      "Epoch 4/5\tTrain Loss: 0.441824\tVal Loss: 0.633560\tL.rate: 0.000003\tVal F1: 0.7290\n"
     ]
    },
    {
     "name": "stderr",
     "output_type": "stream",
     "text": [
      "Epoch 5/5: 100%|██████████| 101/101 [00:45<00:00,  2.23it/s]\n",
      "Evaluating: 100%|██████████| 74/74 [00:10<00:00,  6.86it/s]\n"
     ]
    },
    {
     "name": "stdout",
     "output_type": "stream",
     "text": [
      "Epoch 5/5\tTrain Loss: 0.385047\tVal Loss: 0.684116\tL.rate: 0.000000\tVal F1: 0.7196\n",
      "Loading the best model checkpoint\n"
     ]
    }
   ],
   "source": [
    "model = detector.train_model(model, \"mDeBERTa-base-subjectivity.pth\", train_dl, dev_dl, criterion, optimizer, scheduler, epochs, device)"
   ]
  },
  {
   "cell_type": "code",
   "execution_count": null,
   "metadata": {},
   "outputs": [],
   "source": [
    "results_df = pd.DataFrame(columns=['model','f1','acc','lang'])"
   ]
  },
  {
   "cell_type": "code",
   "execution_count": null,
   "metadata": {
    "execution": {
     "iopub.execute_input": "2025-03-01T18:38:05.791661Z",
     "iopub.status.busy": "2025-03-01T18:38:05.791388Z",
     "iopub.status.idle": "2025-03-01T18:38:28.415374Z",
     "shell.execute_reply": "2025-03-01T18:38:28.414602Z",
     "shell.execute_reply.started": "2025-03-01T18:38:05.791640Z"
    },
    "trusted": true
   },
   "outputs": [
    {
     "name": "stderr",
     "output_type": "stream",
     "text": [
      "Tokenize of sentences: 100%|██████████| 748/748 [00:00<00:00, 2064.72it/s]\n",
      "Predicting: 100%|██████████| 47/47 [00:06<00:00,  7.00it/s]\n"
     ]
    },
    {
     "name": "stdout",
     "output_type": "stream",
     "text": [
      "Prediction of language: arabic\n",
      "F1 Macro: 0.49535144916232493\n"
     ]
    },
    {
     "data": {
      "image/png": "[encoded data removed]",
      "text/plain": [
       "<Figure size 640x480 with 2 Axes>"
      ]
     },
     "metadata": {},
     "output_type": "display_data"
    },
    {
     "name": "stderr",
     "output_type": "stream",
     "text": [
      "Tokenize of sentences: 100%|██████████| 250/250 [00:00<00:00, 2196.87it/s]\n",
      "Predicting: 100%|██████████| 16/16 [00:02<00:00,  7.34it/s]\n"
     ]
    },
    {
     "name": "stdout",
     "output_type": "stream",
     "text": [
      "Prediction of language: bulgarian\n",
      "F1 Macro: 0.7089161842601551\n"
     ]
    },
    {
     "data": {
      "image/png": "[encoded data removed]",
      "text/plain": [
       "<Figure size 640x480 with 2 Axes>"
      ]
     },
     "metadata": {},
     "output_type": "display_data"
    },
    {
     "name": "stderr",
     "output_type": "stream",
     "text": [
      "Tokenize of sentences: 100%|██████████| 484/484 [00:00<00:00, 2193.46it/s]\n",
      "Predicting: 100%|██████████| 31/31 [00:04<00:00,  7.15it/s]\n"
     ]
    },
    {
     "name": "stdout",
     "output_type": "stream",
     "text": [
      "Prediction of language: english\n",
      "F1 Macro: 0.6284410613498259\n"
     ]
    },
    {
     "data": {
      "image/png": "[encoded data removed]",
      "text/plain": [
       "<Figure size 640x480 with 2 Axes>"
      ]
     },
     "metadata": {},
     "output_type": "display_data"
    },
    {
     "name": "stderr",
     "output_type": "stream",
     "text": [
      "Tokenize of sentences: 100%|██████████| 337/337 [00:00<00:00, 2218.08it/s]\n",
      "Predicting: 100%|██████████| 22/22 [00:02<00:00,  7.46it/s]\n"
     ]
    },
    {
     "name": "stdout",
     "output_type": "stream",
     "text": [
      "Prediction of language: german\n",
      "F1 Macro: 0.7906469911297139\n"
     ]
    },
    {
     "data": {
      "image/png": "[encoded data removed]",
      "text/plain": [
       "<Figure size 640x480 with 2 Axes>"
      ]
     },
     "metadata": {},
     "output_type": "display_data"
    },
    {
     "name": "stderr",
     "output_type": "stream",
     "text": [
      "Tokenize of sentences: 100%|██████████| 513/513 [00:00<00:00, 2469.44it/s]\n",
      "Predicting: 100%|██████████| 33/33 [00:04<00:00,  7.31it/s]\n"
     ]
    },
    {
     "name": "stdout",
     "output_type": "stream",
     "text": [
      "Prediction of language: italian\n",
      "F1 Macro: 0.743921030737751\n"
     ]
    },
    {
     "data": {
      "image/png": "[encoded data removed]",
      "text/plain": [
       "<Figure size 640x480 with 2 Axes>"
      ]
     },
     "metadata": {},
     "output_type": "display_data"
    }
   ],
   "source": [
    "model.eval()\n",
    "\n",
    "labels = []\n",
    "predictions = []\n",
    "\n",
    "with torch.no_grad():\n",
    "    for batch in tqdm(test_dl, desc=\"Predicting\"):\n",
    "        b_input_ids, b_input_mask, b_labels = batch\n",
    "        b_input_ids = b_input_ids.to(device)\n",
    "        b_input_mask = b_input_mask.to(device)\n",
    "        b_labels = b_labels.to(device)\n",
    "\n",
    "        result = model(b_input_ids,\n",
    "                        token_type_ids=None,\n",
    "                        attention_mask=b_input_mask,\n",
    "                        labels=b_labels,\n",
    "                        return_dict=True)\n",
    "\n",
    "        logits = result.logits\n",
    "        logits = logits.detach().cpu().numpy()\n",
    "        label_ids = b_labels.to('cpu').numpy()\n",
    "\n",
    "        labels.extend(label_ids)\n",
    "        logits = np.argmax(logits, axis=1)\n",
    "        predictions.extend(logits)\n",
    "    \n",
    "    labels = np.array(labels)\n",
    "    predictions = np.array(predictions)\n",
    "    f1_macro = f1_score(labels, predictions, average=\"macro\", zero_division=0)\n",
    "    acc = accuracy_score(labels, predictions)\n",
    "\n",
    "    results_df.loc[len(results_df)] = [model_card, f1_macro, acc, language]\n",
    "\n",
    "    print(\"Prediction of language:\", language)\n",
    "    print(\"F1 Macro:\", f1_score(labels, predictions, average=\"macro\", zero_division=0))\n",
    "    \n",
    "    ConfusionMatrixDisplay.from_predictions(labels, predictions, normalize='all')\n",
    "    plt.title(f\"Confusion Matrix ({language})\")\n",
    "    plt.show()"
   ]
  },
  {
   "cell_type": "code",
   "execution_count": 82,
   "metadata": {
    "execution": {
     "iopub.execute_input": "2025-03-01T18:06:07.736952Z",
     "iopub.status.busy": "2025-03-01T18:06:07.736637Z",
     "iopub.status.idle": "2025-03-01T18:06:07.746027Z",
     "shell.execute_reply": "2025-03-01T18:06:07.745232Z",
     "shell.execute_reply.started": "2025-03-01T18:06:07.736930Z"
    },
    "trusted": true
   },
   "outputs": [
    {
     "data": {
      "text/html": [
       "<div>\n",
       "<style scoped>\n",
       "    .dataframe tbody tr th:only-of-type {\n",
       "        vertical-align: middle;\n",
       "    }\n",
       "\n",
       "    .dataframe tbody tr th {\n",
       "        vertical-align: top;\n",
       "    }\n",
       "\n",
       "    .dataframe thead th {\n",
       "        text-align: right;\n",
       "    }\n",
       "</style>\n",
       "<table border=\"1\" class=\"dataframe\">\n",
       "  <thead>\n",
       "    <tr style=\"text-align: right;\">\n",
       "      <th></th>\n",
       "      <th>model</th>\n",
       "      <th>f1</th>\n",
       "      <th>acc</th>\n",
       "      <th>lang</th>\n",
       "    </tr>\n",
       "  </thead>\n",
       "  <tbody>\n",
       "    <tr>\n",
       "      <th>0</th>\n",
       "      <td>microsoft/mdeberta-v3-base</td>\n",
       "      <td>0.300935</td>\n",
       "      <td>0.430481</td>\n",
       "      <td>arabic</td>\n",
       "    </tr>\n",
       "    <tr>\n",
       "      <th>1</th>\n",
       "      <td>microsoft/mdeberta-v3-base</td>\n",
       "      <td>0.755809</td>\n",
       "      <td>0.756000</td>\n",
       "      <td>bulgarian</td>\n",
       "    </tr>\n",
       "    <tr>\n",
       "      <th>2</th>\n",
       "      <td>microsoft/mdeberta-v3-base</td>\n",
       "      <td>0.743173</td>\n",
       "      <td>0.803719</td>\n",
       "      <td>english</td>\n",
       "    </tr>\n",
       "    <tr>\n",
       "      <th>3</th>\n",
       "      <td>microsoft/mdeberta-v3-base</td>\n",
       "      <td>0.836237</td>\n",
       "      <td>0.845697</td>\n",
       "      <td>german</td>\n",
       "    </tr>\n",
       "    <tr>\n",
       "      <th>4</th>\n",
       "      <td>microsoft/mdeberta-v3-base</td>\n",
       "      <td>0.798799</td>\n",
       "      <td>0.842105</td>\n",
       "      <td>italian</td>\n",
       "    </tr>\n",
       "  </tbody>\n",
       "</table>\n",
       "</div>"
      ],
      "text/plain": [
       "                        model        f1       acc       lang\n",
       "0  microsoft/mdeberta-v3-base  0.300935  0.430481     arabic\n",
       "1  microsoft/mdeberta-v3-base  0.755809  0.756000  bulgarian\n",
       "2  microsoft/mdeberta-v3-base  0.743173  0.803719    english\n",
       "3  microsoft/mdeberta-v3-base  0.836237  0.845697     german\n",
       "4  microsoft/mdeberta-v3-base  0.798799  0.842105    italian"
      ]
     },
     "execution_count": 82,
     "metadata": {},
     "output_type": "execute_result"
    }
   ],
   "source": [
    "results_df"
   ]
  },
  {
   "cell_type": "markdown",
   "metadata": {},
   "source": [
    "# Emotions"
   ]
  },
  {
   "cell_type": "code",
   "execution_count": null,
   "metadata": {
    "trusted": true
   },
   "outputs": [],
   "source": [
    "model_card = \"arpanghoshal/EmoRoBERTa\"\n",
    "tokenizer = RobertaTokenizerFast.from_pretrained(model_card)\n",
    "model = RobertaForSequenceClassification.from_pretrained(model_card, from_tf=True)"
   ]
  },
  {
   "cell_type": "code",
   "execution_count": null,
   "metadata": {
    "trusted": true
   },
   "outputs": [],
   "source": [
    "emotion = pipeline('sentiment-analysis', model='arpanghoshal/EmoRoBERTa', return_all_scores= True)"
   ]
  },
  {
   "cell_type": "code",
   "execution_count": null,
   "metadata": {
    "trusted": true
   },
   "outputs": [],
   "source": [
    "# Example\n",
    "print(train_data.iloc[0]['sentence'], train_data.iloc[0]['label'])\n",
    "emotion_labels = emotion(train_data.iloc[0]['sentence'])\n",
    "pd.DataFrame(emotion_labels[0]).sort_values(by='score', ascending=False)"
   ]
  },
  {
   "cell_type": "code",
   "execution_count": null,
   "metadata": {
    "trusted": true
   },
   "outputs": [],
   "source": [
    "emotion_array = np.zeros((train_data.shape[0], 28))\n",
    "\n",
    "for i, sentence in enumerate(tqdm(train_data['sentence'])):\n",
    "    result = emotion(sentence)[0]\n",
    "    emotion_array[i] = np.array([list(d.values())[1] for d in result])"
   ]
  },
  {
   "cell_type": "code",
   "execution_count": null,
   "metadata": {
    "trusted": true
   },
   "outputs": [],
   "source": [
    "emotion_df_train = pd.DataFrame(emotion_array, columns=[list(d.values())[0] for d in result])\n",
    "emotion_df_train.head()"
   ]
  },
  {
   "cell_type": "code",
   "execution_count": null,
   "metadata": {
    "trusted": true
   },
   "outputs": [],
   "source": [
    "train_data_augmented = pd.concat([train_data, emotion_df_train], axis=1)\n",
    "train_data_augmented.head()"
   ]
  },
  {
   "cell_type": "code",
   "execution_count": null,
   "metadata": {
    "trusted": true
   },
   "outputs": [],
   "source": [
    "emotion_array = np.zeros((test_data.shape[0], 28))\n",
    "\n",
    "for i, sentence in enumerate(tqdm(test_data['sentence'])):\n",
    "    result = emotion(sentence)[0]\n",
    "    emotion_array[i] = np.array([list(d.values())[1] for d in result])"
   ]
  },
  {
   "cell_type": "code",
   "execution_count": null,
   "metadata": {
    "trusted": true
   },
   "outputs": [],
   "source": [
    "emotion_df_test = pd.DataFrame(emotion_array, columns=[list(d.values())[0] for d in result])\n",
    "emotion_df_test.head()"
   ]
  },
  {
   "cell_type": "code",
   "execution_count": null,
   "metadata": {
    "trusted": true
   },
   "outputs": [],
   "source": [
    "test_data_augmented = pd.concat([test_data, emotion_df_test], axis=1)\n",
    "test_data_augmented.head()"
   ]
  },
  {
   "cell_type": "code",
   "execution_count": null,
   "metadata": {
    "trusted": true
   },
   "outputs": [],
   "source": [
    "if not os.path.exists('/kaggle/input/clef2025-checkthat/data/english/train_en_aug.csv'):\n",
    "    train_data_augmented.to_csv('train_en_aug.csv', encoding='UTF-8')\n",
    "    test_data_augmented.to_csv('dev_test_en_aug.csv', encoding='UTF-8')\n",
    "else:\n",
    "    train_data_augmented = pd.read_csv('/kaggle/input/clef2025-checkthat/data/english/train_en_aug.csv', encoding='UTF-8', index_col=0)\n",
    "    test_data_augmented = pd.read_csv('/kaggle/input/clef2025-checkthat/data/english/dev_test_en_aug.csv', encoding='UTF-8', index_col=0)"
   ]
  },
  {
   "cell_type": "code",
   "execution_count": null,
   "metadata": {
    "trusted": true
   },
   "outputs": [],
   "source": [
    "def preprocess(text):\n",
    "    preprocessed_text = []\n",
    "    for t in text.split():\n",
    "        if len(t) > 1:\n",
    "            t = '@user' if t[0] == '@' and t.count('@') == 1 else t\n",
    "            t = 'http' if t.startswith('http') else t\n",
    "        preprocessed_text.append(t)\n",
    "    return ' '.join(preprocessed_text)"
   ]
  },
  {
   "cell_type": "code",
   "execution_count": null,
   "metadata": {
    "trusted": true
   },
   "outputs": [],
   "source": [
    "# Taken from https://github.com/huggingface/transformers/blob/main/src/transformers/trainer.py#L3700 (with some minor changes removing useless parts)\n",
    "class CustomTrainer(Trainer):\n",
    "    def __init__(self, class_weights, device, *args, **kwargs):\n",
    "        super().__init__(*args, **kwargs)\n",
    "        # You pass the class weights when instantiating the Trainer\n",
    "        self.class_weights = class_weights\n",
    "        self.device = device\n",
    "\n",
    "    def compute_loss(self, model, inputs, return_outputs=False, num_items_in_batch=None):\n",
    "        if self.label_smoother is not None and \"labels\" in inputs:\n",
    "            labels = inputs.pop(\"labels\")\n",
    "        else:\n",
    "            labels = None\n",
    "        outputs = model(**inputs)\n",
    "        if self.args.past_index >= 0:\n",
    "            self._past = outputs[self.args.past_index]\n",
    "\n",
    "        if labels is not None:\n",
    "            loss = self.label_smoother(outputs, labels)\n",
    "        else:\n",
    "            # We extract the logits from the model outputs\n",
    "            logits = outputs.logits\n",
    "            # We compute the loss manually passing the class weights to the loss function\n",
    "            criterion = torch.nn.CrossEntropyLoss(weight=self.class_weights.to(self.device)) # Modified to use the class weights\n",
    "            # We compute the loss using the modified criterion\n",
    "            loss = criterion(logits, inputs['labels'])\n",
    "\n",
    "        return (loss, outputs) if return_outputs else loss"
   ]
  },
  {
   "cell_type": "code",
   "execution_count": null,
   "metadata": {
    "trusted": true
   },
   "outputs": [],
   "source": [
    "class CustomEmotionModel(nn.Module):\n",
    "    def __init__(self, model_card: str, num_labels: int, num_emotions: int, class_weights: torch.Tensor, device):\n",
    "        super(CustomEmotionModel, self).__init__()\n",
    "        self.base_model = AutoModel.from_pretrained(model_card)\n",
    "        #self.emotion_branch = nn.Linear(num_emotions, 128)  # Example: 128 hidden units\n",
    "        self.classifier = nn.Linear(self.base_model.config.hidden_size + 28, num_labels)\n",
    "        self.class_weights = class_weights.to(device)\n",
    "\n",
    "    def forward(self, input_ids, attention_mask, emotion_features, labels=None):\n",
    "        outputs = self.base_model(input_ids=input_ids, attention_mask=attention_mask)\n",
    "        pooled_output = outputs.last_hidden_state[:, 0, :]  # CLS token representation\n",
    "        \n",
    "        # Process emotion features\n",
    "        #emotion_output = torch.relu(self.emotion_branch(emotion_features))\n",
    "        \n",
    "        # Concatenate base model output with emotion features\n",
    "        combined_output = torch.cat((pooled_output, emotion_features), dim=1)\n",
    "        \n",
    "        # Apply classification layer\n",
    "        logits = self.classifier(combined_output)\n",
    "\n",
    "        loss = None\n",
    "        if labels is not None:\n",
    "            criterion = torch.nn.CrossEntropyLoss(weight=self.class_weights)\n",
    "            loss = criterion(logits, labels)\n",
    "\n",
    "        return SequenceClassifierOutput(loss=loss, logits=logits)"
   ]
  },
  {
   "cell_type": "code",
   "execution_count": null,
   "metadata": {
    "trusted": true
   },
   "outputs": [],
   "source": [
    "train_data_augmented['all_emotions'] = train_data_augmented[train_data_augmented.columns[-28:]].apply(lambda x: np.array(x.values, dtype=np.float32), axis=1)\n",
    "test_data_augmented['all_emotions'] = test_data_augmented[test_data_augmented.columns[-28:]].apply(lambda x: np.array(x.values, dtype=np.float32), axis=1)"
   ]
  },
  {
   "cell_type": "code",
   "execution_count": null,
   "metadata": {
    "trusted": true
   },
   "outputs": [],
   "source": [
    "train_dl = Dataset.from_pandas(train_data_augmented)\n",
    "test_dl = Dataset.from_pandas(test_data_augmented)"
   ]
  },
  {
   "cell_type": "code",
   "execution_count": null,
   "metadata": {
    "trusted": true
   },
   "outputs": [],
   "source": [
    "class_weights = compute_class_weight(class_weight=\"balanced\", classes=np.unique(train_data['label']), y=train_data['label'])\n",
    "class_weights = torch.tensor(class_weights, dtype=torch.float32)\n",
    "class_weights"
   ]
  },
  {
   "cell_type": "code",
   "execution_count": null,
   "metadata": {
    "trusted": true
   },
   "outputs": [],
   "source": [
    "model_card = \"cardiffnlp/twitter-roberta-base-2022-154m\"\n",
    "tokenizer = AutoTokenizer.from_pretrained(model_card, use_Fast=False)\n",
    "model = CustomEmotionModel(model_card, num_labels = 2, num_emotions=28, class_weights=class_weights, device=device)"
   ]
  },
  {
   "cell_type": "code",
   "execution_count": null,
   "metadata": {
    "trusted": true
   },
   "outputs": [],
   "source": [
    "def tokenize_and_prepare(texts):\n",
    "    tokenized = tokenizer(texts['sentence'])\n",
    "    return {**tokenized, 'emotion_features': texts['all_emotions']}"
   ]
  },
  {
   "cell_type": "code",
   "execution_count": null,
   "metadata": {
    "trusted": true
   },
   "outputs": [],
   "source": [
    "train_dl = train_dl.map(tokenize_and_prepare, batched=True)\n",
    "test_dl = test_dl.map(tokenize_and_prepare, batched=True)"
   ]
  },
  {
   "cell_type": "code",
   "execution_count": null,
   "metadata": {
    "trusted": true
   },
   "outputs": [],
   "source": [
    "data_collator = DataCollatorWithPadding(tokenizer=tokenizer, return_tensors=\"pt\")"
   ]
  },
  {
   "cell_type": "code",
   "execution_count": null,
   "metadata": {
    "trusted": true
   },
   "outputs": [],
   "source": [
    "training_args = TrainingArguments(\n",
    "    output_dir=f'model',                 \n",
    "    learning_rate=5e-6,\n",
    "    per_device_train_batch_size=16,         \n",
    "    per_device_eval_batch_size=16,\n",
    "    lr_scheduler_type='linear',\n",
    "    label_smoothing_factor=0.1,\n",
    "    num_train_epochs=10,\n",
    "    weight_decay=1e-2,\n",
    "    eval_strategy=\"epoch\",       \n",
    "    save_strategy=\"no\",           \n",
    "    #save_safetensors=True,\n",
    "    #load_best_model_at_end=True,\n",
    "    report_to='none',\n",
    "    seed=SEED,\n",
    "    data_seed=SEED\n",
    ")"
   ]
  },
  {
   "cell_type": "code",
   "execution_count": null,
   "metadata": {
    "trusted": true
   },
   "outputs": [],
   "source": [
    "def compute_metrics(output_info):\n",
    "    \"\"\"\n",
    "    Compute various evaluation metrics for model predictions.\n",
    "    \n",
    "    Args:\n",
    "        output_info (tuple): A tuple containing the model predictions and the true labels.\n",
    "            - predictions (np.ndarray): The predicted labels from the model.\n",
    "            - labels (np.ndarray): The true labels.\n",
    "    \n",
    "    Returns:\n",
    "        dict: A dictionary containing the computed metrics:\n",
    "            - 'f1': The F1 score (macro average).\n",
    "            - 'accuracy': The accuracy score.\n",
    "            - 'precision': The precision score (macro average).\n",
    "            - 'recall': The recall score (macro average).\n",
    "    \"\"\"\n",
    "    predictions, labels = output_info\n",
    "    predictions = np.array(predictions)\n",
    "    labels = np.array(labels)\n",
    "    predictions = np.argmax(predictions, axis=-1)\n",
    "    \n",
    "    f1 = f1_score(labels, predictions, average=\"macro\", zero_division=0)\n",
    "    acc = accuracy_score(labels, predictions)\n",
    "    \n",
    "    return {\"f1-score\" : f1, \"Accuracy\" : acc}"
   ]
  },
  {
   "cell_type": "code",
   "execution_count": null,
   "metadata": {
    "trusted": true
   },
   "outputs": [],
   "source": [
    "trainer = CustomTrainer(\n",
    "    model=model,\n",
    "    args=training_args,\n",
    "    train_dataset=train_dl,\n",
    "    eval_dataset=test_dl,\n",
    "    data_collator=data_collator,\n",
    "    compute_metrics=compute_metrics,\n",
    "    class_weights=class_weights,\n",
    "    device=device,\n",
    ")"
   ]
  },
  {
   "cell_type": "code",
   "execution_count": null,
   "metadata": {
    "trusted": true
   },
   "outputs": [],
   "source": [
    "trainer.train()"
   ]
  },
  {
   "cell_type": "code",
   "execution_count": null,
   "metadata": {
    "trusted": true
   },
   "outputs": [],
   "source": [
    "from sklearn.metrics import confusion_matrix, ConfusionMatrixDisplay, roc_auc_score\n",
    "prediction, labels, _ = trainer.predict(test_dl)\n",
    "prediction = np.argmax(prediction, axis=1)\n",
    "cm = confusion_matrix(y_true=labels, y_pred=prediction, normalize='all')\n",
    "print(roc_auc_score(labels, prediction))\n",
    "\n",
    "ConfusionMatrixDisplay(cm).plot()"
   ]
  },
  {
   "cell_type": "markdown",
   "metadata": {},
   "source": [
    "---"
   ]
  },
  {
   "cell_type": "code",
   "execution_count": null,
   "metadata": {
    "jupyter": {
     "source_hidden": true
    },
    "trusted": true
   },
   "outputs": [],
   "source": [
    "def objective(trial):\n",
    "    epochs = trial.suggest_int('epochs', 3, 5)\n",
    "    batch_size = trial.suggest_categorical('batch_size', [16, 32])\n",
    "    lr = trial.suggest_categorical('lr', [2e-5, 3e-5, 4e-5, 5e-5, 6e-5])\n",
    "    weight_decay = trial.suggest_categorical('weight_decay', [0, 1e-1, 2e-1, 3e-1, 4e-1, 5e-1])\n",
    "    n_warmup_steps = trial.suggest_categorical('n_warmup_steps', [100, 200, 300, 400, 500])\n",
    "\n",
    "    model = AutoModelForSequenceClassification.from_pretrained(\n",
    "        model_card, \n",
    "        num_labels=2, \n",
    "        id2label={0: 'OBJ', 1: 'SUBJ'}, \n",
    "        label2id={'OBJ': 0, 'SUBJ': 1},\n",
    "        output_attentions = False,\n",
    "        output_hidden_states = False\n",
    "    )\n",
    "    model.to(device)\n",
    "    \n",
    "    train_dl = create_dataloader(\n",
    "        train_input_ids, \n",
    "        train_attention_masks, \n",
    "        torch.tensor(train['label'].values), \n",
    "        batch_size=batch_size,\n",
    "        shuffle=True,\n",
    "        pin_mem=True\n",
    "    )\n",
    "    dev_dl = create_dataloader(\n",
    "        dev_input_ids, \n",
    "        dev_attention_masks, \n",
    "        torch.tensor(dev['label'].values), \n",
    "        batch_size=batch_size,\n",
    "        shuffle=False,\n",
    "        pin_mem=True\n",
    "    )\n",
    "    \n",
    "    optimizer = torch.optim.AdamW(model.parameters(), lr=lr, weight_decay=weight_decay)\n",
    "    total_steps = len(train_dl) * epochs\n",
    "    scheduler = get_linear_schedule_with_warmup(optimizer, num_warmup_steps=n_warmup_steps, num_training_steps=total_steps)\n",
    "    criterion = torch.nn.CrossEntropyLoss(weight=class_weights)\n",
    "    \n",
    "    true_labels = defaultdict(list)\n",
    "    predictions = defaultdict(list)\n",
    "    val_losses = {}\n",
    "    training_stats = []\n",
    "    \n",
    "    best_val_loss = float('inf')\n",
    "    for i, epoch in enumerate(range(epochs), start=1):\n",
    "    \n",
    "        total_train_loss = 0\n",
    "        model.train()\n",
    "    \n",
    "        for batch in tqdm(train_dl, desc=f\"Epoch {i}/{epochs}\"):\n",
    "            b_input_ids, b_input_mask, b_labels = batch\n",
    "            b_input_ids = b_input_ids.to(device)\n",
    "            b_input_mask = b_input_mask.to(device)\n",
    "            b_labels = b_labels.to(device)\n",
    "    \n",
    "            model.zero_grad()\n",
    "    \n",
    "            result = model(b_input_ids,\n",
    "              attention_mask=b_input_mask,\n",
    "              labels=b_labels,\n",
    "              return_dict=True)\n",
    "    \n",
    "            logits = result.logits\n",
    "    \n",
    "            # Compute weighted loss manually\n",
    "            loss = criterion(logits, b_labels) # Use weighted loss\n",
    "            total_train_loss += loss.item()\n",
    "    \n",
    "            loss.backward()\n",
    "    \n",
    "            torch.nn.utils.clip_grad_norm_(model.parameters(), 1.0)\n",
    "    \n",
    "            optimizer.step()\n",
    "            scheduler.step()\n",
    "            \n",
    "        avg_train_loss = total_train_loss / len(train_dl)\n",
    "    \n",
    "        model.eval()\n",
    "    \n",
    "        total_eval_loss = 0\n",
    "    \n",
    "        for batch in tqdm(dev_dl, desc=\"Evaluating\"):\n",
    "            b_input_ids, b_input_mask, b_labels = batch\n",
    "            b_input_ids = b_input_ids.to(device)\n",
    "            b_input_mask = b_input_mask.to(device)\n",
    "            b_labels = b_labels.to(device)\n",
    "    \n",
    "            with torch.no_grad():\n",
    "                result = model(b_input_ids,\n",
    "                              token_type_ids=None,\n",
    "                              attention_mask=b_input_mask,\n",
    "                              labels=b_labels,\n",
    "                              return_dict=True)\n",
    "    \n",
    "            logits = result.logits\n",
    "    \n",
    "            loss = criterion(logits, b_labels) # Use weighted loss\n",
    "            total_eval_loss += loss.item()\n",
    "    \n",
    "            logits = logits.detach().cpu().numpy()\n",
    "            label_ids = b_labels.to('cpu').numpy()\n",
    "    \n",
    "            true_labels[i].append(label_ids)\n",
    "            predictions[i].append(logits)\n",
    "    \n",
    "        # Printing the cr\n",
    "        flat_predictions = np.concatenate(predictions[i], axis=0)\n",
    "        flat_predictions = np.argmax(flat_predictions, axis=1).flatten()\n",
    "        flat_true_labels = np.concatenate(true_labels[i], axis=0)\n",
    "        \n",
    "        stats = evaluate_model(flat_true_labels, flat_predictions)\n",
    "    \n",
    "        # Calculate the average loss over all of the batches.\n",
    "        avg_val_loss = total_eval_loss / len(dev_dl)\n",
    "        val_losses[i] = avg_val_loss\n",
    "    \n",
    "        print(f\"Epoch {i}/{epochs}\\tTrain Loss: {avg_train_loss:.6f}\\tVal Loss: {avg_val_loss:.6f}\\tL.rate: {optimizer.param_groups[0]['lr']:.6f}\\tVal F1: {stats['macro_F1']:.4f}\")\n",
    "        \n",
    "        if avg_val_loss < best_val_loss:\n",
    "            best_val_loss = avg_val_loss\n",
    "            print(\"Saving model with new val loss:\", best_val_loss)\n",
    "            torch.save(model.state_dict(), \"mDeBERTa-base-subjectivity\")\n",
    "    \n",
    "        training_stats.append(stats)\n",
    "\n",
    "    return best_val_loss"
   ]
  },
  {
   "cell_type": "code",
   "execution_count": null,
   "metadata": {
    "jupyter": {
     "source_hidden": true
    },
    "trusted": true
   },
   "outputs": [],
   "source": [
    "study = optuna.create_study(direction='minimize')\n",
    "study.optimize(objective, n_trials=25)"
   ]
  }
 ],
 "metadata": {
  "kaggle": {
   "accelerator": "gpu",
   "dataSources": [
    {
     "datasetId": 6742324,
     "isSourceIdPinned": false,
     "sourceId": 10881030,
     "sourceType": "datasetVersion"
    }
   ],
   "isGpuEnabled": true,
   "isInternetEnabled": true,
   "language": "python",
   "sourceType": "notebook"
  },
  "kernelspec": {
   "display_name": ".venv",
   "language": "python",
   "name": "python3"
  },
  "language_info": {
   "codemirror_mode": {
    "name": "ipython",
    "version": 3
   },
   "file_extension": ".py",
   "mimetype": "text/x-python",
   "name": "python",
   "nbconvert_exporter": "python",
   "pygments_lexer": "ipython3",
   "version": "3.10.15"
  }
 },
 "nbformat": 4,
 "nbformat_minor": 4
}
