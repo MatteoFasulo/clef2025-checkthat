{
 "cells": [
  {
   "cell_type": "markdown",
   "metadata": {},
   "source": [
    "# Subjectivity in News Articles\n",
    "\n",
    "## Group:\n",
    "- Luca Babboni - luca.babboni2@studio.unibo.it\n",
    "- Matteo Fasulo - matteo.fasulo@studio.unibo.it\n",
    "- Luca Tedeschini - luca.tedeschini3@studio.unibo.it\n",
    "\n",
    "## Description\n",
    "\n",
    "This notebook addresses Task 1 proposed in [CheckThat Lab](https://checkthat.gitlab.io/clef2025/) of CLEF 2025. In this task, systems are challenged to distinguish whether a sentence from a news article expresses the subjective view of the author behind it or presents an objective view on the covered topic instead.\n",
    "\n",
    "This is a binary classification tasks in which systems have to identify whether a text sequence (a sentence or a paragraph) is subjective (SUBJ) or objective (OBJ).\n",
    "\n",
    "The task comprises three settings:\n",
    "\n",
    "* Monolingual: train and test on data in a given language\n",
    "* Multilingual: train and test on data comprising several languages\n",
    "* Zero-shot: train on several languages and test on unseen languages\n",
    "\n",
    "training data in five languages:\n",
    "* Arabic\n",
    "* Bulgarian\n",
    "* English\n",
    "* German\n",
    "* Italian\n",
    "\n",
    "The official evaluation is macro-averaged F1 between the two classes."
   ]
  },
  {
   "cell_type": "code",
   "execution_count": 1,
   "metadata": {
    "execution": {
     "iopub.execute_input": "2025-03-04T08:36:13.738240Z",
     "iopub.status.busy": "2025-03-04T08:36:13.738024Z",
     "iopub.status.idle": "2025-03-04T08:36:13.753504Z",
     "shell.execute_reply": "2025-03-04T08:36:13.752753Z",
     "shell.execute_reply.started": "2025-03-04T08:36:13.738222Z"
    },
    "trusted": true
   },
   "outputs": [
    {
     "name": "stderr",
     "output_type": "stream",
     "text": [
      "/home/ubuntu/clef2025-checkthat/.venv/lib/python3.10/site-packages/tqdm/auto.py:21: TqdmWarning: IProgress not found. Please update jupyter and ipywidgets. See https://ipywidgets.readthedocs.io/en/stable/user_install.html\n",
      "  from .autonotebook import tqdm as notebook_tqdm\n"
     ]
    }
   ],
   "source": [
    "from collections import defaultdict\n",
    "import os\n",
    "import gc\n",
    "from pathlib import Path\n",
    "\n",
    "import csv\n",
    "\n",
    "import matplotlib.pyplot as plt\n",
    "import numpy as np\n",
    "import pandas as pd\n",
    "\n",
    "from tqdm import tqdm\n",
    "\n",
    "from joblib import delayed, Parallel\n",
    "\n",
    "from sklearn.preprocessing import LabelBinarizer\n",
    "from sklearn.linear_model import LogisticRegression\n",
    "from sklearn.metrics import accuracy_score, precision_recall_fscore_support, f1_score, confusion_matrix, ConfusionMatrixDisplay\n",
    "from sklearn.utils.class_weight import compute_class_weight\n",
    "\n",
    "import torch\n",
    "import torch.nn as nn\n",
    "from torch.utils.data import DataLoader, TensorDataset\n",
    "\n",
    "from sentence_transformers import SentenceTransformer\n",
    "from datasets import Dataset\n",
    "from huggingface_hub import notebook_login\n",
    "from transformers.modeling_outputs import SequenceClassifierOutput\n",
    "from transformers import AutoTokenizer, AutoModel, AutoModelForSequenceClassification, Trainer, TrainingArguments, DataCollatorWithPadding, RobertaTokenizerFast, RobertaForSequenceClassification, pipeline, get_linear_schedule_with_warmup"
   ]
  },
  {
   "cell_type": "code",
   "execution_count": 2,
   "metadata": {
    "execution": {
     "iopub.execute_input": "2025-03-04T08:36:13.755079Z",
     "iopub.status.busy": "2025-03-04T08:36:13.754531Z",
     "iopub.status.idle": "2025-03-04T08:36:13.769699Z",
     "shell.execute_reply": "2025-03-04T08:36:13.769056Z",
     "shell.execute_reply.started": "2025-03-04T08:36:13.755057Z"
    },
    "trusted": true
   },
   "outputs": [
    {
     "name": "stdout",
     "output_type": "stream",
     "text": [
      "Using device: cuda\n"
     ]
    }
   ],
   "source": [
    "SEED = 42\n",
    "device = 'cuda' if torch.cuda.is_available() else 'cpu'\n",
    "print(f\"Using device: {device}\")"
   ]
  },
  {
   "cell_type": "code",
   "execution_count": 3,
   "metadata": {
    "execution": {
     "iopub.execute_input": "2025-03-04T08:36:13.770567Z",
     "iopub.status.busy": "2025-03-04T08:36:13.770367Z",
     "iopub.status.idle": "2025-03-04T08:36:13.784343Z",
     "shell.execute_reply": "2025-03-04T08:36:13.783604Z",
     "shell.execute_reply.started": "2025-03-04T08:36:13.770550Z"
    },
    "trusted": true
   },
   "outputs": [],
   "source": [
    "np.random.seed(SEED)\n",
    "torch.manual_seed(SEED)\n",
    "torch.cuda.manual_seed_all(SEED)"
   ]
  },
  {
   "cell_type": "code",
   "execution_count": 19,
   "metadata": {
    "execution": {
     "iopub.execute_input": "2025-03-04T08:36:13.787585Z",
     "iopub.status.busy": "2025-03-04T08:36:13.787310Z",
     "iopub.status.idle": "2025-03-04T08:36:13.816504Z",
     "shell.execute_reply": "2025-03-04T08:36:13.815571Z",
     "shell.execute_reply.started": "2025-03-04T08:36:13.787553Z"
    },
    "trusted": true
   },
   "outputs": [],
   "source": [
    "class Subjectivity:\n",
    "    def __init__(self, data_folder: str = 'data', seed: int = 42, device: str = 'cuda'):\n",
    "        self.seed = seed\n",
    "        self.device = device\n",
    "        self.languages = [language for language in os.listdir(data_folder)]\n",
    "\n",
    "        dataset = self.create_dataset(data_folder=data_folder)\n",
    "        self.dataset = dataset\n",
    "        \n",
    "        train, dev, test = self.get_splits(dataset, print_shapes=True)\n",
    "        self.train = train\n",
    "        self.dev = dev\n",
    "        self.test = test\n",
    "\n",
    "        self.all_data = self.get_per_lang_dataset()\n",
    "        \n",
    "\n",
    "    def create_dataset(self, data_folder: str = 'data'):\n",
    "        dataset = pd.DataFrame(columns=['sentence_id','sentence','label','lang','split'])\n",
    "        for language in os.listdir(data_folder):\n",
    "            for filename in os.listdir(f\"{data_folder}{os.sep}{language}\"):\n",
    "                if '.tsv' in filename:\n",
    "                    abs_path = f\"{data_folder}{os.sep}{language}{os.sep}{filename}\"\n",
    "                    df = pd.read_csv(abs_path, sep='\\t', quoting=csv.QUOTE_NONE)\n",
    "                    if 'solved_conflict' in df.columns:\n",
    "                        df.drop(columns=['solved_conflict'], inplace=True)\n",
    "                    df['lang'] = language\n",
    "                    df['split'] = Path(filename).stem\n",
    "                    dataset = pd.concat([dataset, df], axis=0)\n",
    "        return dataset\n",
    "\n",
    "    def get_splits(self, dataset: pd.DataFrame, print_shapes: bool = True):\n",
    "        train = dataset[dataset['split'].str.contains('train')].copy()\n",
    "        dev = dataset[(dataset['split'].str.contains('dev')) & ~(dataset['split'].str.contains('dev_test'))].copy()\n",
    "        test = dataset[dataset['split'].str.contains('dev_test')].copy()\n",
    "\n",
    "        # encode the target variable to int (0: obj; 1: subj)\n",
    "        train.loc[:, 'label'] = train['label'].apply(lambda x: 0 if x == 'OBJ' else 1)\n",
    "        dev.loc[:, 'label'] = dev['label'].apply(lambda x: 0 if x == 'OBJ' else 1)\n",
    "        test.loc[:, 'label'] = test['label'].apply(lambda x: 0 if x == 'OBJ' else 1)\n",
    "\n",
    "        # cast to int\n",
    "        train['label'] = train['label'].astype(int)\n",
    "        dev['label'] = dev['label'].astype(int)\n",
    "        test['label'] = test['label'].astype(int)\n",
    "\n",
    "        if print_shapes:\n",
    "            print(f\"Train: {train.shape}\")\n",
    "            print(f\"Dev: {dev.shape}\")\n",
    "            print(f\"Test: {test.shape}\")\n",
    "            \n",
    "        return train, dev, test\n",
    "\n",
    "    def get_per_lang_dataset(self):\n",
    "        \"\"\"\n",
    "        dataset_dict = {\n",
    "            'english': {\n",
    "                'train': ...\n",
    "                'dev': ...\n",
    "                'test': ...\n",
    "            },\n",
    "        }\n",
    "        \"\"\"\n",
    "        dataset_dict = {}\n",
    "        for language in self.languages:\n",
    "            dataset_dict[language] = {}\n",
    "            # get the train data\n",
    "            dataset_dict[language]['train'] = self.train[self.train['lang']==language].copy()\n",
    "            # get the dev data\n",
    "            dataset_dict[language]['dev'] = self.dev[self.dev['lang']==language].copy()\n",
    "            # get the test data\n",
    "            dataset_dict[language]['test'] = self.test[self.test['lang']==language].copy()\n",
    "        return dataset_dict\n",
    "\n",
    "    def print_label_distrib(self, dataset: pd.DataFrame):\n",
    "        print(dataset['label'].value_counts(normalize=True))\n",
    "\n",
    "    def get_baseline_model(self, model_name: str = \"paraphrase-multilingual-MiniLM-L12-v2\"):\n",
    "        vect = SentenceTransformer(model_name)\n",
    "        self.vect = vect\n",
    "        return vect\n",
    "\n",
    "    def train_baseline_model(self, vect, train_data: pd.DataFrame, test_data: pd.DataFrame, solver: str = 'saga'):\n",
    "        model = LogisticRegression(class_weight=\"balanced\", solver=solver, random_state=self.seed)\n",
    "        model.fit(X=vect.encode(train_data['sentence'].values), y=train_data['label'].values)\n",
    "        predictions = model.predict(X=vect.encode(test_data['sentence'].values)).tolist()\n",
    "\n",
    "        # eval performances\n",
    "        perfs = self.evaluate_model(gold_values=test_data['label'].values, predicted_values=predictions)\n",
    "\n",
    "        return perfs\n",
    "\n",
    "    def get_tokenizer(self, model_card: str = \"microsoft/mdeberta-v3-base\"):\n",
    "        tokenizer = AutoTokenizer.from_pretrained(model_card)\n",
    "        self.tokenizer = tokenizer\n",
    "        return tokenizer\n",
    "\n",
    "    def get_model(self, model_card: str = \"microsoft/mdeberta-v3-base\", *args, **kwargs):\n",
    "        model = AutoModelForSequenceClassification.from_pretrained(model_card, *args, **kwargs)\n",
    "        self.model = model\n",
    "        return model\n",
    "\n",
    "    def get_class_weights(self, dataset: pd.DataFrame):\n",
    "        class_weights = compute_class_weight('balanced', classes=np.unique(dataset['label']), y=dataset['label'])\n",
    "        class_weights = torch.tensor(class_weights, dtype=torch.float32).to(self.device)\n",
    "        return class_weights\n",
    "\n",
    "    def evaluate_model(self, gold_values, predicted_values):\n",
    "        acc = accuracy_score(gold_values, predicted_values)\n",
    "        m_prec, m_rec, m_f1, m_s = precision_recall_fscore_support(gold_values, predicted_values, average=\"macro\",\n",
    "                                                                   zero_division=0)\n",
    "        p_prec, p_rec, p_f1, p_s = precision_recall_fscore_support(gold_values, predicted_values, labels=[1],\n",
    "                                                                   zero_division=0)\n",
    "    \n",
    "        return {\n",
    "            'macro_F1': m_f1,\n",
    "            'macro_P': m_prec,\n",
    "            'macro_R': m_rec,\n",
    "            'SUBJ_F1': p_f1[0],\n",
    "            'SUBJ_P': p_prec[0],\n",
    "            'SUBJ_R': p_rec[0],\n",
    "            'accuracy': acc\n",
    "        }"
   ]
  },
  {
   "cell_type": "code",
   "execution_count": null,
   "metadata": {
    "execution": {
     "iopub.execute_input": "2025-03-04T08:36:13.817575Z",
     "iopub.status.busy": "2025-03-04T08:36:13.817319Z",
     "iopub.status.idle": "2025-03-04T08:36:13.832610Z",
     "shell.execute_reply": "2025-03-04T08:36:13.831656Z",
     "shell.execute_reply.started": "2025-03-04T08:36:13.817554Z"
    },
    "trusted": true
   },
   "outputs": [],
   "source": [
    "data_folder = '/kaggle/input/clef2025-checkthat/data' # data"
   ]
  },
  {
   "cell_type": "code",
   "execution_count": 9,
   "metadata": {
    "execution": {
     "iopub.execute_input": "2025-03-04T08:36:13.834184Z",
     "iopub.status.busy": "2025-03-04T08:36:13.833632Z",
     "iopub.status.idle": "2025-03-04T08:36:14.005023Z",
     "shell.execute_reply": "2025-03-04T08:36:14.004157Z",
     "shell.execute_reply.started": "2025-03-04T08:36:13.834153Z"
    },
    "trusted": true
   },
   "outputs": [
    {
     "name": "stdout",
     "output_type": "stream",
     "text": [
      "Train: (6418, 5)\n",
      "Dev: (2401, 5)\n",
      "Test: (2332, 5)\n"
     ]
    }
   ],
   "source": [
    "detector = Subjectivity(data_folder=data_folder, seed=SEED, device=device)"
   ]
  },
  {
   "cell_type": "code",
   "execution_count": 10,
   "metadata": {
    "execution": {
     "iopub.execute_input": "2025-03-04T08:36:14.006276Z",
     "iopub.status.busy": "2025-03-04T08:36:14.005936Z",
     "iopub.status.idle": "2025-03-04T08:36:14.013724Z",
     "shell.execute_reply": "2025-03-04T08:36:14.012862Z",
     "shell.execute_reply.started": "2025-03-04T08:36:14.006238Z"
    },
    "trusted": true
   },
   "outputs": [
    {
     "name": "stdout",
     "output_type": "stream",
     "text": [
      "label\n",
      "0    0.631349\n",
      "1    0.368651\n",
      "Name: proportion, dtype: float64\n",
      "label\n",
      "0    0.612245\n",
      "1    0.387755\n",
      "Name: proportion, dtype: float64\n",
      "label\n",
      "0    0.657376\n",
      "1    0.342624\n",
      "Name: proportion, dtype: float64\n"
     ]
    }
   ],
   "source": [
    "detector.print_label_distrib(detector.train)\n",
    "detector.print_label_distrib(detector.dev)\n",
    "detector.print_label_distrib(detector.test)"
   ]
  },
  {
   "cell_type": "code",
   "execution_count": 11,
   "metadata": {
    "execution": {
     "iopub.execute_input": "2025-03-04T08:36:14.016328Z",
     "iopub.status.busy": "2025-03-04T08:36:14.016081Z",
     "iopub.status.idle": "2025-03-04T08:36:14.026547Z",
     "shell.execute_reply": "2025-03-04T08:36:14.025815Z",
     "shell.execute_reply.started": "2025-03-04T08:36:14.016295Z"
    },
    "trusted": true
   },
   "outputs": [],
   "source": [
    "#notebook_login()"
   ]
  },
  {
   "cell_type": "code",
   "execution_count": 12,
   "metadata": {
    "execution": {
     "iopub.execute_input": "2025-03-04T08:36:14.027803Z",
     "iopub.status.busy": "2025-03-04T08:36:14.027474Z",
     "iopub.status.idle": "2025-03-04T08:36:14.041457Z",
     "shell.execute_reply": "2025-03-04T08:36:14.040737Z",
     "shell.execute_reply.started": "2025-03-04T08:36:14.027772Z"
    },
    "trusted": true
   },
   "outputs": [],
   "source": [
    "results = {}"
   ]
  },
  {
   "cell_type": "markdown",
   "metadata": {},
   "source": [
    "# Baseline Model (English)"
   ]
  },
  {
   "cell_type": "code",
   "execution_count": 13,
   "metadata": {
    "trusted": true
   },
   "outputs": [
    {
     "data": {
      "text/plain": [
       "SentenceTransformer(\n",
       "  (0): Transformer({'max_seq_length': 128, 'do_lower_case': False}) with Transformer model: BertModel \n",
       "  (1): Pooling({'word_embedding_dimension': 384, 'pooling_mode_cls_token': False, 'pooling_mode_mean_tokens': True, 'pooling_mode_max_tokens': False, 'pooling_mode_mean_sqrt_len_tokens': False, 'pooling_mode_weightedmean_tokens': False, 'pooling_mode_lasttoken': False, 'include_prompt': True})\n",
       ")"
      ]
     },
     "execution_count": 13,
     "metadata": {},
     "output_type": "execute_result"
    }
   ],
   "source": [
    "vect = detector.get_baseline_model(model_name=\"paraphrase-multilingual-MiniLM-L12-v2\")\n",
    "vect"
   ]
  },
  {
   "cell_type": "code",
   "execution_count": 14,
   "metadata": {
    "trusted": true
   },
   "outputs": [
    {
     "name": "stderr",
     "output_type": "stream",
     "text": [
      "/home/ubuntu/clef2025-checkthat/.venv/lib/python3.10/site-packages/sklearn/linear_model/_sag.py:348: ConvergenceWarning: The max_iter was reached which means the coef_ did not converge\n",
      "  warnings.warn(\n"
     ]
    },
    {
     "data": {
      "text/plain": [
       "{'macro_F1': 0.6328683996014853,\n",
       " 'macro_P': 0.6328683996014853,\n",
       " 'macro_R': 0.6328683996014853,\n",
       " 'SUBJ_F1': np.float64(0.45081967213114754),\n",
       " 'SUBJ_P': np.float64(0.45081967213114754),\n",
       " 'SUBJ_R': np.float64(0.45081967213114754),\n",
       " 'accuracy': 0.7231404958677686}"
      ]
     },
     "execution_count": 14,
     "metadata": {},
     "output_type": "execute_result"
    }
   ],
   "source": [
    "detector.train_baseline_model(vect, detector.all_data['english']['train'], detector.all_data['english']['test'])"
   ]
  },
  {
   "cell_type": "markdown",
   "metadata": {},
   "source": [
    "# Baseline Model (italian)"
   ]
  },
  {
   "cell_type": "code",
   "execution_count": 15,
   "metadata": {
    "trusted": true
   },
   "outputs": [
    {
     "data": {
      "text/plain": [
       "{'macro_F1': 0.6320502510378405,\n",
       " 'macro_P': 0.6294871794871795,\n",
       " 'macro_R': 0.656605944765174,\n",
       " 'SUBJ_F1': np.float64(0.5015105740181269),\n",
       " 'SUBJ_P': np.float64(0.4256410256410256),\n",
       " 'SUBJ_R': np.float64(0.6102941176470589),\n",
       " 'accuracy': 0.6783625730994152}"
      ]
     },
     "execution_count": 15,
     "metadata": {},
     "output_type": "execute_result"
    }
   ],
   "source": [
    "detector.train_baseline_model(vect, detector.all_data['italian']['train'], detector.all_data['italian']['test'])"
   ]
  },
  {
   "cell_type": "markdown",
   "metadata": {},
   "source": [
    "# Baseline Model (multilingual)"
   ]
  },
  {
   "cell_type": "code",
   "execution_count": 16,
   "metadata": {
    "trusted": true
   },
   "outputs": [
    {
     "data": {
      "text/plain": [
       "{'macro_F1': 0.6220011992495019,\n",
       " 'macro_P': 0.6223227143343395,\n",
       " 'macro_R': 0.633496534725811,\n",
       " 'SUBJ_F1': np.float64(0.538037486218302),\n",
       " 'SUBJ_P': np.float64(0.4807881773399015),\n",
       " 'SUBJ_R': np.float64(0.6107634543178974),\n",
       " 'accuracy': 0.6406518010291595}"
      ]
     },
     "execution_count": 16,
     "metadata": {},
     "output_type": "execute_result"
    }
   ],
   "source": [
    "detector.train_baseline_model(vect, detector.train, detector.test)"
   ]
  },
  {
   "cell_type": "markdown",
   "metadata": {},
   "source": [
    "# mDeBERTta v3 base (Arabic)"
   ]
  },
  {
   "cell_type": "code",
   "execution_count": 69,
   "metadata": {
    "execution": {
     "iopub.execute_input": "2025-03-04T08:36:24.782866Z",
     "iopub.status.busy": "2025-03-04T08:36:24.782508Z",
     "iopub.status.idle": "2025-03-04T08:36:25.081363Z",
     "shell.execute_reply": "2025-03-04T08:36:25.080502Z",
     "shell.execute_reply.started": "2025-03-04T08:36:24.782836Z"
    },
    "trusted": true
   },
   "outputs": [
    {
     "name": "stdout",
     "output_type": "stream",
     "text": [
      "Model deleted!\n"
     ]
    },
    {
     "data": {
      "text/plain": [
       "1447"
      ]
     },
     "execution_count": 69,
     "metadata": {},
     "output_type": "execute_result"
    }
   ],
   "source": [
    "with torch.no_grad():\n",
    "    torch.cuda.empty_cache()\n",
    "\n",
    "if 'model' in locals() or 'model' in globals():\n",
    "    del model\n",
    "    print(\"Model deleted!\")\n",
    "\n",
    "gc.collect()"
   ]
  },
  {
   "cell_type": "code",
   "execution_count": 70,
   "metadata": {
    "execution": {
     "iopub.execute_input": "2025-03-04T08:36:25.082827Z",
     "iopub.status.busy": "2025-03-04T08:36:25.082537Z",
     "iopub.status.idle": "2025-03-04T08:36:28.120551Z",
     "shell.execute_reply": "2025-03-04T08:36:28.119511Z",
     "shell.execute_reply.started": "2025-03-04T08:36:25.082806Z"
    },
    "trusted": true
   },
   "outputs": [
    {
     "name": "stderr",
     "output_type": "stream",
     "text": [
      "/home/ubuntu/clef2025-checkthat/.venv/lib/python3.10/site-packages/transformers/convert_slow_tokenizer.py:561: UserWarning: The sentencepiece tokenizer that you are converting to a fast tokenizer uses the byte fallback option which is not implemented in the fast tokenizers. In practice this means that the fast version of the tokenizer can produce unknown tokens whereas the sentencepiece version would have converted these unknown tokens into a sequence of byte tokens matching the original piece of text.\n",
      "  warnings.warn(\n",
      "Some weights of DebertaV2ForSequenceClassification were not initialized from the model checkpoint at microsoft/mdeberta-v3-base and are newly initialized: ['classifier.bias', 'classifier.weight', 'pooler.dense.bias', 'pooler.dense.weight']\n",
      "You should probably TRAIN this model on a down-stream task to be able to use it for predictions and inference.\n"
     ]
    }
   ],
   "source": [
    "model_card = \"microsoft/mdeberta-v3-base\"\n",
    "tokenizer = detector.get_tokenizer(model_card=model_card)\n",
    "model = detector.get_model(\n",
    "    model_card=model_card, \n",
    "    num_labels=2, \n",
    "    id2label={0: 'OBJ', 1: 'SUBJ'}, \n",
    "    label2id={'OBJ': 0, 'SUBJ': 1},\n",
    "    output_attentions = False,\n",
    "    output_hidden_states = False\n",
    ")"
   ]
  },
  {
   "cell_type": "code",
   "execution_count": 71,
   "metadata": {},
   "outputs": [],
   "source": [
    "# Taken from https://github.com/huggingface/transformers/blob/main/src/transformers/trainer.py#L3700 (with some minor changes removing useless parts)\n",
    "class CustomTrainer(Trainer):\n",
    "    def __init__(self, class_weights, device, *args, **kwargs):\n",
    "        super().__init__(*args, **kwargs)\n",
    "        # You pass the class weights when instantiating the Trainer\n",
    "        self.class_weights = class_weights\n",
    "        self.device = device\n",
    "\n",
    "    def compute_loss(self, model, inputs, return_outputs=False, num_items_in_batch=None):\n",
    "        if self.label_smoother is not None and \"labels\" in inputs:\n",
    "            labels = inputs.pop(\"labels\")\n",
    "        else:\n",
    "            labels = None\n",
    "        outputs = model(**inputs)\n",
    "        if self.args.past_index >= 0:\n",
    "            self._past = outputs[self.args.past_index]\n",
    "\n",
    "        if labels is not None:\n",
    "            loss = self.label_smoother(outputs, labels)\n",
    "        else:\n",
    "            # We extract the logits from the model outputs\n",
    "            logits = outputs.get('logits')\n",
    "            # We compute the loss manually passing the class weights to the loss function\n",
    "            criterion = torch.nn.CrossEntropyLoss(weight=self.class_weights.to(self.device)) # Modified to use the class weights\n",
    "            # We compute the loss using the modified criterion\n",
    "            loss = criterion(logits, inputs['labels'])\n",
    "\n",
    "        return (loss, outputs) if return_outputs else loss"
   ]
  },
  {
   "cell_type": "code",
   "execution_count": 72,
   "metadata": {},
   "outputs": [],
   "source": [
    "def tokenize_text(texts):\n",
    "    return tokenizer(texts['sentence'], padding=True, truncation=True, max_length=256, return_tensors='pt')\n",
    "\n",
    "def evaluate_metrics(eval_pred):\n",
    "    predictions, labels = eval_pred\n",
    "    predictions = np.argmax(predictions, axis=1)\n",
    "    acc = accuracy_score(labels, predictions)\n",
    "    m_prec, m_rec, m_f1, m_s = precision_recall_fscore_support(labels, predictions, average=\"macro\",\n",
    "                                                                zero_division=0)\n",
    "    p_prec, p_rec, p_f1, p_s = precision_recall_fscore_support(labels, predictions, labels=[1],\n",
    "                                                                zero_division=0)\n",
    "\n",
    "    return {\n",
    "        'macro_F1': m_f1,\n",
    "        'macro_P': m_prec,\n",
    "        'macro_R': m_rec,\n",
    "        'SUBJ_F1': p_f1[0],\n",
    "        'SUBJ_P': p_prec[0],\n",
    "        'SUBJ_R': p_rec[0],\n",
    "        'accuracy': acc\n",
    "    }"
   ]
  },
  {
   "cell_type": "code",
   "execution_count": 73,
   "metadata": {
    "execution": {
     "iopub.execute_input": "2025-03-04T08:36:28.123048Z",
     "iopub.status.busy": "2025-03-04T08:36:28.122798Z",
     "iopub.status.idle": "2025-03-04T08:36:30.065714Z",
     "shell.execute_reply": "2025-03-04T08:36:30.064836Z",
     "shell.execute_reply.started": "2025-03-04T08:36:28.123023Z"
    },
    "trusted": true
   },
   "outputs": [
    {
     "name": "stderr",
     "output_type": "stream",
     "text": [
      "Map: 100%|██████████| 2446/2446 [00:00<00:00, 10289.99 examples/s]\n",
      "Map: 100%|██████████| 467/467 [00:00<00:00, 8489.68 examples/s]\n",
      "Map: 100%|██████████| 748/748 [00:00<00:00, 9541.26 examples/s]\n"
     ]
    }
   ],
   "source": [
    "language = 'arabic'\n",
    "\n",
    "epochs = 6\n",
    "batch_size = 16\n",
    "lr = 1e-5\n",
    "weight_decay = 0.0\n",
    "label_smoothing = 0.0\n",
    "\n",
    "train_data = Dataset.from_pandas(detector.all_data[language]['train'])\n",
    "dev_data = Dataset.from_pandas(detector.all_data[language]['dev'])\n",
    "test_data = Dataset.from_pandas(detector.all_data[language]['test'])\n",
    "\n",
    "train_data = train_data.map(tokenize_text, batched=True)\n",
    "dev_data = dev_data.map(tokenize_text, batched=True)\n",
    "test_data = test_data.map(tokenize_text, batched=True)\n",
    "\n",
    "collator_fn = DataCollatorWithPadding(tokenizer=tokenizer)\n",
    "\n",
    "class_weights = detector.get_class_weights(detector.all_data[language]['train'])"
   ]
  },
  {
   "cell_type": "code",
   "execution_count": 74,
   "metadata": {
    "execution": {
     "iopub.execute_input": "2025-03-04T08:36:30.066955Z",
     "iopub.status.busy": "2025-03-04T08:36:30.066635Z",
     "iopub.status.idle": "2025-03-04T08:45:13.181667Z",
     "shell.execute_reply": "2025-03-04T08:45:13.180977Z",
     "shell.execute_reply.started": "2025-03-04T08:36:30.066933Z"
    },
    "trusted": true
   },
   "outputs": [],
   "source": [
    "# Define training args\n",
    "training_args = TrainingArguments(\n",
    "    output_dir= \"models\",\n",
    "    per_device_train_batch_size=batch_size,\n",
    "    per_device_eval_batch_size=batch_size,\n",
    "    learning_rate=lr,\n",
    "    num_train_epochs=epochs,\n",
    "    #bf16=True, # bfloat16 training \n",
    "    #optim=\"adamw_torch_fused\", # improved optimizer \n",
    "    # logging & evaluation strategies\n",
    "    #logging_strategy=\"steps\",\n",
    "    #logging_steps=100,\n",
    "    #weight_decay=1e-1,\n",
    "    eval_strategy=\"epoch\",\n",
    "    save_strategy=\"epoch\",\n",
    "    save_total_limit=1,\n",
    "    #warmup_ratio=0.5,\n",
    "    load_best_model_at_end=True,\n",
    "    #use_mps_device=True,\n",
    "    metric_for_best_model=\"macro_F1\",\n",
    "    # push to hub parameters\n",
    "    #push_to_hub=True,\n",
    "    #hub_strategy=\"every_save\",\n",
    "    #hub_token=HfFolder.get_token(),\n",
    ")"
   ]
  },
  {
   "cell_type": "code",
   "execution_count": 75,
   "metadata": {},
   "outputs": [],
   "source": [
    "# Create a Trainer instance\n",
    "trainer = CustomTrainer(\n",
    "    model=model,\n",
    "    args=training_args,\n",
    "    train_dataset=train_data,\n",
    "    eval_dataset=dev_data,\n",
    "    data_collator=collator_fn,\n",
    "    compute_metrics=evaluate_metrics,\n",
    "    class_weights=class_weights,\n",
    "    device=device,\n",
    ")"
   ]
  },
  {
   "cell_type": "code",
   "execution_count": 76,
   "metadata": {},
   "outputs": [
    {
     "data": {
      "text/html": [
       "\n",
       "    <div>\n",
       "      \n",
       "      <progress value='918' max='918' style='width:300px; height:20px; vertical-align: middle;'></progress>\n",
       "      [918/918 04:51, Epoch 6/6]\n",
       "    </div>\n",
       "    <table border=\"1\" class=\"dataframe\">\n",
       "  <thead>\n",
       " <tr style=\"text-align: left;\">\n",
       "      <th>Epoch</th>\n",
       "      <th>Training Loss</th>\n",
       "      <th>Validation Loss</th>\n",
       "      <th>Macro F1</th>\n",
       "      <th>Macro P</th>\n",
       "      <th>Macro R</th>\n",
       "      <th>Subj F1</th>\n",
       "      <th>Subj P</th>\n",
       "      <th>Subj R</th>\n",
       "      <th>Accuracy</th>\n",
       "    </tr>\n",
       "  </thead>\n",
       "  <tbody>\n",
       "    <tr>\n",
       "      <td>1</td>\n",
       "      <td>No log</td>\n",
       "      <td>0.694950</td>\n",
       "      <td>0.441792</td>\n",
       "      <td>0.559805</td>\n",
       "      <td>0.517796</td>\n",
       "      <td>0.168067</td>\n",
       "      <td>0.540541</td>\n",
       "      <td>0.099502</td>\n",
       "      <td>0.576017</td>\n",
       "    </tr>\n",
       "    <tr>\n",
       "      <td>2</td>\n",
       "      <td>No log</td>\n",
       "      <td>0.695104</td>\n",
       "      <td>0.551732</td>\n",
       "      <td>0.551654</td>\n",
       "      <td>0.551996</td>\n",
       "      <td>0.495098</td>\n",
       "      <td>0.487923</td>\n",
       "      <td>0.502488</td>\n",
       "      <td>0.558887</td>\n",
       "    </tr>\n",
       "    <tr>\n",
       "      <td>3</td>\n",
       "      <td>No log</td>\n",
       "      <td>0.702194</td>\n",
       "      <td>0.545204</td>\n",
       "      <td>0.546435</td>\n",
       "      <td>0.545309</td>\n",
       "      <td>0.466321</td>\n",
       "      <td>0.486486</td>\n",
       "      <td>0.447761</td>\n",
       "      <td>0.558887</td>\n",
       "    </tr>\n",
       "    <tr>\n",
       "      <td>4</td>\n",
       "      <td>0.675300</td>\n",
       "      <td>0.746640</td>\n",
       "      <td>0.549228</td>\n",
       "      <td>0.549400</td>\n",
       "      <td>0.550060</td>\n",
       "      <td>0.500000</td>\n",
       "      <td>0.483721</td>\n",
       "      <td>0.517413</td>\n",
       "      <td>0.554604</td>\n",
       "    </tr>\n",
       "    <tr>\n",
       "      <td>5</td>\n",
       "      <td>0.675300</td>\n",
       "      <td>0.765201</td>\n",
       "      <td>0.553379</td>\n",
       "      <td>0.561876</td>\n",
       "      <td>0.556148</td>\n",
       "      <td>0.448179</td>\n",
       "      <td>0.512821</td>\n",
       "      <td>0.398010</td>\n",
       "      <td>0.578158</td>\n",
       "    </tr>\n",
       "    <tr>\n",
       "      <td>6</td>\n",
       "      <td>0.675300</td>\n",
       "      <td>0.804508</td>\n",
       "      <td>0.550278</td>\n",
       "      <td>0.550250</td>\n",
       "      <td>0.550724</td>\n",
       "      <td>0.496350</td>\n",
       "      <td>0.485714</td>\n",
       "      <td>0.507463</td>\n",
       "      <td>0.556745</td>\n",
       "    </tr>\n",
       "  </tbody>\n",
       "</table><p>"
      ],
      "text/plain": [
       "<IPython.core.display.HTML object>"
      ]
     },
     "metadata": {},
     "output_type": "display_data"
    },
    {
     "data": {
      "text/plain": [
       "TrainOutput(global_step=918, training_loss=0.6385969440402028, metrics={'train_runtime': 291.6103, 'train_samples_per_second': 50.327, 'train_steps_per_second': 3.148, 'total_flos': 1259508487212432.0, 'train_loss': 0.6385969440402028, 'epoch': 6.0})"
      ]
     },
     "execution_count": 76,
     "metadata": {},
     "output_type": "execute_result"
    }
   ],
   "source": [
    "trainer.train()"
   ]
  },
  {
   "cell_type": "code",
   "execution_count": 77,
   "metadata": {
    "execution": {
     "iopub.execute_input": "2025-03-04T08:45:13.182987Z",
     "iopub.status.busy": "2025-03-04T08:45:13.182702Z",
     "iopub.status.idle": "2025-03-04T08:45:21.310833Z",
     "shell.execute_reply": "2025-03-04T08:45:21.310039Z",
     "shell.execute_reply.started": "2025-03-04T08:45:13.182966Z"
    },
    "trusted": true
   },
   "outputs": [
    {
     "data": {
      "text/html": [],
      "text/plain": [
       "<IPython.core.display.HTML object>"
      ]
     },
     "metadata": {},
     "output_type": "display_data"
    },
    {
     "name": "stdout",
     "output_type": "stream",
     "text": [
      "{'macro_F1': 0.565763113161729, 'macro_P': 0.5764920680001623, 'macro_R': 0.5686687306501548, 'SUBJ_F1': np.float64(0.4612676056338028), 'SUBJ_P': np.float64(0.5346938775510204), 'SUBJ_R': np.float64(0.4055727554179567), 'accuracy': 0.5909090909090909}\n"
     ]
    },
    {
     "data": {
      "image/png": "[encoded data removed]",
      "text/plain": [
       "<Figure size 640x480 with 2 Axes>"
      ]
     },
     "metadata": {},
     "output_type": "display_data"
    }
   ],
   "source": [
    "test_predictions, test_labels, _ = trainer.predict(test_data)\n",
    "\n",
    "stats = evaluate_metrics((test_predictions, test_labels))\n",
    "\n",
    "test_predictions = np.argmax(test_predictions, axis=1)\n",
    "\n",
    "print(stats)\n",
    "results[language] = stats\n",
    "\n",
    "cm = confusion_matrix(test_labels, test_predictions, normalize='all')\n",
    "ConfusionMatrixDisplay(cm, display_labels=['OBJ', 'SUBJ']).plot()\n",
    "plt.title(f\"Confusion Matrix ({language})\")\n",
    "plt.show()"
   ]
  },
  {
   "cell_type": "markdown",
   "metadata": {},
   "source": [
    "# mDeBERTta v3 base (Bulgarian)"
   ]
  },
  {
   "cell_type": "code",
   "execution_count": 78,
   "metadata": {
    "execution": {
     "iopub.execute_input": "2025-03-04T08:45:21.312533Z",
     "iopub.status.busy": "2025-03-04T08:45:21.312174Z",
     "iopub.status.idle": "2025-03-04T08:45:21.901580Z",
     "shell.execute_reply": "2025-03-04T08:45:21.900728Z",
     "shell.execute_reply.started": "2025-03-04T08:45:21.312511Z"
    },
    "trusted": true
   },
   "outputs": [
    {
     "name": "stdout",
     "output_type": "stream",
     "text": [
      "Model deleted!\n"
     ]
    },
    {
     "data": {
      "text/plain": [
       "5675"
      ]
     },
     "execution_count": 78,
     "metadata": {},
     "output_type": "execute_result"
    }
   ],
   "source": [
    "with torch.no_grad():\n",
    "    torch.cuda.empty_cache()\n",
    "\n",
    "if 'model' in locals() or 'model' in globals():\n",
    "    del model\n",
    "    print(\"Model deleted!\")\n",
    "\n",
    "gc.collect()"
   ]
  },
  {
   "cell_type": "code",
   "execution_count": 79,
   "metadata": {
    "execution": {
     "iopub.execute_input": "2025-03-04T08:45:21.902995Z",
     "iopub.status.busy": "2025-03-04T08:45:21.902724Z",
     "iopub.status.idle": "2025-03-04T08:45:25.133253Z",
     "shell.execute_reply": "2025-03-04T08:45:25.132350Z",
     "shell.execute_reply.started": "2025-03-04T08:45:21.902974Z"
    },
    "trusted": true
   },
   "outputs": [
    {
     "name": "stderr",
     "output_type": "stream",
     "text": [
      "/home/ubuntu/clef2025-checkthat/.venv/lib/python3.10/site-packages/transformers/convert_slow_tokenizer.py:561: UserWarning: The sentencepiece tokenizer that you are converting to a fast tokenizer uses the byte fallback option which is not implemented in the fast tokenizers. In practice this means that the fast version of the tokenizer can produce unknown tokens whereas the sentencepiece version would have converted these unknown tokens into a sequence of byte tokens matching the original piece of text.\n",
      "  warnings.warn(\n",
      "Some weights of DebertaV2ForSequenceClassification were not initialized from the model checkpoint at microsoft/mdeberta-v3-base and are newly initialized: ['classifier.bias', 'classifier.weight', 'pooler.dense.bias', 'pooler.dense.weight']\n",
      "You should probably TRAIN this model on a down-stream task to be able to use it for predictions and inference.\n"
     ]
    }
   ],
   "source": [
    "model_card = \"microsoft/mdeberta-v3-base\"\n",
    "tokenizer = detector.get_tokenizer(model_card=model_card)\n",
    "model = detector.get_model(\n",
    "    model_card=model_card, \n",
    "    num_labels=2, \n",
    "    id2label={0: 'OBJ', 1: 'SUBJ'}, \n",
    "    label2id={'OBJ': 0, 'SUBJ': 1},\n",
    "    output_attentions = False,\n",
    "    output_hidden_states = False\n",
    ")"
   ]
  },
  {
   "cell_type": "code",
   "execution_count": 80,
   "metadata": {},
   "outputs": [
    {
     "name": "stderr",
     "output_type": "stream",
     "text": [
      "Map:   0%|          | 0/729 [00:00<?, ? examples/s]"
     ]
    },
    {
     "name": "stderr",
     "output_type": "stream",
     "text": [
      "Map: 100%|██████████| 729/729 [00:00<00:00, 10857.24 examples/s]\n",
      "Map: 100%|██████████| 314/314 [00:00<00:00, 10397.43 examples/s]\n",
      "Map: 100%|██████████| 250/250 [00:00<00:00, 10404.29 examples/s]\n"
     ]
    }
   ],
   "source": [
    "language = 'bulgarian'\n",
    "\n",
    "epochs = 6\n",
    "batch_size = 16\n",
    "lr = 1e-5\n",
    "weight_decay = 0.0\n",
    "label_smoothing = 0.0\n",
    "\n",
    "train_data = Dataset.from_pandas(detector.all_data[language]['train'])\n",
    "dev_data = Dataset.from_pandas(detector.all_data[language]['dev'])\n",
    "test_data = Dataset.from_pandas(detector.all_data[language]['test'])\n",
    "\n",
    "train_data = train_data.map(tokenize_text, batched=True)\n",
    "dev_data = dev_data.map(tokenize_text, batched=True)\n",
    "test_data = test_data.map(tokenize_text, batched=True)\n",
    "\n",
    "collator_fn = DataCollatorWithPadding(tokenizer=tokenizer)\n",
    "\n",
    "class_weights = detector.get_class_weights(detector.all_data[language]['train'])"
   ]
  },
  {
   "cell_type": "code",
   "execution_count": 81,
   "metadata": {},
   "outputs": [],
   "source": [
    "# Define training args\n",
    "training_args = TrainingArguments(\n",
    "    output_dir= \"models\",\n",
    "    per_device_train_batch_size=batch_size,\n",
    "    per_device_eval_batch_size=batch_size,\n",
    "    learning_rate=lr,\n",
    "    num_train_epochs=epochs,\n",
    "    #bf16=True, # bfloat16 training \n",
    "    #optim=\"adamw_torch_fused\", # improved optimizer \n",
    "    # logging & evaluation strategies\n",
    "    #logging_strategy=\"steps\",\n",
    "    #logging_steps=100,\n",
    "    #weight_decay=1e-1,\n",
    "    eval_strategy=\"epoch\",\n",
    "    save_strategy=\"epoch\",\n",
    "    save_total_limit=1,\n",
    "    #warmup_ratio=0.5,\n",
    "    load_best_model_at_end=True,\n",
    "    #use_mps_device=True,\n",
    "    metric_for_best_model=\"macro_F1\",\n",
    "    # push to hub parameters\n",
    "    #push_to_hub=True,\n",
    "    #hub_strategy=\"every_save\",\n",
    "    #hub_token=HfFolder.get_token(),\n",
    ")"
   ]
  },
  {
   "cell_type": "code",
   "execution_count": 82,
   "metadata": {},
   "outputs": [],
   "source": [
    "# Create a Trainer instance\n",
    "trainer = CustomTrainer(\n",
    "    model=model,\n",
    "    args=training_args,\n",
    "    train_dataset=train_data,\n",
    "    eval_dataset=dev_data,\n",
    "    data_collator=collator_fn,\n",
    "    compute_metrics=evaluate_metrics,\n",
    "    class_weights=class_weights,\n",
    "    device=device,\n",
    ")"
   ]
  },
  {
   "cell_type": "code",
   "execution_count": 83,
   "metadata": {},
   "outputs": [
    {
     "data": {
      "text/html": [
       "\n",
       "    <div>\n",
       "      \n",
       "      <progress value='276' max='276' style='width:300px; height:20px; vertical-align: middle;'></progress>\n",
       "      [276/276 01:50, Epoch 6/6]\n",
       "    </div>\n",
       "    <table border=\"1\" class=\"dataframe\">\n",
       "  <thead>\n",
       " <tr style=\"text-align: left;\">\n",
       "      <th>Epoch</th>\n",
       "      <th>Training Loss</th>\n",
       "      <th>Validation Loss</th>\n",
       "      <th>Macro F1</th>\n",
       "      <th>Macro P</th>\n",
       "      <th>Macro R</th>\n",
       "      <th>Subj F1</th>\n",
       "      <th>Subj P</th>\n",
       "      <th>Subj R</th>\n",
       "      <th>Accuracy</th>\n",
       "    </tr>\n",
       "  </thead>\n",
       "  <tbody>\n",
       "    <tr>\n",
       "      <td>1</td>\n",
       "      <td>No log</td>\n",
       "      <td>0.685650</td>\n",
       "      <td>0.306843</td>\n",
       "      <td>0.221338</td>\n",
       "      <td>0.500000</td>\n",
       "      <td>0.613687</td>\n",
       "      <td>0.442675</td>\n",
       "      <td>1.000000</td>\n",
       "      <td>0.442675</td>\n",
       "    </tr>\n",
       "    <tr>\n",
       "      <td>2</td>\n",
       "      <td>No log</td>\n",
       "      <td>0.573852</td>\n",
       "      <td>0.769767</td>\n",
       "      <td>0.770014</td>\n",
       "      <td>0.773566</td>\n",
       "      <td>0.755102</td>\n",
       "      <td>0.716129</td>\n",
       "      <td>0.798561</td>\n",
       "      <td>0.770701</td>\n",
       "    </tr>\n",
       "    <tr>\n",
       "      <td>3</td>\n",
       "      <td>No log</td>\n",
       "      <td>0.503133</td>\n",
       "      <td>0.808511</td>\n",
       "      <td>0.810856</td>\n",
       "      <td>0.807009</td>\n",
       "      <td>0.782288</td>\n",
       "      <td>0.803030</td>\n",
       "      <td>0.762590</td>\n",
       "      <td>0.812102</td>\n",
       "    </tr>\n",
       "    <tr>\n",
       "      <td>4</td>\n",
       "      <td>No log</td>\n",
       "      <td>0.423324</td>\n",
       "      <td>0.825985</td>\n",
       "      <td>0.825565</td>\n",
       "      <td>0.826475</td>\n",
       "      <td>0.807143</td>\n",
       "      <td>0.801418</td>\n",
       "      <td>0.812950</td>\n",
       "      <td>0.828025</td>\n",
       "    </tr>\n",
       "    <tr>\n",
       "      <td>5</td>\n",
       "      <td>No log</td>\n",
       "      <td>0.415053</td>\n",
       "      <td>0.838138</td>\n",
       "      <td>0.839396</td>\n",
       "      <td>0.837163</td>\n",
       "      <td>0.817518</td>\n",
       "      <td>0.829630</td>\n",
       "      <td>0.805755</td>\n",
       "      <td>0.840764</td>\n",
       "    </tr>\n",
       "    <tr>\n",
       "      <td>6</td>\n",
       "      <td>No log</td>\n",
       "      <td>0.414228</td>\n",
       "      <td>0.841752</td>\n",
       "      <td>0.842021</td>\n",
       "      <td>0.841501</td>\n",
       "      <td>0.823105</td>\n",
       "      <td>0.826087</td>\n",
       "      <td>0.820144</td>\n",
       "      <td>0.843949</td>\n",
       "    </tr>\n",
       "  </tbody>\n",
       "</table><p>"
      ],
      "text/plain": [
       "<IPython.core.display.HTML object>"
      ]
     },
     "metadata": {},
     "output_type": "display_data"
    },
    {
     "data": {
      "text/plain": [
       "TrainOutput(global_step=276, training_loss=0.46358277141184046, metrics={'train_runtime': 110.0359, 'train_samples_per_second': 39.751, 'train_steps_per_second': 2.508, 'total_flos': 334920685341096.0, 'train_loss': 0.46358277141184046, 'epoch': 6.0})"
      ]
     },
     "execution_count": 83,
     "metadata": {},
     "output_type": "execute_result"
    }
   ],
   "source": [
    "trainer.train()"
   ]
  },
  {
   "cell_type": "code",
   "execution_count": 84,
   "metadata": {},
   "outputs": [
    {
     "data": {
      "text/html": [
       "\n",
       "    <div>\n",
       "      \n",
       "      <progress value='1' max='16' style='width:300px; height:20px; vertical-align: middle;'></progress>\n",
       "      [ 1/16 : < :]\n",
       "    </div>\n",
       "    "
      ],
      "text/plain": [
       "<IPython.core.display.HTML object>"
      ]
     },
     "metadata": {},
     "output_type": "display_data"
    },
    {
     "name": "stdout",
     "output_type": "stream",
     "text": [
      "{'macro_F1': 0.7574771041944129, 'macro_P': 0.7595389507154213, 'macro_R': 0.7560616953140318, 'SUBJ_F1': np.float64(0.7177033492822966), 'SUBJ_P': np.float64(0.7352941176470589), 'SUBJ_R': np.float64(0.7009345794392523), 'accuracy': 0.764}\n"
     ]
    },
    {
     "data": {
      "image/png": "[encoded data removed]",
      "text/plain": [
       "<Figure size 640x480 with 2 Axes>"
      ]
     },
     "metadata": {},
     "output_type": "display_data"
    }
   ],
   "source": [
    "test_predictions, test_labels, _ = trainer.predict(test_data)\n",
    "\n",
    "stats = evaluate_metrics((test_predictions, test_labels))\n",
    "\n",
    "test_predictions = np.argmax(test_predictions, axis=1)\n",
    "\n",
    "print(stats)\n",
    "results[language] = stats\n",
    "\n",
    "cm = confusion_matrix(test_labels, test_predictions, normalize='all')\n",
    "ConfusionMatrixDisplay(cm, display_labels=['OBJ', 'SUBJ']).plot()\n",
    "plt.title(f\"Confusion Matrix ({language})\")\n",
    "plt.show()"
   ]
  },
  {
   "cell_type": "markdown",
   "metadata": {},
   "source": [
    "# mDeBERTa-base (English)"
   ]
  },
  {
   "cell_type": "code",
   "execution_count": 85,
   "metadata": {
    "execution": {
     "iopub.execute_input": "2025-03-04T08:48:30.247276Z",
     "iopub.status.busy": "2025-03-04T08:48:30.247045Z",
     "iopub.status.idle": "2025-03-04T08:48:30.784699Z",
     "shell.execute_reply": "2025-03-04T08:48:30.784005Z",
     "shell.execute_reply.started": "2025-03-04T08:48:30.247256Z"
    },
    "trusted": true
   },
   "outputs": [
    {
     "name": "stdout",
     "output_type": "stream",
     "text": [
      "Model deleted!\n"
     ]
    },
    {
     "data": {
      "text/plain": [
       "5987"
      ]
     },
     "execution_count": 85,
     "metadata": {},
     "output_type": "execute_result"
    }
   ],
   "source": [
    "with torch.no_grad():\n",
    "    torch.cuda.empty_cache()\n",
    "\n",
    "if 'model' in locals() or 'model' in globals():\n",
    "    del model\n",
    "    print(\"Model deleted!\")\n",
    "\n",
    "gc.collect()"
   ]
  },
  {
   "cell_type": "code",
   "execution_count": 86,
   "metadata": {
    "execution": {
     "iopub.execute_input": "2025-03-04T08:48:30.786328Z",
     "iopub.status.busy": "2025-03-04T08:48:30.786125Z",
     "iopub.status.idle": "2025-03-04T08:48:34.010984Z",
     "shell.execute_reply": "2025-03-04T08:48:34.010152Z",
     "shell.execute_reply.started": "2025-03-04T08:48:30.786311Z"
    },
    "trusted": true
   },
   "outputs": [
    {
     "name": "stderr",
     "output_type": "stream",
     "text": [
      "/home/ubuntu/clef2025-checkthat/.venv/lib/python3.10/site-packages/transformers/convert_slow_tokenizer.py:561: UserWarning: The sentencepiece tokenizer that you are converting to a fast tokenizer uses the byte fallback option which is not implemented in the fast tokenizers. In practice this means that the fast version of the tokenizer can produce unknown tokens whereas the sentencepiece version would have converted these unknown tokens into a sequence of byte tokens matching the original piece of text.\n",
      "  warnings.warn(\n",
      "Some weights of DebertaV2ForSequenceClassification were not initialized from the model checkpoint at microsoft/mdeberta-v3-base and are newly initialized: ['classifier.bias', 'classifier.weight', 'pooler.dense.bias', 'pooler.dense.weight']\n",
      "You should probably TRAIN this model on a down-stream task to be able to use it for predictions and inference.\n"
     ]
    }
   ],
   "source": [
    "model_card = \"microsoft/mdeberta-v3-base\"\n",
    "tokenizer = detector.get_tokenizer(model_card=model_card)\n",
    "model = detector.get_model(\n",
    "    model_card=model_card, \n",
    "    num_labels=2, \n",
    "    id2label={0: 'OBJ', 1: 'SUBJ'}, \n",
    "    label2id={'OBJ': 0, 'SUBJ': 1},\n",
    "    output_attentions = False,\n",
    "    output_hidden_states = False\n",
    ")"
   ]
  },
  {
   "cell_type": "code",
   "execution_count": 87,
   "metadata": {},
   "outputs": [
    {
     "name": "stderr",
     "output_type": "stream",
     "text": [
      "Map:   0%|          | 0/830 [00:00<?, ? examples/s]"
     ]
    },
    {
     "name": "stderr",
     "output_type": "stream",
     "text": [
      "Map: 100%|██████████| 830/830 [00:00<00:00, 9850.44 examples/s]\n",
      "Map: 100%|██████████| 462/462 [00:00<00:00, 10915.41 examples/s]\n",
      "Map: 100%|██████████| 484/484 [00:00<00:00, 8148.46 examples/s]\n"
     ]
    }
   ],
   "source": [
    "language = 'english'\n",
    "\n",
    "epochs = 6\n",
    "batch_size = 16\n",
    "lr = 1e-5\n",
    "weight_decay = 0.0\n",
    "label_smoothing = 0.0\n",
    "\n",
    "train_data = Dataset.from_pandas(detector.all_data[language]['train'])\n",
    "dev_data = Dataset.from_pandas(detector.all_data[language]['dev'])\n",
    "test_data = Dataset.from_pandas(detector.all_data[language]['test'])\n",
    "\n",
    "train_data = train_data.map(tokenize_text, batched=True)\n",
    "dev_data = dev_data.map(tokenize_text, batched=True)\n",
    "test_data = test_data.map(tokenize_text, batched=True)\n",
    "\n",
    "collator_fn = DataCollatorWithPadding(tokenizer=tokenizer)\n",
    "\n",
    "class_weights = detector.get_class_weights(detector.all_data[language]['train'])"
   ]
  },
  {
   "cell_type": "code",
   "execution_count": 88,
   "metadata": {},
   "outputs": [],
   "source": [
    "# Define training args\n",
    "training_args = TrainingArguments(\n",
    "    output_dir= \"models\",\n",
    "    per_device_train_batch_size=batch_size,\n",
    "    per_device_eval_batch_size=batch_size,\n",
    "    learning_rate=lr,\n",
    "    num_train_epochs=epochs,\n",
    "    #bf16=True, # bfloat16 training \n",
    "    #optim=\"adamw_torch_fused\", # improved optimizer \n",
    "    # logging & evaluation strategies\n",
    "    #logging_strategy=\"steps\",\n",
    "    #logging_steps=100,\n",
    "    #weight_decay=1e-1,\n",
    "    eval_strategy=\"epoch\",\n",
    "    save_strategy=\"epoch\",\n",
    "    save_total_limit=1,\n",
    "    #warmup_ratio=0.5,\n",
    "    load_best_model_at_end=True,\n",
    "    #use_mps_device=True,\n",
    "    metric_for_best_model=\"macro_F1\",\n",
    "    # push to hub parameters\n",
    "    #push_to_hub=True,\n",
    "    #hub_strategy=\"every_save\",\n",
    "    #hub_token=HfFolder.get_token(),\n",
    ")"
   ]
  },
  {
   "cell_type": "code",
   "execution_count": 89,
   "metadata": {},
   "outputs": [],
   "source": [
    "# Create a Trainer instance\n",
    "trainer = CustomTrainer(\n",
    "    model=model,\n",
    "    args=training_args,\n",
    "    train_dataset=train_data,\n",
    "    eval_dataset=dev_data,\n",
    "    data_collator=collator_fn,\n",
    "    compute_metrics=evaluate_metrics,\n",
    "    class_weights=class_weights,\n",
    "    device=device,\n",
    ")"
   ]
  },
  {
   "cell_type": "code",
   "execution_count": 90,
   "metadata": {},
   "outputs": [
    {
     "data": {
      "text/html": [
       "\n",
       "    <div>\n",
       "      \n",
       "      <progress value='312' max='312' style='width:300px; height:20px; vertical-align: middle;'></progress>\n",
       "      [312/312 02:10, Epoch 6/6]\n",
       "    </div>\n",
       "    <table border=\"1\" class=\"dataframe\">\n",
       "  <thead>\n",
       " <tr style=\"text-align: left;\">\n",
       "      <th>Epoch</th>\n",
       "      <th>Training Loss</th>\n",
       "      <th>Validation Loss</th>\n",
       "      <th>Macro F1</th>\n",
       "      <th>Macro P</th>\n",
       "      <th>Macro R</th>\n",
       "      <th>Subj F1</th>\n",
       "      <th>Subj P</th>\n",
       "      <th>Subj R</th>\n",
       "      <th>Accuracy</th>\n",
       "    </tr>\n",
       "  </thead>\n",
       "  <tbody>\n",
       "    <tr>\n",
       "      <td>1</td>\n",
       "      <td>No log</td>\n",
       "      <td>0.689353</td>\n",
       "      <td>0.542208</td>\n",
       "      <td>0.712750</td>\n",
       "      <td>0.606982</td>\n",
       "      <td>0.389610</td>\n",
       "      <td>0.882353</td>\n",
       "      <td>0.250000</td>\n",
       "      <td>0.593074</td>\n",
       "    </tr>\n",
       "    <tr>\n",
       "      <td>2</td>\n",
       "      <td>No log</td>\n",
       "      <td>0.476692</td>\n",
       "      <td>0.749148</td>\n",
       "      <td>0.770801</td>\n",
       "      <td>0.750394</td>\n",
       "      <td>0.788785</td>\n",
       "      <td>0.715254</td>\n",
       "      <td>0.879167</td>\n",
       "      <td>0.755411</td>\n",
       "    </tr>\n",
       "    <tr>\n",
       "      <td>3</td>\n",
       "      <td>No log</td>\n",
       "      <td>0.660809</td>\n",
       "      <td>0.745174</td>\n",
       "      <td>0.776274</td>\n",
       "      <td>0.754786</td>\n",
       "      <td>0.714286</td>\n",
       "      <td>0.873494</td>\n",
       "      <td>0.604167</td>\n",
       "      <td>0.748918</td>\n",
       "    </tr>\n",
       "    <tr>\n",
       "      <td>4</td>\n",
       "      <td>No log</td>\n",
       "      <td>0.592936</td>\n",
       "      <td>0.778286</td>\n",
       "      <td>0.790799</td>\n",
       "      <td>0.782939</td>\n",
       "      <td>0.763889</td>\n",
       "      <td>0.859375</td>\n",
       "      <td>0.687500</td>\n",
       "      <td>0.779221</td>\n",
       "    </tr>\n",
       "    <tr>\n",
       "      <td>5</td>\n",
       "      <td>No log</td>\n",
       "      <td>0.618215</td>\n",
       "      <td>0.780397</td>\n",
       "      <td>0.793561</td>\n",
       "      <td>0.785191</td>\n",
       "      <td>0.765661</td>\n",
       "      <td>0.863874</td>\n",
       "      <td>0.687500</td>\n",
       "      <td>0.781385</td>\n",
       "    </tr>\n",
       "    <tr>\n",
       "      <td>6</td>\n",
       "      <td>No log</td>\n",
       "      <td>0.591518</td>\n",
       "      <td>0.789609</td>\n",
       "      <td>0.797592</td>\n",
       "      <td>0.793018</td>\n",
       "      <td>0.780045</td>\n",
       "      <td>0.855721</td>\n",
       "      <td>0.716667</td>\n",
       "      <td>0.790043</td>\n",
       "    </tr>\n",
       "  </tbody>\n",
       "</table><p>"
      ],
      "text/plain": [
       "<IPython.core.display.HTML object>"
      ]
     },
     "metadata": {},
     "output_type": "display_data"
    },
    {
     "data": {
      "text/plain": [
       "TrainOutput(global_step=312, training_loss=0.4247337732559595, metrics={'train_runtime': 130.7332, 'train_samples_per_second': 38.093, 'train_steps_per_second': 2.387, 'total_flos': 445302891493920.0, 'train_loss': 0.4247337732559595, 'epoch': 6.0})"
      ]
     },
     "execution_count": 90,
     "metadata": {},
     "output_type": "execute_result"
    }
   ],
   "source": [
    "trainer.train()"
   ]
  },
  {
   "cell_type": "code",
   "execution_count": 91,
   "metadata": {},
   "outputs": [
    {
     "data": {
      "text/html": [],
      "text/plain": [
       "<IPython.core.display.HTML object>"
      ]
     },
     "metadata": {},
     "output_type": "display_data"
    },
    {
     "name": "stdout",
     "output_type": "stream",
     "text": [
      "{'macro_F1': 0.6751503436426117, 'macro_P': 0.736783988957902, 'macro_R': 0.6553754188932162, 'SUBJ_F1': np.float64(0.4791666666666667), 'SUBJ_P': np.float64(0.6571428571428571), 'SUBJ_R': np.float64(0.3770491803278688), 'accuracy': 0.7933884297520661}\n"
     ]
    },
    {
     "data": {
      "image/png": "[encoded data removed]",
      "text/plain": [
       "<Figure size 640x480 with 2 Axes>"
      ]
     },
     "metadata": {},
     "output_type": "display_data"
    }
   ],
   "source": [
    "test_predictions, test_labels, _ = trainer.predict(test_data)\n",
    "\n",
    "stats = evaluate_metrics((test_predictions, test_labels))\n",
    "\n",
    "test_predictions = np.argmax(test_predictions, axis=1)\n",
    "\n",
    "print(stats)\n",
    "results[language] = stats\n",
    "\n",
    "cm = confusion_matrix(test_labels, test_predictions, normalize='all')\n",
    "ConfusionMatrixDisplay(cm, display_labels=['OBJ', 'SUBJ']).plot()\n",
    "plt.title(f\"Confusion Matrix ({language})\")\n",
    "plt.show()"
   ]
  },
  {
   "cell_type": "markdown",
   "metadata": {},
   "source": [
    "# mDeBERTta v3 base (German)"
   ]
  },
  {
   "cell_type": "code",
   "execution_count": null,
   "metadata": {
    "execution": {
     "iopub.execute_input": "2025-03-04T08:52:08.812986Z",
     "iopub.status.busy": "2025-03-04T08:52:08.812621Z",
     "iopub.status.idle": "2025-03-04T08:52:09.319059Z",
     "shell.execute_reply": "2025-03-04T08:52:09.318158Z",
     "shell.execute_reply.started": "2025-03-04T08:52:08.812954Z"
    },
    "trusted": true
   },
   "outputs": [],
   "source": [
    "with torch.no_grad():\n",
    "    torch.cuda.empty_cache()\n",
    "\n",
    "if 'model' in locals() or 'model' in globals():\n",
    "    del model\n",
    "    print(\"Model deleted!\")\n",
    "\n",
    "gc.collect()"
   ]
  },
  {
   "cell_type": "code",
   "execution_count": null,
   "metadata": {
    "execution": {
     "iopub.execute_input": "2025-03-04T08:52:09.320106Z",
     "iopub.status.busy": "2025-03-04T08:52:09.319856Z",
     "iopub.status.idle": "2025-03-04T08:52:12.563733Z",
     "shell.execute_reply": "2025-03-04T08:52:12.562535Z",
     "shell.execute_reply.started": "2025-03-04T08:52:09.320086Z"
    },
    "trusted": true
   },
   "outputs": [],
   "source": [
    "model_card = \"microsoft/mdeberta-v3-base\"\n",
    "tokenizer = detector.get_tokenizer(model_card=model_card)\n",
    "model = detector.get_model(\n",
    "    model_card=model_card, \n",
    "    num_labels=2, \n",
    "    id2label={0: 'OBJ', 1: 'SUBJ'}, \n",
    "    label2id={'OBJ': 0, 'SUBJ': 1},\n",
    "    output_attentions = False,\n",
    "    output_hidden_states = False\n",
    ")"
   ]
  },
  {
   "cell_type": "code",
   "execution_count": 92,
   "metadata": {},
   "outputs": [
    {
     "name": "stderr",
     "output_type": "stream",
     "text": [
      "Map: 100%|██████████| 800/800 [00:00<00:00, 10023.73 examples/s]\n",
      "Map:   0%|          | 0/491 [00:00<?, ? examples/s]"
     ]
    },
    {
     "name": "stderr",
     "output_type": "stream",
     "text": [
      "Map: 100%|██████████| 491/491 [00:00<00:00, 12273.18 examples/s]\n",
      "Map: 100%|██████████| 337/337 [00:00<00:00, 9455.16 examples/s]\n"
     ]
    }
   ],
   "source": [
    "language = 'german'\n",
    "\n",
    "epochs = 6\n",
    "batch_size = 16\n",
    "lr = 1e-5\n",
    "weight_decay = 0.0\n",
    "label_smoothing = 0.0\n",
    "\n",
    "train_data = Dataset.from_pandas(detector.all_data[language]['train'])\n",
    "dev_data = Dataset.from_pandas(detector.all_data[language]['dev'])\n",
    "test_data = Dataset.from_pandas(detector.all_data[language]['test'])\n",
    "\n",
    "train_data = train_data.map(tokenize_text, batched=True)\n",
    "dev_data = dev_data.map(tokenize_text, batched=True)\n",
    "test_data = test_data.map(tokenize_text, batched=True)\n",
    "\n",
    "collator_fn = DataCollatorWithPadding(tokenizer=tokenizer)\n",
    "\n",
    "class_weights = detector.get_class_weights(detector.all_data[language]['train'])"
   ]
  },
  {
   "cell_type": "code",
   "execution_count": 93,
   "metadata": {},
   "outputs": [],
   "source": [
    "# Define training args\n",
    "training_args = TrainingArguments(\n",
    "    output_dir= \"models\",\n",
    "    per_device_train_batch_size=batch_size,\n",
    "    per_device_eval_batch_size=batch_size,\n",
    "    learning_rate=lr,\n",
    "    num_train_epochs=epochs,\n",
    "    #bf16=True, # bfloat16 training \n",
    "    #optim=\"adamw_torch_fused\", # improved optimizer \n",
    "    # logging & evaluation strategies\n",
    "    #logging_strategy=\"steps\",\n",
    "    #logging_steps=100,\n",
    "    #weight_decay=1e-1,\n",
    "    eval_strategy=\"epoch\",\n",
    "    save_strategy=\"epoch\",\n",
    "    save_total_limit=1,\n",
    "    #warmup_ratio=0.5,\n",
    "    load_best_model_at_end=True,\n",
    "    #use_mps_device=True,\n",
    "    metric_for_best_model=\"macro_F1\",\n",
    "    # push to hub parameters\n",
    "    #push_to_hub=True,\n",
    "    #hub_strategy=\"every_save\",\n",
    "    #hub_token=HfFolder.get_token(),\n",
    ")"
   ]
  },
  {
   "cell_type": "code",
   "execution_count": 94,
   "metadata": {},
   "outputs": [],
   "source": [
    "# Create a Trainer instance\n",
    "trainer = CustomTrainer(\n",
    "    model=model,\n",
    "    args=training_args,\n",
    "    train_dataset=train_data,\n",
    "    eval_dataset=dev_data,\n",
    "    data_collator=collator_fn,\n",
    "    compute_metrics=evaluate_metrics,\n",
    "    class_weights=class_weights,\n",
    "    device=device,\n",
    ")"
   ]
  },
  {
   "cell_type": "code",
   "execution_count": 95,
   "metadata": {},
   "outputs": [
    {
     "data": {
      "text/html": [
       "\n",
       "    <div>\n",
       "      \n",
       "      <progress value='300' max='300' style='width:300px; height:20px; vertical-align: middle;'></progress>\n",
       "      [300/300 02:03, Epoch 6/6]\n",
       "    </div>\n",
       "    <table border=\"1\" class=\"dataframe\">\n",
       "  <thead>\n",
       " <tr style=\"text-align: left;\">\n",
       "      <th>Epoch</th>\n",
       "      <th>Training Loss</th>\n",
       "      <th>Validation Loss</th>\n",
       "      <th>Macro F1</th>\n",
       "      <th>Macro P</th>\n",
       "      <th>Macro R</th>\n",
       "      <th>Subj F1</th>\n",
       "      <th>Subj P</th>\n",
       "      <th>Subj R</th>\n",
       "      <th>Accuracy</th>\n",
       "    </tr>\n",
       "  </thead>\n",
       "  <tbody>\n",
       "    <tr>\n",
       "      <td>1</td>\n",
       "      <td>No log</td>\n",
       "      <td>0.514818</td>\n",
       "      <td>0.763438</td>\n",
       "      <td>0.758745</td>\n",
       "      <td>0.774647</td>\n",
       "      <td>0.708995</td>\n",
       "      <td>0.656863</td>\n",
       "      <td>0.770115</td>\n",
       "      <td>0.775967</td>\n",
       "    </tr>\n",
       "    <tr>\n",
       "      <td>2</td>\n",
       "      <td>No log</td>\n",
       "      <td>0.524952</td>\n",
       "      <td>0.784603</td>\n",
       "      <td>0.781600</td>\n",
       "      <td>0.788390</td>\n",
       "      <td>0.726257</td>\n",
       "      <td>0.706522</td>\n",
       "      <td>0.747126</td>\n",
       "      <td>0.800407</td>\n",
       "    </tr>\n",
       "    <tr>\n",
       "      <td>3</td>\n",
       "      <td>No log</td>\n",
       "      <td>0.640416</td>\n",
       "      <td>0.758722</td>\n",
       "      <td>0.759041</td>\n",
       "      <td>0.782316</td>\n",
       "      <td>0.717445</td>\n",
       "      <td>0.626609</td>\n",
       "      <td>0.839080</td>\n",
       "      <td>0.765784</td>\n",
       "    </tr>\n",
       "    <tr>\n",
       "      <td>4</td>\n",
       "      <td>No log</td>\n",
       "      <td>0.632269</td>\n",
       "      <td>0.782219</td>\n",
       "      <td>0.777792</td>\n",
       "      <td>0.789124</td>\n",
       "      <td>0.726776</td>\n",
       "      <td>0.692708</td>\n",
       "      <td>0.764368</td>\n",
       "      <td>0.796334</td>\n",
       "    </tr>\n",
       "    <tr>\n",
       "      <td>5</td>\n",
       "      <td>No log</td>\n",
       "      <td>0.686507</td>\n",
       "      <td>0.779967</td>\n",
       "      <td>0.779611</td>\n",
       "      <td>0.780331</td>\n",
       "      <td>0.716332</td>\n",
       "      <td>0.714286</td>\n",
       "      <td>0.718391</td>\n",
       "      <td>0.798371</td>\n",
       "    </tr>\n",
       "    <tr>\n",
       "      <td>6</td>\n",
       "      <td>No log</td>\n",
       "      <td>0.703627</td>\n",
       "      <td>0.776421</td>\n",
       "      <td>0.771769</td>\n",
       "      <td>0.784392</td>\n",
       "      <td>0.720867</td>\n",
       "      <td>0.682051</td>\n",
       "      <td>0.764368</td>\n",
       "      <td>0.790224</td>\n",
       "    </tr>\n",
       "  </tbody>\n",
       "</table><p>"
      ],
      "text/plain": [
       "<IPython.core.display.HTML object>"
      ]
     },
     "metadata": {},
     "output_type": "display_data"
    },
    {
     "data": {
      "text/plain": [
       "TrainOutput(global_step=300, training_loss=0.27254806518554686, metrics={'train_runtime': 122.8066, 'train_samples_per_second': 39.086, 'train_steps_per_second': 2.443, 'total_flos': 404540502451200.0, 'train_loss': 0.27254806518554686, 'epoch': 6.0})"
      ]
     },
     "execution_count": 95,
     "metadata": {},
     "output_type": "execute_result"
    }
   ],
   "source": [
    "trainer.train()"
   ]
  },
  {
   "cell_type": "code",
   "execution_count": 96,
   "metadata": {},
   "outputs": [
    {
     "data": {
      "text/html": [
       "\n",
       "    <div>\n",
       "      \n",
       "      <progress value='1' max='22' style='width:300px; height:20px; vertical-align: middle;'></progress>\n",
       "      [ 1/22 : < :]\n",
       "    </div>\n",
       "    "
      ],
      "text/plain": [
       "<IPython.core.display.HTML object>"
      ]
     },
     "metadata": {},
     "output_type": "display_data"
    },
    {
     "name": "stdout",
     "output_type": "stream",
     "text": [
      "{'macro_F1': 0.8372606411810504, 'macro_P': 0.8338469339990638, 'macro_R': 0.8411663876265647, 'SUBJ_F1': np.float64(0.7841409691629956), 'SUBJ_P': np.float64(0.7672413793103449), 'SUBJ_R': np.float64(0.8018018018018018), 'accuracy': 0.8545994065281899}\n"
     ]
    },
    {
     "data": {
      "image/png": "[encoded data removed]",
      "text/plain": [
       "<Figure size 640x480 with 2 Axes>"
      ]
     },
     "metadata": {},
     "output_type": "display_data"
    }
   ],
   "source": [
    "test_predictions, test_labels, _ = trainer.predict(test_data)\n",
    "\n",
    "stats = evaluate_metrics((test_predictions, test_labels))\n",
    "\n",
    "test_predictions = np.argmax(test_predictions, axis=1)\n",
    "\n",
    "print(stats)\n",
    "results[language] = stats\n",
    "\n",
    "cm = confusion_matrix(test_labels, test_predictions, normalize='all')\n",
    "ConfusionMatrixDisplay(cm, display_labels=['OBJ', 'SUBJ']).plot()\n",
    "plt.title(f\"Confusion Matrix ({language})\")\n",
    "plt.show()"
   ]
  },
  {
   "cell_type": "markdown",
   "metadata": {},
   "source": [
    "# mDeBERTa-base (italian)"
   ]
  },
  {
   "cell_type": "code",
   "execution_count": 97,
   "metadata": {
    "execution": {
     "iopub.execute_input": "2025-03-04T08:55:40.750449Z",
     "iopub.status.busy": "2025-03-04T08:55:40.750117Z",
     "iopub.status.idle": "2025-03-04T08:55:41.241947Z",
     "shell.execute_reply": "2025-03-04T08:55:41.240974Z",
     "shell.execute_reply.started": "2025-03-04T08:55:40.750423Z"
    },
    "trusted": true
   },
   "outputs": [
    {
     "name": "stdout",
     "output_type": "stream",
     "text": [
      "Model deleted!\n"
     ]
    },
    {
     "data": {
      "text/plain": [
       "5687"
      ]
     },
     "execution_count": 97,
     "metadata": {},
     "output_type": "execute_result"
    }
   ],
   "source": [
    "with torch.no_grad():\n",
    "    torch.cuda.empty_cache()\n",
    "\n",
    "if 'model' in locals() or 'model' in globals():\n",
    "    del model\n",
    "    print(\"Model deleted!\")\n",
    "\n",
    "gc.collect()"
   ]
  },
  {
   "cell_type": "code",
   "execution_count": 98,
   "metadata": {
    "execution": {
     "iopub.execute_input": "2025-03-04T08:55:41.243121Z",
     "iopub.status.busy": "2025-03-04T08:55:41.242809Z",
     "iopub.status.idle": "2025-03-04T08:55:44.567846Z",
     "shell.execute_reply": "2025-03-04T08:55:44.566873Z",
     "shell.execute_reply.started": "2025-03-04T08:55:41.243090Z"
    },
    "trusted": true
   },
   "outputs": [
    {
     "name": "stderr",
     "output_type": "stream",
     "text": [
      "/home/ubuntu/clef2025-checkthat/.venv/lib/python3.10/site-packages/transformers/convert_slow_tokenizer.py:561: UserWarning: The sentencepiece tokenizer that you are converting to a fast tokenizer uses the byte fallback option which is not implemented in the fast tokenizers. In practice this means that the fast version of the tokenizer can produce unknown tokens whereas the sentencepiece version would have converted these unknown tokens into a sequence of byte tokens matching the original piece of text.\n",
      "  warnings.warn(\n",
      "Some weights of DebertaV2ForSequenceClassification were not initialized from the model checkpoint at microsoft/mdeberta-v3-base and are newly initialized: ['classifier.bias', 'classifier.weight', 'pooler.dense.bias', 'pooler.dense.weight']\n",
      "You should probably TRAIN this model on a down-stream task to be able to use it for predictions and inference.\n"
     ]
    }
   ],
   "source": [
    "model_card = \"microsoft/mdeberta-v3-base\"\n",
    "tokenizer = detector.get_tokenizer(model_card=model_card)\n",
    "model = detector.get_model(\n",
    "    model_card=model_card, \n",
    "    num_labels=2, \n",
    "    id2label={0: 'OBJ', 1: 'SUBJ'}, \n",
    "    label2id={'OBJ': 0, 'SUBJ': 1},\n",
    "    output_attentions = False,\n",
    "    output_hidden_states = False\n",
    ")"
   ]
  },
  {
   "cell_type": "code",
   "execution_count": 99,
   "metadata": {},
   "outputs": [
    {
     "name": "stderr",
     "output_type": "stream",
     "text": [
      "Map:   0%|          | 0/1613 [00:00<?, ? examples/s]"
     ]
    },
    {
     "name": "stderr",
     "output_type": "stream",
     "text": [
      "Map: 100%|██████████| 1613/1613 [00:00<00:00, 11261.16 examples/s]\n",
      "Map: 100%|██████████| 667/667 [00:00<00:00, 7777.85 examples/s]\n",
      "Map: 100%|██████████| 513/513 [00:00<00:00, 10844.00 examples/s]\n"
     ]
    }
   ],
   "source": [
    "language = 'italian'\n",
    "\n",
    "epochs = 6\n",
    "batch_size = 16\n",
    "lr = 1e-5\n",
    "weight_decay = 0.0\n",
    "label_smoothing = 0.0\n",
    "\n",
    "train_data = Dataset.from_pandas(detector.all_data[language]['train'])\n",
    "dev_data = Dataset.from_pandas(detector.all_data[language]['dev'])\n",
    "test_data = Dataset.from_pandas(detector.all_data[language]['test'])\n",
    "\n",
    "train_data = train_data.map(tokenize_text, batched=True)\n",
    "dev_data = dev_data.map(tokenize_text, batched=True)\n",
    "test_data = test_data.map(tokenize_text, batched=True)\n",
    "\n",
    "collator_fn = DataCollatorWithPadding(tokenizer=tokenizer)\n",
    "\n",
    "class_weights = detector.get_class_weights(detector.all_data[language]['train'])"
   ]
  },
  {
   "cell_type": "code",
   "execution_count": 100,
   "metadata": {},
   "outputs": [],
   "source": [
    "# Define training args\n",
    "training_args = TrainingArguments(\n",
    "    output_dir= \"models\",\n",
    "    per_device_train_batch_size=batch_size,\n",
    "    per_device_eval_batch_size=batch_size,\n",
    "    learning_rate=lr,\n",
    "    num_train_epochs=epochs,\n",
    "    #bf16=True, # bfloat16 training \n",
    "    #optim=\"adamw_torch_fused\", # improved optimizer \n",
    "    # logging & evaluation strategies\n",
    "    #logging_strategy=\"steps\",\n",
    "    #logging_steps=100,\n",
    "    #weight_decay=1e-1,\n",
    "    eval_strategy=\"epoch\",\n",
    "    save_strategy=\"epoch\",\n",
    "    save_total_limit=1,\n",
    "    #warmup_ratio=0.5,\n",
    "    load_best_model_at_end=True,\n",
    "    #use_mps_device=True,\n",
    "    metric_for_best_model=\"macro_F1\",\n",
    "    # push to hub parameters\n",
    "    #push_to_hub=True,\n",
    "    #hub_strategy=\"every_save\",\n",
    "    #hub_token=HfFolder.get_token(),\n",
    ")"
   ]
  },
  {
   "cell_type": "code",
   "execution_count": 101,
   "metadata": {},
   "outputs": [],
   "source": [
    "# Create a Trainer instance\n",
    "trainer = CustomTrainer(\n",
    "    model=model,\n",
    "    args=training_args,\n",
    "    train_dataset=train_data,\n",
    "    eval_dataset=dev_data,\n",
    "    data_collator=collator_fn,\n",
    "    compute_metrics=evaluate_metrics,\n",
    "    class_weights=class_weights,\n",
    "    device=device,\n",
    ")"
   ]
  },
  {
   "cell_type": "code",
   "execution_count": 102,
   "metadata": {},
   "outputs": [
    {
     "data": {
      "text/html": [
       "\n",
       "    <div>\n",
       "      \n",
       "      <progress value='606' max='606' style='width:300px; height:20px; vertical-align: middle;'></progress>\n",
       "      [606/606 03:42, Epoch 6/6]\n",
       "    </div>\n",
       "    <table border=\"1\" class=\"dataframe\">\n",
       "  <thead>\n",
       " <tr style=\"text-align: left;\">\n",
       "      <th>Epoch</th>\n",
       "      <th>Training Loss</th>\n",
       "      <th>Validation Loss</th>\n",
       "      <th>Macro F1</th>\n",
       "      <th>Macro P</th>\n",
       "      <th>Macro R</th>\n",
       "      <th>Subj F1</th>\n",
       "      <th>Subj P</th>\n",
       "      <th>Subj R</th>\n",
       "      <th>Accuracy</th>\n",
       "    </tr>\n",
       "  </thead>\n",
       "  <tbody>\n",
       "    <tr>\n",
       "      <td>1</td>\n",
       "      <td>No log</td>\n",
       "      <td>0.630749</td>\n",
       "      <td>0.568457</td>\n",
       "      <td>0.624721</td>\n",
       "      <td>0.654502</td>\n",
       "      <td>0.506993</td>\n",
       "      <td>0.367089</td>\n",
       "      <td>0.819209</td>\n",
       "      <td>0.577211</td>\n",
       "    </tr>\n",
       "    <tr>\n",
       "      <td>2</td>\n",
       "      <td>No log</td>\n",
       "      <td>0.538592</td>\n",
       "      <td>0.736566</td>\n",
       "      <td>0.734937</td>\n",
       "      <td>0.738285</td>\n",
       "      <td>0.614525</td>\n",
       "      <td>0.607735</td>\n",
       "      <td>0.621469</td>\n",
       "      <td>0.793103</td>\n",
       "    </tr>\n",
       "    <tr>\n",
       "      <td>3</td>\n",
       "      <td>No log</td>\n",
       "      <td>0.562935</td>\n",
       "      <td>0.743027</td>\n",
       "      <td>0.735401</td>\n",
       "      <td>0.753505</td>\n",
       "      <td>0.631300</td>\n",
       "      <td>0.595000</td>\n",
       "      <td>0.672316</td>\n",
       "      <td>0.791604</td>\n",
       "    </tr>\n",
       "    <tr>\n",
       "      <td>4</td>\n",
       "      <td>No log</td>\n",
       "      <td>0.631243</td>\n",
       "      <td>0.750640</td>\n",
       "      <td>0.746619</td>\n",
       "      <td>0.755235</td>\n",
       "      <td>0.637363</td>\n",
       "      <td>0.620321</td>\n",
       "      <td>0.655367</td>\n",
       "      <td>0.802099</td>\n",
       "    </tr>\n",
       "    <tr>\n",
       "      <td>5</td>\n",
       "      <td>0.433600</td>\n",
       "      <td>0.699200</td>\n",
       "      <td>0.755040</td>\n",
       "      <td>0.752070</td>\n",
       "      <td>0.758296</td>\n",
       "      <td>0.642659</td>\n",
       "      <td>0.630435</td>\n",
       "      <td>0.655367</td>\n",
       "      <td>0.806597</td>\n",
       "    </tr>\n",
       "    <tr>\n",
       "      <td>6</td>\n",
       "      <td>0.433600</td>\n",
       "      <td>0.689947</td>\n",
       "      <td>0.757199</td>\n",
       "      <td>0.747329</td>\n",
       "      <td>0.772259</td>\n",
       "      <td>0.654545</td>\n",
       "      <td>0.605769</td>\n",
       "      <td>0.711864</td>\n",
       "      <td>0.800600</td>\n",
       "    </tr>\n",
       "  </tbody>\n",
       "</table><p>"
      ],
      "text/plain": [
       "<IPython.core.display.HTML object>"
      ]
     },
     "metadata": {},
     "output_type": "display_data"
    },
    {
     "data": {
      "text/plain": [
       "TrainOutput(global_step=606, training_loss=0.39867654177221923, metrics={'train_runtime': 222.7462, 'train_samples_per_second': 43.449, 'train_steps_per_second': 2.721, 'total_flos': 810681283261944.0, 'train_loss': 0.39867654177221923, 'epoch': 6.0})"
      ]
     },
     "execution_count": 102,
     "metadata": {},
     "output_type": "execute_result"
    }
   ],
   "source": [
    "trainer.train()"
   ]
  },
  {
   "cell_type": "code",
   "execution_count": 103,
   "metadata": {},
   "outputs": [
    {
     "data": {
      "text/html": [
       "\n",
       "    <div>\n",
       "      \n",
       "      <progress value='1' max='33' style='width:300px; height:20px; vertical-align: middle;'></progress>\n",
       "      [ 1/33 : < :]\n",
       "    </div>\n",
       "    "
      ],
      "text/plain": [
       "<IPython.core.display.HTML object>"
      ]
     },
     "metadata": {},
     "output_type": "display_data"
    },
    {
     "name": "stdout",
     "output_type": "stream",
     "text": [
      "{'macro_F1': 0.7426974611287587, 'macro_P': 0.7382308845577211, 'macro_R': 0.7479325947885787, 'SUBJ_F1': np.float64(0.6263345195729537), 'SUBJ_P': np.float64(0.6068965517241379), 'SUBJ_R': np.float64(0.6470588235294118), 'accuracy': 0.7953216374269005}\n"
     ]
    },
    {
     "data": {
      "image/png": "[encoded data removed]",
      "text/plain": [
       "<Figure size 640x480 with 2 Axes>"
      ]
     },
     "metadata": {},
     "output_type": "display_data"
    }
   ],
   "source": [
    "test_predictions, test_labels, _ = trainer.predict(test_data)\n",
    "\n",
    "stats = evaluate_metrics((test_predictions, test_labels))\n",
    "\n",
    "test_predictions = np.argmax(test_predictions, axis=1)\n",
    "\n",
    "print(stats)\n",
    "results[language] = stats\n",
    "\n",
    "cm = confusion_matrix(test_labels, test_predictions, normalize='all')\n",
    "ConfusionMatrixDisplay(cm, display_labels=['OBJ', 'SUBJ']).plot()\n",
    "plt.title(f\"Confusion Matrix ({language})\")\n",
    "plt.show()"
   ]
  },
  {
   "cell_type": "markdown",
   "metadata": {},
   "source": [
    "# mDeBERTa-base (multilingual)"
   ]
  },
  {
   "cell_type": "code",
   "execution_count": 110,
   "metadata": {
    "execution": {
     "iopub.execute_input": "2025-03-04T09:02:05.540516Z",
     "iopub.status.busy": "2025-03-04T09:02:05.540251Z",
     "iopub.status.idle": "2025-03-04T09:02:06.015485Z",
     "shell.execute_reply": "2025-03-04T09:02:06.014809Z",
     "shell.execute_reply.started": "2025-03-04T09:02:05.540494Z"
    },
    "trusted": true
   },
   "outputs": [
    {
     "name": "stdout",
     "output_type": "stream",
     "text": [
      "Model deleted!\n"
     ]
    },
    {
     "data": {
      "text/plain": [
       "5465"
      ]
     },
     "execution_count": 110,
     "metadata": {},
     "output_type": "execute_result"
    }
   ],
   "source": [
    "with torch.no_grad():\n",
    "    torch.cuda.empty_cache()\n",
    "\n",
    "if 'model' in locals() or 'model' in globals():\n",
    "    del model\n",
    "    print(\"Model deleted!\")\n",
    "\n",
    "gc.collect()"
   ]
  },
  {
   "cell_type": "code",
   "execution_count": 111,
   "metadata": {
    "execution": {
     "iopub.execute_input": "2025-03-04T09:02:06.016513Z",
     "iopub.status.busy": "2025-03-04T09:02:06.016201Z",
     "iopub.status.idle": "2025-03-04T09:02:09.471280Z",
     "shell.execute_reply": "2025-03-04T09:02:09.470145Z",
     "shell.execute_reply.started": "2025-03-04T09:02:06.016479Z"
    },
    "trusted": true
   },
   "outputs": [
    {
     "name": "stderr",
     "output_type": "stream",
     "text": [
      "/home/ubuntu/clef2025-checkthat/.venv/lib/python3.10/site-packages/transformers/convert_slow_tokenizer.py:561: UserWarning: The sentencepiece tokenizer that you are converting to a fast tokenizer uses the byte fallback option which is not implemented in the fast tokenizers. In practice this means that the fast version of the tokenizer can produce unknown tokens whereas the sentencepiece version would have converted these unknown tokens into a sequence of byte tokens matching the original piece of text.\n",
      "  warnings.warn(\n",
      "Some weights of DebertaV2ForSequenceClassification were not initialized from the model checkpoint at microsoft/mdeberta-v3-base and are newly initialized: ['classifier.bias', 'classifier.weight', 'pooler.dense.bias', 'pooler.dense.weight']\n",
      "You should probably TRAIN this model on a down-stream task to be able to use it for predictions and inference.\n"
     ]
    }
   ],
   "source": [
    "model_card = \"microsoft/mdeberta-v3-base\"\n",
    "tokenizer = detector.get_tokenizer(model_card=model_card)\n",
    "model = detector.get_model(\n",
    "    model_card=model_card, \n",
    "    num_labels=2, \n",
    "    id2label={0: 'OBJ', 1: 'SUBJ'}, \n",
    "    label2id={'OBJ': 0, 'SUBJ': 1},\n",
    "    output_attentions = False,\n",
    "    output_hidden_states = False\n",
    ")"
   ]
  },
  {
   "cell_type": "code",
   "execution_count": 112,
   "metadata": {},
   "outputs": [
    {
     "name": "stderr",
     "output_type": "stream",
     "text": [
      "Map:   0%|          | 0/6418 [00:00<?, ? examples/s]"
     ]
    },
    {
     "name": "stderr",
     "output_type": "stream",
     "text": [
      "Map: 100%|██████████| 6418/6418 [00:00<00:00, 9983.91 examples/s] \n",
      "Map: 100%|██████████| 2401/2401 [00:00<00:00, 8608.79 examples/s]\n",
      "Map: 100%|██████████| 2332/2332 [00:00<00:00, 9588.11 examples/s]\n"
     ]
    }
   ],
   "source": [
    "epochs = 6\n",
    "batch_size = 16\n",
    "lr = 1e-5\n",
    "weight_decay = 0.0\n",
    "label_smoothing = 0.0\n",
    "\n",
    "train_data = Dataset.from_pandas(detector.train)\n",
    "dev_data = Dataset.from_pandas(detector.dev)\n",
    "test_data = Dataset.from_pandas(detector.test)\n",
    "\n",
    "train_data = train_data.map(tokenize_text, batched=True)\n",
    "dev_data = dev_data.map(tokenize_text, batched=True)\n",
    "test_data = test_data.map(tokenize_text, batched=True)\n",
    "\n",
    "collator_fn = DataCollatorWithPadding(tokenizer=tokenizer)\n",
    "\n",
    "class_weights = detector.get_class_weights(detector.train)"
   ]
  },
  {
   "cell_type": "code",
   "execution_count": 113,
   "metadata": {},
   "outputs": [],
   "source": [
    "# Define training args\n",
    "training_args = TrainingArguments(\n",
    "    output_dir= \"models\",\n",
    "    per_device_train_batch_size=batch_size,\n",
    "    per_device_eval_batch_size=batch_size,\n",
    "    learning_rate=lr,\n",
    "    num_train_epochs=epochs,\n",
    "    #bf16=True, # bfloat16 training \n",
    "    #optim=\"adamw_torch_fused\", # improved optimizer \n",
    "    # logging & evaluation strategies\n",
    "    #logging_strategy=\"steps\",\n",
    "    #logging_steps=100,\n",
    "    #weight_decay=1e-1,\n",
    "    eval_strategy=\"epoch\",\n",
    "    save_strategy=\"epoch\",\n",
    "    save_total_limit=1,\n",
    "    #warmup_ratio=0.5,\n",
    "    load_best_model_at_end=True,\n",
    "    #use_mps_device=True,\n",
    "    metric_for_best_model=\"macro_F1\",\n",
    "    # push to hub parameters\n",
    "    #push_to_hub=True,\n",
    "    #hub_strategy=\"every_save\",\n",
    "    #hub_token=HfFolder.get_token(),\n",
    ")"
   ]
  },
  {
   "cell_type": "code",
   "execution_count": 114,
   "metadata": {},
   "outputs": [],
   "source": [
    "# Create a Trainer instance\n",
    "trainer = CustomTrainer(\n",
    "    model=model,\n",
    "    args=training_args,\n",
    "    train_dataset=train_data,\n",
    "    eval_dataset=dev_data,\n",
    "    data_collator=collator_fn,\n",
    "    compute_metrics=evaluate_metrics,\n",
    "    class_weights=class_weights,\n",
    "    device=device,\n",
    ")"
   ]
  },
  {
   "cell_type": "code",
   "execution_count": 115,
   "metadata": {},
   "outputs": [
    {
     "data": {
      "text/html": [
       "\n",
       "    <div>\n",
       "      \n",
       "      <progress value='2412' max='2412' style='width:300px; height:20px; vertical-align: middle;'></progress>\n",
       "      [2412/2412 12:41, Epoch 6/6]\n",
       "    </div>\n",
       "    <table border=\"1\" class=\"dataframe\">\n",
       "  <thead>\n",
       " <tr style=\"text-align: left;\">\n",
       "      <th>Epoch</th>\n",
       "      <th>Training Loss</th>\n",
       "      <th>Validation Loss</th>\n",
       "      <th>Macro F1</th>\n",
       "      <th>Macro P</th>\n",
       "      <th>Macro R</th>\n",
       "      <th>Subj F1</th>\n",
       "      <th>Subj P</th>\n",
       "      <th>Subj R</th>\n",
       "      <th>Accuracy</th>\n",
       "    </tr>\n",
       "  </thead>\n",
       "  <tbody>\n",
       "    <tr>\n",
       "      <td>1</td>\n",
       "      <td>No log</td>\n",
       "      <td>0.555272</td>\n",
       "      <td>0.717895</td>\n",
       "      <td>0.715881</td>\n",
       "      <td>0.723953</td>\n",
       "      <td>0.669018</td>\n",
       "      <td>0.629981</td>\n",
       "      <td>0.713212</td>\n",
       "      <td>0.726364</td>\n",
       "    </tr>\n",
       "    <tr>\n",
       "      <td>2</td>\n",
       "      <td>0.612500</td>\n",
       "      <td>0.549304</td>\n",
       "      <td>0.736737</td>\n",
       "      <td>0.738852</td>\n",
       "      <td>0.751468</td>\n",
       "      <td>0.705159</td>\n",
       "      <td>0.630288</td>\n",
       "      <td>0.800215</td>\n",
       "      <td>0.740525</td>\n",
       "    </tr>\n",
       "    <tr>\n",
       "      <td>3</td>\n",
       "      <td>0.482700</td>\n",
       "      <td>0.643469</td>\n",
       "      <td>0.731075</td>\n",
       "      <td>0.729293</td>\n",
       "      <td>0.739187</td>\n",
       "      <td>0.687841</td>\n",
       "      <td>0.639299</td>\n",
       "      <td>0.744361</td>\n",
       "      <td>0.738026</td>\n",
       "    </tr>\n",
       "    <tr>\n",
       "      <td>4</td>\n",
       "      <td>0.407700</td>\n",
       "      <td>0.820216</td>\n",
       "      <td>0.739880</td>\n",
       "      <td>0.746678</td>\n",
       "      <td>0.735822</td>\n",
       "      <td>0.671194</td>\n",
       "      <td>0.709330</td>\n",
       "      <td>0.636950</td>\n",
       "      <td>0.758017</td>\n",
       "    </tr>\n",
       "    <tr>\n",
       "      <td>5</td>\n",
       "      <td>0.365200</td>\n",
       "      <td>0.820546</td>\n",
       "      <td>0.744414</td>\n",
       "      <td>0.742653</td>\n",
       "      <td>0.746831</td>\n",
       "      <td>0.692147</td>\n",
       "      <td>0.675179</td>\n",
       "      <td>0.709989</td>\n",
       "      <td>0.755102</td>\n",
       "    </tr>\n",
       "    <tr>\n",
       "      <td>6</td>\n",
       "      <td>0.365200</td>\n",
       "      <td>0.887789</td>\n",
       "      <td>0.740503</td>\n",
       "      <td>0.741214</td>\n",
       "      <td>0.739850</td>\n",
       "      <td>0.680736</td>\n",
       "      <td>0.685932</td>\n",
       "      <td>0.675618</td>\n",
       "      <td>0.754269</td>\n",
       "    </tr>\n",
       "  </tbody>\n",
       "</table><p>"
      ],
      "text/plain": [
       "<IPython.core.display.HTML object>"
      ]
     },
     "metadata": {},
     "output_type": "display_data"
    },
    {
     "data": {
      "text/plain": [
       "TrainOutput(global_step=2412, training_loss=0.44406080483204097, metrics={'train_runtime': 761.5976, 'train_samples_per_second': 50.562, 'train_steps_per_second': 3.167, 'total_flos': 3434178859253568.0, 'train_loss': 0.44406080483204097, 'epoch': 6.0})"
      ]
     },
     "execution_count": 115,
     "metadata": {},
     "output_type": "execute_result"
    }
   ],
   "source": [
    "trainer.train()"
   ]
  },
  {
   "cell_type": "code",
   "execution_count": 116,
   "metadata": {},
   "outputs": [
    {
     "data": {
      "text/html": [
       "\n",
       "    <div>\n",
       "      \n",
       "      <progress value='1' max='146' style='width:300px; height:20px; vertical-align: middle;'></progress>\n",
       "      [  1/146 : < :]\n",
       "    </div>\n",
       "    "
      ],
      "text/plain": [
       "<IPython.core.display.HTML object>"
      ]
     },
     "metadata": {},
     "output_type": "display_data"
    },
    {
     "name": "stdout",
     "output_type": "stream",
     "text": [
      "{'macro_F1': 0.6966309169129505, 'macro_P': 0.6933402333517542, 'macro_R': 0.7022252211872799, 'SUBJ_F1': np.float64(0.6124629080118694), 'SUBJ_P': np.float64(0.582392776523702), 'SUBJ_R': np.float64(0.6458072590738423), 'accuracy': 0.7199828473413379}\n"
     ]
    },
    {
     "data": {
      "image/png": "[encoded data removed]",
      "text/plain": [
       "<Figure size 640x480 with 2 Axes>"
      ]
     },
     "metadata": {},
     "output_type": "display_data"
    }
   ],
   "source": [
    "test_predictions, test_labels, _ = trainer.predict(test_data)\n",
    "\n",
    "stats = evaluate_metrics((test_predictions, test_labels))\n",
    "\n",
    "test_predictions = np.argmax(test_predictions, axis=1)\n",
    "\n",
    "print(stats)\n",
    "results['multi'] = stats\n",
    "\n",
    "cm = confusion_matrix(test_labels, test_predictions, normalize='all')\n",
    "ConfusionMatrixDisplay(cm, display_labels=['OBJ', 'SUBJ']).plot()\n",
    "plt.title(f\"Confusion Matrix (multilingual)\")\n",
    "plt.show()"
   ]
  },
  {
   "cell_type": "code",
   "execution_count": 118,
   "metadata": {
    "execution": {
     "iopub.execute_input": "2025-03-04T09:26:42.730533Z",
     "iopub.status.busy": "2025-03-04T09:26:42.730241Z",
     "iopub.status.idle": "2025-03-04T09:26:42.743225Z",
     "shell.execute_reply": "2025-03-04T09:26:42.742422Z",
     "shell.execute_reply.started": "2025-03-04T09:26:42.730510Z"
    },
    "trusted": true
   },
   "outputs": [
    {
     "data": {
      "text/html": [
       "<div>\n",
       "<style scoped>\n",
       "    .dataframe tbody tr th:only-of-type {\n",
       "        vertical-align: middle;\n",
       "    }\n",
       "\n",
       "    .dataframe tbody tr th {\n",
       "        vertical-align: top;\n",
       "    }\n",
       "\n",
       "    .dataframe thead th {\n",
       "        text-align: right;\n",
       "    }\n",
       "</style>\n",
       "<table border=\"1\" class=\"dataframe\">\n",
       "  <thead>\n",
       "    <tr style=\"text-align: right;\">\n",
       "      <th></th>\n",
       "      <th>macro_F1</th>\n",
       "      <th>macro_P</th>\n",
       "      <th>macro_R</th>\n",
       "      <th>SUBJ_F1</th>\n",
       "      <th>SUBJ_P</th>\n",
       "      <th>SUBJ_R</th>\n",
       "      <th>accuracy</th>\n",
       "    </tr>\n",
       "  </thead>\n",
       "  <tbody>\n",
       "    <tr>\n",
       "      <th>german</th>\n",
       "      <td>0.837261</td>\n",
       "      <td>0.833847</td>\n",
       "      <td>0.841166</td>\n",
       "      <td>0.784141</td>\n",
       "      <td>0.767241</td>\n",
       "      <td>0.801802</td>\n",
       "      <td>0.854599</td>\n",
       "    </tr>\n",
       "    <tr>\n",
       "      <th>bulgarian</th>\n",
       "      <td>0.757477</td>\n",
       "      <td>0.759539</td>\n",
       "      <td>0.756062</td>\n",
       "      <td>0.717703</td>\n",
       "      <td>0.735294</td>\n",
       "      <td>0.700935</td>\n",
       "      <td>0.764000</td>\n",
       "    </tr>\n",
       "    <tr>\n",
       "      <th>italian</th>\n",
       "      <td>0.742697</td>\n",
       "      <td>0.738231</td>\n",
       "      <td>0.747933</td>\n",
       "      <td>0.626335</td>\n",
       "      <td>0.606897</td>\n",
       "      <td>0.647059</td>\n",
       "      <td>0.795322</td>\n",
       "    </tr>\n",
       "    <tr>\n",
       "      <th>multi</th>\n",
       "      <td>0.696631</td>\n",
       "      <td>0.693340</td>\n",
       "      <td>0.702225</td>\n",
       "      <td>0.612463</td>\n",
       "      <td>0.582393</td>\n",
       "      <td>0.645807</td>\n",
       "      <td>0.719983</td>\n",
       "    </tr>\n",
       "    <tr>\n",
       "      <th>english</th>\n",
       "      <td>0.675150</td>\n",
       "      <td>0.736784</td>\n",
       "      <td>0.655375</td>\n",
       "      <td>0.479167</td>\n",
       "      <td>0.657143</td>\n",
       "      <td>0.377049</td>\n",
       "      <td>0.793388</td>\n",
       "    </tr>\n",
       "    <tr>\n",
       "      <th>arabic</th>\n",
       "      <td>0.565763</td>\n",
       "      <td>0.576492</td>\n",
       "      <td>0.568669</td>\n",
       "      <td>0.461268</td>\n",
       "      <td>0.534694</td>\n",
       "      <td>0.405573</td>\n",
       "      <td>0.590909</td>\n",
       "    </tr>\n",
       "  </tbody>\n",
       "</table>\n",
       "</div>"
      ],
      "text/plain": [
       "           macro_F1   macro_P   macro_R   SUBJ_F1    SUBJ_P    SUBJ_R  \\\n",
       "german     0.837261  0.833847  0.841166  0.784141  0.767241  0.801802   \n",
       "bulgarian  0.757477  0.759539  0.756062  0.717703  0.735294  0.700935   \n",
       "italian    0.742697  0.738231  0.747933  0.626335  0.606897  0.647059   \n",
       "multi      0.696631  0.693340  0.702225  0.612463  0.582393  0.645807   \n",
       "english    0.675150  0.736784  0.655375  0.479167  0.657143  0.377049   \n",
       "arabic     0.565763  0.576492  0.568669  0.461268  0.534694  0.405573   \n",
       "\n",
       "           accuracy  \n",
       "german     0.854599  \n",
       "bulgarian  0.764000  \n",
       "italian    0.795322  \n",
       "multi      0.719983  \n",
       "english    0.793388  \n",
       "arabic     0.590909  "
      ]
     },
     "execution_count": 118,
     "metadata": {},
     "output_type": "execute_result"
    }
   ],
   "source": [
    "pd.DataFrame(results).T.sort_values(by='macro_F1', ascending=False)"
   ]
  },
  {
   "cell_type": "markdown",
   "metadata": {},
   "source": [
    "---"
   ]
  },
  {
   "cell_type": "code",
   "execution_count": 119,
   "metadata": {},
   "outputs": [
    {
     "name": "stderr",
     "output_type": "stream",
     "text": [
      "Some weights of ModernBertForSequenceClassification were not initialized from the model checkpoint at answerdotai/ModernBERT-base and are newly initialized: ['classifier.bias', 'classifier.weight']\n",
      "You should probably TRAIN this model on a down-stream task to be able to use it for predictions and inference.\n"
     ]
    }
   ],
   "source": [
    "model_card = \"answerdotai/ModernBERT-base\"\n",
    "tokenizer = detector.get_tokenizer(model_card=model_card)\n",
    "model = AutoModelForSequenceClassification.from_pretrained(\n",
    "    model_card, \n",
    "    num_labels=2, \n",
    "    id2label={0: 'OBJ', 1: 'SUBJ'}, \n",
    "    label2id={'OBJ': 0, 'SUBJ': 1},\n",
    "    output_attentions = False,\n",
    "    output_hidden_states = False\n",
    ")"
   ]
  },
  {
   "cell_type": "code",
   "execution_count": 120,
   "metadata": {},
   "outputs": [
    {
     "name": "stderr",
     "output_type": "stream",
     "text": [
      "Map:   0%|          | 0/830 [00:00<?, ? examples/s]"
     ]
    },
    {
     "name": "stderr",
     "output_type": "stream",
     "text": [
      "Map: 100%|██████████| 830/830 [00:00<00:00, 13855.15 examples/s]\n",
      "Map: 100%|██████████| 462/462 [00:00<00:00, 17990.94 examples/s]\n",
      "Map: 100%|██████████| 484/484 [00:00<00:00, 13775.24 examples/s]\n"
     ]
    }
   ],
   "source": [
    "language = 'english'\n",
    "\n",
    "epochs = 6\n",
    "batch_size = 16\n",
    "lr = 1e-5\n",
    "weight_decay = 0.0\n",
    "label_smoothing = 0.0\n",
    "\n",
    "train_data = Dataset.from_pandas(detector.all_data[language]['train'])\n",
    "dev_data = Dataset.from_pandas(detector.all_data[language]['dev'])\n",
    "test_data = Dataset.from_pandas(detector.all_data[language]['test'])\n",
    "\n",
    "train_data = train_data.map(tokenize_text, batched=True)\n",
    "dev_data = dev_data.map(tokenize_text, batched=True)\n",
    "test_data = test_data.map(tokenize_text, batched=True)\n",
    "\n",
    "collator_fn = DataCollatorWithPadding(tokenizer=tokenizer)\n",
    "\n",
    "class_weights = detector.get_class_weights(detector.all_data[language]['train'])"
   ]
  },
  {
   "cell_type": "code",
   "execution_count": 121,
   "metadata": {},
   "outputs": [],
   "source": [
    "# Define training args\n",
    "training_args = TrainingArguments(\n",
    "    output_dir= \"models\",\n",
    "    per_device_train_batch_size=batch_size,\n",
    "    per_device_eval_batch_size=batch_size,\n",
    "    learning_rate=lr,\n",
    "    num_train_epochs=epochs,\n",
    "    #bf16=True, # bfloat16 training \n",
    "    #optim=\"adamw_torch_fused\", # improved optimizer \n",
    "    # logging & evaluation strategies\n",
    "    #logging_strategy=\"steps\",\n",
    "    #logging_steps=100,\n",
    "    #weight_decay=1e-1,\n",
    "    eval_strategy=\"epoch\",\n",
    "    save_strategy=\"epoch\",\n",
    "    save_total_limit=1,\n",
    "    #warmup_ratio=0.5,\n",
    "    load_best_model_at_end=True,\n",
    "    #use_mps_device=True,\n",
    "    metric_for_best_model=\"macro_F1\",\n",
    "    # push to hub parameters\n",
    "    #push_to_hub=True,\n",
    "    #hub_strategy=\"every_save\",\n",
    "    #hub_token=HfFolder.get_token(),\n",
    ")"
   ]
  },
  {
   "cell_type": "code",
   "execution_count": 122,
   "metadata": {},
   "outputs": [],
   "source": [
    "# Create a Trainer instance\n",
    "trainer = CustomTrainer(\n",
    "    model=model,\n",
    "    args=training_args,\n",
    "    train_dataset=train_data,\n",
    "    eval_dataset=dev_data,\n",
    "    data_collator=collator_fn,\n",
    "    compute_metrics=evaluate_metrics,\n",
    "    class_weights=class_weights,\n",
    "    device=device,\n",
    ")"
   ]
  },
  {
   "cell_type": "code",
   "execution_count": 123,
   "metadata": {},
   "outputs": [
    {
     "data": {
      "text/html": [
       "\n",
       "    <div>\n",
       "      \n",
       "      <progress value='312' max='312' style='width:300px; height:20px; vertical-align: middle;'></progress>\n",
       "      [312/312 01:28, Epoch 6/6]\n",
       "    </div>\n",
       "    <table border=\"1\" class=\"dataframe\">\n",
       "  <thead>\n",
       " <tr style=\"text-align: left;\">\n",
       "      <th>Epoch</th>\n",
       "      <th>Training Loss</th>\n",
       "      <th>Validation Loss</th>\n",
       "      <th>Macro F1</th>\n",
       "      <th>Macro P</th>\n",
       "      <th>Macro R</th>\n",
       "      <th>Subj F1</th>\n",
       "      <th>Subj P</th>\n",
       "      <th>Subj R</th>\n",
       "      <th>Accuracy</th>\n",
       "    </tr>\n",
       "  </thead>\n",
       "  <tbody>\n",
       "    <tr>\n",
       "      <td>1</td>\n",
       "      <td>No log</td>\n",
       "      <td>0.614003</td>\n",
       "      <td>0.689827</td>\n",
       "      <td>0.708063</td>\n",
       "      <td>0.697410</td>\n",
       "      <td>0.660287</td>\n",
       "      <td>0.775281</td>\n",
       "      <td>0.575000</td>\n",
       "      <td>0.692641</td>\n",
       "    </tr>\n",
       "    <tr>\n",
       "      <td>2</td>\n",
       "      <td>No log</td>\n",
       "      <td>0.506987</td>\n",
       "      <td>0.738491</td>\n",
       "      <td>0.741622</td>\n",
       "      <td>0.738176</td>\n",
       "      <td>0.760000</td>\n",
       "      <td>0.730769</td>\n",
       "      <td>0.791667</td>\n",
       "      <td>0.740260</td>\n",
       "    </tr>\n",
       "    <tr>\n",
       "      <td>3</td>\n",
       "      <td>No log</td>\n",
       "      <td>0.687563</td>\n",
       "      <td>0.717577</td>\n",
       "      <td>0.727573</td>\n",
       "      <td>0.722072</td>\n",
       "      <td>0.700461</td>\n",
       "      <td>0.783505</td>\n",
       "      <td>0.633333</td>\n",
       "      <td>0.718615</td>\n",
       "    </tr>\n",
       "    <tr>\n",
       "      <td>4</td>\n",
       "      <td>No log</td>\n",
       "      <td>0.756629</td>\n",
       "      <td>0.720767</td>\n",
       "      <td>0.721435</td>\n",
       "      <td>0.721622</td>\n",
       "      <td>0.722581</td>\n",
       "      <td>0.746667</td>\n",
       "      <td>0.700000</td>\n",
       "      <td>0.720779</td>\n",
       "    </tr>\n",
       "    <tr>\n",
       "      <td>5</td>\n",
       "      <td>No log</td>\n",
       "      <td>1.002161</td>\n",
       "      <td>0.712055</td>\n",
       "      <td>0.714500</td>\n",
       "      <td>0.713795</td>\n",
       "      <td>0.707692</td>\n",
       "      <td>0.748837</td>\n",
       "      <td>0.670833</td>\n",
       "      <td>0.712121</td>\n",
       "    </tr>\n",
       "    <tr>\n",
       "      <td>6</td>\n",
       "      <td>No log</td>\n",
       "      <td>1.065978</td>\n",
       "      <td>0.712120</td>\n",
       "      <td>0.713364</td>\n",
       "      <td>0.713288</td>\n",
       "      <td>0.711497</td>\n",
       "      <td>0.742081</td>\n",
       "      <td>0.683333</td>\n",
       "      <td>0.712121</td>\n",
       "    </tr>\n",
       "  </tbody>\n",
       "</table><p>"
      ],
      "text/plain": [
       "<IPython.core.display.HTML object>"
      ]
     },
     "metadata": {},
     "output_type": "display_data"
    },
    {
     "data": {
      "text/plain": [
       "TrainOutput(global_step=312, training_loss=0.25890369904346955, metrics={'train_runtime': 90.0931, 'train_samples_per_second': 55.276, 'train_steps_per_second': 3.463, 'total_flos': 473959555589520.0, 'train_loss': 0.25890369904346955, 'epoch': 6.0})"
      ]
     },
     "execution_count": 123,
     "metadata": {},
     "output_type": "execute_result"
    }
   ],
   "source": [
    "trainer.train()"
   ]
  },
  {
   "cell_type": "code",
   "execution_count": 124,
   "metadata": {},
   "outputs": [
    {
     "data": {
      "text/html": [],
      "text/plain": [
       "<IPython.core.display.HTML object>"
      ]
     },
     "metadata": {},
     "output_type": "display_data"
    },
    {
     "name": "stdout",
     "output_type": "stream",
     "text": [
      "{'macro_F1': 0.7079889807162534, 'macro_P': 0.7091575091575091, 'macro_R': 0.7068653201702744, 'SUBJ_F1': np.float64(0.5619834710743802), 'SUBJ_P': np.float64(0.5666666666666667), 'SUBJ_R': np.float64(0.5573770491803278), 'accuracy': 0.78099173553719}\n"
     ]
    },
    {
     "data": {
      "image/png": "[encoded data removed]",
      "text/plain": [
       "<Figure size 640x480 with 2 Axes>"
      ]
     },
     "metadata": {},
     "output_type": "display_data"
    }
   ],
   "source": [
    "test_predictions, test_labels, _ = trainer.predict(test_data)\n",
    "\n",
    "stats = evaluate_metrics((test_predictions, test_labels))\n",
    "\n",
    "test_predictions = np.argmax(test_predictions, axis=1)\n",
    "\n",
    "print(stats)\n",
    "results['english-modern-bert'] = stats\n",
    "\n",
    "cm = confusion_matrix(test_labels, test_predictions, normalize='all')\n",
    "ConfusionMatrixDisplay(cm, display_labels=['OBJ', 'SUBJ']).plot()\n",
    "plt.title(f\"Confusion Matrix (english-modern-bert)\")\n",
    "plt.show()"
   ]
  },
  {
   "cell_type": "code",
   "execution_count": 125,
   "metadata": {},
   "outputs": [
    {
     "data": {
      "text/html": [
       "<div>\n",
       "<style scoped>\n",
       "    .dataframe tbody tr th:only-of-type {\n",
       "        vertical-align: middle;\n",
       "    }\n",
       "\n",
       "    .dataframe tbody tr th {\n",
       "        vertical-align: top;\n",
       "    }\n",
       "\n",
       "    .dataframe thead th {\n",
       "        text-align: right;\n",
       "    }\n",
       "</style>\n",
       "<table border=\"1\" class=\"dataframe\">\n",
       "  <thead>\n",
       "    <tr style=\"text-align: right;\">\n",
       "      <th></th>\n",
       "      <th>macro_F1</th>\n",
       "      <th>macro_P</th>\n",
       "      <th>macro_R</th>\n",
       "      <th>SUBJ_F1</th>\n",
       "      <th>SUBJ_P</th>\n",
       "      <th>SUBJ_R</th>\n",
       "      <th>accuracy</th>\n",
       "    </tr>\n",
       "  </thead>\n",
       "  <tbody>\n",
       "    <tr>\n",
       "      <th>german</th>\n",
       "      <td>0.837261</td>\n",
       "      <td>0.833847</td>\n",
       "      <td>0.841166</td>\n",
       "      <td>0.784141</td>\n",
       "      <td>0.767241</td>\n",
       "      <td>0.801802</td>\n",
       "      <td>0.854599</td>\n",
       "    </tr>\n",
       "    <tr>\n",
       "      <th>bulgarian</th>\n",
       "      <td>0.757477</td>\n",
       "      <td>0.759539</td>\n",
       "      <td>0.756062</td>\n",
       "      <td>0.717703</td>\n",
       "      <td>0.735294</td>\n",
       "      <td>0.700935</td>\n",
       "      <td>0.764000</td>\n",
       "    </tr>\n",
       "    <tr>\n",
       "      <th>italian</th>\n",
       "      <td>0.742697</td>\n",
       "      <td>0.738231</td>\n",
       "      <td>0.747933</td>\n",
       "      <td>0.626335</td>\n",
       "      <td>0.606897</td>\n",
       "      <td>0.647059</td>\n",
       "      <td>0.795322</td>\n",
       "    </tr>\n",
       "    <tr>\n",
       "      <th>english-modern-bert</th>\n",
       "      <td>0.707989</td>\n",
       "      <td>0.709158</td>\n",
       "      <td>0.706865</td>\n",
       "      <td>0.561983</td>\n",
       "      <td>0.566667</td>\n",
       "      <td>0.557377</td>\n",
       "      <td>0.780992</td>\n",
       "    </tr>\n",
       "    <tr>\n",
       "      <th>multi</th>\n",
       "      <td>0.696631</td>\n",
       "      <td>0.693340</td>\n",
       "      <td>0.702225</td>\n",
       "      <td>0.612463</td>\n",
       "      <td>0.582393</td>\n",
       "      <td>0.645807</td>\n",
       "      <td>0.719983</td>\n",
       "    </tr>\n",
       "    <tr>\n",
       "      <th>english</th>\n",
       "      <td>0.675150</td>\n",
       "      <td>0.736784</td>\n",
       "      <td>0.655375</td>\n",
       "      <td>0.479167</td>\n",
       "      <td>0.657143</td>\n",
       "      <td>0.377049</td>\n",
       "      <td>0.793388</td>\n",
       "    </tr>\n",
       "    <tr>\n",
       "      <th>arabic</th>\n",
       "      <td>0.565763</td>\n",
       "      <td>0.576492</td>\n",
       "      <td>0.568669</td>\n",
       "      <td>0.461268</td>\n",
       "      <td>0.534694</td>\n",
       "      <td>0.405573</td>\n",
       "      <td>0.590909</td>\n",
       "    </tr>\n",
       "  </tbody>\n",
       "</table>\n",
       "</div>"
      ],
      "text/plain": [
       "                     macro_F1   macro_P   macro_R   SUBJ_F1    SUBJ_P  \\\n",
       "german               0.837261  0.833847  0.841166  0.784141  0.767241   \n",
       "bulgarian            0.757477  0.759539  0.756062  0.717703  0.735294   \n",
       "italian              0.742697  0.738231  0.747933  0.626335  0.606897   \n",
       "english-modern-bert  0.707989  0.709158  0.706865  0.561983  0.566667   \n",
       "multi                0.696631  0.693340  0.702225  0.612463  0.582393   \n",
       "english              0.675150  0.736784  0.655375  0.479167  0.657143   \n",
       "arabic               0.565763  0.576492  0.568669  0.461268  0.534694   \n",
       "\n",
       "                       SUBJ_R  accuracy  \n",
       "german               0.801802  0.854599  \n",
       "bulgarian            0.700935  0.764000  \n",
       "italian              0.647059  0.795322  \n",
       "english-modern-bert  0.557377  0.780992  \n",
       "multi                0.645807  0.719983  \n",
       "english              0.377049  0.793388  \n",
       "arabic               0.405573  0.590909  "
      ]
     },
     "execution_count": 125,
     "metadata": {},
     "output_type": "execute_result"
    }
   ],
   "source": [
    "pd.DataFrame(results).T.sort_values(by='macro_F1', ascending=False)"
   ]
  }
 ],
 "metadata": {
  "kaggle": {
   "accelerator": "gpu",
   "dataSources": [
    {
     "datasetId": 6742324,
     "isSourceIdPinned": false,
     "sourceId": 10881030,
     "sourceType": "datasetVersion"
    }
   ],
   "isGpuEnabled": true,
   "isInternetEnabled": true,
   "language": "python",
   "sourceType": "notebook"
  },
  "kernelspec": {
   "display_name": ".venv",
   "language": "python",
   "name": "python3"
  },
  "language_info": {
   "codemirror_mode": {
    "name": "ipython",
    "version": 3
   },
   "file_extension": ".py",
   "mimetype": "text/x-python",
   "name": "python",
   "nbconvert_exporter": "python",
   "pygments_lexer": "ipython3",
   "version": "3.10.12"
  }
 },
 "nbformat": 4,
 "nbformat_minor": 4
}
