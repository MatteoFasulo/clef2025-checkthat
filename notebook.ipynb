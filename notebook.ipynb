{
 "cells": [
  {
   "cell_type": "markdown",
   "metadata": {},
   "source": [
    "# Subjectivity in News Articles\n",
    "\n",
    "## Group:\n",
    "- Luca Babboni - luca.babboni2@studio.unibo.it\n",
    "- Matteo Fasulo - matteo.fasulo@studio.unibo.it\n",
    "- Luca Tedeschini - luca.tedeschini3@studio.unibo.it\n",
    "\n",
    "## Description\n",
    "\n",
    "This notebook addresses Task 1 proposed in [CheckThat Lab](https://checkthat.gitlab.io/clef2025/) of CLEF 2025. In this task, systems are challenged to distinguish whether a sentence from a news article expresses the subjective view of the author behind it or presents an objective view on the covered topic instead.\n",
    "\n",
    "This is a binary classification tasks in which systems have to identify whether a text sequence (a sentence or a paragraph) is subjective (SUBJ) or objective (OBJ).\n",
    "\n",
    "The task comprises three settings:\n",
    "\n",
    "* Monolingual: train and test on data in a given language\n",
    "* Multilingual: train and test on data comprising several languages\n",
    "* Zero-shot: train on several languages and test on unseen languages\n",
    "\n",
    "training data in five languages:\n",
    "* Arabic\n",
    "* Bulgarian\n",
    "* English\n",
    "* German\n",
    "* Italian\n",
    "\n",
    "The official evaluation is macro-averaged F1 between the two classes."
   ]
  },
  {
   "cell_type": "code",
   "execution_count": null,
   "metadata": {
    "trusted": true
   },
   "outputs": [],
   "source": [
    "%%capture\n",
    "%pip install -U transformers[torch] bitsandbytes trl peft sacremoses ctranslate2 accelerate"
   ]
  },
  {
   "cell_type": "code",
   "execution_count": null,
   "metadata": {
    "trusted": true
   },
   "outputs": [],
   "source": [
    "import os\n",
    "os.kill(os.getpid(), 9)"
   ]
  },
  {
   "cell_type": "code",
   "execution_count": null,
   "metadata": {
    "execution": {
     "iopub.execute_input": "2025-03-09T14:58:26.267288Z",
     "iopub.status.busy": "2025-03-09T14:58:26.266914Z",
     "iopub.status.idle": "2025-03-09T14:58:26.273058Z",
     "shell.execute_reply": "2025-03-09T14:58:26.272211Z",
     "shell.execute_reply.started": "2025-03-09T14:58:26.267258Z"
    },
    "trusted": true
   },
   "outputs": [],
   "source": [
    "from collections import defaultdict\n",
    "import os\n",
    "import gc\n",
    "from pathlib import Path\n",
    "\n",
    "import csv\n",
    "\n",
    "import matplotlib.pyplot as plt\n",
    "import numpy as np\n",
    "import pandas as pd\n",
    "\n",
    "from tqdm import tqdm\n",
    "\n",
    "from sklearn.linear_model import LogisticRegression\n",
    "from sklearn.metrics import accuracy_score, confusion_matrix, ConfusionMatrixDisplay, roc_curve, precision_recall_fscore_support\n",
    "from sklearn.utils.class_weight import compute_class_weight\n",
    "\n",
    "import torch\n",
    "import torch.nn as nn\n",
    "import torch.nn.functional as F\n",
    "\n",
    "from peft import LoraConfig, prepare_model_for_kbit_training, get_peft_model\n",
    "\n",
    "from sentence_transformers import SentenceTransformer\n",
    "from datasets import Dataset\n",
    "from huggingface_hub import notebook_login\n",
    "from transformers import (\n",
    "    AutoTokenizer, \n",
    "    AutoModelForSequenceClassification, \n",
    "    Trainer, \n",
    "    TrainingArguments, \n",
    "    DataCollatorWithPadding, \n",
    "    BitsAndBytesConfig,\n",
    "    DebertaV2Model, \n",
    "    ModernBertModel, \n",
    "    DebertaV2Config, \n",
    "    ModernBertConfig, \n",
    "    pipeline \n",
    ")\n",
    "from transformers.trainer_utils import PredictionOutput"
   ]
  },
  {
   "cell_type": "code",
   "execution_count": 2,
   "metadata": {
    "execution": {
     "iopub.execute_input": "2025-03-09T14:11:29.170735Z",
     "iopub.status.busy": "2025-03-09T14:11:29.170475Z",
     "iopub.status.idle": "2025-03-09T14:11:29.231991Z",
     "shell.execute_reply": "2025-03-09T14:11:29.231152Z",
     "shell.execute_reply.started": "2025-03-09T14:11:29.170699Z"
    },
    "trusted": true
   },
   "outputs": [
    {
     "name": "stdout",
     "output_type": "stream",
     "text": [
      "Using device: cuda\n"
     ]
    }
   ],
   "source": [
    "SEED = 42\n",
    "device = 'cuda' if torch.cuda.is_available() else 'cpu'\n",
    "tqdm.pandas() # display tqdm on pandas apply functions\n",
    "print(f\"Using device: {device}\")"
   ]
  },
  {
   "cell_type": "code",
   "execution_count": 5,
   "metadata": {
    "execution": {
     "iopub.execute_input": "2025-03-09T14:11:29.285772Z",
     "iopub.status.busy": "2025-03-09T14:11:29.285458Z",
     "iopub.status.idle": "2025-03-09T14:11:29.306748Z",
     "shell.execute_reply": "2025-03-09T14:11:29.305838Z",
     "shell.execute_reply.started": "2025-03-09T14:11:29.285741Z"
    },
    "trusted": true
   },
   "outputs": [],
   "source": [
    "np.random.seed(SEED)\n",
    "torch.manual_seed(SEED)\n",
    "torch.cuda.manual_seed_all(SEED)"
   ]
  },
  {
   "cell_type": "code",
   "execution_count": 20,
   "metadata": {
    "execution": {
     "iopub.execute_input": "2025-03-09T14:14:06.082203Z",
     "iopub.status.busy": "2025-03-09T14:14:06.081821Z",
     "iopub.status.idle": "2025-03-09T14:14:06.100519Z",
     "shell.execute_reply": "2025-03-09T14:14:06.099596Z",
     "shell.execute_reply.started": "2025-03-09T14:14:06.082171Z"
    },
    "trusted": true
   },
   "outputs": [],
   "source": [
    "class Subjectivity:\n",
    "    def __init__(self, data_folder: str = 'data', seed: int = 42, device: str = 'cuda'):\n",
    "        self.seed = seed\n",
    "        self.device = device\n",
    "        self.languages = [language for language in os.listdir(data_folder)]\n",
    "\n",
    "        dataset = self.create_dataset(data_folder=data_folder)\n",
    "        self.dataset = dataset\n",
    "        \n",
    "        train, dev, test = self.get_splits(dataset, print_shapes=True)\n",
    "        self.train = train\n",
    "        self.dev = dev\n",
    "        self.test = test\n",
    "\n",
    "        self.all_data = self.get_per_lang_dataset()\n",
    "        \n",
    "\n",
    "    def create_dataset(self, data_folder: str = 'data'):\n",
    "        dataset = pd.DataFrame(columns=['sentence_id','sentence','label','lang','split'])\n",
    "        for language in os.listdir(data_folder):\n",
    "            for filename in os.listdir(f\"{data_folder}{os.sep}{language}\"):\n",
    "                if '.tsv' in filename:\n",
    "                    abs_path = f\"{data_folder}{os.sep}{language}{os.sep}{filename}\"\n",
    "                    df = pd.read_csv(abs_path, sep='\\t', quoting=csv.QUOTE_NONE)\n",
    "                    if 'solved_conflict' in df.columns:\n",
    "                        df.drop(columns=['solved_conflict'], inplace=True)\n",
    "                    df['lang'] = language\n",
    "                    df['split'] = Path(filename).stem\n",
    "                    dataset = pd.concat([dataset, df], axis=0)\n",
    "        return dataset\n",
    "\n",
    "    def get_splits(self, dataset: pd.DataFrame, print_shapes: bool = True):\n",
    "        train = dataset[dataset['split'].str.contains('train')].copy()\n",
    "        dev = dataset[(dataset['split'].str.contains('dev')) & ~(dataset['split'].str.contains('dev_test'))].copy()\n",
    "        test = dataset[dataset['split'].str.contains('dev_test')].copy()\n",
    "\n",
    "        # encode the target variable to int (0: obj; 1: subj)\n",
    "        train.loc[:, 'label'] = train['label'].apply(lambda x: 0 if x == 'OBJ' else 1)\n",
    "        dev.loc[:, 'label'] = dev['label'].apply(lambda x: 0 if x == 'OBJ' else 1)\n",
    "        test.loc[:, 'label'] = test['label'].apply(lambda x: 0 if x == 'OBJ' else 1)\n",
    "\n",
    "        # cast to int\n",
    "        train['label'] = train['label'].astype(int)\n",
    "        dev['label'] = dev['label'].astype(int)\n",
    "        test['label'] = test['label'].astype(int)\n",
    "\n",
    "        if print_shapes:\n",
    "            print(f\"Train: {train.shape}\")\n",
    "            print(f\"Dev: {dev.shape}\")\n",
    "            print(f\"Test: {test.shape}\")\n",
    "            \n",
    "        return train, dev, test\n",
    "\n",
    "    def get_per_lang_dataset(self):\n",
    "        \"\"\"\n",
    "        dataset_dict = {\n",
    "            'english': {\n",
    "                'train': ...\n",
    "                'dev': ...\n",
    "                'test': ...\n",
    "            },\n",
    "        }\n",
    "        \"\"\"\n",
    "        dataset_dict = {}\n",
    "        for language in self.languages:\n",
    "            dataset_dict[language] = {}\n",
    "            # get the train data\n",
    "            dataset_dict[language]['train'] = self.train[self.train['lang']==language].copy()\n",
    "            # get the dev data\n",
    "            dataset_dict[language]['dev'] = self.dev[self.dev['lang']==language].copy()\n",
    "            # get the test data\n",
    "            dataset_dict[language]['test'] = self.test[self.test['lang']==language].copy()\n",
    "        return dataset_dict\n",
    "\n",
    "    def print_label_distrib(self, dataset: pd.DataFrame):\n",
    "        print(dataset['label'].value_counts(normalize=True))\n",
    "\n",
    "    def get_baseline_model(self, model_name: str = \"paraphrase-multilingual-MiniLM-L12-v2\"):\n",
    "        vect = SentenceTransformer(model_name)\n",
    "        self.vect = vect\n",
    "        return vect\n",
    "\n",
    "    def train_baseline_model(self, vect, train_data: pd.DataFrame, test_data: pd.DataFrame, solver: str = 'saga'):\n",
    "        model = LogisticRegression(class_weight=\"balanced\", solver=solver, random_state=self.seed)\n",
    "        model.fit(X=vect.encode(train_data['sentence'].values), y=train_data['label'].values)\n",
    "        predictions = model.predict(X=vect.encode(test_data['sentence'].values)).tolist()\n",
    "\n",
    "        # eval performances\n",
    "        perfs = self.evaluate_model(gold_values=test_data['label'].values, predicted_values=predictions)\n",
    "\n",
    "        return perfs\n",
    "\n",
    "    def get_tokenizer(self, model_card: str = \"microsoft/mdeberta-v3-base\"):\n",
    "        tokenizer = AutoTokenizer.from_pretrained(model_card)\n",
    "        self.tokenizer = tokenizer\n",
    "        return tokenizer\n",
    "\n",
    "    def get_model(self, model_card: str = \"microsoft/mdeberta-v3-base\", *args, **kwargs):\n",
    "        model = AutoModelForSequenceClassification.from_pretrained(model_card, *args, **kwargs)\n",
    "        self.model = model\n",
    "        return model\n",
    "\n",
    "    def get_class_weights(self, dataset: pd.DataFrame):\n",
    "        class_weights = compute_class_weight('balanced', classes=np.unique(dataset['label']), y=dataset['label'])\n",
    "        return class_weights\n",
    "\n",
    "    def evaluate_model(self, gold_values, predicted_values):\n",
    "        acc = accuracy_score(gold_values, predicted_values)\n",
    "        m_prec, m_rec, m_f1, m_s = precision_recall_fscore_support(gold_values, predicted_values, average=\"macro\",\n",
    "                                                                   zero_division=0)\n",
    "        p_prec, p_rec, p_f1, p_s = precision_recall_fscore_support(gold_values, predicted_values, labels=[1],\n",
    "                                                                   zero_division=0)\n",
    "    \n",
    "        return {\n",
    "            'macro_F1': m_f1,\n",
    "            'macro_P': m_prec,\n",
    "            'macro_R': m_rec,\n",
    "            'SUBJ_F1': p_f1[0],\n",
    "            'SUBJ_P': p_prec[0],\n",
    "            'SUBJ_R': p_rec[0],\n",
    "            'accuracy': acc\n",
    "        }"
   ]
  },
  {
   "cell_type": "code",
   "execution_count": 21,
   "metadata": {
    "execution": {
     "iopub.execute_input": "2025-03-09T14:14:07.612403Z",
     "iopub.status.busy": "2025-03-09T14:14:07.612060Z",
     "iopub.status.idle": "2025-03-09T14:14:07.616049Z",
     "shell.execute_reply": "2025-03-09T14:14:07.615114Z",
     "shell.execute_reply.started": "2025-03-09T14:14:07.612374Z"
    },
    "trusted": true
   },
   "outputs": [],
   "source": [
    "data_folder = '/kaggle/input/clef2025-checkthat/data' # data"
   ]
  },
  {
   "cell_type": "code",
   "execution_count": 22,
   "metadata": {
    "execution": {
     "iopub.execute_input": "2025-03-09T14:14:07.860431Z",
     "iopub.status.busy": "2025-03-09T14:14:07.859944Z",
     "iopub.status.idle": "2025-03-09T14:14:08.006257Z",
     "shell.execute_reply": "2025-03-09T14:14:08.005234Z",
     "shell.execute_reply.started": "2025-03-09T14:14:07.860396Z"
    },
    "trusted": true
   },
   "outputs": [
    {
     "name": "stdout",
     "output_type": "stream",
     "text": [
      "Train: (6418, 5)\n",
      "Dev: (2401, 5)\n",
      "Test: (2332, 5)\n"
     ]
    }
   ],
   "source": [
    "detector = Subjectivity(data_folder=data_folder, seed=SEED, device=device)"
   ]
  },
  {
   "cell_type": "code",
   "execution_count": 23,
   "metadata": {
    "execution": {
     "iopub.execute_input": "2025-03-09T14:14:08.066554Z",
     "iopub.status.busy": "2025-03-09T14:14:08.066226Z",
     "iopub.status.idle": "2025-03-09T14:14:08.075087Z",
     "shell.execute_reply": "2025-03-09T14:14:08.074102Z",
     "shell.execute_reply.started": "2025-03-09T14:14:08.066530Z"
    },
    "trusted": true
   },
   "outputs": [
    {
     "name": "stdout",
     "output_type": "stream",
     "text": [
      "label\n",
      "0    0.631349\n",
      "1    0.368651\n",
      "Name: proportion, dtype: float64\n",
      "label\n",
      "0    0.612245\n",
      "1    0.387755\n",
      "Name: proportion, dtype: float64\n",
      "label\n",
      "0    0.657376\n",
      "1    0.342624\n",
      "Name: proportion, dtype: float64\n"
     ]
    }
   ],
   "source": [
    "detector.print_label_distrib(detector.train)\n",
    "detector.print_label_distrib(detector.dev)\n",
    "detector.print_label_distrib(detector.test)"
   ]
  },
  {
   "cell_type": "code",
   "execution_count": null,
   "metadata": {
    "trusted": true
   },
   "outputs": [],
   "source": [
    "notebook_login()"
   ]
  },
  {
   "cell_type": "code",
   "execution_count": 24,
   "metadata": {
    "execution": {
     "iopub.execute_input": "2025-03-09T14:14:09.932860Z",
     "iopub.status.busy": "2025-03-09T14:14:09.932535Z",
     "iopub.status.idle": "2025-03-09T14:14:09.936690Z",
     "shell.execute_reply": "2025-03-09T14:14:09.935722Z",
     "shell.execute_reply.started": "2025-03-09T14:14:09.932835Z"
    },
    "trusted": true
   },
   "outputs": [],
   "source": [
    "results = {}"
   ]
  },
  {
   "cell_type": "code",
   "execution_count": 143,
   "metadata": {
    "execution": {
     "iopub.execute_input": "2025-03-09T15:04:03.059192Z",
     "iopub.status.busy": "2025-03-09T15:04:03.058824Z",
     "iopub.status.idle": "2025-03-09T15:04:03.070205Z",
     "shell.execute_reply": "2025-03-09T15:04:03.069322Z",
     "shell.execute_reply.started": "2025-03-09T15:04:03.059166Z"
    },
    "trusted": true
   },
   "outputs": [],
   "source": [
    "# Taken from https://github.com/huggingface/transformers/blob/main/src/transformers/trainer.py#L3700 (with some minor changes removing useless parts)\n",
    "class CustomTrainer(Trainer):\n",
    "    def __init__(self, *args, class_weights=None, weights_dtype=torch.float32, **kwargs):\n",
    "        super().__init__(*args, **kwargs)\n",
    "        # Ensure label_weights is a tensor\n",
    "        if class_weights is not None:\n",
    "            self.class_weights = torch.tensor(class_weights, dtype=weights_dtype).to(self.args.device)\n",
    "        else:\n",
    "            self.class_weights = None\n",
    "\n",
    "    def compute_loss(self, model, inputs, return_outputs=False, num_items_in_batch=None):\n",
    "        # Extract labels and convert them to long type for cross_entropy\n",
    "        labels = inputs.get(\"labels\")\n",
    "\n",
    "        # Forward pass\n",
    "        outputs = model(**inputs)\n",
    "\n",
    "        # Extract logits assuming they are directly outputted by the model\n",
    "        logits = outputs.get('logits')\n",
    "\n",
    "        # Compute custom loss with class weights for imbalanced data handling\n",
    "        if self.class_weights is not None:\n",
    "            loss = F.cross_entropy(logits, labels, weight=self.class_weights)\n",
    "        else:\n",
    "            loss = F.cross_entropy(logits, labels)\n",
    "\n",
    "        return (loss, outputs) if return_outputs else loss\n",
    "\n",
    "    def predict(self, test_dataset, ignore_keys=None, metric_key_prefix=\"test\"):\n",
    "        # Get raw predictions from parent class\n",
    "        output = super().predict(test_dataset, ignore_keys, metric_key_prefix)\n",
    "        \n",
    "        # Convert logits to probabilities using sigmoid (for binary classification)\n",
    "        logits = output.predictions\n",
    "        probabilities = torch.sigmoid(torch.tensor(logits)).numpy()\n",
    "        \n",
    "        if output.label_ids is not None:\n",
    "            # Calculate optimal threshold using validation labels\n",
    "            labels = output.label_ids\n",
    "            fpr, tpr, thresholds = roc_curve(labels, probabilities[:, 1])\n",
    "            \n",
    "            # Find threshold that maximizes TPR - FPR (Youden's J statistic)\n",
    "            j_scores = tpr - fpr\n",
    "            best_idx = np.argmax(j_scores)\n",
    "            self.best_threshold = thresholds[best_idx]\n",
    "            \n",
    "            # Apply optimal threshold to probabilities\n",
    "            predictions = (probabilities[:, 1] >= self.best_threshold).astype(int)\n",
    "        else:\n",
    "            # Fallback to default threshold if no labels available\n",
    "            predictions = (probabilities[:, 1] >= 0.5).astype(int)\n",
    "\n",
    "        # Update predictions in the output object\n",
    "        return PredictionOutput(\n",
    "            predictions=predictions,\n",
    "            label_ids=output.label_ids,\n",
    "            metrics=output.metrics\n",
    "        )\n",
    "\n",
    "def tokenize_text(texts):\n",
    "    return tokenizer(texts['sentence'], padding=True, truncation=True, max_length=256, return_tensors='pt')\n",
    "\n",
    "def evaluate_metrics(eval_pred):\n",
    "    predictions, labels = eval_pred\n",
    "    predictions = np.argmax(predictions, axis=1)\n",
    "    acc = accuracy_score(labels, predictions)\n",
    "    m_prec, m_rec, m_f1, m_s = precision_recall_fscore_support(labels, predictions, average=\"macro\",\n",
    "                                                                zero_division=0)\n",
    "    p_prec, p_rec, p_f1, p_s = precision_recall_fscore_support(labels, predictions, labels=[1],\n",
    "                                                                zero_division=0)\n",
    "\n",
    "    return {\n",
    "        'macro_F1': m_f1,\n",
    "        'macro_P': m_prec,\n",
    "        'macro_R': m_rec,\n",
    "        'SUBJ_F1': p_f1[0],\n",
    "        'SUBJ_P': p_prec[0],\n",
    "        'SUBJ_R': p_rec[0],\n",
    "        'accuracy': acc\n",
    "    }"
   ]
  },
  {
   "cell_type": "markdown",
   "metadata": {},
   "source": [
    "# Baseline Model (English)"
   ]
  },
  {
   "cell_type": "code",
   "execution_count": null,
   "metadata": {
    "trusted": true
   },
   "outputs": [],
   "source": [
    "vect = detector.get_baseline_model(model_name=\"paraphrase-multilingual-MiniLM-L12-v2\")\n",
    "vect"
   ]
  },
  {
   "cell_type": "code",
   "execution_count": null,
   "metadata": {
    "trusted": true
   },
   "outputs": [],
   "source": [
    "results['baseline-english'] = detector.train_baseline_model(vect, detector.all_data['english']['train'], detector.all_data['english']['test'])"
   ]
  },
  {
   "cell_type": "markdown",
   "metadata": {},
   "source": [
    "# Baseline Model (italian)"
   ]
  },
  {
   "cell_type": "code",
   "execution_count": null,
   "metadata": {
    "trusted": true
   },
   "outputs": [],
   "source": [
    "results['baseline-italian'] = detector.train_baseline_model(vect, detector.all_data['italian']['train'], detector.all_data['italian']['test'])"
   ]
  },
  {
   "cell_type": "markdown",
   "metadata": {},
   "source": [
    "# Baseline Model (multilingual)"
   ]
  },
  {
   "cell_type": "code",
   "execution_count": null,
   "metadata": {
    "trusted": true
   },
   "outputs": [],
   "source": [
    "results['baseline-multi'] = detector.train_baseline_model(vect, detector.train, detector.test)"
   ]
  },
  {
   "cell_type": "markdown",
   "metadata": {},
   "source": [
    "# mDeBERTta v3 base (Arabic)"
   ]
  },
  {
   "cell_type": "code",
   "execution_count": 150,
   "metadata": {
    "execution": {
     "iopub.execute_input": "2025-03-09T15:06:00.990346Z",
     "iopub.status.busy": "2025-03-09T15:06:00.989918Z",
     "iopub.status.idle": "2025-03-09T15:06:01.334406Z",
     "shell.execute_reply": "2025-03-09T15:06:01.333598Z",
     "shell.execute_reply.started": "2025-03-09T15:06:00.990315Z"
    },
    "trusted": true
   },
   "outputs": [
    {
     "name": "stdout",
     "output_type": "stream",
     "text": [
      "Model deleted!\n"
     ]
    },
    {
     "data": {
      "text/plain": [
       "5394"
      ]
     },
     "execution_count": 150,
     "metadata": {},
     "output_type": "execute_result"
    }
   ],
   "source": [
    "with torch.no_grad():\n",
    "    torch.cuda.empty_cache()\n",
    "\n",
    "if 'model' in locals() or 'model' in globals():\n",
    "    del model\n",
    "    print(\"Model deleted!\")\n",
    "\n",
    "gc.collect()"
   ]
  },
  {
   "cell_type": "code",
   "execution_count": null,
   "metadata": {
    "execution": {
     "iopub.execute_input": "2025-03-09T15:06:11.568078Z",
     "iopub.status.busy": "2025-03-09T15:06:11.567746Z",
     "iopub.status.idle": "2025-03-09T15:06:12.396921Z",
     "shell.execute_reply": "2025-03-09T15:06:12.396057Z",
     "shell.execute_reply.started": "2025-03-09T15:06:11.568051Z"
    },
    "trusted": true
   },
   "outputs": [
    {
     "data": {
      "application/vnd.jupyter.widget-view+json": {
       "model_id": "106ef44d183349368c4e2a8ba5ed3a77",
       "version_major": 2,
       "version_minor": 0
      },
      "text/plain": [
       "Map:   0%|          | 0/2446 [00:00<?, ? examples/s]"
      ]
     },
     "metadata": {},
     "output_type": "display_data"
    },
    {
     "data": {
      "application/vnd.jupyter.widget-view+json": {
       "model_id": "9c1c901ab0dc4d1c83c743d12ae61ae1",
       "version_major": 2,
       "version_minor": 0
      },
      "text/plain": [
       "Map:   0%|          | 0/467 [00:00<?, ? examples/s]"
      ]
     },
     "metadata": {},
     "output_type": "display_data"
    },
    {
     "data": {
      "application/vnd.jupyter.widget-view+json": {
       "model_id": "616ccc25c1164a8198dae98d15deb1d6",
       "version_major": 2,
       "version_minor": 0
      },
      "text/plain": [
       "Map:   0%|          | 0/748 [00:00<?, ? examples/s]"
      ]
     },
     "metadata": {},
     "output_type": "display_data"
    }
   ],
   "source": [
    "language = 'arabic'\n",
    "\n",
    "epochs = 6\n",
    "batch_size = 16\n",
    "lr = 1e-5\n",
    "weight_decay = 0.0\n",
    "label_smoothing = 0.0\n",
    "\n",
    "train_data = Dataset.from_pandas(detector.all_data[language]['train'])\n",
    "dev_data = Dataset.from_pandas(detector.all_data[language]['dev'])\n",
    "test_data = Dataset.from_pandas(detector.all_data[language]['test'])\n",
    "\n",
    "train_data = train_data.map(tokenize_text, batched=True)\n",
    "dev_data = dev_data.map(tokenize_text, batched=True)\n",
    "test_data = test_data.map(tokenize_text, batched=True)\n",
    "\n",
    "class_weights = detector.get_class_weights(detector.all_data[language]['train'])"
   ]
  },
  {
   "cell_type": "code",
   "execution_count": null,
   "metadata": {
    "execution": {
     "iopub.execute_input": "2025-03-09T15:06:23.200937Z",
     "iopub.status.busy": "2025-03-09T15:06:23.200640Z",
     "iopub.status.idle": "2025-03-09T15:06:25.176314Z",
     "shell.execute_reply": "2025-03-09T15:06:25.175592Z",
     "shell.execute_reply.started": "2025-03-09T15:06:23.200915Z"
    },
    "trusted": true
   },
   "outputs": [
    {
     "name": "stderr",
     "output_type": "stream",
     "text": [
      "/usr/local/lib/python3.10/dist-packages/transformers/convert_slow_tokenizer.py:561: UserWarning: The sentencepiece tokenizer that you are converting to a fast tokenizer uses the byte fallback option which is not implemented in the fast tokenizers. In practice this means that the fast version of the tokenizer can produce unknown tokens whereas the sentencepiece version would have converted these unknown tokens into a sequence of byte tokens matching the original piece of text.\n",
      "  warnings.warn(\n"
     ]
    }
   ],
   "source": [
    "model_card = \"microsoft/mdeberta-v3-base\"\n",
    "tokenizer = detector.get_tokenizer(model_card=model_card)\n",
    "model = detector.get_model(\n",
    "    model_card=f\"MatteoFasulo/mdeberta-v3-base-subjectivity-{language}\", \n",
    "    num_labels=2, \n",
    "    id2label={0: 'OBJ', 1: 'SUBJ'}, \n",
    "    label2id={'OBJ': 0, 'SUBJ': 1},\n",
    "    output_attentions = False,\n",
    "    output_hidden_states = False\n",
    ")\n",
    "\n",
    "collator_fn = DataCollatorWithPadding(tokenizer=tokenizer)"
   ]
  },
  {
   "cell_type": "code",
   "execution_count": 147,
   "metadata": {
    "execution": {
     "iopub.execute_input": "2025-03-09T15:04:09.443837Z",
     "iopub.status.busy": "2025-03-09T15:04:09.443588Z",
     "iopub.status.idle": "2025-03-09T15:04:09.474087Z",
     "shell.execute_reply": "2025-03-09T15:04:09.473447Z",
     "shell.execute_reply.started": "2025-03-09T15:04:09.443815Z"
    },
    "trusted": true
   },
   "outputs": [],
   "source": [
    "# Define training args\n",
    "training_args = TrainingArguments(\n",
    "    output_dir=f\"mdeberta-v3-base-subjectivity-{language}\",\n",
    "    per_device_train_batch_size=batch_size,\n",
    "    per_device_eval_batch_size=batch_size,\n",
    "    learning_rate=lr,\n",
    "    num_train_epochs=epochs,\n",
    "    #weight_decay=1e-1,\n",
    "    eval_strategy=\"epoch\",\n",
    "    save_strategy=\"epoch\",\n",
    "    save_total_limit=1,\n",
    "    #warmup_ratio=0.5,\n",
    "    load_best_model_at_end=True,\n",
    "    metric_for_best_model=\"eval_loss\",\n",
    "    greater_is_better=False,\n",
    "    report_to=\"none\"\n",
    ")"
   ]
  },
  {
   "cell_type": "code",
   "execution_count": 148,
   "metadata": {
    "execution": {
     "iopub.execute_input": "2025-03-09T15:04:09.508405Z",
     "iopub.status.busy": "2025-03-09T15:04:09.508073Z",
     "iopub.status.idle": "2025-03-09T15:04:14.919578Z",
     "shell.execute_reply": "2025-03-09T15:04:14.918873Z",
     "shell.execute_reply.started": "2025-03-09T15:04:09.508370Z"
    },
    "trusted": true
   },
   "outputs": [],
   "source": [
    "# Create a Trainer instance\n",
    "trainer = CustomTrainer(\n",
    "    model=model,\n",
    "    args=training_args,\n",
    "    train_dataset=train_data,\n",
    "    eval_dataset=dev_data,\n",
    "    data_collator=collator_fn,\n",
    "    compute_metrics=evaluate_metrics,\n",
    "    class_weights=class_weights\n",
    ")"
   ]
  },
  {
   "cell_type": "code",
   "execution_count": 149,
   "metadata": {
    "execution": {
     "iopub.execute_input": "2025-03-09T15:04:48.788285Z",
     "iopub.status.busy": "2025-03-09T15:04:48.787929Z",
     "iopub.status.idle": "2025-03-09T15:04:56.202558Z",
     "shell.execute_reply": "2025-03-09T15:04:56.201803Z",
     "shell.execute_reply.started": "2025-03-09T15:04:48.788255Z"
    },
    "trusted": true
   },
   "outputs": [
    {
     "data": {
      "text/html": [],
      "text/plain": [
       "<IPython.core.display.HTML object>"
      ]
     },
     "metadata": {},
     "output_type": "display_data"
    },
    {
     "name": "stdout",
     "output_type": "stream",
     "text": [
      "{'macro_F1': 0.5868055555555556, 'macro_P': 0.5895427921646034, 'macro_R': 0.5912074303405572, 'SUBJ_F1': 0.5625, 'SUBJ_P': 0.5196850393700787, 'SUBJ_R': 0.6130030959752322, 'accuracy': 0.5882352941176471}\n"
     ]
    },
    {
     "data": {
      "image/png": "[encoded data removed]",
      "text/plain": [
       "<Figure size 640x480 with 2 Axes>"
      ]
     },
     "metadata": {},
     "output_type": "display_data"
    }
   ],
   "source": [
    "pred_info = trainer.predict(test_data)\n",
    "\n",
    "predictions, labels = pred_info.predictions, pred_info.label_ids\n",
    "\n",
    "acc = accuracy_score(labels, predictions)\n",
    "m_prec, m_rec, m_f1, m_s = precision_recall_fscore_support(labels, predictions, average=\"macro\",\n",
    "                                                            zero_division=0)\n",
    "p_prec, p_rec, p_f1, p_s = precision_recall_fscore_support(labels, predictions, labels=[1],\n",
    "                                                            zero_division=0)\n",
    "stats = {\n",
    "        'macro_F1': m_f1,\n",
    "        'macro_P': m_prec,\n",
    "        'macro_R': m_rec,\n",
    "        'SUBJ_F1': p_f1[0],\n",
    "        'SUBJ_P': p_prec[0],\n",
    "        'SUBJ_R': p_rec[0],\n",
    "        'accuracy': acc\n",
    "    }\n",
    "\n",
    "print(stats)\n",
    "results[language] = stats\n",
    "\n",
    "cm = confusion_matrix(labels, predictions, normalize='all')\n",
    "ConfusionMatrixDisplay(cm, display_labels=['OBJ', 'SUBJ']).plot()\n",
    "plt.title(f\"Confusion Matrix ({language})\")\n",
    "plt.show()"
   ]
  },
  {
   "cell_type": "markdown",
   "metadata": {},
   "source": [
    "# mDeBERTta v3 base (Bulgarian)"
   ]
  },
  {
   "cell_type": "code",
   "execution_count": 153,
   "metadata": {
    "execution": {
     "iopub.execute_input": "2025-03-09T15:06:38.862813Z",
     "iopub.status.busy": "2025-03-09T15:06:38.862509Z",
     "iopub.status.idle": "2025-03-09T15:06:39.172426Z",
     "shell.execute_reply": "2025-03-09T15:06:39.171567Z",
     "shell.execute_reply.started": "2025-03-09T15:06:38.862787Z"
    },
    "trusted": true
   },
   "outputs": [
    {
     "name": "stdout",
     "output_type": "stream",
     "text": [
      "Model deleted!\n"
     ]
    },
    {
     "data": {
      "text/plain": [
       "43"
      ]
     },
     "execution_count": 153,
     "metadata": {},
     "output_type": "execute_result"
    }
   ],
   "source": [
    "with torch.no_grad():\n",
    "    torch.cuda.empty_cache()\n",
    "\n",
    "if 'model' in locals() or 'model' in globals():\n",
    "    del model\n",
    "    print(\"Model deleted!\")\n",
    "\n",
    "gc.collect()"
   ]
  },
  {
   "cell_type": "code",
   "execution_count": null,
   "metadata": {
    "execution": {
     "iopub.execute_input": "2025-03-09T15:06:39.904588Z",
     "iopub.status.busy": "2025-03-09T15:06:39.904297Z",
     "iopub.status.idle": "2025-03-09T15:06:40.286253Z",
     "shell.execute_reply": "2025-03-09T15:06:40.285501Z",
     "shell.execute_reply.started": "2025-03-09T15:06:39.904564Z"
    },
    "trusted": true
   },
   "outputs": [
    {
     "data": {
      "application/vnd.jupyter.widget-view+json": {
       "model_id": "37b102776d394e24b973f6ecd9a51139",
       "version_major": 2,
       "version_minor": 0
      },
      "text/plain": [
       "Map:   0%|          | 0/729 [00:00<?, ? examples/s]"
      ]
     },
     "metadata": {},
     "output_type": "display_data"
    },
    {
     "data": {
      "application/vnd.jupyter.widget-view+json": {
       "model_id": "bcbfbbd8f80c46d5999d97c5a6313d86",
       "version_major": 2,
       "version_minor": 0
      },
      "text/plain": [
       "Map:   0%|          | 0/314 [00:00<?, ? examples/s]"
      ]
     },
     "metadata": {},
     "output_type": "display_data"
    },
    {
     "data": {
      "application/vnd.jupyter.widget-view+json": {
       "model_id": "ec29f6e0db1946a4b3a714af2113cf7c",
       "version_major": 2,
       "version_minor": 0
      },
      "text/plain": [
       "Map:   0%|          | 0/250 [00:00<?, ? examples/s]"
      ]
     },
     "metadata": {},
     "output_type": "display_data"
    }
   ],
   "source": [
    "language = 'bulgarian'\n",
    "\n",
    "epochs = 6\n",
    "batch_size = 16\n",
    "lr = 1e-5\n",
    "weight_decay = 0.0\n",
    "label_smoothing = 0.0\n",
    "\n",
    "train_data = Dataset.from_pandas(detector.all_data[language]['train'])\n",
    "dev_data = Dataset.from_pandas(detector.all_data[language]['dev'])\n",
    "test_data = Dataset.from_pandas(detector.all_data[language]['test'])\n",
    "\n",
    "train_data = train_data.map(tokenize_text, batched=True)\n",
    "dev_data = dev_data.map(tokenize_text, batched=True)\n",
    "test_data = test_data.map(tokenize_text, batched=True)\n",
    "\n",
    "class_weights = detector.get_class_weights(detector.all_data[language]['train'])"
   ]
  },
  {
   "cell_type": "code",
   "execution_count": null,
   "metadata": {
    "execution": {
     "iopub.execute_input": "2025-03-09T15:06:43.893310Z",
     "iopub.status.busy": "2025-03-09T15:06:43.892953Z",
     "iopub.status.idle": "2025-03-09T15:07:05.645808Z",
     "shell.execute_reply": "2025-03-09T15:07:05.645157Z",
     "shell.execute_reply.started": "2025-03-09T15:06:43.893283Z"
    },
    "trusted": true
   },
   "outputs": [
    {
     "name": "stderr",
     "output_type": "stream",
     "text": [
      "/usr/local/lib/python3.10/dist-packages/transformers/convert_slow_tokenizer.py:561: UserWarning: The sentencepiece tokenizer that you are converting to a fast tokenizer uses the byte fallback option which is not implemented in the fast tokenizers. In practice this means that the fast version of the tokenizer can produce unknown tokens whereas the sentencepiece version would have converted these unknown tokens into a sequence of byte tokens matching the original piece of text.\n",
      "  warnings.warn(\n"
     ]
    },
    {
     "data": {
      "application/vnd.jupyter.widget-view+json": {
       "model_id": "530423c757f747e28f145fec8fd8783a",
       "version_major": 2,
       "version_minor": 0
      },
      "text/plain": [
       "config.json:   0%|          | 0.00/1.00k [00:00<?, ?B/s]"
      ]
     },
     "metadata": {},
     "output_type": "display_data"
    },
    {
     "data": {
      "application/vnd.jupyter.widget-view+json": {
       "model_id": "4cb9e3c5aac34324b06f6da057d4ef1e",
       "version_major": 2,
       "version_minor": 0
      },
      "text/plain": [
       "model.safetensors:   0%|          | 0.00/1.12G [00:00<?, ?B/s]"
      ]
     },
     "metadata": {},
     "output_type": "display_data"
    }
   ],
   "source": [
    "model_card = \"microsoft/mdeberta-v3-base\"\n",
    "tokenizer = detector.get_tokenizer(model_card=model_card)\n",
    "model = detector.get_model(\n",
    "    model_card=f\"MatteoFasulo/mdeberta-v3-base-subjectivity-{language}\", \n",
    "    num_labels=2, \n",
    "    id2label={0: 'OBJ', 1: 'SUBJ'}, \n",
    "    label2id={'OBJ': 0, 'SUBJ': 1},\n",
    "    output_attentions = False,\n",
    "    output_hidden_states = False\n",
    ")\n",
    "\n",
    "collator_fn = DataCollatorWithPadding(tokenizer=tokenizer)"
   ]
  },
  {
   "cell_type": "code",
   "execution_count": 158,
   "metadata": {
    "execution": {
     "iopub.execute_input": "2025-03-09T15:07:12.460383Z",
     "iopub.status.busy": "2025-03-09T15:07:12.460069Z",
     "iopub.status.idle": "2025-03-09T15:07:12.491505Z",
     "shell.execute_reply": "2025-03-09T15:07:12.490808Z",
     "shell.execute_reply.started": "2025-03-09T15:07:12.460350Z"
    },
    "trusted": true
   },
   "outputs": [],
   "source": [
    "# Define training args\n",
    "training_args = TrainingArguments(\n",
    "    output_dir=f\"mdeberta-v3-base-subjectivity-{language}\",\n",
    "    per_device_train_batch_size=batch_size,\n",
    "    per_device_eval_batch_size=batch_size,\n",
    "    learning_rate=lr,\n",
    "    num_train_epochs=epochs,\n",
    "    #weight_decay=1e-1,\n",
    "    eval_strategy=\"epoch\",\n",
    "    save_strategy=\"epoch\",\n",
    "    save_total_limit=1,\n",
    "    #warmup_ratio=0.5,\n",
    "    load_best_model_at_end=True,\n",
    "    metric_for_best_model=\"eval_loss\",\n",
    "    greater_is_better=False,\n",
    "    report_to=\"none\"\n",
    ")"
   ]
  },
  {
   "cell_type": "code",
   "execution_count": 159,
   "metadata": {
    "execution": {
     "iopub.execute_input": "2025-03-09T15:07:12.879285Z",
     "iopub.status.busy": "2025-03-09T15:07:12.879014Z",
     "iopub.status.idle": "2025-03-09T15:07:12.892269Z",
     "shell.execute_reply": "2025-03-09T15:07:12.891482Z",
     "shell.execute_reply.started": "2025-03-09T15:07:12.879263Z"
    },
    "trusted": true
   },
   "outputs": [],
   "source": [
    "# Create a Trainer instance\n",
    "trainer = CustomTrainer(\n",
    "    model=model,\n",
    "    args=training_args,\n",
    "    train_dataset=train_data,\n",
    "    eval_dataset=dev_data,\n",
    "    data_collator=collator_fn,\n",
    "    compute_metrics=evaluate_metrics,\n",
    "    class_weights=class_weights\n",
    ")"
   ]
  },
  {
   "cell_type": "code",
   "execution_count": 160,
   "metadata": {
    "execution": {
     "iopub.execute_input": "2025-03-09T15:07:16.973214Z",
     "iopub.status.busy": "2025-03-09T15:07:16.972857Z",
     "iopub.status.idle": "2025-03-09T15:07:19.214734Z",
     "shell.execute_reply": "2025-03-09T15:07:19.213960Z",
     "shell.execute_reply.started": "2025-03-09T15:07:16.973182Z"
    },
    "trusted": true
   },
   "outputs": [
    {
     "data": {
      "text/html": [],
      "text/plain": [
       "<IPython.core.display.HTML object>"
      ]
     },
     "metadata": {},
     "output_type": "display_data"
    },
    {
     "name": "stdout",
     "output_type": "stream",
     "text": [
      "{'macro_F1': 0.7812560762201051, 'macro_P': 0.7800322061191627, 'macro_R': 0.7841317560943729, 'SUBJ_F1': 0.7567567567567568, 'SUBJ_P': 0.7304347826086957, 'SUBJ_R': 0.7850467289719626, 'accuracy': 0.784}\n"
     ]
    },
    {
     "data": {
      "image/png": "[encoded data removed]",
      "text/plain": [
       "<Figure size 640x480 with 2 Axes>"
      ]
     },
     "metadata": {},
     "output_type": "display_data"
    }
   ],
   "source": [
    "pred_info = trainer.predict(test_data)\n",
    "\n",
    "predictions, labels = pred_info.predictions, pred_info.label_ids\n",
    "\n",
    "acc = accuracy_score(labels, predictions)\n",
    "m_prec, m_rec, m_f1, m_s = precision_recall_fscore_support(labels, predictions, average=\"macro\",\n",
    "                                                            zero_division=0)\n",
    "p_prec, p_rec, p_f1, p_s = precision_recall_fscore_support(labels, predictions, labels=[1],\n",
    "                                                            zero_division=0)\n",
    "stats = {\n",
    "        'macro_F1': m_f1,\n",
    "        'macro_P': m_prec,\n",
    "        'macro_R': m_rec,\n",
    "        'SUBJ_F1': p_f1[0],\n",
    "        'SUBJ_P': p_prec[0],\n",
    "        'SUBJ_R': p_rec[0],\n",
    "        'accuracy': acc\n",
    "    }\n",
    "\n",
    "print(stats)\n",
    "results[language] = stats\n",
    "\n",
    "cm = confusion_matrix(labels, predictions, normalize='all')\n",
    "ConfusionMatrixDisplay(cm, display_labels=['OBJ', 'SUBJ']).plot()\n",
    "plt.title(f\"Confusion Matrix ({language})\")\n",
    "plt.show()"
   ]
  },
  {
   "cell_type": "markdown",
   "metadata": {},
   "source": [
    "# mDeBERTa-base (English)"
   ]
  },
  {
   "cell_type": "code",
   "execution_count": null,
   "metadata": {
    "trusted": true
   },
   "outputs": [],
   "source": [
    "with torch.no_grad():\n",
    "    torch.cuda.empty_cache()\n",
    "\n",
    "if 'model' in locals() or 'model' in globals():\n",
    "    del model\n",
    "    print(\"Model deleted!\")\n",
    "\n",
    "gc.collect()"
   ]
  },
  {
   "cell_type": "code",
   "execution_count": null,
   "metadata": {
    "trusted": true
   },
   "outputs": [],
   "source": [
    "language = 'english'\n",
    "\n",
    "epochs = 6\n",
    "batch_size = 16\n",
    "lr = 1e-5\n",
    "weight_decay = 0.0\n",
    "label_smoothing = 0.0\n",
    "\n",
    "train_data = Dataset.from_pandas(detector.all_data[language]['train'])\n",
    "dev_data = Dataset.from_pandas(detector.all_data[language]['dev'])\n",
    "test_data = Dataset.from_pandas(detector.all_data[language]['test'])\n",
    "\n",
    "train_data = train_data.map(tokenize_text, batched=True)\n",
    "dev_data = dev_data.map(tokenize_text, batched=True)\n",
    "test_data = test_data.map(tokenize_text, batched=True)\n",
    "\n",
    "class_weights = detector.get_class_weights(detector.all_data[language]['train'])"
   ]
  },
  {
   "cell_type": "code",
   "execution_count": null,
   "metadata": {},
   "outputs": [],
   "source": [
    "model_card = \"microsoft/mdeberta-v3-base\"\n",
    "tokenizer = detector.get_tokenizer(model_card=model_card)\n",
    "model = detector.get_model(\n",
    "    model_card=f\"MatteoFasulo/mdeberta-v3-base-subjectivity-{language}\", \n",
    "    num_labels=2, \n",
    "    id2label={0: 'OBJ', 1: 'SUBJ'}, \n",
    "    label2id={'OBJ': 0, 'SUBJ': 1},\n",
    "    output_attentions = False,\n",
    "    output_hidden_states = False\n",
    ")\n",
    "\n",
    "collator_fn = DataCollatorWithPadding(tokenizer=tokenizer)"
   ]
  },
  {
   "cell_type": "code",
   "execution_count": null,
   "metadata": {
    "trusted": true
   },
   "outputs": [],
   "source": [
    "# Define training args\n",
    "training_args = TrainingArguments(\n",
    "    output_dir=f\"mdeberta-v3-base-subjectivity-{language}\",\n",
    "    per_device_train_batch_size=batch_size,\n",
    "    per_device_eval_batch_size=batch_size,\n",
    "    learning_rate=lr,\n",
    "    num_train_epochs=epochs,\n",
    "    #weight_decay=1e-1,\n",
    "    eval_strategy=\"epoch\",\n",
    "    save_strategy=\"epoch\",\n",
    "    save_total_limit=1,\n",
    "    #warmup_ratio=0.5,\n",
    "    load_best_model_at_end=True,\n",
    "    metric_for_best_model=\"eval_loss\",\n",
    "    greater_is_better=False,\n",
    "    report_to=\"none\"\n",
    ")"
   ]
  },
  {
   "cell_type": "code",
   "execution_count": null,
   "metadata": {
    "trusted": true
   },
   "outputs": [],
   "source": [
    "# Create a Trainer instance\n",
    "trainer = CustomTrainer(\n",
    "    model=model,\n",
    "    args=training_args,\n",
    "    train_dataset=train_data,\n",
    "    eval_dataset=dev_data,\n",
    "    data_collator=collator_fn,\n",
    "    compute_metrics=evaluate_metrics,\n",
    "    class_weights=class_weights\n",
    ")"
   ]
  },
  {
   "cell_type": "code",
   "execution_count": null,
   "metadata": {
    "trusted": true
   },
   "outputs": [],
   "source": [
    "pred_info = trainer.predict(test_data)\n",
    "\n",
    "predictions, labels = pred_info.predictions, pred_info.label_ids\n",
    "\n",
    "acc = accuracy_score(labels, predictions)\n",
    "m_prec, m_rec, m_f1, m_s = precision_recall_fscore_support(labels, predictions, average=\"macro\",\n",
    "                                                            zero_division=0)\n",
    "p_prec, p_rec, p_f1, p_s = precision_recall_fscore_support(labels, predictions, labels=[1],\n",
    "                                                            zero_division=0)\n",
    "stats = {\n",
    "        'macro_F1': m_f1,\n",
    "        'macro_P': m_prec,\n",
    "        'macro_R': m_rec,\n",
    "        'SUBJ_F1': p_f1[0],\n",
    "        'SUBJ_P': p_prec[0],\n",
    "        'SUBJ_R': p_rec[0],\n",
    "        'accuracy': acc\n",
    "    }\n",
    "\n",
    "print(stats)\n",
    "results[language] = stats\n",
    "\n",
    "cm = confusion_matrix(labels, predictions, normalize='all')\n",
    "ConfusionMatrixDisplay(cm, display_labels=['OBJ', 'SUBJ']).plot()\n",
    "plt.title(f\"Confusion Matrix ({language})\")\n",
    "plt.show()"
   ]
  },
  {
   "cell_type": "markdown",
   "metadata": {},
   "source": [
    "# mDeBERTta v3 base (German)"
   ]
  },
  {
   "cell_type": "code",
   "execution_count": null,
   "metadata": {
    "trusted": true
   },
   "outputs": [],
   "source": [
    "with torch.no_grad():\n",
    "    torch.cuda.empty_cache()\n",
    "\n",
    "if 'model' in locals() or 'model' in globals():\n",
    "    del model\n",
    "    print(\"Model deleted!\")\n",
    "\n",
    "gc.collect()"
   ]
  },
  {
   "cell_type": "code",
   "execution_count": null,
   "metadata": {
    "trusted": true
   },
   "outputs": [],
   "source": [
    "language = 'german'\n",
    "\n",
    "epochs = 6\n",
    "batch_size = 16\n",
    "lr = 1e-5\n",
    "weight_decay = 0.0\n",
    "label_smoothing = 0.0\n",
    "\n",
    "train_data = Dataset.from_pandas(detector.all_data[language]['train'])\n",
    "dev_data = Dataset.from_pandas(detector.all_data[language]['dev'])\n",
    "test_data = Dataset.from_pandas(detector.all_data[language]['test'])\n",
    "\n",
    "train_data = train_data.map(tokenize_text, batched=True)\n",
    "dev_data = dev_data.map(tokenize_text, batched=True)\n",
    "test_data = test_data.map(tokenize_text, batched=True)\n",
    "\n",
    "class_weights = detector.get_class_weights(detector.all_data[language]['train'])"
   ]
  },
  {
   "cell_type": "code",
   "execution_count": null,
   "metadata": {},
   "outputs": [],
   "source": [
    "model_card = \"microsoft/mdeberta-v3-base\"\n",
    "tokenizer = detector.get_tokenizer(model_card=model_card)\n",
    "model = detector.get_model(\n",
    "    model_card=f\"MatteoFasulo/mdeberta-v3-base-subjectivity-{language}\", \n",
    "    num_labels=2, \n",
    "    id2label={0: 'OBJ', 1: 'SUBJ'}, \n",
    "    label2id={'OBJ': 0, 'SUBJ': 1},\n",
    "    output_attentions = False,\n",
    "    output_hidden_states = False\n",
    ")\n",
    "\n",
    "collator_fn = DataCollatorWithPadding(tokenizer=tokenizer)"
   ]
  },
  {
   "cell_type": "code",
   "execution_count": null,
   "metadata": {
    "trusted": true
   },
   "outputs": [],
   "source": [
    "# Define training args\n",
    "training_args = TrainingArguments(\n",
    "    output_dir=f\"mdeberta-v3-base-subjectivity-{language}\",\n",
    "    per_device_train_batch_size=batch_size,\n",
    "    per_device_eval_batch_size=batch_size,\n",
    "    learning_rate=lr,\n",
    "    num_train_epochs=epochs,\n",
    "    #weight_decay=1e-1,\n",
    "    eval_strategy=\"epoch\",\n",
    "    save_strategy=\"epoch\",\n",
    "    save_total_limit=1,\n",
    "    #warmup_ratio=0.5,\n",
    "    load_best_model_at_end=True,\n",
    "    metric_for_best_model=\"eval_loss\",\n",
    "    greater_is_better=False,\n",
    "    report_to=\"none\"\n",
    ")"
   ]
  },
  {
   "cell_type": "code",
   "execution_count": null,
   "metadata": {
    "trusted": true
   },
   "outputs": [],
   "source": [
    "# Create a Trainer instance\n",
    "trainer = CustomTrainer(\n",
    "    model=model,\n",
    "    args=training_args,\n",
    "    train_dataset=train_data,\n",
    "    eval_dataset=dev_data,\n",
    "    data_collator=collator_fn,\n",
    "    compute_metrics=evaluate_metrics,\n",
    "    class_weights=class_weights\n",
    ")"
   ]
  },
  {
   "cell_type": "code",
   "execution_count": null,
   "metadata": {
    "trusted": true
   },
   "outputs": [],
   "source": [
    "pred_info = trainer.predict(test_data)\n",
    "\n",
    "predictions, labels = pred_info.predictions, pred_info.label_ids\n",
    "\n",
    "acc = accuracy_score(labels, predictions)\n",
    "m_prec, m_rec, m_f1, m_s = precision_recall_fscore_support(labels, predictions, average=\"macro\",\n",
    "                                                            zero_division=0)\n",
    "p_prec, p_rec, p_f1, p_s = precision_recall_fscore_support(labels, predictions, labels=[1],\n",
    "                                                            zero_division=0)\n",
    "stats = {\n",
    "        'macro_F1': m_f1,\n",
    "        'macro_P': m_prec,\n",
    "        'macro_R': m_rec,\n",
    "        'SUBJ_F1': p_f1[0],\n",
    "        'SUBJ_P': p_prec[0],\n",
    "        'SUBJ_R': p_rec[0],\n",
    "        'accuracy': acc\n",
    "    }\n",
    "\n",
    "print(stats)\n",
    "results[language] = stats\n",
    "\n",
    "cm = confusion_matrix(labels, predictions, normalize='all')\n",
    "ConfusionMatrixDisplay(cm, display_labels=['OBJ', 'SUBJ']).plot()\n",
    "plt.title(f\"Confusion Matrix ({language})\")\n",
    "plt.show()"
   ]
  },
  {
   "cell_type": "markdown",
   "metadata": {},
   "source": [
    "# mDeBERTa-base (italian)"
   ]
  },
  {
   "cell_type": "code",
   "execution_count": null,
   "metadata": {
    "trusted": true
   },
   "outputs": [],
   "source": [
    "with torch.no_grad():\n",
    "    torch.cuda.empty_cache()\n",
    "\n",
    "if 'model' in locals() or 'model' in globals():\n",
    "    del model\n",
    "    print(\"Model deleted!\")\n",
    "\n",
    "gc.collect()"
   ]
  },
  {
   "cell_type": "code",
   "execution_count": null,
   "metadata": {
    "trusted": true
   },
   "outputs": [],
   "source": [
    "language = 'italian'\n",
    "\n",
    "epochs = 6\n",
    "batch_size = 16\n",
    "lr = 1e-5\n",
    "weight_decay = 0.0\n",
    "label_smoothing = 0.0\n",
    "\n",
    "train_data = Dataset.from_pandas(detector.all_data[language]['train'])\n",
    "dev_data = Dataset.from_pandas(detector.all_data[language]['dev'])\n",
    "test_data = Dataset.from_pandas(detector.all_data[language]['test'])\n",
    "\n",
    "train_data = train_data.map(tokenize_text, batched=True)\n",
    "dev_data = dev_data.map(tokenize_text, batched=True)\n",
    "test_data = test_data.map(tokenize_text, batched=True)\n",
    "\n",
    "class_weights = detector.get_class_weights(detector.all_data[language]['train'])"
   ]
  },
  {
   "cell_type": "code",
   "execution_count": null,
   "metadata": {},
   "outputs": [],
   "source": [
    "model_card = \"microsoft/mdeberta-v3-base\"\n",
    "tokenizer = detector.get_tokenizer(model_card=model_card)\n",
    "model = detector.get_model(\n",
    "    model_card=f\"MatteoFasulo/mdeberta-v3-base-subjectivity-{language}\", \n",
    "    num_labels=2, \n",
    "    id2label={0: 'OBJ', 1: 'SUBJ'}, \n",
    "    label2id={'OBJ': 0, 'SUBJ': 1},\n",
    "    output_attentions = False,\n",
    "    output_hidden_states = False\n",
    ")\n",
    "\n",
    "collator_fn = DataCollatorWithPadding(tokenizer=tokenizer)"
   ]
  },
  {
   "cell_type": "code",
   "execution_count": null,
   "metadata": {
    "trusted": true
   },
   "outputs": [],
   "source": [
    "# Define training args\n",
    "training_args = TrainingArguments(\n",
    "    output_dir=f\"mdeberta-v3-base-subjectivity-{language}\",\n",
    "    per_device_train_batch_size=batch_size,\n",
    "    per_device_eval_batch_size=batch_size,\n",
    "    learning_rate=lr,\n",
    "    num_train_epochs=epochs,\n",
    "    #weight_decay=1e-1,\n",
    "    eval_strategy=\"epoch\",\n",
    "    save_strategy=\"epoch\",\n",
    "    save_total_limit=1,\n",
    "    #warmup_ratio=0.5,\n",
    "    load_best_model_at_end=True,\n",
    "    metric_for_best_model=\"eval_loss\",\n",
    "    greater_is_better=False,\n",
    "    report_to=\"none\"\n",
    ")"
   ]
  },
  {
   "cell_type": "code",
   "execution_count": null,
   "metadata": {
    "trusted": true
   },
   "outputs": [],
   "source": [
    "# Create a Trainer instance\n",
    "trainer = CustomTrainer(\n",
    "    model=model,\n",
    "    args=training_args,\n",
    "    train_dataset=train_data,\n",
    "    eval_dataset=dev_data,\n",
    "    data_collator=collator_fn,\n",
    "    compute_metrics=evaluate_metrics,\n",
    "    class_weights=class_weights\n",
    ")"
   ]
  },
  {
   "cell_type": "code",
   "execution_count": null,
   "metadata": {
    "trusted": true
   },
   "outputs": [],
   "source": [
    "pred_info = trainer.predict(test_data)\n",
    "\n",
    "predictions, labels = pred_info.predictions, pred_info.label_ids\n",
    "\n",
    "acc = accuracy_score(labels, predictions)\n",
    "m_prec, m_rec, m_f1, m_s = precision_recall_fscore_support(labels, predictions, average=\"macro\",\n",
    "                                                            zero_division=0)\n",
    "p_prec, p_rec, p_f1, p_s = precision_recall_fscore_support(labels, predictions, labels=[1],\n",
    "                                                            zero_division=0)\n",
    "stats = {\n",
    "        'macro_F1': m_f1,\n",
    "        'macro_P': m_prec,\n",
    "        'macro_R': m_rec,\n",
    "        'SUBJ_F1': p_f1[0],\n",
    "        'SUBJ_P': p_prec[0],\n",
    "        'SUBJ_R': p_rec[0],\n",
    "        'accuracy': acc\n",
    "    }\n",
    "\n",
    "print(stats)\n",
    "results[language] = stats\n",
    "\n",
    "cm = confusion_matrix(labels, predictions, normalize='all')\n",
    "ConfusionMatrixDisplay(cm, display_labels=['OBJ', 'SUBJ']).plot()\n",
    "plt.title(f\"Confusion Matrix ({language})\")\n",
    "plt.show()"
   ]
  },
  {
   "cell_type": "markdown",
   "metadata": {},
   "source": [
    "# mDeBERTa-base (multilingual)"
   ]
  },
  {
   "cell_type": "code",
   "execution_count": null,
   "metadata": {
    "trusted": true
   },
   "outputs": [],
   "source": [
    "with torch.no_grad():\n",
    "    torch.cuda.empty_cache()\n",
    "\n",
    "if 'model' in locals() or 'model' in globals():\n",
    "    del model\n",
    "    print(\"Model deleted!\")\n",
    "\n",
    "gc.collect()"
   ]
  },
  {
   "cell_type": "code",
   "execution_count": null,
   "metadata": {
    "trusted": true
   },
   "outputs": [],
   "source": [
    "language = 'multilingual'\n",
    "\n",
    "epochs = 6\n",
    "batch_size = 16\n",
    "lr = 1e-5\n",
    "weight_decay = 0.0\n",
    "label_smoothing = 0.0\n",
    "\n",
    "train_data = Dataset.from_pandas(detector.train)\n",
    "dev_data = Dataset.from_pandas(detector.dev)\n",
    "test_data = Dataset.from_pandas(detector.test)\n",
    "\n",
    "train_data = train_data.map(tokenize_text, batched=True)\n",
    "dev_data = dev_data.map(tokenize_text, batched=True)\n",
    "test_data = test_data.map(tokenize_text, batched=True)\n",
    "\n",
    "class_weights = detector.get_class_weights(detector.train)"
   ]
  },
  {
   "cell_type": "code",
   "execution_count": null,
   "metadata": {},
   "outputs": [],
   "source": [
    "model_card = \"microsoft/mdeberta-v3-base\"\n",
    "tokenizer = detector.get_tokenizer(model_card=model_card)\n",
    "model = detector.get_model(\n",
    "    model_card=f\"MatteoFasulo/mdeberta-v3-base-subjectivity-{language}\", \n",
    "    num_labels=2, \n",
    "    id2label={0: 'OBJ', 1: 'SUBJ'}, \n",
    "    label2id={'OBJ': 0, 'SUBJ': 1},\n",
    "    output_attentions = False,\n",
    "    output_hidden_states = False\n",
    ")\n",
    "\n",
    "collator_fn = DataCollatorWithPadding(tokenizer=tokenizer)"
   ]
  },
  {
   "cell_type": "code",
   "execution_count": null,
   "metadata": {
    "trusted": true
   },
   "outputs": [],
   "source": [
    "# Define training args\n",
    "training_args = TrainingArguments(\n",
    "    output_dir=f\"mdeberta-v3-base-subjectivity-{language}\",\n",
    "    per_device_train_batch_size=batch_size,\n",
    "    per_device_eval_batch_size=batch_size,\n",
    "    learning_rate=lr,\n",
    "    num_train_epochs=epochs,\n",
    "    #weight_decay=1e-1,\n",
    "    eval_strategy=\"epoch\",\n",
    "    save_strategy=\"epoch\",\n",
    "    save_total_limit=1,\n",
    "    #warmup_ratio=0.5,\n",
    "    load_best_model_at_end=True,\n",
    "    metric_for_best_model=\"eval_loss\",\n",
    "    greater_is_better=False,\n",
    "    report_to=\"none\"\n",
    ")"
   ]
  },
  {
   "cell_type": "code",
   "execution_count": null,
   "metadata": {
    "trusted": true
   },
   "outputs": [],
   "source": [
    "# Create a Trainer instance\n",
    "trainer = CustomTrainer(\n",
    "    model=model,\n",
    "    args=training_args,\n",
    "    train_dataset=train_data,\n",
    "    eval_dataset=dev_data,\n",
    "    data_collator=collator_fn,\n",
    "    compute_metrics=evaluate_metrics,\n",
    "    class_weights=class_weights,\n",
    ")"
   ]
  },
  {
   "cell_type": "code",
   "execution_count": null,
   "metadata": {
    "trusted": true
   },
   "outputs": [],
   "source": [
    "pred_info = trainer.predict(test_data)\n",
    "\n",
    "predictions, labels = pred_info.predictions, pred_info.label_ids\n",
    "\n",
    "acc = accuracy_score(labels, predictions)\n",
    "m_prec, m_rec, m_f1, m_s = precision_recall_fscore_support(labels, predictions, average=\"macro\",\n",
    "                                                            zero_division=0)\n",
    "p_prec, p_rec, p_f1, p_s = precision_recall_fscore_support(labels, predictions, labels=[1],\n",
    "                                                            zero_division=0)\n",
    "stats = {\n",
    "        'macro_F1': m_f1,\n",
    "        'macro_P': m_prec,\n",
    "        'macro_R': m_rec,\n",
    "        'SUBJ_F1': p_f1[0],\n",
    "        'SUBJ_P': p_prec[0],\n",
    "        'SUBJ_R': p_rec[0],\n",
    "        'accuracy': acc\n",
    "    }\n",
    "\n",
    "print(stats)\n",
    "results[language] = stats\n",
    "\n",
    "cm = confusion_matrix(labels, predictions, normalize='all')\n",
    "ConfusionMatrixDisplay(cm, display_labels=['OBJ', 'SUBJ']).plot()\n",
    "plt.title(f\"Confusion Matrix ({language})\")\n",
    "plt.show()"
   ]
  },
  {
   "cell_type": "markdown",
   "metadata": {},
   "source": [
    "---"
   ]
  },
  {
   "cell_type": "markdown",
   "metadata": {},
   "source": [
    "# ModernBERT-base (English)"
   ]
  },
  {
   "cell_type": "code",
   "execution_count": null,
   "metadata": {
    "trusted": true
   },
   "outputs": [],
   "source": [
    "with torch.no_grad():\n",
    "    torch.cuda.empty_cache()\n",
    "\n",
    "if 'model' in locals() or 'model' in globals():\n",
    "    del model\n",
    "    print(\"Model deleted!\")\n",
    "\n",
    "gc.collect()"
   ]
  },
  {
   "cell_type": "code",
   "execution_count": null,
   "metadata": {
    "trusted": true
   },
   "outputs": [],
   "source": [
    "language = 'english'\n",
    "\n",
    "epochs = 6\n",
    "batch_size = 16\n",
    "lr = 1e-5\n",
    "weight_decay = 0.0\n",
    "\n",
    "train_data = Dataset.from_pandas(detector.all_data[language]['train'])\n",
    "dev_data = Dataset.from_pandas(detector.all_data[language]['dev'])\n",
    "test_data = Dataset.from_pandas(detector.all_data[language]['test'])\n",
    "\n",
    "train_data = train_data.map(tokenize_text, batched=True)\n",
    "dev_data = dev_data.map(tokenize_text, batched=True)\n",
    "test_data = test_data.map(tokenize_text, batched=True)\n",
    "\n",
    "class_weights = detector.get_class_weights(detector.all_data[language]['train'])"
   ]
  },
  {
   "cell_type": "code",
   "execution_count": null,
   "metadata": {},
   "outputs": [],
   "source": [
    "model_card = \"answerdotai/ModernBERT-base\"\n",
    "tokenizer = detector.get_tokenizer(model_card=model_card)\n",
    "model = detector.get_model(\n",
    "    model_card=f\"MatteoFasulo/ModernBERT-base-subjectivity-{language}\", \n",
    "    num_labels=2, \n",
    "    id2label={0: 'OBJ', 1: 'SUBJ'}, \n",
    "    label2id={'OBJ': 0, 'SUBJ': 1},\n",
    "    output_attentions = False,\n",
    "    output_hidden_states = False\n",
    ")\n",
    "\n",
    "collator_fn = DataCollatorWithPadding(tokenizer=tokenizer)"
   ]
  },
  {
   "cell_type": "code",
   "execution_count": null,
   "metadata": {
    "trusted": true
   },
   "outputs": [],
   "source": [
    "# Define training args\n",
    "training_args = TrainingArguments(\n",
    "    output_dir=f\"ModernBERT-base-subjectivity-{language}\",\n",
    "    per_device_train_batch_size=batch_size,\n",
    "    per_device_eval_batch_size=batch_size,\n",
    "    learning_rate=lr,\n",
    "    num_train_epochs=epochs,\n",
    "    weight_decay=weight_decay,\n",
    "    eval_strategy=\"epoch\",\n",
    "    save_strategy=\"epoch\",\n",
    "    save_total_limit=1,\n",
    "    #warmup_ratio=0.5,\n",
    "    load_best_model_at_end=True,\n",
    "    metric_for_best_model=\"eval_loss\",\n",
    "    greater_is_better=False,\n",
    "    report_to=\"none\"\n",
    ")"
   ]
  },
  {
   "cell_type": "code",
   "execution_count": null,
   "metadata": {
    "trusted": true
   },
   "outputs": [],
   "source": [
    "# Create a Trainer instance\n",
    "trainer = CustomTrainer(\n",
    "    model=model,\n",
    "    args=training_args,\n",
    "    train_dataset=train_data,\n",
    "    eval_dataset=dev_data,\n",
    "    data_collator=collator_fn,\n",
    "    compute_metrics=evaluate_metrics,\n",
    "    loss_fn=F.cross_entropy\n",
    ")"
   ]
  },
  {
   "cell_type": "code",
   "execution_count": null,
   "metadata": {
    "trusted": true
   },
   "outputs": [],
   "source": [
    "pred_info = trainer.predict(test_data)\n",
    "\n",
    "predictions, labels = pred_info.predictions, pred_info.label_ids\n",
    "\n",
    "acc = accuracy_score(labels, predictions)\n",
    "m_prec, m_rec, m_f1, m_s = precision_recall_fscore_support(labels, predictions, average=\"macro\",\n",
    "                                                            zero_division=0)\n",
    "p_prec, p_rec, p_f1, p_s = precision_recall_fscore_support(labels, predictions, labels=[1],\n",
    "                                                            zero_division=0)\n",
    "stats = {\n",
    "        'macro_F1': m_f1,\n",
    "        'macro_P': m_prec,\n",
    "        'macro_R': m_rec,\n",
    "        'SUBJ_F1': p_f1[0],\n",
    "        'SUBJ_P': p_prec[0],\n",
    "        'SUBJ_R': p_rec[0],\n",
    "        'accuracy': acc\n",
    "    }\n",
    "\n",
    "print(stats)\n",
    "results['english-modern-bert'] = stats\n",
    "\n",
    "cm = confusion_matrix(labels, predictions, normalize='all')\n",
    "ConfusionMatrixDisplay(cm, display_labels=['OBJ', 'SUBJ']).plot()\n",
    "plt.title(f\"Confusion Matrix ({language})\")\n",
    "plt.show()"
   ]
  },
  {
   "cell_type": "code",
   "execution_count": null,
   "metadata": {
    "trusted": true
   },
   "outputs": [],
   "source": [
    "pd.DataFrame(results).T.sort_values(by='macro_F1', ascending=False)"
   ]
  },
  {
   "cell_type": "markdown",
   "metadata": {},
   "source": [
    "---"
   ]
  },
  {
   "cell_type": "markdown",
   "metadata": {},
   "source": [
    "# Llama-3.2-1B (English)"
   ]
  },
  {
   "cell_type": "code",
   "execution_count": null,
   "metadata": {
    "trusted": true
   },
   "outputs": [],
   "source": [
    "with torch.no_grad():\n",
    "    torch.cuda.empty_cache()\n",
    "\n",
    "if 'model' in locals() or 'model' in globals():\n",
    "    del model\n",
    "    print(\"Model deleted!\")\n",
    "\n",
    "gc.collect()"
   ]
  },
  {
   "cell_type": "code",
   "execution_count": null,
   "metadata": {
    "trusted": true
   },
   "outputs": [],
   "source": [
    "model_card = \"meta-llama/Llama-3.2-1B\" # meta-llama/Meta-Llama-3-8B"
   ]
  },
  {
   "cell_type": "code",
   "execution_count": null,
   "metadata": {
    "trusted": true
   },
   "outputs": [],
   "source": [
    "quantization_config = BitsAndBytesConfig(\n",
    "    load_in_4bit = False, # enable 4-bit quantization\n",
    "    bnb_4bit_quant_type = 'nf4', # information theoretically optimal dtype for normally distributed weights\n",
    "    bnb_4bit_use_double_quant = True, # quantize quantized weights\n",
    "    bnb_4bit_compute_dtype = torch.bfloat16 # optimized fp format for ML\n",
    ")\n",
    "\n",
    "lora_config = LoraConfig(\n",
    "    r = 16, # the dimension of the low-rank matrices\n",
    "    lora_alpha = 8, # scaling factor for LoRA activations vs pre-trained weight activations\n",
    "    target_modules = ['q_proj', 'k_proj', 'v_proj', 'o_proj'],\n",
    "    lora_dropout = 0.05, # dropout probability of the LoRA layers\n",
    "    bias = 'none', # wether to train bias weights, set to 'none' for attention layers\n",
    "    task_type = 'SEQ_CLS'\n",
    ")"
   ]
  },
  {
   "cell_type": "code",
   "execution_count": null,
   "metadata": {
    "trusted": true
   },
   "outputs": [],
   "source": [
    "tokenizer = AutoTokenizer.from_pretrained(model_card, add_prefix_space=True)\n",
    "model = AutoModelForSequenceClassification.from_pretrained(\n",
    "    model_card,\n",
    "    quantization_config=quantization_config,\n",
    "    num_labels=2,\n",
    "    id2label={0: 'OBJ', 1: 'SUBJ'}, \n",
    "    label2id={'OBJ': 0, 'SUBJ': 1},\n",
    "    output_attentions = False,\n",
    "    output_hidden_states = False\n",
    ")\n",
    "\n",
    "tokenizer.pad_token_id = tokenizer.eos_token_id\n",
    "tokenizer.pad_token = tokenizer.eos_token"
   ]
  },
  {
   "cell_type": "code",
   "execution_count": null,
   "metadata": {
    "trusted": true
   },
   "outputs": [],
   "source": [
    "model = prepare_model_for_kbit_training(model)\n",
    "model"
   ]
  },
  {
   "cell_type": "code",
   "execution_count": null,
   "metadata": {
    "trusted": true
   },
   "outputs": [],
   "source": [
    "model = get_peft_model(model, lora_config)\n",
    "model"
   ]
  },
  {
   "cell_type": "code",
   "execution_count": null,
   "metadata": {
    "trusted": true
   },
   "outputs": [],
   "source": [
    "model.config.pad_token_id = tokenizer.pad_token_id\n",
    "model.config.use_cache = False\n",
    "model.config.pretraining_tp = 1"
   ]
  },
  {
   "cell_type": "code",
   "execution_count": null,
   "metadata": {
    "trusted": true
   },
   "outputs": [],
   "source": [
    "language = 'english'\n",
    "\n",
    "epochs = 6\n",
    "batch_size = 16\n",
    "lr = 1e-4\n",
    "weight_decay = 0.0\n",
    "\n",
    "train_data = Dataset.from_pandas(detector.all_data[language]['train'])\n",
    "dev_data = Dataset.from_pandas(detector.all_data[language]['dev'])\n",
    "test_data = Dataset.from_pandas(detector.all_data[language]['test'])\n",
    "\n",
    "train_data = train_data.map(tokenize_text, batched=True)\n",
    "dev_data = dev_data.map(tokenize_text, batched=True)\n",
    "test_data = test_data.map(tokenize_text, batched=True)\n",
    "\n",
    "collator_fn = DataCollatorWithPadding(tokenizer=tokenizer)\n",
    "\n",
    "class_weights = detector.get_class_weights(detector.all_data[language]['train'])"
   ]
  },
  {
   "cell_type": "code",
   "execution_count": null,
   "metadata": {
    "trusted": true
   },
   "outputs": [],
   "source": [
    "# Define training args\n",
    "training_args = TrainingArguments(\n",
    "    output_dir=f\"Llama-3.2-1B-subjectivity-{language}\",\n",
    "    per_device_train_batch_size=batch_size,\n",
    "    per_device_eval_batch_size=batch_size,\n",
    "    learning_rate=lr,\n",
    "    num_train_epochs=epochs,\n",
    "    weight_decay=weight_decay,\n",
    "    eval_strategy=\"epoch\",\n",
    "    save_strategy=\"epoch\",\n",
    "    save_total_limit=1,\n",
    "    #warmup_ratio=0.5,\n",
    "    load_best_model_at_end=True,\n",
    "    metric_for_best_model=\"eval_loss\",\n",
    "    greater_is_better=False,\n",
    "    report_to=\"none\"\n",
    ")"
   ]
  },
  {
   "cell_type": "code",
   "execution_count": null,
   "metadata": {
    "trusted": true
   },
   "outputs": [],
   "source": [
    "trainer = CustomTrainer(\n",
    "    model = model,\n",
    "    args = training_args,\n",
    "    train_dataset = train_data,\n",
    "    eval_dataset = dev_data,\n",
    "    data_collator = collator_fn,\n",
    "    compute_metrics = evaluate_metrics,\n",
    "    class_weights=class_weights,\n",
    ")"
   ]
  },
  {
   "cell_type": "code",
   "execution_count": null,
   "metadata": {
    "trusted": true
   },
   "outputs": [],
   "source": [
    "trainer.train()"
   ]
  },
  {
   "cell_type": "code",
   "execution_count": null,
   "metadata": {
    "trusted": true
   },
   "outputs": [],
   "source": [
    "pred_info = trainer.predict(test_data)\n",
    "\n",
    "predictions, labels = pred_info.predictions, pred_info.label_ids\n",
    "\n",
    "acc = accuracy_score(labels, predictions)\n",
    "m_prec, m_rec, m_f1, m_s = precision_recall_fscore_support(labels, predictions, average=\"macro\",\n",
    "                                                            zero_division=0)\n",
    "p_prec, p_rec, p_f1, p_s = precision_recall_fscore_support(labels, predictions, labels=[1],\n",
    "                                                            zero_division=0)\n",
    "stats = {\n",
    "        'macro_F1': m_f1,\n",
    "        'macro_P': m_prec,\n",
    "        'macro_R': m_rec,\n",
    "        'SUBJ_F1': p_f1[0],\n",
    "        'SUBJ_P': p_prec[0],\n",
    "        'SUBJ_R': p_rec[0],\n",
    "        'accuracy': acc\n",
    "    }\n",
    "\n",
    "print(stats)\n",
    "results[f\"llama3.2-1B-{language}\"] = stats\n",
    "\n",
    "cm = confusion_matrix(labels, predictions, normalize='all')\n",
    "ConfusionMatrixDisplay(cm, display_labels=['OBJ', 'SUBJ']).plot()\n",
    "plt.title(f\"Confusion Matrix ({language})\")\n",
    "plt.show()"
   ]
  },
  {
   "cell_type": "markdown",
   "metadata": {},
   "source": [
    "---"
   ]
  },
  {
   "cell_type": "markdown",
   "metadata": {},
   "source": [
    "# Deepseek-llm-7b-base"
   ]
  },
  {
   "cell_type": "code",
   "execution_count": null,
   "metadata": {
    "trusted": true
   },
   "outputs": [],
   "source": [
    "with torch.no_grad():\n",
    "    torch.cuda.empty_cache()\n",
    "\n",
    "if 'model' in locals() or 'model' in globals():\n",
    "    del model\n",
    "    print(\"Model deleted!\")\n",
    "\n",
    "gc.collect()"
   ]
  },
  {
   "cell_type": "code",
   "execution_count": null,
   "metadata": {
    "trusted": true
   },
   "outputs": [],
   "source": [
    "model_card = \"deepseek-ai/deepseek-llm-7b-base\""
   ]
  },
  {
   "cell_type": "code",
   "execution_count": null,
   "metadata": {
    "trusted": true
   },
   "outputs": [],
   "source": [
    "quantization_config = BitsAndBytesConfig(\n",
    "    load_in_4bit = True, # enable 4-bit quantization\n",
    "    bnb_4bit_quant_type = 'nf4', # information theoretically optimal dtype for normally distributed weights\n",
    "    bnb_4bit_use_double_quant = True, # quantize quantized weights\n",
    "    bnb_4bit_compute_dtype = torch.bfloat16 # optimized fp format for ML\n",
    ")\n",
    "\n",
    "lora_config = LoraConfig(\n",
    "    r = 8, # the dimension of the low-rank matrices\n",
    "    lora_alpha = 32, # scaling factor for LoRA activations vs pre-trained weight activations\n",
    "    target_modules = ['q_proj', 'k_proj', 'v_proj', 'o_proj'],\n",
    "    lora_dropout = 0.05, # dropout probability of the LoRA layers\n",
    "    bias = 'none', # wether to train bias weights, set to 'none' for attention layers\n",
    "    task_type = 'SEQ_CLS'\n",
    ")"
   ]
  },
  {
   "cell_type": "code",
   "execution_count": null,
   "metadata": {
    "trusted": true
   },
   "outputs": [],
   "source": [
    "tokenizer = AutoTokenizer.from_pretrained(model_card)\n",
    "model = AutoModelForSequenceClassification.from_pretrained(\n",
    "    model_card,\n",
    "    quantization_config=quantization_config,\n",
    "    num_labels=2,\n",
    "    id2label={0: 'OBJ', 1: 'SUBJ'}, \n",
    "    label2id={'OBJ': 0, 'SUBJ': 1},\n",
    "    output_attentions = False,\n",
    "    output_hidden_states = False\n",
    ")\n",
    "\n",
    "tokenizer.pad_token_id = tokenizer.eos_token_id\n",
    "tokenizer.pad_token = tokenizer.eos_token"
   ]
  },
  {
   "cell_type": "code",
   "execution_count": null,
   "metadata": {
    "trusted": true
   },
   "outputs": [],
   "source": [
    "model = get_peft_model(model, lora_config)\n",
    "model"
   ]
  },
  {
   "cell_type": "code",
   "execution_count": null,
   "metadata": {
    "trusted": true
   },
   "outputs": [],
   "source": [
    "model.config.pad_token_id = tokenizer.pad_token_id\n",
    "model.config.use_cache = False\n",
    "model.config.pretraining_tp = 1"
   ]
  },
  {
   "cell_type": "code",
   "execution_count": null,
   "metadata": {
    "trusted": true
   },
   "outputs": [],
   "source": [
    "language = 'english'\n",
    "\n",
    "epochs = 6\n",
    "batch_size = 4\n",
    "lr = 1e-4\n",
    "weight_decay = 0.0\n",
    "\n",
    "train_data = Dataset.from_pandas(detector.all_data[language]['train'])\n",
    "dev_data = Dataset.from_pandas(detector.all_data[language]['dev'])\n",
    "test_data = Dataset.from_pandas(detector.all_data[language]['test'])\n",
    "\n",
    "train_data = train_data.map(tokenize_text, batched=True)\n",
    "dev_data = dev_data.map(tokenize_text, batched=True)\n",
    "test_data = test_data.map(tokenize_text, batched=True)\n",
    "\n",
    "collator_fn = DataCollatorWithPadding(tokenizer=tokenizer)\n",
    "\n",
    "class_weights = detector.get_class_weights(detector.all_data[language]['train'])"
   ]
  },
  {
   "cell_type": "code",
   "execution_count": null,
   "metadata": {
    "trusted": true
   },
   "outputs": [],
   "source": [
    "# Define training args\n",
    "training_args = TrainingArguments(\n",
    "    output_dir=f\"deepseek-llm-7b-base-subjectivity-{language}\",\n",
    "    per_device_train_batch_size=batch_size,\n",
    "    per_device_eval_batch_size=batch_size,\n",
    "    #gradient_accumulation_steps=16,\n",
    "    learning_rate=lr,\n",
    "    num_train_epochs=epochs,\n",
    "    #weight_decay=weight_decay,\n",
    "    eval_strategy=\"epoch\",\n",
    "    save_strategy=\"epoch\",\n",
    "    save_total_limit=1,\n",
    "    #warmup_ratio=0.5,\n",
    "    load_best_model_at_end=True,\n",
    "    metric_for_best_model=\"macro_F1\",\n",
    "    report_to=\"none\"\n",
    ")"
   ]
  },
  {
   "cell_type": "code",
   "execution_count": null,
   "metadata": {
    "trusted": true
   },
   "outputs": [],
   "source": [
    "trainer = CustomTrainer(\n",
    "    model = model,\n",
    "    args = training_args,\n",
    "    train_dataset = train_data,\n",
    "    eval_dataset = dev_data,\n",
    "    data_collator = collator_fn,\n",
    "    compute_metrics = evaluate_metrics,\n",
    "    class_weights=class_weights,\n",
    "    weights_dtype=torch.float16,\n",
    ")"
   ]
  },
  {
   "cell_type": "code",
   "execution_count": null,
   "metadata": {
    "trusted": true
   },
   "outputs": [],
   "source": [
    "trainer.train()"
   ]
  },
  {
   "cell_type": "code",
   "execution_count": null,
   "metadata": {
    "trusted": true
   },
   "outputs": [],
   "source": [
    "pred_info = trainer.predict(test_data)\n",
    "\n",
    "predictions, labels = pred_info.predictions, pred_info.label_ids\n",
    "\n",
    "acc = accuracy_score(labels, predictions)\n",
    "m_prec, m_rec, m_f1, m_s = precision_recall_fscore_support(labels, predictions, average=\"macro\",\n",
    "                                                            zero_division=0)\n",
    "p_prec, p_rec, p_f1, p_s = precision_recall_fscore_support(labels, predictions, labels=[1],\n",
    "                                                            zero_division=0)\n",
    "stats = {\n",
    "        'macro_F1': m_f1,\n",
    "        'macro_P': m_prec,\n",
    "        'macro_R': m_rec,\n",
    "        'SUBJ_F1': p_f1[0],\n",
    "        'SUBJ_P': p_prec[0],\n",
    "        'SUBJ_R': p_rec[0],\n",
    "        'accuracy': acc\n",
    "    }\n",
    "\n",
    "print(stats)\n",
    "results[f\"deepseek-llm-7b-{language}\"] = stats\n",
    "\n",
    "cm = confusion_matrix(labels, predictions, normalize='all')\n",
    "ConfusionMatrixDisplay(cm, display_labels=['OBJ', 'SUBJ']).plot()\n",
    "plt.title(f\"Confusion Matrix ({language})\")\n",
    "plt.show()"
   ]
  },
  {
   "cell_type": "markdown",
   "metadata": {},
   "source": [
    "# Test - Translating Arab to English"
   ]
  },
  {
   "cell_type": "code",
   "execution_count": null,
   "metadata": {
    "trusted": true
   },
   "outputs": [],
   "source": [
    "with torch.no_grad():\n",
    "    torch.cuda.empty_cache()\n",
    "\n",
    "if 'model' in locals() or 'model' in globals():\n",
    "    del model\n",
    "    print(\"Model deleted!\")\n",
    "\n",
    "gc.collect()"
   ]
  },
  {
   "cell_type": "code",
   "execution_count": null,
   "metadata": {
    "trusted": true
   },
   "outputs": [],
   "source": [
    "model_card = \"answerdotai/ModernBERT-base\"\n",
    "tokenizer = detector.get_tokenizer(model_card=model_card)\n",
    "model = AutoModelForSequenceClassification.from_pretrained(\n",
    "    model_card, \n",
    "    num_labels=2, \n",
    "    id2label={0: 'OBJ', 1: 'SUBJ'}, \n",
    "    label2id={'OBJ': 0, 'SUBJ': 1},\n",
    "    output_attentions = False,\n",
    "    output_hidden_states = False\n",
    ")"
   ]
  },
  {
   "cell_type": "code",
   "execution_count": null,
   "metadata": {
    "trusted": true
   },
   "outputs": [],
   "source": [
    "language = 'italian'"
   ]
  },
  {
   "cell_type": "code",
   "execution_count": null,
   "metadata": {
    "trusted": true
   },
   "outputs": [],
   "source": [
    "!ct2-transformers-converter --model Helsinki-NLP/opus-mt-it-en --output_dir opus-mt-it-en"
   ]
  },
  {
   "cell_type": "code",
   "execution_count": null,
   "metadata": {
    "trusted": true
   },
   "outputs": [],
   "source": [
    "import ctranslate2\n",
    "import transformers\n",
    "\n",
    "translator = ctranslate2.Translator(\"opus-mt-it-en\", device='cuda')\n",
    "tokenizer = transformers.AutoTokenizer.from_pretrained(\"Helsinki-NLP/opus-mt-it-en\")\n",
    "\n",
    "def translate_text(raw_text):\n",
    "    source = tokenizer.convert_ids_to_tokens(tokenizer.encode(raw_text))\n",
    "    results = translator.translate_batch([source])\n",
    "    target = results[0].hypotheses[0]\n",
    "    translation = tokenizer.decode(tokenizer.convert_tokens_to_ids(target))\n",
    "    return translation\n",
    "\n",
    "tqdm.pandas() # display tqdm on pandas apply functions"
   ]
  },
  {
   "cell_type": "code",
   "execution_count": null,
   "metadata": {
    "trusted": true
   },
   "outputs": [],
   "source": [
    "detector.all_data[language]['train']['translated_sentence'] = detector.all_data[language]['train']['sentence'].progress_apply(translate_text)"
   ]
  },
  {
   "cell_type": "code",
   "execution_count": null,
   "metadata": {
    "trusted": true
   },
   "outputs": [],
   "source": [
    "detector.all_data[language]['dev']['translated_sentence'] = detector.all_data[language]['dev']['sentence'].progress_apply(translate_text)"
   ]
  },
  {
   "cell_type": "code",
   "execution_count": null,
   "metadata": {
    "trusted": true
   },
   "outputs": [],
   "source": [
    "detector.all_data[language]['test']['translated_sentence'] = detector.all_data[language]['test']['sentence'].progress_apply(translate_text)"
   ]
  },
  {
   "cell_type": "code",
   "execution_count": null,
   "metadata": {
    "trusted": true
   },
   "outputs": [],
   "source": [
    "detector.all_data[language]['train'].to_csv('/kaggle/working/train_it.csv')\n",
    "detector.all_data[language]['dev'].to_csv('/kaggle/working/dev_it.csv')\n",
    "detector.all_data[language]['test'].to_csv('/kaggle/working/dev_test_it.csv')"
   ]
  },
  {
   "cell_type": "code",
   "execution_count": null,
   "metadata": {
    "trusted": true
   },
   "outputs": [],
   "source": [
    "detector.all_data[language]['train'] = pd.read_csv('/kaggle/working/train_it.csv')\n",
    "detector.all_data[language]['dev'] = pd.read_csv('/kaggle/working/dev_it.csv')\n",
    "detector.all_data[language]['test'] = pd.read_csv('/kaggle/working/dev_test_it.csv')"
   ]
  },
  {
   "cell_type": "code",
   "execution_count": null,
   "metadata": {
    "trusted": true
   },
   "outputs": [],
   "source": [
    "epochs = 6\n",
    "batch_size = 16\n",
    "lr = 6e-5\n",
    "weight_decay = 0.0\n",
    "\n",
    "train_data = Dataset.from_pandas(detector.all_data[language]['train'])\n",
    "dev_data = Dataset.from_pandas(detector.all_data[language]['dev'])\n",
    "test_data = Dataset.from_pandas(detector.all_data[language]['test'])\n",
    "\n",
    "def tokenize_text(texts):\n",
    "    return tokenizer(texts['translated_sentence'], padding=True, truncation=True, max_length=256, return_tensors='pt')\n",
    "\n",
    "train_data = train_data.map(tokenize_text, batched=True)\n",
    "dev_data = dev_data.map(tokenize_text, batched=True)\n",
    "test_data = test_data.map(tokenize_text, batched=True)\n",
    "\n",
    "collator_fn = DataCollatorWithPadding(tokenizer=tokenizer)\n",
    "\n",
    "class_weights = detector.get_class_weights(detector.all_data[language]['train'])"
   ]
  },
  {
   "cell_type": "code",
   "execution_count": null,
   "metadata": {
    "trusted": true
   },
   "outputs": [],
   "source": [
    "# Define training args\n",
    "training_args = TrainingArguments(\n",
    "    output_dir=f\"ModernBERT-base-subjectivity-{language}\",\n",
    "    per_device_train_batch_size=batch_size,\n",
    "    per_device_eval_batch_size=batch_size,\n",
    "    learning_rate=lr,\n",
    "    num_train_epochs=epochs,\n",
    "    weight_decay=weight_decay,\n",
    "    eval_strategy=\"epoch\",\n",
    "    save_strategy=\"epoch\",\n",
    "    save_total_limit=1,\n",
    "    #warmup_ratio=0.5,\n",
    "    load_best_model_at_end=True,\n",
    "    metric_for_best_model=\"macro_F1\",\n",
    "    report_to=\"none\"\n",
    ")"
   ]
  },
  {
   "cell_type": "code",
   "execution_count": null,
   "metadata": {
    "trusted": true
   },
   "outputs": [],
   "source": [
    "trainer = CustomTrainer(\n",
    "    model = model,\n",
    "    args = training_args,\n",
    "    train_dataset = train_data,\n",
    "    eval_dataset = dev_data,\n",
    "    data_collator = collator_fn,\n",
    "    compute_metrics = evaluate_metrics,\n",
    "    class_weights=class_weights,\n",
    "    weights_dtype=torch.float32,\n",
    ")"
   ]
  },
  {
   "cell_type": "code",
   "execution_count": null,
   "metadata": {
    "trusted": true
   },
   "outputs": [],
   "source": [
    "trainer.train()"
   ]
  },
  {
   "cell_type": "code",
   "execution_count": null,
   "metadata": {
    "trusted": true
   },
   "outputs": [],
   "source": [
    "predictions, labels, _ = trainer.predict(test_data)\n",
    "evaluate_metrics((predictions, labels))"
   ]
  },
  {
   "cell_type": "markdown",
   "metadata": {},
   "source": [
    "---"
   ]
  },
  {
   "cell_type": "markdown",
   "metadata": {},
   "source": [
    "# ModernBERT-base (english + sentiment)"
   ]
  },
  {
   "cell_type": "code",
   "execution_count": null,
   "metadata": {
    "trusted": true
   },
   "outputs": [],
   "source": [
    "with torch.no_grad():\n",
    "    torch.cuda.empty_cache()\n",
    "\n",
    "if 'model' in locals() or 'model' in globals():\n",
    "    del model\n",
    "    print(\"Model deleted!\")\n",
    "\n",
    "gc.collect()"
   ]
  },
  {
   "cell_type": "code",
   "execution_count": null,
   "metadata": {
    "trusted": true
   },
   "outputs": [],
   "source": [
    "class CustomModel(nn.Module):\n",
    "    def __init__(self, model_name=\"microsoft/mdeberta-v3-base\", num_labels=2, sentiment_dim=3):\n",
    "        super().__init__()\n",
    "        self.model = ModernBertModel.from_pretrained(model_name)\n",
    "        self.config = ModernBertConfig\n",
    "        hidden_size = self.model.config.hidden_size\n",
    "  \n",
    "        self.classifier = nn.Sequential(\n",
    "            nn.Linear(hidden_size + sentiment_dim, 256),\n",
    "            nn.LeakyReLU(),\n",
    "            nn.Dropout(0.1),\n",
    "            nn.Linear(256, num_labels)\n",
    "        )\n",
    "\n",
    "    def forward(self, input_ids, positive, neutral, negative, attention_mask=None, labels=None):\n",
    "        outputs = self.model(input_ids=input_ids, attention_mask=attention_mask)\n",
    "        last_hidden_state = outputs.last_hidden_state  # Shape: (batch_size, seq_len, hidden_size)\n",
    "        cls_embedding = last_hidden_state[:, 0, :]  # Get CLS token embedding\n",
    "        \n",
    "        # Sentiment features as a single tensor\n",
    "        sentiment_features = torch.stack((positive, neutral, negative), dim=1)  # Shape: (batch_size, 3)\n",
    "        \n",
    "        # Combine CLS embedding with sentiment features\n",
    "        combined_features = torch.cat((cls_embedding, sentiment_features), dim=1)\n",
    "        \n",
    "        # Classification head\n",
    "        logits = self.classifier(combined_features)\n",
    "        \n",
    "        return {'logits': logits}"
   ]
  },
  {
   "cell_type": "code",
   "execution_count": null,
   "metadata": {
    "trusted": true
   },
   "outputs": [],
   "source": [
    "language = 'english'\n",
    "\n",
    "epochs = 6\n",
    "batch_size = 16\n",
    "lr = 1e-5\n",
    "weight_decay = 0.0"
   ]
  },
  {
   "cell_type": "code",
   "execution_count": null,
   "metadata": {},
   "outputs": [],
   "source": [
    "model_card = \"answerdotai/ModernBERT-base\"\n",
    "tokenizer = detector.get_tokenizer(model_card=model_card)\n",
    "model = CustomModel(\n",
    "    model_name=f\"MatteoFasulo/ModernBERT-base-subjectivity-sentiment-{language}\", \n",
    "    num_labels=2, \n",
    "    sentiment_dim=3,\n",
    "    id2label={0: 'OBJ', 1: 'SUBJ'}, \n",
    "    label2id={'OBJ': 0, 'SUBJ': 1},\n",
    "    output_attentions = False,\n",
    "    output_hidden_states = False\n",
    ")"
   ]
  },
  {
   "cell_type": "code",
   "execution_count": null,
   "metadata": {
    "trusted": true
   },
   "outputs": [],
   "source": [
    "pipe = pipeline(\"sentiment-analysis\", model=\"cardiffnlp/twitter-xlm-roberta-base-sentiment\", tokenizer=\"cardiffnlp/twitter-xlm-roberta-base-sentiment\", top_k=None)\n",
    "\n",
    "def extract_sentiment(text):\n",
    "    sentiments = pipe(text)[0]\n",
    "    return {k:v for k,v in [(list(sentiment.values())[0], list(sentiment.values())[1]) for sentiment in sentiments]}\n",
    "\n",
    "detector.all_data[language]['train'][['positive', 'neutral', 'negative']] = detector.all_data[language]['train'].progress_apply(lambda x: extract_sentiment(x['sentence']), axis=1, result_type='expand')\n",
    "detector.all_data[language]['dev'][['positive', 'neutral', 'negative']] = detector.all_data[language]['dev'].progress_apply(lambda x: extract_sentiment(x['sentence']), axis=1, result_type='expand')\n",
    "detector.all_data[language]['test'][['positive', 'neutral', 'negative']] = detector.all_data[language]['test'].progress_apply(lambda x: extract_sentiment(x['sentence']), axis=1, result_type='expand')"
   ]
  },
  {
   "cell_type": "code",
   "execution_count": null,
   "metadata": {
    "trusted": true
   },
   "outputs": [],
   "source": [
    "train_data = Dataset.from_pandas(detector.all_data[language]['train'])\n",
    "dev_data = Dataset.from_pandas(detector.all_data[language]['dev'])\n",
    "test_data = Dataset.from_pandas(detector.all_data[language]['test'])\n",
    "\n",
    "train_data = train_data.map(tokenize_text, batched=True)\n",
    "dev_data = dev_data.map(tokenize_text, batched=True)\n",
    "test_data = test_data.map(tokenize_text, batched=True)\n",
    "\n",
    "collator_fn = DataCollatorWithPadding(tokenizer=tokenizer)\n",
    "\n",
    "class_weights = detector.get_class_weights(detector.all_data[language]['train'])"
   ]
  },
  {
   "cell_type": "code",
   "execution_count": null,
   "metadata": {
    "trusted": true
   },
   "outputs": [],
   "source": [
    "# Define training args\n",
    "training_args = TrainingArguments(\n",
    "    output_dir=f\"ModernBERT-base-subjectivity-sentiment-{language}\",\n",
    "    per_device_train_batch_size=batch_size,\n",
    "    per_device_eval_batch_size=batch_size,\n",
    "    learning_rate=lr,\n",
    "    num_train_epochs=epochs,\n",
    "    weight_decay=weight_decay,\n",
    "    eval_strategy=\"epoch\",\n",
    "    save_strategy=\"epoch\",\n",
    "    save_total_limit=1,\n",
    "    #warmup_ratio=0.5,\n",
    "    load_best_model_at_end=True,\n",
    "    metric_for_best_model=\"eval_loss\",\n",
    "    greater_is_better=False,\n",
    "    report_to=\"none\"\n",
    ")"
   ]
  },
  {
   "cell_type": "code",
   "execution_count": null,
   "metadata": {
    "trusted": true
   },
   "outputs": [],
   "source": [
    "trainer = CustomTrainer(\n",
    "    model = model,\n",
    "    args = training_args,\n",
    "    train_dataset = train_data,\n",
    "    eval_dataset = dev_data,\n",
    "    data_collator = collator_fn,\n",
    "    compute_metrics = evaluate_metrics,\n",
    "    class_weights=class_weights,\n",
    ")"
   ]
  },
  {
   "cell_type": "code",
   "execution_count": null,
   "metadata": {
    "trusted": true
   },
   "outputs": [],
   "source": [
    "pred_info = trainer.predict(test_data)\n",
    "\n",
    "predictions, labels = pred_info.predictions, pred_info.label_ids\n",
    "\n",
    "acc = accuracy_score(labels, predictions)\n",
    "m_prec, m_rec, m_f1, m_s = precision_recall_fscore_support(labels, predictions, average=\"macro\",\n",
    "                                                            zero_division=0)\n",
    "p_prec, p_rec, p_f1, p_s = precision_recall_fscore_support(labels, predictions, labels=[1],\n",
    "                                                            zero_division=0)\n",
    "stats = {\n",
    "        'macro_F1': m_f1,\n",
    "        'macro_P': m_prec,\n",
    "        'macro_R': m_rec,\n",
    "        'SUBJ_F1': p_f1[0],\n",
    "        'SUBJ_P': p_prec[0],\n",
    "        'SUBJ_R': p_rec[0],\n",
    "        'accuracy': acc\n",
    "    }\n",
    "\n",
    "print(stats)\n",
    "results[f\"{language}-sentiment\"] = stats\n",
    "\n",
    "cm = confusion_matrix(labels, predictions, normalize='all')\n",
    "ConfusionMatrixDisplay(cm, display_labels=['OBJ', 'SUBJ']).plot()\n",
    "plt.title(f\"Confusion Matrix ({language}-sentiment)\")\n",
    "plt.show()"
   ]
  },
  {
   "cell_type": "markdown",
   "metadata": {},
   "source": [
    "---"
   ]
  },
  {
   "cell_type": "markdown",
   "metadata": {},
   "source": [
    "# mdeberta-v3-base (german + sentiment)"
   ]
  },
  {
   "cell_type": "code",
   "execution_count": null,
   "metadata": {
    "trusted": true
   },
   "outputs": [],
   "source": [
    "with torch.no_grad():\n",
    "    torch.cuda.empty_cache()\n",
    "\n",
    "if 'model' in locals() or 'model' in globals():\n",
    "    del model\n",
    "    print(\"Model deleted!\")\n",
    "\n",
    "gc.collect()"
   ]
  },
  {
   "cell_type": "code",
   "execution_count": null,
   "metadata": {
    "trusted": true
   },
   "outputs": [],
   "source": [
    "class CustomModel(nn.Module):\n",
    "    def __init__(self, model_name=\"microsoft/mdeberta-v3-base\", num_labels=2, sentiment_dim=3):\n",
    "        super().__init__()\n",
    "        self.model = DebertaV2Model.from_pretrained(model_name)\n",
    "        self.config = DebertaV2Config\n",
    "        hidden_size = self.model.config.hidden_size\n",
    "        self.classifier = nn.Sequential(\n",
    "            nn.Linear(hidden_size + sentiment_dim, 256),\n",
    "            nn.ReLU(),\n",
    "            nn.Dropout(0.1),\n",
    "            nn.Linear(256, num_labels)\n",
    "        )\n",
    "\n",
    "    def forward(self, input_ids, positive, neutral, negative, attention_mask=None, labels=None):\n",
    "        outputs = self.model(input_ids=input_ids, attention_mask=attention_mask)\n",
    "        last_hidden_state = outputs.last_hidden_state  # Shape: (batch_size, seq_len, hidden_size)\n",
    "        pooled_output = last_hidden_state[:, 0, :]  # Prendiamo il token [CLS] (prima posizione)\n",
    "        \n",
    "        # Concatenate with sentiment features\n",
    "        positive = positive.unsqueeze(1)\n",
    "        neutral = neutral.unsqueeze(1)\n",
    "        negative = negative.unsqueeze(1)\n",
    "        sentiment_features = torch.cat((positive, neutral, negative), dim=1)\n",
    "        combined_features = torch.cat((pooled_output, sentiment_features), dim=1)\n",
    "        \n",
    "        # Pass through custom classification head\n",
    "        logits = self.classifier(combined_features)\n",
    "        \n",
    "        return {'logits': logits}"
   ]
  },
  {
   "cell_type": "code",
   "execution_count": null,
   "metadata": {},
   "outputs": [],
   "source": [
    "language = 'german'\n",
    "\n",
    "epochs = 6\n",
    "batch_size = 16\n",
    "lr = 1e-5\n",
    "weight_decay = 0.0"
   ]
  },
  {
   "cell_type": "code",
   "execution_count": null,
   "metadata": {
    "trusted": true
   },
   "outputs": [],
   "source": [
    "model_card = \"microsoft/mdeberta-v3-base\"\n",
    "tokenizer = detector.get_tokenizer(model_card=model_card)\n",
    "model = CustomModel(\n",
    "    model_name=f\"MatteoFasulo/mdeberta-v3-base-subjectivity-sentiment-{language}\", \n",
    "    num_labels=2, \n",
    "    sentiment_dim=3,\n",
    "    id2label={0: 'OBJ', 1: 'SUBJ'}, \n",
    "    label2id={'OBJ': 0, 'SUBJ': 1},\n",
    "    output_attentions = False,\n",
    "    output_hidden_states = False\n",
    ")"
   ]
  },
  {
   "cell_type": "code",
   "execution_count": null,
   "metadata": {
    "trusted": true
   },
   "outputs": [],
   "source": [
    "pipe = pipeline(\"sentiment-analysis\", model=\"cardiffnlp/twitter-xlm-roberta-base-sentiment\", tokenizer=\"cardiffnlp/twitter-xlm-roberta-base-sentiment\", top_k=None)\n",
    "\n",
    "def extract_sentiment(text):\n",
    "    sentiments = pipe(text)[0]\n",
    "    return {k:v for k,v in [(list(sentiment.values())[0], list(sentiment.values())[1]) for sentiment in sentiments]}\n",
    "\n",
    "detector.all_data[language]['train'][['positive', 'neutral', 'negative']] = detector.all_data[language]['train'].progress_apply(lambda x: extract_sentiment(x['sentence']), axis=1, result_type='expand')\n",
    "detector.all_data[language]['dev'][['positive', 'neutral', 'negative']] = detector.all_data[language]['dev'].progress_apply(lambda x: extract_sentiment(x['sentence']), axis=1, result_type='expand')\n",
    "detector.all_data[language]['test'][['positive', 'neutral', 'negative']] = detector.all_data[language]['test'].progress_apply(lambda x: extract_sentiment(x['sentence']), axis=1, result_type='expand')"
   ]
  },
  {
   "cell_type": "code",
   "execution_count": null,
   "metadata": {
    "trusted": true
   },
   "outputs": [],
   "source": [
    "train_data = Dataset.from_pandas(detector.all_data[language]['train'])\n",
    "dev_data = Dataset.from_pandas(detector.all_data[language]['dev'])\n",
    "test_data = Dataset.from_pandas(detector.all_data[language]['test'])\n",
    "\n",
    "train_data = train_data.map(tokenize_text, batched=True)\n",
    "dev_data = dev_data.map(tokenize_text, batched=True)\n",
    "test_data = test_data.map(tokenize_text, batched=True)\n",
    "\n",
    "collator_fn = DataCollatorWithPadding(tokenizer=tokenizer)\n",
    "\n",
    "class_weights = detector.get_class_weights(detector.all_data[language]['train'])"
   ]
  },
  {
   "cell_type": "code",
   "execution_count": null,
   "metadata": {
    "trusted": true
   },
   "outputs": [],
   "source": [
    "# Define training args\n",
    "training_args = TrainingArguments(\n",
    "    output_dir=f\"mdeberta-v3-base-subjectivity-sentiment-{language}\",\n",
    "    per_device_train_batch_size=batch_size,\n",
    "    per_device_eval_batch_size=batch_size,\n",
    "    learning_rate=lr,\n",
    "    num_train_epochs=epochs,\n",
    "    weight_decay=weight_decay,\n",
    "    eval_strategy=\"epoch\",\n",
    "    save_strategy=\"epoch\",\n",
    "    save_total_limit=1,\n",
    "    #warmup_ratio=0.5,\n",
    "    load_best_model_at_end=True,\n",
    "    metric_for_best_model=\"eval_loss\",\n",
    "    greater_is_better=False,\n",
    "    report_to=\"none\"\n",
    ")"
   ]
  },
  {
   "cell_type": "code",
   "execution_count": null,
   "metadata": {
    "trusted": true
   },
   "outputs": [],
   "source": [
    "trainer = CustomTrainer(\n",
    "    model = model,\n",
    "    args = training_args,\n",
    "    train_dataset = train_data,\n",
    "    eval_dataset = dev_data,\n",
    "    data_collator = collator_fn,\n",
    "    compute_metrics = evaluate_metrics,\n",
    "    class_weights=class_weights,\n",
    ")"
   ]
  },
  {
   "cell_type": "code",
   "execution_count": null,
   "metadata": {
    "trusted": true
   },
   "outputs": [],
   "source": [
    "pred_info = trainer.predict(test_data)\n",
    "\n",
    "predictions, labels = pred_info.predictions, pred_info.label_ids\n",
    "\n",
    "acc = accuracy_score(labels, predictions)\n",
    "m_prec, m_rec, m_f1, m_s = precision_recall_fscore_support(labels, predictions, average=\"macro\",\n",
    "                                                            zero_division=0)\n",
    "p_prec, p_rec, p_f1, p_s = precision_recall_fscore_support(labels, predictions, labels=[1],\n",
    "                                                            zero_division=0)\n",
    "stats = {\n",
    "        'macro_F1': m_f1,\n",
    "        'macro_P': m_prec,\n",
    "        'macro_R': m_rec,\n",
    "        'SUBJ_F1': p_f1[0],\n",
    "        'SUBJ_P': p_prec[0],\n",
    "        'SUBJ_R': p_rec[0],\n",
    "        'accuracy': acc\n",
    "    }\n",
    "\n",
    "print(stats)\n",
    "results[f\"{language}-sentiment\"] = stats\n",
    "\n",
    "cm = confusion_matrix(labels, predictions, normalize='all')\n",
    "ConfusionMatrixDisplay(cm, display_labels=['OBJ', 'SUBJ']).plot()\n",
    "plt.title(f\"Confusion Matrix ({language}-sentiment)\")\n",
    "plt.show()"
   ]
  },
  {
   "cell_type": "code",
   "execution_count": null,
   "metadata": {
    "trusted": true
   },
   "outputs": [],
   "source": [
    "pd.DataFrame(results).T.sort_values(by='macro_F1', ascending=False)"
   ]
  }
 ],
 "metadata": {
  "kaggle": {
   "accelerator": "gpu",
   "dataSources": [
    {
     "datasetId": 6742324,
     "isSourceIdPinned": false,
     "sourceId": 10881030,
     "sourceType": "datasetVersion"
    }
   ],
   "isGpuEnabled": true,
   "isInternetEnabled": true,
   "language": "python",
   "sourceType": "notebook"
  },
  "kernelspec": {
   "display_name": ".venv",
   "language": "python",
   "name": "python3"
  },
  "language_info": {
   "codemirror_mode": {
    "name": "ipython",
    "version": 3
   },
   "file_extension": ".py",
   "mimetype": "text/x-python",
   "name": "python",
   "nbconvert_exporter": "python",
   "pygments_lexer": "ipython3",
   "version": "3.10.15"
  }
 },
 "nbformat": 4,
 "nbformat_minor": 4
}
