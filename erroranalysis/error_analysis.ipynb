{
 "cells": [
  {
   "cell_type": "code",
   "execution_count": 1,
   "metadata": {},
   "outputs": [],
   "source": [
    "import pandas as pd\n",
    "import numpy as np"
   ]
  },
  {
   "cell_type": "code",
   "execution_count": 10,
   "metadata": {},
   "outputs": [
    {
     "data": {
      "text/html": [
       "<div>\n",
       "<style scoped>\n",
       "    .dataframe tbody tr th:only-of-type {\n",
       "        vertical-align: middle;\n",
       "    }\n",
       "\n",
       "    .dataframe tbody tr th {\n",
       "        vertical-align: top;\n",
       "    }\n",
       "\n",
       "    .dataframe thead th {\n",
       "        text-align: right;\n",
       "    }\n",
       "</style>\n",
       "<table border=\"1\" class=\"dataframe\">\n",
       "  <thead>\n",
       "    <tr style=\"text-align: right;\">\n",
       "      <th></th>\n",
       "      <th>english-sentiment-thr</th>\n",
       "      <th>english-thr</th>\n",
       "      <th>english-modern-bert-thr</th>\n",
       "      <th>true_labels</th>\n",
       "      <th>sentence</th>\n",
       "      <th>sentence_id</th>\n",
       "      <th>positive</th>\n",
       "      <th>neutral</th>\n",
       "      <th>negative</th>\n",
       "    </tr>\n",
       "  </thead>\n",
       "  <tbody>\n",
       "    <tr>\n",
       "      <th>0</th>\n",
       "      <td>0</td>\n",
       "      <td>0</td>\n",
       "      <td>0</td>\n",
       "      <td>0</td>\n",
       "      <td>Blanco established himself earlier in his care...</td>\n",
       "      <td>44f33601-157a-42ce-aa9f-0f7d305501f2</td>\n",
       "      <td>0.802878</td>\n",
       "      <td>0.178354</td>\n",
       "      <td>0.018768</td>\n",
       "    </tr>\n",
       "    <tr>\n",
       "      <th>1</th>\n",
       "      <td>0</td>\n",
       "      <td>0</td>\n",
       "      <td>0</td>\n",
       "      <td>0</td>\n",
       "      <td>RULE 13: ARTIFICIAL INTELLIGENCE  Not only thi...</td>\n",
       "      <td>6f9e0f53-f76c-432f-bbea-b78400d600b8</td>\n",
       "      <td>0.508778</td>\n",
       "      <td>0.389381</td>\n",
       "      <td>0.101840</td>\n",
       "    </tr>\n",
       "    <tr>\n",
       "      <th>2</th>\n",
       "      <td>0</td>\n",
       "      <td>0</td>\n",
       "      <td>0</td>\n",
       "      <td>0</td>\n",
       "      <td>The valuation is required by law and the figur...</td>\n",
       "      <td>61f93bdc-4c3e-4963-926c-0bbf139b44b9</td>\n",
       "      <td>0.849510</td>\n",
       "      <td>0.093090</td>\n",
       "      <td>0.057400</td>\n",
       "    </tr>\n",
       "    <tr>\n",
       "      <th>3</th>\n",
       "      <td>1</td>\n",
       "      <td>1</td>\n",
       "      <td>0</td>\n",
       "      <td>1</td>\n",
       "      <td>A sip can really hit the spot after a long bik...</td>\n",
       "      <td>902148ec-dda3-4736-b318-0f20c63a1cf3</td>\n",
       "      <td>0.220061</td>\n",
       "      <td>0.736456</td>\n",
       "      <td>0.043484</td>\n",
       "    </tr>\n",
       "    <tr>\n",
       "      <th>4</th>\n",
       "      <td>0</td>\n",
       "      <td>0</td>\n",
       "      <td>0</td>\n",
       "      <td>0</td>\n",
       "      <td>\"Lobster!\"\"\"</td>\n",
       "      <td>065b1996-4b40-4c74-9f62-afb44f69834e</td>\n",
       "      <td>0.444932</td>\n",
       "      <td>0.295773</td>\n",
       "      <td>0.259295</td>\n",
       "    </tr>\n",
       "  </tbody>\n",
       "</table>\n",
       "</div>"
      ],
      "text/plain": [
       "   english-sentiment-thr  english-thr  english-modern-bert-thr  true_labels  \\\n",
       "0                      0            0                        0            0   \n",
       "1                      0            0                        0            0   \n",
       "2                      0            0                        0            0   \n",
       "3                      1            1                        0            1   \n",
       "4                      0            0                        0            0   \n",
       "\n",
       "                                            sentence  \\\n",
       "0  Blanco established himself earlier in his care...   \n",
       "1  RULE 13: ARTIFICIAL INTELLIGENCE  Not only thi...   \n",
       "2  The valuation is required by law and the figur...   \n",
       "3  A sip can really hit the spot after a long bik...   \n",
       "4                                       \"Lobster!\"\"\"   \n",
       "\n",
       "                            sentence_id  positive   neutral  negative  \n",
       "0  44f33601-157a-42ce-aa9f-0f7d305501f2  0.802878  0.178354  0.018768  \n",
       "1  6f9e0f53-f76c-432f-bbea-b78400d600b8  0.508778  0.389381  0.101840  \n",
       "2  61f93bdc-4c3e-4963-926c-0bbf139b44b9  0.849510  0.093090  0.057400  \n",
       "3  902148ec-dda3-4736-b318-0f20c63a1cf3  0.220061  0.736456  0.043484  \n",
       "4  065b1996-4b40-4c74-9f62-afb44f69834e  0.444932  0.295773  0.259295  "
      ]
     },
     "execution_count": 10,
     "metadata": {},
     "output_type": "execute_result"
    }
   ],
   "source": [
    "df = pd.read_csv(\"predictions_to_be_compared.csv\")\n",
    "\n",
    "df.head()"
   ]
  },
  {
   "cell_type": "markdown",
   "metadata": {},
   "source": [
    "# wrong prediction per model"
   ]
  },
  {
   "cell_type": "code",
   "execution_count": 14,
   "metadata": {},
   "outputs": [],
   "source": [
    "wrong_thr = df[df[\"true_labels\"] != df[\"english-thr\"]]\n",
    "wrong_bert = df[df[\"true_labels\"] != df[\"english-modern-bert-thr\"]]\n",
    "wrong_sentiment = df[df[\"true_labels\"] != df[\"english-sentiment-thr\"]]"
   ]
  },
  {
   "cell_type": "code",
   "execution_count": 20,
   "metadata": {},
   "outputs": [
    {
     "name": "stdout",
     "output_type": "stream",
     "text": [
      "english-thr model got 115 wrong predictions\n",
      "english-modern-bert-thr model got 122 wrong predictions\n",
      "english-sentiment-thr model got 95 wrong predictions\n"
     ]
    }
   ],
   "source": [
    "print(f\"english-thr model got {len(wrong_thr)} wrong predictions\")\n",
    "print(f\"english-modern-bert-thr model got {len(wrong_bert)} wrong predictions\")\n",
    "print(f\"english-sentiment-thr model got {len(wrong_sentiment)} wrong predictions\")\n"
   ]
  },
  {
   "cell_type": "markdown",
   "metadata": {},
   "source": [
    "# What the sentiment model got right\n",
    "\n",
    "0 is objective"
   ]
  },
  {
   "cell_type": "code",
   "execution_count": 60,
   "metadata": {},
   "outputs": [
    {
     "name": "stdout",
     "output_type": "stream",
     "text": [
      "For correctly identified by sentiment but wrongly identified by english-thr\n",
      "len:  33\n",
      "\n",
      "Mean and std of positive sentiment for objective:  0.3122073923051357 - 0.20776305037590534\n",
      "Mean and std of neutral sentiment for objective:  0.33010164570063355 - 0.3149130858256417\n",
      "Mean and std of negative sentiment for objective:  0.3576909676939249 - 0.3376935205717784\n",
      "--------------------------------------------------------------------------------\n",
      "Mean and std of positive sentiment for subjective:  0.21912733651697636 - 0.17452852284221884\n",
      "Mean and std of neutral sentiment for subjective:  0.22204642510041595 - 0.3123016333364933\n",
      "Mean and std of negative sentiment for subjective:  0.5588262430392206 - 0.33341851282393653\n"
     ]
    }
   ],
   "source": [
    "new_pd = df[(df[\"true_labels\"] == df[\"english-sentiment-thr\"]) & (df[\"english-sentiment-thr\"] != df[\"english-thr\"])]\n",
    "new_pd = new_pd.drop(columns=[\"english-sentiment-thr\", \"english-thr\", \"english-modern-bert-thr\", \"sentence_id\"])\n",
    "\n",
    "print(\"For correctly identified by sentiment but wrongly identified by english-thr\")\n",
    "print(\"len: \",len(new_pd))\n",
    "print()\n",
    "print(\"Mean and std of positive sentiment for objective: \",new_pd[new_pd[\"true_labels\"] == 0][\"positive\"].mean(),\"-\",new_pd[new_pd[\"true_labels\"] == 0][\"positive\"].std())\n",
    "print(\"Mean and std of neutral sentiment for objective: \",new_pd[new_pd[\"true_labels\"] == 0][\"neutral\"].mean(),\"-\",new_pd[new_pd[\"true_labels\"] == 0][\"neutral\"].std())\n",
    "print(\"Mean and std of negative sentiment for objective: \",new_pd[new_pd[\"true_labels\"] == 0][\"negative\"].mean(),\"-\",new_pd[new_pd[\"true_labels\"] == 0][\"negative\"].std())\n",
    "print(\"-\"*80)\n",
    "print(\"Mean and std of positive sentiment for subjective: \",new_pd[new_pd[\"true_labels\"] == 1][\"positive\"].mean(),\"-\",new_pd[new_pd[\"true_labels\"] == 1][\"positive\"].std())\n",
    "print(\"Mean and std of neutral sentiment for subjective: \",new_pd[new_pd[\"true_labels\"] == 1][\"neutral\"].mean(),\"-\",new_pd[new_pd[\"true_labels\"] == 1][\"neutral\"].std())\n",
    "print(\"Mean and std of negative sentiment for subjective: \",new_pd[new_pd[\"true_labels\"] == 1][\"negative\"].mean(),\"-\",new_pd[new_pd[\"true_labels\"] == 1][\"negative\"].std())"
   ]
  },
  {
   "cell_type": "code",
   "execution_count": 61,
   "metadata": {},
   "outputs": [
    {
     "name": "stdout",
     "output_type": "stream",
     "text": [
      "For correctly identified by english-thr but wrongly identified by sentiment\n",
      "len:  13\n",
      "\n",
      "Mean and std of positive sentiment for objective:  0.278235150873661 - 0.16992509516646326\n",
      "Mean and std of neutral sentiment for objective:  0.3759236827492714 - 0.3740400781753752\n",
      "Mean and std of negative sentiment for objective:  0.345841159299016 - 0.25178095471394596\n",
      "--------------------------------------------------------------------------------\n",
      "Mean and std of positive sentiment for subjective:  0.34759716549888253 - 0.21054330490285517\n",
      "Mean and std of neutral sentiment for subjective:  0.3036887673661113 - 0.3269897061053138\n",
      "Mean and std of negative sentiment for subjective:  0.34871408762410283 - 0.2718934303939897\n"
     ]
    }
   ],
   "source": [
    "new_pd = df[(df[\"true_labels\"] != df[\"english-sentiment-thr\"]) & (df[\"true_labels\"] == df[\"english-thr\"])]\n",
    "new_pd = new_pd.drop(columns=[\"english-sentiment-thr\", \"english-thr\", \"english-modern-bert-thr\", \"sentence_id\"])\n",
    "\n",
    "print(\"For correctly identified by english-thr but wrongly identified by sentiment\")\n",
    "print(\"len: \",len(new_pd))\n",
    "print()\n",
    "print(\"Mean and std of positive sentiment for objective: \",new_pd[new_pd[\"true_labels\"] == 0][\"positive\"].mean(),\"-\",new_pd[new_pd[\"true_labels\"] == 0][\"positive\"].std())\n",
    "print(\"Mean and std of neutral sentiment for objective: \",new_pd[new_pd[\"true_labels\"] == 0][\"neutral\"].mean(),\"-\",new_pd[new_pd[\"true_labels\"] == 0][\"neutral\"].std())\n",
    "print(\"Mean and std of negative sentiment for objective: \",new_pd[new_pd[\"true_labels\"] == 0][\"negative\"].mean(),\"-\",new_pd[new_pd[\"true_labels\"] == 0][\"negative\"].std())\n",
    "print(\"-\"*80)\n",
    "print(\"Mean and std of positive sentiment for subjective: \",new_pd[new_pd[\"true_labels\"] == 1][\"positive\"].mean(),\"-\",new_pd[new_pd[\"true_labels\"] == 1][\"positive\"].std())\n",
    "print(\"Mean and std of neutral sentiment for subjective: \",new_pd[new_pd[\"true_labels\"] == 1][\"neutral\"].mean(),\"-\",new_pd[new_pd[\"true_labels\"] == 1][\"neutral\"].std())\n",
    "print(\"Mean and std of negative sentiment for subjective: \",new_pd[new_pd[\"true_labels\"] == 1][\"negative\"].mean(),\"-\",new_pd[new_pd[\"true_labels\"] == 1][\"negative\"].std())"
   ]
  },
  {
   "cell_type": "markdown",
   "metadata": {},
   "source": [
    "From the results above, you can see that the sentiment model is able to recognize subjectivity better in the context of high negativity sentiment, while for all the other cases the sentiment is almost perfectly balanced (~ 1/3)"
   ]
  }
 ],
 "metadata": {
  "kernelspec": {
   "display_name": "raceline",
   "language": "python",
   "name": "python3"
  },
  "language_info": {
   "codemirror_mode": {
    "name": "ipython",
    "version": 3
   },
   "file_extension": ".py",
   "mimetype": "text/x-python",
   "name": "python",
   "nbconvert_exporter": "python",
   "pygments_lexer": "ipython3",
   "version": "3.8.16"
  }
 },
 "nbformat": 4,
 "nbformat_minor": 2
}
