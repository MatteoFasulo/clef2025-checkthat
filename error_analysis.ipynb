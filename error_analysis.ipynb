{
 "cells": [
  {
   "cell_type": "code",
   "execution_count": 2,
   "metadata": {
    "execution": {
     "iopub.execute_input": "2025-03-19T10:40:45.452145Z",
     "iopub.status.busy": "2025-03-19T10:40:45.451834Z",
     "iopub.status.idle": "2025-03-19T10:40:45.640872Z",
     "shell.execute_reply": "2025-03-19T10:40:45.639985Z",
     "shell.execute_reply.started": "2025-03-19T10:40:45.452120Z"
    },
    "trusted": true
   },
   "outputs": [],
   "source": [
    "import os\n",
    "import csv\n",
    "from pathlib import Path\n",
    "import pandas as pd\n",
    "import numpy as np\n",
    "import seaborn as sns\n",
    "\n",
    "from transformers import pipeline"
   ]
  },
  {
   "cell_type": "code",
   "execution_count": 3,
   "metadata": {
    "execution": {
     "iopub.execute_input": "2025-03-19T10:36:16.684481Z",
     "iopub.status.busy": "2025-03-19T10:36:16.683953Z",
     "iopub.status.idle": "2025-03-19T10:36:16.688811Z",
     "shell.execute_reply": "2025-03-19T10:36:16.687821Z",
     "shell.execute_reply.started": "2025-03-19T10:36:16.684457Z"
    },
    "trusted": true
   },
   "outputs": [],
   "source": [
    "languages = ['arabic','bulgarian','english','german','italian']"
   ]
  },
  {
   "cell_type": "code",
   "execution_count": 3,
   "metadata": {
    "execution": {
     "iopub.execute_input": "2025-03-19T10:36:16.690168Z",
     "iopub.status.busy": "2025-03-19T10:36:16.689881Z",
     "iopub.status.idle": "2025-03-19T10:36:27.067361Z",
     "shell.execute_reply": "2025-03-19T10:36:27.066344Z",
     "shell.execute_reply.started": "2025-03-19T10:36:16.690139Z"
    },
    "trusted": true
   },
   "outputs": [
    {
     "data": {
      "application/vnd.jupyter.widget-view+json": {
       "model_id": "4e2165158e394e0d88a73ae1b1c87fcf",
       "version_major": 2,
       "version_minor": 0
      },
      "text/plain": [
       "config.json:   0%|          | 0.00/841 [00:00<?, ?B/s]"
      ]
     },
     "metadata": {},
     "output_type": "display_data"
    },
    {
     "data": {
      "application/vnd.jupyter.widget-view+json": {
       "model_id": "55c0e679987b42a2a6a8a790675f797b",
       "version_major": 2,
       "version_minor": 0
      },
      "text/plain": [
       "pytorch_model.bin:   0%|          | 0.00/1.11G [00:00<?, ?B/s]"
      ]
     },
     "metadata": {},
     "output_type": "display_data"
    },
    {
     "data": {
      "application/vnd.jupyter.widget-view+json": {
       "model_id": "fc836f7ed2f54dccb2681fe1163d279a",
       "version_major": 2,
       "version_minor": 0
      },
      "text/plain": [
       "sentencepiece.bpe.model:   0%|          | 0.00/5.07M [00:00<?, ?B/s]"
      ]
     },
     "metadata": {},
     "output_type": "display_data"
    },
    {
     "data": {
      "application/vnd.jupyter.widget-view+json": {
       "model_id": "1c540d942e1348929507e20b2ec008c1",
       "version_major": 2,
       "version_minor": 0
      },
      "text/plain": [
       "special_tokens_map.json:   0%|          | 0.00/150 [00:00<?, ?B/s]"
      ]
     },
     "metadata": {},
     "output_type": "display_data"
    },
    {
     "name": "stderr",
     "output_type": "stream",
     "text": [
      "Device set to use cuda:0\n"
     ]
    }
   ],
   "source": [
    "pipe = pipeline(\"sentiment-analysis\", model=\"cardiffnlp/twitter-xlm-roberta-base-sentiment\", tokenizer=\"cardiffnlp/twitter-xlm-roberta-base-sentiment\", top_k=None)"
   ]
  },
  {
   "cell_type": "code",
   "execution_count": 4,
   "metadata": {
    "execution": {
     "iopub.execute_input": "2025-03-19T10:36:27.070110Z",
     "iopub.status.busy": "2025-03-19T10:36:27.069771Z",
     "iopub.status.idle": "2025-03-19T10:36:27.074620Z",
     "shell.execute_reply": "2025-03-19T10:36:27.073879Z",
     "shell.execute_reply.started": "2025-03-19T10:36:27.070086Z"
    },
    "trusted": true
   },
   "outputs": [],
   "source": [
    "def extract_sentiment(text):\n",
    "    sentiments = pipe(text)[0]\n",
    "    return {k:v for k,v in [(list(sentiment.values())[0], list(sentiment.values())[1]) for sentiment in sentiments]}"
   ]
  },
  {
   "cell_type": "code",
   "execution_count": 6,
   "metadata": {
    "execution": {
     "iopub.execute_input": "2025-03-19T10:36:37.121005Z",
     "iopub.status.busy": "2025-03-19T10:36:37.120692Z",
     "iopub.status.idle": "2025-03-19T10:37:15.472690Z",
     "shell.execute_reply": "2025-03-19T10:37:15.471931Z",
     "shell.execute_reply.started": "2025-03-19T10:36:37.120977Z"
    },
    "trusted": true
   },
   "outputs": [
    {
     "name": "stdout",
     "output_type": "stream",
     "text": [
      "Processing arabic\n"
     ]
    },
    {
     "name": "stderr",
     "output_type": "stream",
     "text": [
      "You seem to be using the pipelines sequentially on GPU. In order to maximize efficiency please use a dataset\n"
     ]
    },
    {
     "name": "stdout",
     "output_type": "stream",
     "text": [
      "Processing bulgarian\n",
      "Processing english\n",
      "Processing german\n",
      "Processing italian\n",
      "Combined dataset has 4733 rows and includes data from 5 languages\n"
     ]
    }
   ],
   "source": [
    "all_data = []\n",
    "\n",
    "for language in languages:\n",
    "    print('Processing', language)\n",
    "    folder = f'/kaggle/input/clef2025-checkthat/data{os.sep}{language}'\n",
    "    files = os.listdir(folder)\n",
    "    \n",
    "    language_test = None\n",
    "    language_dev = None\n",
    "    \n",
    "    for file in files:\n",
    "        if file.endswith('.tsv'):\n",
    "            if 'test' in file:\n",
    "                test = pd.read_csv(f'{folder}{os.sep}{file}', sep='\\t', quoting=csv.QUOTE_NONE)\n",
    "                test[['positive', 'neutral', 'negative']] = test.apply(lambda x: extract_sentiment(x['sentence']), axis=1, result_type='expand')\n",
    "                test['language'] = language\n",
    "                test['set_type'] = 'test'\n",
    "                language_test = test\n",
    "            elif 'dev' in file and 'test' not in file:\n",
    "                dev = pd.read_csv(f'{folder}{os.sep}{file}', sep='\\t', quoting=csv.QUOTE_NONE)\n",
    "                dev[['positive', 'neutral', 'negative']] = dev.apply(lambda x: extract_sentiment(x['sentence']), axis=1, result_type='expand')\n",
    "                dev['language'] = language\n",
    "                dev['set_type'] = 'dev'\n",
    "                language_dev = dev\n",
    "    \n",
    "    if language_test is not None:\n",
    "        all_data.append(language_test)\n",
    "    if language_dev is not None:\n",
    "        all_data.append(language_dev)\n",
    "\n",
    "# Combine all data into a single dataframe\n",
    "combined_df = pd.concat(all_data, ignore_index=True)\n",
    "print(f\"Combined dataset has {len(combined_df)} rows and includes data from {combined_df['language'].nunique()} languages\")"
   ]
  },
  {
   "cell_type": "code",
   "execution_count": 32,
   "metadata": {
    "execution": {
     "iopub.execute_input": "2025-03-19T10:44:14.379877Z",
     "iopub.status.busy": "2025-03-19T10:44:14.379587Z",
     "iopub.status.idle": "2025-03-19T10:44:14.678846Z",
     "shell.execute_reply": "2025-03-19T10:44:14.677900Z",
     "shell.execute_reply.started": "2025-03-19T10:44:14.379853Z"
    },
    "trusted": true
   },
   "outputs": [
    {
     "data": {
      "text/plain": [
       "<Axes: xlabel='sentiment', ylabel='score'>"
      ]
     },
     "execution_count": 32,
     "metadata": {},
     "output_type": "execute_result"
    },
    {
     "data": {
      "image/png": "[encoded data removed]",
      "text/plain": [
       "<Figure size 640x480 with 1 Axes>"
      ]
     },
     "metadata": {},
     "output_type": "display_data"
    }
   ],
   "source": [
    "melted_df = combined_df.melt(id_vars=[\"label\"], \n",
    "                             value_vars=[\"positive\", \"neutral\", \"negative\"],\n",
    "                             var_name=\"sentiment\",\n",
    "                             value_name=\"score\")\n",
    "\n",
    "# Plotting\n",
    "sns.boxplot(x=\"sentiment\", y=\"score\", hue=\"label\", data=melted_df)"
   ]
  },
  {
   "cell_type": "code",
   "execution_count": 34,
   "metadata": {
    "execution": {
     "iopub.execute_input": "2025-03-19T10:50:00.769977Z",
     "iopub.status.busy": "2025-03-19T10:50:00.769632Z",
     "iopub.status.idle": "2025-03-19T10:50:00.846181Z",
     "shell.execute_reply": "2025-03-19T10:50:00.845298Z",
     "shell.execute_reply.started": "2025-03-19T10:50:00.769934Z"
    },
    "trusted": true
   },
   "outputs": [],
   "source": [
    "save_dir = \"results\"\n",
    "os.makedirs(save_dir, exist_ok=True)\n",
    "filepath = os.path.join(save_dir, \"global_sentiment.tsv\")\n",
    "combined_df.to_csv(filepath, index=False, sep='\\t')"
   ]
  },
  {
   "cell_type": "markdown",
   "metadata": {},
   "source": [
    "# wrong prediction per model"
   ]
  },
  {
   "cell_type": "code",
   "execution_count": 5,
   "metadata": {},
   "outputs": [
    {
     "data": {
      "text/html": [
       "<div>\n",
       "<style scoped>\n",
       "    .dataframe tbody tr th:only-of-type {\n",
       "        vertical-align: middle;\n",
       "    }\n",
       "\n",
       "    .dataframe tbody tr th {\n",
       "        vertical-align: top;\n",
       "    }\n",
       "\n",
       "    .dataframe thead th {\n",
       "        text-align: right;\n",
       "    }\n",
       "</style>\n",
       "<table border=\"1\" class=\"dataframe\">\n",
       "  <thead>\n",
       "    <tr style=\"text-align: right;\">\n",
       "      <th></th>\n",
       "      <th>sentence_id</th>\n",
       "      <th>sentence</th>\n",
       "      <th>label</th>\n",
       "      <th>positive</th>\n",
       "      <th>neutral</th>\n",
       "      <th>negative</th>\n",
       "      <th>language</th>\n",
       "      <th>set_type</th>\n",
       "      <th>solved_conflict</th>\n",
       "    </tr>\n",
       "  </thead>\n",
       "  <tbody>\n",
       "    <tr>\n",
       "      <th>0</th>\n",
       "      <td>Almayadeen_15_3</td>\n",
       "      <td>في ربع القرن الأخير، شنّت الدوائر الغربية والإ...</td>\n",
       "      <td>SUBJ</td>\n",
       "      <td>0.888509</td>\n",
       "      <td>0.085842</td>\n",
       "      <td>0.025650</td>\n",
       "      <td>arabic</td>\n",
       "      <td>test</td>\n",
       "      <td>NaN</td>\n",
       "    </tr>\n",
       "    <tr>\n",
       "      <th>1</th>\n",
       "      <td>MIS_2615-eurl_03_023</td>\n",
       "      <td>- موقع ذا هيل: مناقشات مسؤولي الإدارة بشأن تفع...</td>\n",
       "      <td>SUBJ</td>\n",
       "      <td>0.125638</td>\n",
       "      <td>0.411801</td>\n",
       "      <td>0.462561</td>\n",
       "      <td>arabic</td>\n",
       "      <td>test</td>\n",
       "      <td>NaN</td>\n",
       "    </tr>\n",
       "    <tr>\n",
       "      <th>2</th>\n",
       "      <td>Almayadeen_43_1</td>\n",
       "      <td>مع كلّ عزيمة وعنفوان أبطال مخيم جنين وأهل جنين...</td>\n",
       "      <td>OBJ</td>\n",
       "      <td>0.192436</td>\n",
       "      <td>0.314860</td>\n",
       "      <td>0.492704</td>\n",
       "      <td>arabic</td>\n",
       "      <td>test</td>\n",
       "      <td>NaN</td>\n",
       "    </tr>\n",
       "    <tr>\n",
       "      <th>3</th>\n",
       "      <td>AJ_24_8</td>\n",
       "      <td>فصائل المقاومة في غزة، ضمن خطتها الإعلامية، وح...</td>\n",
       "      <td>SUBJ</td>\n",
       "      <td>0.878047</td>\n",
       "      <td>0.099509</td>\n",
       "      <td>0.022445</td>\n",
       "      <td>arabic</td>\n",
       "      <td>test</td>\n",
       "      <td>NaN</td>\n",
       "    </tr>\n",
       "    <tr>\n",
       "      <th>4</th>\n",
       "      <td>MIS_1086-curl_06_008</td>\n",
       "      <td>ونوه تشومسكي إلى أنّ السلطة الفلسطينيّة تضخ مح...</td>\n",
       "      <td>OBJ</td>\n",
       "      <td>0.877828</td>\n",
       "      <td>0.099702</td>\n",
       "      <td>0.022470</td>\n",
       "      <td>arabic</td>\n",
       "      <td>test</td>\n",
       "      <td>NaN</td>\n",
       "    </tr>\n",
       "  </tbody>\n",
       "</table>\n",
       "</div>"
      ],
      "text/plain": [
       "            sentence_id                                           sentence  \\\n",
       "0       Almayadeen_15_3  في ربع القرن الأخير، شنّت الدوائر الغربية والإ...   \n",
       "1  MIS_2615-eurl_03_023  - موقع ذا هيل: مناقشات مسؤولي الإدارة بشأن تفع...   \n",
       "2       Almayadeen_43_1  مع كلّ عزيمة وعنفوان أبطال مخيم جنين وأهل جنين...   \n",
       "3               AJ_24_8  فصائل المقاومة في غزة، ضمن خطتها الإعلامية، وح...   \n",
       "4  MIS_1086-curl_06_008  ونوه تشومسكي إلى أنّ السلطة الفلسطينيّة تضخ مح...   \n",
       "\n",
       "  label  positive   neutral  negative language set_type solved_conflict  \n",
       "0  SUBJ  0.888509  0.085842  0.025650   arabic     test             NaN  \n",
       "1  SUBJ  0.125638  0.411801  0.462561   arabic     test             NaN  \n",
       "2   OBJ  0.192436  0.314860  0.492704   arabic     test             NaN  \n",
       "3  SUBJ  0.878047  0.099509  0.022445   arabic     test             NaN  \n",
       "4   OBJ  0.877828  0.099702  0.022470   arabic     test             NaN  "
      ]
     },
     "execution_count": 5,
     "metadata": {},
     "output_type": "execute_result"
    }
   ],
   "source": [
    "global_sentiment = pd.read_csv(f\"results{os.sep}global_sentiment.tsv\", sep='\\t', quoting=csv.QUOTE_NONE)\n",
    "global_sentiment.head()"
   ]
  },
  {
   "cell_type": "code",
   "execution_count": 6,
   "metadata": {},
   "outputs": [],
   "source": [
    "english_df_deberta = pd.read_csv(f\"results{os.sep}test_english_predicted.tsv\", sep='\\t', quoting=csv.QUOTE_NONE)\n",
    "english_df_modernbert = pd.read_csv(f\"results{os.sep}test_english_modern_predicted.tsv\", sep='\\t', quoting=csv.QUOTE_NONE)\n",
    "english_df_sentiment = pd.read_csv(f\"results{os.sep}test_english_sentiment_predicted.tsv\", sep='\\t', quoting=csv.QUOTE_NONE)"
   ]
  },
  {
   "cell_type": "code",
   "execution_count": 15,
   "metadata": {},
   "outputs": [],
   "source": [
    "# Create a dataframe that combines the true labels and predictions\n",
    "df = global_sentiment[global_sentiment['language'] == 'english']\n",
    "df = df.rename(columns={'label': 'true_labels'})\n",
    "\n",
    "# Merge predictions from each model\n",
    "df = df.merge(english_df_deberta, on='sentence_id', how='left')\n",
    "df = df.rename(columns={'label': 'english'})\n",
    "\n",
    "df = df.merge(english_df_modernbert, on='sentence_id', how='left')\n",
    "df = df.rename(columns={'label': 'english-modern-bert'})\n",
    "\n",
    "df = df.merge(english_df_sentiment, on='sentence_id', how='left')\n",
    "df = df.rename(columns={'label': 'english-sentiment'})\n",
    "\n",
    "# Find incorrect predictions for each model\n",
    "wrong = df[df[\"true_labels\"] != df[\"english\"]]\n",
    "wrong_bert = df[df[\"true_labels\"] != df[\"english-modern-bert\"]]\n",
    "wrong_sentiment = df[df[\"true_labels\"] != df[\"english-sentiment\"]]"
   ]
  },
  {
   "cell_type": "code",
   "execution_count": 22,
   "metadata": {},
   "outputs": [
    {
     "name": "stdout",
     "output_type": "stream",
     "text": [
      "english model got 577 wrong predictions\n",
      "english-modern-bert model got 584 wrong predictions\n",
      "english-sentiment model got 555 wrong predictions\n"
     ]
    }
   ],
   "source": [
    "print(f\"english model got {len(wrong)} wrong predictions\")\n",
    "print(f\"english-modern-bert model got {len(wrong_bert)} wrong predictions\")\n",
    "print(f\"english-sentiment model got {len(wrong_sentiment)} wrong predictions\")\n"
   ]
  },
  {
   "cell_type": "markdown",
   "metadata": {},
   "source": [
    "# What the sentiment model got right"
   ]
  },
  {
   "cell_type": "code",
   "execution_count": 26,
   "metadata": {},
   "outputs": [
    {
     "name": "stdout",
     "output_type": "stream",
     "text": [
      "For correctly identified by sentiment but wrongly identified by english\n",
      "len:  33\n",
      "\n",
      "Mean and std of positive sentiment for objective:  0.3248155744815314 - 0.20417269853457148\n",
      "Mean and std of neutral sentiment for objective:  0.31054739098719975 - 0.31057937874864866\n",
      "Mean and std of negative sentiment for objective:  0.36463704022268456 - 0.3243767705151058\n",
      "--------------------------------------------------------------------------------\n",
      "Mean and std of positive sentiment for subjective:  0.2378415366013845 - 0.19106010062039944\n",
      "Mean and std of neutral sentiment for subjective:  0.24626997951418161 - 0.35379360038547253\n",
      "Mean and std of negative sentiment for subjective:  0.5158884841948748 - 0.3560474683976414\n"
     ]
    }
   ],
   "source": [
    "new_pd = df[(df[\"true_labels\"] == df[\"english-sentiment\"]) & (df[\"english-sentiment\"] != df[\"english\"])]\n",
    "new_pd = new_pd.drop(columns=[\"english-sentiment\", \"english\", \"english-modern-bert\", \"sentence_id\"])\n",
    "\n",
    "print(\"For correctly identified by sentiment but wrongly identified by english\")\n",
    "print(\"len: \",len(new_pd))\n",
    "print()\n",
    "print(\"Mean and std of positive sentiment for objective: \",new_pd[new_pd[\"true_labels\"] == \"OBJ\"][\"positive\"].mean(),\"-\",new_pd[new_pd[\"true_labels\"] == \"OBJ\"][\"positive\"].std())\n",
    "print(\"Mean and std of neutral sentiment for objective: \",new_pd[new_pd[\"true_labels\"] == \"OBJ\"][\"neutral\"].mean(),\"-\",new_pd[new_pd[\"true_labels\"] == \"OBJ\"][\"neutral\"].std())\n",
    "print(\"Mean and std of negative sentiment for objective: \",new_pd[new_pd[\"true_labels\"] == \"OBJ\"][\"negative\"].mean(),\"-\",new_pd[new_pd[\"true_labels\"] == \"OBJ\"][\"negative\"].std())\n",
    "print(\"-\"*80)\n",
    "print(\"Mean and std of positive sentiment for subjective: \",new_pd[new_pd[\"true_labels\"] == \"SUBJ\"][\"positive\"].mean(),\"-\",new_pd[new_pd[\"true_labels\"] == \"SUBJ\"][\"positive\"].std())\n",
    "print(\"Mean and std of neutral sentiment for subjective: \",new_pd[new_pd[\"true_labels\"] == \"SUBJ\"][\"neutral\"].mean(),\"-\",new_pd[new_pd[\"true_labels\"] == \"SUBJ\"][\"neutral\"].std())\n",
    "print(\"Mean and std of negative sentiment for subjective: \",new_pd[new_pd[\"true_labels\"] == \"SUBJ\"][\"negative\"].mean(),\"-\",new_pd[new_pd[\"true_labels\"] == \"SUBJ\"][\"negative\"].std())"
   ]
  },
  {
   "cell_type": "code",
   "execution_count": 27,
   "metadata": {},
   "outputs": [
    {
     "name": "stdout",
     "output_type": "stream",
     "text": [
      "For correctly identified by english but wrongly identified by sentiment\n",
      "len:  11\n",
      "\n",
      "Mean and std of positive sentiment for objective:  0.23662361254294714 - 0.14646874923029649\n",
      "Mean and std of neutral sentiment for objective:  0.36990565868715447 - 0.3239833152264322\n",
      "Mean and std of negative sentiment for objective:  0.3934707045555115 - 0.40861249938845656\n",
      "--------------------------------------------------------------------------------\n",
      "Mean and std of positive sentiment for subjective:  0.2941310741007328 - 0.2388239411881043\n",
      "Mean and std of neutral sentiment for subjective:  0.3768701311200857 - 0.36035385933070224\n",
      "Mean and std of negative sentiment for subjective:  0.32899880735203624 - 0.34206677957254844\n"
     ]
    }
   ],
   "source": [
    "new_pd = df[(df[\"true_labels\"] != df[\"english-sentiment\"]) & (df[\"true_labels\"] == df[\"english\"])]\n",
    "new_pd = new_pd.drop(columns=[\"english-sentiment\", \"english\", \"english-modern-bert\", \"sentence_id\"])\n",
    "\n",
    "print(\"For correctly identified by english but wrongly identified by sentiment\")\n",
    "print(\"len: \",len(new_pd))\n",
    "print()\n",
    "print(\"Mean and std of positive sentiment for objective: \",new_pd[new_pd[\"true_labels\"] == \"OBJ\"][\"positive\"].mean(),\"-\",new_pd[new_pd[\"true_labels\"] == \"OBJ\"][\"positive\"].std())\n",
    "print(\"Mean and std of neutral sentiment for objective: \",new_pd[new_pd[\"true_labels\"] == \"OBJ\"][\"neutral\"].mean(),\"-\",new_pd[new_pd[\"true_labels\"] == \"OBJ\"][\"neutral\"].std())\n",
    "print(\"Mean and std of negative sentiment for objective: \",new_pd[new_pd[\"true_labels\"] == \"OBJ\"][\"negative\"].mean(),\"-\",new_pd[new_pd[\"true_labels\"] == \"OBJ\"][\"negative\"].std())\n",
    "print(\"-\"*80)\n",
    "print(\"Mean and std of positive sentiment for subjective: \",new_pd[new_pd[\"true_labels\"] == \"SUBJ\"][\"positive\"].mean(),\"-\",new_pd[new_pd[\"true_labels\"] == \"SUBJ\"][\"positive\"].std())\n",
    "print(\"Mean and std of neutral sentiment for subjective: \",new_pd[new_pd[\"true_labels\"] == \"SUBJ\"][\"neutral\"].mean(),\"-\",new_pd[new_pd[\"true_labels\"] == \"SUBJ\"][\"neutral\"].std())\n",
    "print(\"Mean and std of negative sentiment for subjective: \",new_pd[new_pd[\"true_labels\"] == \"SUBJ\"][\"negative\"].mean(),\"-\",new_pd[new_pd[\"true_labels\"] == \"SUBJ\"][\"negative\"].std())"
   ]
  },
  {
   "cell_type": "markdown",
   "metadata": {},
   "source": [
    "From the results above, you can see that the sentiment model is able to recognize subjectivity better in the context of high negativity sentiment, while for all the other cases the sentiment is almost perfectly balanced (~ 1/3)"
   ]
  },
  {
   "cell_type": "code",
   "execution_count": 28,
   "metadata": {},
   "outputs": [
    {
     "name": "stdout",
     "output_type": "stream",
     "text": [
      "Example 1:\n",
      "Sentence: Googled how to cook a good lobster and I read how hard it is to get it good because it can turn very tough, rubbery.\n",
      "True label: OBJ\n",
      "English model prediction: SUBJ\n",
      "Sentiment model prediction: OBJ\n",
      "Sentiment scores: positive=0.129, neutral=0.025, negative=0.847\n",
      "--------------------------------------------------------------------------------\n",
      "Example 2:\n",
      "Sentence: This is why the more Osborne slashed public spending in the 2010s, the more money he needed to borrow.\n",
      "True label: OBJ\n",
      "English model prediction: SUBJ\n",
      "Sentiment model prediction: OBJ\n",
      "Sentiment scores: positive=0.411, neutral=0.117, negative=0.473\n",
      "--------------------------------------------------------------------------------\n",
      "Example 3:\n",
      "Sentence: This was inaccurate.\n",
      "True label: OBJ\n",
      "English model prediction: SUBJ\n",
      "Sentiment model prediction: OBJ\n",
      "Sentiment scores: positive=0.079, neutral=0.021, negative=0.901\n",
      "--------------------------------------------------------------------------------\n"
     ]
    }
   ],
   "source": [
    "# 3 examples for sentences that are correctly identified by sentiment but wrongly identified by english\n",
    "\n",
    "# Find examples where sentiment model is correct but english model is wrong\n",
    "examples = df[(df[\"true_labels\"] == df[\"english-sentiment\"]) & (df[\"true_labels\"] != df[\"english\"])].copy()\n",
    "\n",
    "# Display 3 examples with their sentences and sentiment scores\n",
    "for i, (idx, row) in enumerate(examples.iloc[:3].iterrows()):\n",
    "    print(f\"Example {i+1}:\")\n",
    "    print(f\"Sentence: {row['sentence']}\")\n",
    "    print(f\"True label: {row['true_labels']}\")\n",
    "    print(f\"English model prediction: {row['english']}\")\n",
    "    print(f\"Sentiment model prediction: {row['english-sentiment']}\")\n",
    "    print(f\"Sentiment scores: positive={row['positive']:.3f}, neutral={row['neutral']:.3f}, negative={row['negative']:.3f}\")\n",
    "    print(\"-\" * 80)"
   ]
  }
 ],
 "metadata": {
  "kaggle": {
   "accelerator": "gpu",
   "dataSources": [
    {
     "datasetId": 6742324,
     "isSourceIdPinned": false,
     "sourceId": 10881030,
     "sourceType": "datasetVersion"
    }
   ],
   "isGpuEnabled": true,
   "isInternetEnabled": true,
   "language": "python",
   "sourceType": "notebook"
  },
  "kernelspec": {
   "display_name": ".venv",
   "language": "python",
   "name": "python3"
  },
  "language_info": {
   "codemirror_mode": {
    "name": "ipython",
    "version": 3
   },
   "file_extension": ".py",
   "mimetype": "text/x-python",
   "name": "python",
   "nbconvert_exporter": "python",
   "pygments_lexer": "ipython3",
   "version": "3.10.15"
  }
 },
 "nbformat": 4,
 "nbformat_minor": 4
}
