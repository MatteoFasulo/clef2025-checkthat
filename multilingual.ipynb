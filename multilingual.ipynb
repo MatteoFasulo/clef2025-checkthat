{
 "cells": [
  {
   "cell_type": "markdown",
   "metadata": {},
   "source": [
    "# Subjectivity in News Articles\n",
    "\n",
    "## Group:\n",
    "- Luca Babboni - luca.babboni2@studio.unibo.it\n",
    "- Matteo Fasulo - matteo.fasulo@studio.unibo.it\n",
    "- Luca Tedeschini - luca.tedeschini3@studio.unibo.it\n",
    "\n",
    "## Description\n",
    "\n",
    "This notebook addresses Task 1 proposed in [CheckThat Lab](https://checkthat.gitlab.io/clef2025/) of CLEF 2025. In this task, systems are challenged to distinguish whether a sentence from a news article expresses the subjective view of the author behind it or presents an objective view on the covered topic instead.\n",
    "\n",
    "This is a binary classification tasks in which systems have to identify whether a text sequence (a sentence or a paragraph) is subjective (SUBJ) or objective (OBJ).\n",
    "\n",
    "The task comprises three settings:\n",
    "\n",
    "* Monolingual: train and test on data in a given language\n",
    "* Multilingual: train and test on data comprising several languages\n",
    "* Zero-shot: train on several languages and test on unseen languages\n",
    "\n",
    "training data in five languages:\n",
    "* Arabic\n",
    "* Bulgarian\n",
    "* English\n",
    "* German\n",
    "* Italian\n",
    "\n",
    "The official evaluation is macro-averaged F1 between the two classes."
   ]
  },
  {
   "cell_type": "markdown",
   "metadata": {},
   "source": [
    "# Installing dependencies\n",
    "\n",
    "This notebook uses quantized models, and some additional libraries are required. If you are running this notebook on either Colab or Kaggle, please run the cell below once, then run the whole notebook normally.\n",
    "\n"
   ]
  },
  {
   "cell_type": "code",
   "execution_count": null,
   "metadata": {},
   "outputs": [],
   "source": [
    "%%capture\n",
    "%pip install -U transformers[torch] bitsandbytes trl peft sacremoses ctranslate2 accelerate"
   ]
  },
  {
   "cell_type": "code",
   "execution_count": null,
   "metadata": {},
   "outputs": [],
   "source": [
    "import os\n",
    "os.kill(os.getpid(), 9)"
   ]
  },
  {
   "cell_type": "markdown",
   "metadata": {},
   "source": [
    "## Importing libraries"
   ]
  },
  {
   "cell_type": "code",
   "execution_count": null,
   "metadata": {},
   "outputs": [],
   "source": [
    "import os\n",
    "import gc\n",
    "from pathlib import Path\n",
    "\n",
    "import csv\n",
    "\n",
    "import matplotlib.pyplot as plt\n",
    "import numpy as np\n",
    "import pandas as pd\n",
    "\n",
    "from tqdm import tqdm\n",
    "\n",
    "from sklearn.linear_model import LogisticRegression\n",
    "from sklearn.metrics import accuracy_score, confusion_matrix, ConfusionMatrixDisplay, precision_recall_fscore_support\n",
    "from sklearn.utils.class_weight import compute_class_weight\n",
    "\n",
    "import torch\n",
    "import torch.nn as nn\n",
    "import torch.nn.functional as F\n",
    "\n",
    "from peft import LoraConfig, prepare_model_for_kbit_training, get_peft_model\n",
    "\n",
    "from sentence_transformers import SentenceTransformer\n",
    "from datasets import Dataset\n",
    "from huggingface_hub import notebook_login\n",
    "from transformers import (\n",
    "    AutoTokenizer, \n",
    "    AutoModelForSequenceClassification, \n",
    "    Trainer, \n",
    "    TrainingArguments, \n",
    "    DataCollatorWithPadding, \n",
    "    BitsAndBytesConfig,\n",
    "    PreTrainedModel,\n",
    "    DebertaV2Model, \n",
    "    DebertaV2Config, \n",
    "    pipeline\n",
    ")\n",
    "from transformers.trainer_utils import PredictionOutput\n",
    "from transformers.models.deberta.modeling_deberta import ContextPooler"
   ]
  },
  {
   "cell_type": "markdown",
   "metadata": {},
   "source": [
    "## Setting the device"
   ]
  },
  {
   "cell_type": "code",
   "execution_count": null,
   "metadata": {},
   "outputs": [
    {
     "name": "stdout",
     "output_type": "stream",
     "text": [
      "Using device: cuda\n"
     ]
    }
   ],
   "source": [
    "SEED = 42\n",
    "device = 'cuda' if torch.cuda.is_available() else 'cpu'\n",
    "tqdm.pandas() # display tqdm on pandas apply functions\n",
    "print(f\"Using device: {device}\")"
   ]
  },
  {
   "cell_type": "markdown",
   "metadata": {},
   "source": [
    "## Setting Library Seeds\n",
    "\n",
    "This step is necessary to guarantee reproducibility.\n",
    "\n"
   ]
  },
  {
   "cell_type": "code",
   "execution_count": null,
   "metadata": {},
   "outputs": [],
   "source": [
    "np.random.seed(SEED)\n",
    "torch.manual_seed(SEED)\n",
    "torch.cuda.manual_seed_all(SEED)"
   ]
  },
  {
   "cell_type": "markdown",
   "metadata": {},
   "source": [
    "## Setting the Data Folder  \n",
    "\n",
    "Please modify this path with your dataset's local path. The `data` folder should follow the official challenge structure:\n",
    "```\n",
    "data/\n",
    "|---- arabic/\n",
    "|--------- xxxx.tsv\n",
    "|---- bulgarian/\n",
    "|--------- xxxx.tsv\n",
    "|---- english/\n",
    "|--------- xxxx.tsv\n",
    "|---- german/\n",
    "|--------- xxxx.tsv\n",
    "|---- italian/\n",
    "|--------- xxxx.tsv\n",
    "```"
   ]
  },
  {
   "cell_type": "code",
   "execution_count": null,
   "metadata": {},
   "outputs": [],
   "source": [
    "data_folder = '/kaggle/input/clef2025-checkthat/data' # data"
   ]
  },
  {
   "cell_type": "markdown",
   "metadata": {},
   "source": [
    "## Hugging face notebook login\n",
    "\n",
    "To correctly download and use the hugging face models, a token key needs to be provided. Please refer to this [page](https://huggingface.co/docs/hub/security-tokens)"
   ]
  },
  {
   "cell_type": "code",
   "execution_count": null,
   "metadata": {},
   "outputs": [
    {
     "data": {
      "application/vnd.jupyter.widget-view+json": {
       "model_id": "66c4c9f7184d436dbb0827cd62a6235c",
       "version_major": 2,
       "version_minor": 0
      },
      "text/plain": [
       "VBox(children=(HTML(value='<center> <img\\nsrc=https://huggingface.co/front/assets/huggingface_logo-noborder.sv…"
      ]
     },
     "metadata": {},
     "output_type": "display_data"
    }
   ],
   "source": [
    "notebook_login()"
   ]
  },
  {
   "cell_type": "markdown",
   "metadata": {},
   "source": [
    "# Subjectivity Class  \n",
    "This class is used throughout the whole notebook as a utility toolbox to avoid code redundancy. When a method of this class is called for the first time, its behavior will be explained.  "
   ]
  },
  {
   "cell_type": "code",
   "execution_count": null,
   "metadata": {},
   "outputs": [],
   "source": [
    "class Subjectivity:\n",
    "    \"\"\"\n",
    "    A class for handling multilingual subjectivity classification datasets.\n",
    "    \n",
    "    This class provides functionality to load, process, and prepare datasets for \n",
    "    subjective/objective text classification across multiple languages. It supports:\n",
    "    - Loading and organizing datasets from multiple languages\n",
    "    - Splitting data into train/dev/test sets\n",
    "    - Analyzing label distributions\n",
    "    - Loading pre-trained tokenizers and models\n",
    "    - Computing class weights for imbalanced datasets\n",
    "    \n",
    "    Attributes:\n",
    "        seed (int): Random seed for reproducibility\n",
    "        device (str): Computation device ('cuda' or 'cpu')\n",
    "        languages (list): List of available languages in the dataset\n",
    "        dataset (pd.DataFrame): Combined dataset with all languages and splits\n",
    "        train (pd.DataFrame): Training split of the dataset\n",
    "        dev (pd.DataFrame): Development split of the dataset\n",
    "        test (pd.DataFrame): Test split of the dataset\n",
    "        all_data (dict): Nested dictionary organizing data by language and split\n",
    "        tokenizer (AutoTokenizer, optional): Hugging Face tokenizer\n",
    "        model (AutoModelForSequenceClassification, optional): Classification model\n",
    "    \"\"\"\n",
    "    def __init__(self, data_folder: str = 'data', seed: int = 42, device: str = 'cuda'):\n",
    "        \"\"\"\n",
    "        Initialize the Subjectivity class.\n",
    "        \n",
    "        Args:\n",
    "            data_folder (str): Directory path containing the dataset files.\n",
    "            seed (int): Random seed for reproducibility.\n",
    "            device (str): Device to use for computations ('cuda' or 'cpu').\n",
    "        \"\"\"\n",
    "        self.seed = seed\n",
    "        self.device = device\n",
    "        self.languages = [language for language in os.listdir(data_folder)]\n",
    "\n",
    "        dataset = self.create_dataset(data_folder=data_folder)\n",
    "        self.dataset = dataset\n",
    "        \n",
    "        train, dev, test = self.get_splits(dataset, print_shapes=True)\n",
    "        self.train = train\n",
    "        self.dev = dev\n",
    "        self.test = test\n",
    "\n",
    "        self.all_data = self.get_per_lang_dataset()\n",
    "        \n",
    "\n",
    "    def create_dataset(self, data_folder: str = 'data'):\n",
    "        \"\"\"\n",
    "        Create a consolidated dataset from files in multiple languages.\n",
    "        \n",
    "        Args:\n",
    "            data_folder (str): Directory path containing subdirectories for each language.\n",
    "            \n",
    "        Returns:\n",
    "            pd.DataFrame: Combined dataset with columns for sentence_id, sentence, label, \n",
    "                          language, and split information.\n",
    "        \"\"\"\n",
    "        dataset = pd.DataFrame(columns=['sentence_id','sentence','label','lang','split'])\n",
    "        for language in os.listdir(data_folder):\n",
    "            for filename in os.listdir(f\"{data_folder}{os.sep}{language}\"):\n",
    "                if '.tsv' in filename:\n",
    "                    abs_path = f\"{data_folder}{os.sep}{language}{os.sep}{filename}\"\n",
    "                    df = pd.read_csv(abs_path, sep='\\t', quoting=csv.QUOTE_NONE)\n",
    "                    if 'solved_conflict' in df.columns:\n",
    "                        df.drop(columns=['solved_conflict'], inplace=True)\n",
    "                    df['lang'] = language\n",
    "                    df['split'] = Path(filename).stem\n",
    "                    dataset = pd.concat([dataset, df], axis=0)\n",
    "        return dataset\n",
    "\n",
    "    def get_splits(self, dataset: pd.DataFrame, print_shapes: bool = True):\n",
    "        \"\"\"\n",
    "        Split the dataset into training, development, and test sets.\n",
    "        \n",
    "        Args:\n",
    "            dataset (pd.DataFrame): The combined dataset to split.\n",
    "            print_shapes (bool): Whether to print the shapes of the resulting splits.\n",
    "            \n",
    "        Returns:\n",
    "            tuple: A tuple containing three pandas DataFrames (train, dev, test).\n",
    "        \"\"\"\n",
    "        train = dataset[dataset['split'].str.contains('train')].copy()\n",
    "        dev = dataset[(dataset['split'].str.contains('dev')) & ~(dataset['split'].str.contains('dev_test'))].copy()\n",
    "        test = dataset[dataset['split'].str.contains('dev_test')].copy()\n",
    "\n",
    "        # encode the target variable to int (0: obj; 1: subj)\n",
    "        train.loc[:, 'label'] = train['label'].apply(lambda x: 0 if x == 'OBJ' else 1)\n",
    "        dev.loc[:, 'label'] = dev['label'].apply(lambda x: 0 if x == 'OBJ' else 1)\n",
    "        test.loc[:, 'label'] = test['label'].apply(lambda x: 0 if x == 'OBJ' else 1)\n",
    "\n",
    "        # cast to int\n",
    "        train['label'] = train['label'].astype(int)\n",
    "        dev['label'] = dev['label'].astype(int)\n",
    "        test['label'] = test['label'].astype(int)\n",
    "\n",
    "        if print_shapes:\n",
    "            print(f\"Train: {train.shape}\")\n",
    "            print(f\"Dev: {dev.shape}\")\n",
    "            print(f\"Test: {test.shape}\")\n",
    "            \n",
    "        return train, dev, test\n",
    "\n",
    "    def get_per_lang_dataset(self):\n",
    "        \"\"\"\n",
    "        Organize the dataset by language and split (train, dev, test).\n",
    "        \n",
    "        Returns:\n",
    "            dict: A nested dictionary with languages as the outer keys and\n",
    "                  split names ('train', 'dev', 'test') as inner keys.\n",
    "                  For example:\n",
    "                  {\n",
    "                      'english': {\n",
    "                          'train': pd.DataFrame,\n",
    "                          'dev': pd.DataFrame,\n",
    "                          'test': pd.DataFrame\n",
    "                      },\n",
    "                      ...\n",
    "                  }\n",
    "        \"\"\"\n",
    "        dataset_dict = {}\n",
    "        for language in self.languages:\n",
    "            dataset_dict[language] = {}\n",
    "            # get the train data\n",
    "            dataset_dict[language]['train'] = self.train[self.train['lang']==language].copy()\n",
    "            # get the dev data\n",
    "            dataset_dict[language]['dev'] = self.dev[self.dev['lang']==language].copy()\n",
    "            # get the test data\n",
    "            dataset_dict[language]['test'] = self.test[self.test['lang']==language].copy()\n",
    "        return dataset_dict\n",
    "\n",
    "    def print_label_distrib(self, dataset: pd.DataFrame):\n",
    "        \"\"\"\n",
    "        Print the normalized distribution of labels in the dataset.\n",
    "        \n",
    "        Args:\n",
    "            dataset (pd.DataFrame): The dataset containing a 'label' column.\n",
    "            \n",
    "        Returns:\n",
    "            None: Prints the percentage distribution of each label.\n",
    "        \"\"\"\n",
    "        print(dataset['label'].value_counts(normalize=True))\n",
    "\n",
    "    def get_tokenizer(self, model_card: str = \"microsoft/mdeberta-v3-base\"):\n",
    "        \"\"\"\n",
    "        Load a tokenizer from the Hugging Face model hub.\n",
    "        \n",
    "        Args:\n",
    "            model_card (str): Identifier for the pre-trained tokenizer to load.\n",
    "            \n",
    "        Returns:\n",
    "            AutoTokenizer: The loaded tokenizer.\n",
    "        \"\"\"\n",
    "        tokenizer = AutoTokenizer.from_pretrained(model_card)\n",
    "        self.tokenizer = tokenizer\n",
    "        return tokenizer\n",
    "\n",
    "    def get_model(self, model_card: str = \"microsoft/mdeberta-v3-base\", *args, **kwargs):\n",
    "        \"\"\"\n",
    "        Load a pre-trained model from the Hugging Face model hub.\n",
    "        \n",
    "        Args:\n",
    "            model_card (str): Identifier for the pre-trained model to load.\n",
    "            *args: Variable length argument list to pass to the model constructor.\n",
    "            **kwargs: Arbitrary keyword arguments to pass to the model constructor.\n",
    "            \n",
    "        Returns:\n",
    "            AutoModelForSequenceClassification: The loaded model.\n",
    "        \"\"\"\n",
    "        model = AutoModelForSequenceClassification.from_pretrained(model_card, *args, **kwargs)\n",
    "        self.model = model\n",
    "        return model\n",
    "\n",
    "    def get_class_weights(self, dataset: pd.DataFrame):\n",
    "        \"\"\"\n",
    "        Compute class weights for imbalanced datasets.\n",
    "        \n",
    "        Args:\n",
    "            dataset (pd.DataFrame): Dataset containing a 'label' column.\n",
    "            \n",
    "        Returns:\n",
    "            numpy.ndarray: Array of class weights where the index corresponds to the class label.\n",
    "        \"\"\"\n",
    "        class_weights = compute_class_weight('balanced', classes=np.unique(dataset['label']), y=dataset['label'])\n",
    "        return class_weights"
   ]
  },
  {
   "cell_type": "markdown",
   "metadata": {},
   "source": [
    "## Creating Our Detector Object  \n",
    "\n",
    "The `__init__()` method of the `Subjectivity` class will load the dataset, set the device and the seeds, and automatically create the `test`, `dev`, and `train` splits from the datasets. It will also convert the `SUBJ` and `OBJ` labels to their corresponding numerical versions, so they are ready to be fed into a model.  \n"
   ]
  },
  {
   "cell_type": "code",
   "execution_count": null,
   "metadata": {},
   "outputs": [
    {
     "name": "stdout",
     "output_type": "stream",
     "text": [
      "Train: (6418, 5)\n",
      "Dev: (2401, 5)\n",
      "Test: (2332, 5)\n"
     ]
    }
   ],
   "source": [
    "detector = Subjectivity(data_folder=data_folder, seed=SEED, device=device)"
   ]
  },
  {
   "cell_type": "code",
   "execution_count": null,
   "metadata": {},
   "outputs": [
    {
     "name": "stdout",
     "output_type": "stream",
     "text": [
      "label\n",
      "0    0.631349\n",
      "1    0.368651\n",
      "Name: proportion, dtype: float64\n",
      "label\n",
      "0    0.612245\n",
      "1    0.387755\n",
      "Name: proportion, dtype: float64\n",
      "label\n",
      "0    0.657376\n",
      "1    0.342624\n",
      "Name: proportion, dtype: float64\n"
     ]
    }
   ],
   "source": [
    "detector.print_label_distrib(detector.train)\n",
    "detector.print_label_distrib(detector.dev)\n",
    "detector.print_label_distrib(detector.test)"
   ]
  },
  {
   "cell_type": "code",
   "execution_count": null,
   "metadata": {},
   "outputs": [
    {
     "data": {
      "text/plain": [
       "count    800.000000\n",
       "mean     126.296250\n",
       "std       67.334117\n",
       "min       31.000000\n",
       "25%       80.000000\n",
       "50%      112.500000\n",
       "75%      161.000000\n",
       "max      625.000000\n",
       "Name: sentence, dtype: float64"
      ]
     },
     "metadata": {},
     "output_type": "display_data"
    }
   ],
   "source": [
    "detector.all_data['german']['train']['sentence'].str.len().describe()"
   ]
  },
  {
   "cell_type": "markdown",
   "metadata": {},
   "source": [
    "Here we create the `results` dictionary and the `predictions_dict` dictionary. They will be used to store all the model's output"
   ]
  },
  {
   "cell_type": "code",
   "execution_count": null,
   "metadata": {},
   "outputs": [],
   "source": [
    "results = {}\n",
    "predictions_dict = {}"
   ]
  },
  {
   "cell_type": "markdown",
   "metadata": {},
   "source": [
    "# Custom Trainer  \n",
    "\n",
    "This class extends the `Trainer` provided by Hugging Face. Since we needed to tweak some details in the training process, we opted to override some `Trainer` functions with custom ones.  \n"
   ]
  },
  {
   "cell_type": "code",
   "execution_count": null,
   "metadata": {},
   "outputs": [],
   "source": [
    "class CustomTrainer(Trainer):\n",
    "    \"\"\"\n",
    "    Custom Trainer class extending Hugging Face's Trainer with additional functionality:\n",
    "    - Support for class weights to handle imbalanced datasets\n",
    "    - Custom loss computation with weighted cross-entropy\n",
    "    - Threshold optimization for binary classification\n",
    "    - Custom prediction with threshold application\n",
    "    \"\"\"\n",
    "    \n",
    "    def __init__(self, *args, class_weights=None, weights_dtype=torch.float32, **kwargs):\n",
    "        \"\"\"\n",
    "        Initialize the CustomTrainer.\n",
    "        \n",
    "        Args:\n",
    "            class_weights (array-like, optional): Weights for each class to handle class imbalance.\n",
    "            weights_dtype (torch.dtype): Data type for the class weights tensor.\n",
    "            *args, **kwargs: Arguments passed to the parent Trainer class.\n",
    "        \"\"\"\n",
    "        super().__init__(*args, **kwargs)\n",
    "        # Ensure label_weights is a tensor\n",
    "        if class_weights is not None:\n",
    "            self.class_weights = torch.tensor(class_weights, dtype=weights_dtype).to(self.args.device)\n",
    "        else:\n",
    "            self.class_weights = None\n",
    "\n",
    "    def compute_loss(self, model, inputs, return_outputs=False, num_items_in_batch=None):\n",
    "        \"\"\"\n",
    "        Compute the training loss with optional class weighting.\n",
    "        \n",
    "        Args:\n",
    "            model: The model to train\n",
    "            inputs: The inputs and targets of the model\n",
    "            return_outputs (bool): Whether to return the outputs along with the loss\n",
    "            num_items_in_batch: Not used but kept for compatibility\n",
    "            \n",
    "        Returns:\n",
    "            torch.Tensor or tuple: Loss value alone or with model outputs\n",
    "        \"\"\"\n",
    "        # Extract labels\n",
    "        labels = inputs.get(\"labels\")\n",
    "\n",
    "        # Forward pass\n",
    "        outputs = model(**inputs)\n",
    "\n",
    "        # Extract logits \n",
    "        logits = outputs.get('logits')\n",
    "\n",
    "        # Compute loss with class weights for imbalanced data handling\n",
    "        if self.class_weights is not None:\n",
    "            loss = F.cross_entropy(logits, labels, weight=self.class_weights)\n",
    "        else:\n",
    "            loss = F.cross_entropy(logits, labels)\n",
    "\n",
    "        return (loss, outputs) if return_outputs else loss\n",
    "\n",
    "    def compute_best_threshold(self, dataset, ignore_keys=None, metric_key_prefix=\"test\"):\n",
    "        \"\"\"\n",
    "        Find the optimal classification threshold that maximizes macro F1 score.\n",
    "        \n",
    "        Args:\n",
    "            dataset: The dataset to use for threshold optimization\n",
    "            ignore_keys (list, optional): Keys to ignore in the model outputs\n",
    "            metric_key_prefix (str): Prefix for metric keys in the output\n",
    "            \n",
    "        Returns:\n",
    "            float: The optimal threshold value\n",
    "        \"\"\"\n",
    "        # Get raw predictions from parent class\n",
    "        output = super().predict(dataset, ignore_keys, metric_key_prefix)\n",
    "\n",
    "        # Convert logits to probabilities using softmax (for binary classification)\n",
    "        logits = output.predictions\n",
    "        logits_tensor = torch.tensor(logits)\n",
    "        probabilities = torch.softmax(logits_tensor, dim=-1).numpy()\n",
    "\n",
    "        # Calculate optimal threshold\n",
    "        labels = output.label_ids\n",
    "        thresholds = np.linspace(0.1, 0.9, 100) \n",
    "\n",
    "        best_threshold = 0.5  # Default threshold\n",
    "        best_f1 = 0\n",
    "\n",
    "        for threshold in thresholds:\n",
    "            predictions = (probabilities[:, 1] >= threshold).astype(int)\n",
    "            _, _, f1, _ = precision_recall_fscore_support(labels, predictions, average=\"macro\", zero_division=0)\n",
    "            \n",
    "            if f1 > best_f1:\n",
    "                best_f1 = f1\n",
    "                best_threshold = threshold\n",
    "\n",
    "        # Return the best threshold found\n",
    "        return best_threshold\n",
    "        \n",
    "    def predict(self, dataset, threshold: float = 0.5, ignore_keys=None, metric_key_prefix=\"test\"):\n",
    "        \"\"\"\n",
    "        Generate predictions with a custom threshold for binary classification.\n",
    "        \n",
    "        Args:\n",
    "            dataset: The dataset to generate predictions for\n",
    "            threshold (float): The classification threshold (default: 0.5)\n",
    "            ignore_keys (list, optional): Keys to ignore in model outputs\n",
    "            metric_key_prefix (str): Prefix for metric keys in the output\n",
    "            \n",
    "        Returns:\n",
    "            PredictionOutput: Object containing predictions, labels, and metrics\n",
    "        \"\"\"\n",
    "        # Get raw predictions from parent class\n",
    "        output = super().predict(dataset, ignore_keys, metric_key_prefix)\n",
    "        \n",
    "        # Convert logits to probabilities using softmax (for binary classification)\n",
    "        logits = output.predictions\n",
    "        logits_tensor = torch.tensor(logits)\n",
    "        probabilities = torch.softmax(logits_tensor, dim=-1).numpy()\n",
    "        \n",
    "        final_predictions = (probabilities[:, 1] >= threshold).astype(int)\n",
    "\n",
    "        # Update predictions in the output object\n",
    "        return PredictionOutput(\n",
    "            predictions=final_predictions,\n",
    "            label_ids=output.label_ids,\n",
    "            metrics=output.metrics\n",
    "        )"
   ]
  },
  {
   "cell_type": "markdown",
   "metadata": {},
   "source": [
    "## Text Tokenizer"
   ]
  },
  {
   "cell_type": "code",
   "execution_count": null,
   "metadata": {},
   "outputs": [],
   "source": [
    "def tokenize_text(texts):\n",
    "    \"\"\"\n",
    "    Tokenize text data using the current tokenizer.\n",
    "    \n",
    "    Args:\n",
    "        texts (dict): Dictionary containing text data with a 'sentence' field\n",
    "        \n",
    "    Returns:\n",
    "        dict: Dictionary with tokenized text features including input_ids, \n",
    "              attention_mask, and potentially token_type_ids\n",
    "    \"\"\"\n",
    "    return tokenizer(texts['sentence'], padding=True, truncation=True, max_length=256, return_tensors='pt')"
   ]
  },
  {
   "cell_type": "markdown",
   "metadata": {},
   "source": [
    "## Evaluation Metrics"
   ]
  },
  {
   "cell_type": "code",
   "execution_count": null,
   "metadata": {},
   "outputs": [],
   "source": [
    "def evaluate_metrics(eval_pred):\n",
    "    \"\"\"\n",
    "    Calculate evaluation metrics for subjectivity classification models.\n",
    "    \n",
    "    This function computes various performance metrics for classification results:\n",
    "    - Accuracy: Overall correctness of predictions\n",
    "    - Macro-averaged precision, recall, and F1: Averages across both classes with equal weight\n",
    "    - Class-specific metrics: Precision, recall, and F1 specifically for the subjective class\n",
    "    \n",
    "    Args:\n",
    "        eval_pred (tuple): Tuple containing (predictions, labels) where:\n",
    "            - predictions: Raw model outputs/logits with shape (n_samples, n_classes)\n",
    "            - labels: Ground truth labels with shape (n_samples,)\n",
    "            \n",
    "    Returns:\n",
    "        dict: Dictionary containing the following metrics:\n",
    "            - macro_F1: Macro-averaged F1 score across all classes\n",
    "            - macro_P: Macro-averaged precision across all classes\n",
    "            - macro_R: Macro-averaged recall across all classes\n",
    "            - SUBJ_F1: F1 score for the subjective class (label 1)\n",
    "            - SUBJ_P: Precision for the subjective class\n",
    "            - SUBJ_R: Recall for the subjective class\n",
    "            - accuracy: Overall accuracy\n",
    "    \"\"\"\n",
    "    predictions, labels = eval_pred\n",
    "    predictions = np.argmax(predictions, axis=1)\n",
    "    acc = accuracy_score(labels, predictions)\n",
    "    m_prec, m_rec, m_f1, m_s = precision_recall_fscore_support(labels, predictions, average=\"macro\",\n",
    "                                                                zero_division=0)\n",
    "    p_prec, p_rec, p_f1, p_s = precision_recall_fscore_support(labels, predictions, labels=[1],\n",
    "                                                                zero_division=0)\n",
    "\n",
    "    return {\n",
    "        'macro_F1': m_f1,\n",
    "        'macro_P': m_prec,\n",
    "        'macro_R': m_rec,\n",
    "        'SUBJ_F1': p_f1[0],\n",
    "        'SUBJ_P': p_prec[0],\n",
    "        'SUBJ_R': p_rec[0],\n",
    "        'accuracy': acc\n",
    "    }"
   ]
  },
  {
   "cell_type": "markdown",
   "metadata": {},
   "source": [
    "## Saving Predictions"
   ]
  },
  {
   "cell_type": "code",
   "execution_count": null,
   "metadata": {},
   "outputs": [],
   "source": [
    "def save_predictions(test_data, predictions, filename: str, save_dir: str = 'results'):\n",
    "    \"\"\"\n",
    "    Save model predictions to a TSV file with sentence IDs and predicted labels.\n",
    "    \n",
    "    Args:\n",
    "        test_data: Dataset containing the 'sentence_id' field to match with predictions\n",
    "        predictions: Array of binary predictions (0 for OBJ, 1 for SUBJ)\n",
    "        filename: Name of the output file (should end with .tsv)\n",
    "        save_dir: Directory to save the predictions file (default: 'results')\n",
    "        \n",
    "    Returns:\n",
    "        str: Full path to the saved predictions file\n",
    "    \"\"\"\n",
    "    os.makedirs(save_dir, exist_ok=True)\n",
    "    pred_df = pd.DataFrame()\n",
    "    pred_df['sentence_id'] = test_data['sentence_id']\n",
    "    pred_df['label'] = predictions\n",
    "    pred_df['label'] = pred_df['label'].apply(lambda x: 'OBJ' if x == 0 else 'SUBJ')\n",
    "\n",
    "    predictions_filepath = os.path.join(save_dir, filename)\n",
    "    pred_df.to_csv(predictions_filepath, index=False, sep='\\t')\n",
    "\n",
    "    print(f\"Saved predictions into file:\", predictions_filepath)\n",
    "    return predictions_filepath"
   ]
  },
  {
   "cell_type": "markdown",
   "metadata": {},
   "source": [
    "# Custom Model"
   ]
  },
  {
   "cell_type": "code",
   "execution_count": null,
   "metadata": {},
   "outputs": [],
   "source": [
    "class CustomModel(PreTrainedModel):\n",
    "    config_class = DebertaV2Config\n",
    "\n",
    "    def __init__(self, config, sentiment_dim=3, num_labels=2, *args, **kwargs):\n",
    "        super().__init__(config, *args, **kwargs)\n",
    "        self.deberta = DebertaV2Model(config)\n",
    "        self.pooler = ContextPooler(config)\n",
    "        output_dim = self.pooler.output_dim\n",
    "        self.dropout = nn.Dropout(0.1)\n",
    "\n",
    "        self.classifier = nn.Linear(output_dim + sentiment_dim, num_labels)\n",
    "\n",
    "    def forward(self, input_ids, positive, neutral, negative, attention_mask=None, labels=None):\n",
    "        outputs = self.deberta(input_ids=input_ids, attention_mask=attention_mask)\n",
    "\n",
    "        encoder_layer = outputs[0]\n",
    "        pooled_output = self.pooler(encoder_layer)\n",
    "        \n",
    "        # Sentiment features as a single tensor\n",
    "        sentiment_features = torch.stack((positive, neutral, negative), dim=1)  # Shape: (batch_size, 3)\n",
    "        \n",
    "        # Combine CLS embedding with sentiment features\n",
    "        combined_features = torch.cat((pooled_output, sentiment_features), dim=1)\n",
    "        \n",
    "        # Classification head\n",
    "        logits = self.classifier(self.dropout(combined_features))\n",
    "        \n",
    "        return {'logits': logits}"
   ]
  },
  {
   "cell_type": "markdown",
   "metadata": {},
   "source": [
    "## Sentiment Pipeline for Data Augmentation"
   ]
  },
  {
   "cell_type": "code",
   "execution_count": null,
   "metadata": {},
   "outputs": [],
   "source": [
    "pipe = pipeline(\"sentiment-analysis\", model=\"cardiffnlp/twitter-xlm-roberta-base-sentiment\", tokenizer=\"cardiffnlp/twitter-xlm-roberta-base-sentiment\", top_k=None)"
   ]
  },
  {
   "cell_type": "code",
   "execution_count": null,
   "metadata": {},
   "outputs": [],
   "source": [
    "def extract_sentiment(text):\n",
    "    sentiments = pipe(text)[0]\n",
    "    return {k:v for k,v in [(list(sentiment.values())[0], list(sentiment.values())[1]) for sentiment in sentiments]}"
   ]
  },
  {
   "cell_type": "markdown",
   "metadata": {},
   "source": [
    "# Multilingual Training without Sentiment Pipeline"
   ]
  },
  {
   "cell_type": "markdown",
   "metadata": {},
   "source": [
    "## mDeBERTa-base (multilingual)"
   ]
  },
  {
   "cell_type": "code",
   "execution_count": 59,
   "metadata": {
    "execution": {
     "iopub.execute_input": "2025-03-15T15:26:55.538155Z",
     "iopub.status.busy": "2025-03-15T15:26:55.537931Z",
     "iopub.status.idle": "2025-03-15T15:26:55.932751Z",
     "shell.execute_reply": "2025-03-15T15:26:55.932095Z",
     "shell.execute_reply.started": "2025-03-15T15:26:55.538134Z"
    },
    "trusted": true
   },
   "outputs": [
    {
     "name": "stdout",
     "output_type": "stream",
     "text": [
      "Model deleted!\n"
     ]
    },
    {
     "data": {
      "text/plain": [
       "5249"
      ]
     },
     "execution_count": 59,
     "metadata": {},
     "output_type": "execute_result"
    }
   ],
   "source": [
    "with torch.no_grad():\n",
    "    torch.cuda.empty_cache()\n",
    "\n",
    "if 'model' in locals() or 'model' in globals():\n",
    "    del model\n",
    "    print(\"Model deleted!\")\n",
    "\n",
    "gc.collect()"
   ]
  },
  {
   "cell_type": "code",
   "execution_count": 60,
   "metadata": {
    "execution": {
     "iopub.execute_input": "2025-03-15T15:26:55.933873Z",
     "iopub.status.busy": "2025-03-15T15:26:55.933543Z",
     "iopub.status.idle": "2025-03-15T15:26:57.795622Z",
     "shell.execute_reply": "2025-03-15T15:26:57.794895Z",
     "shell.execute_reply.started": "2025-03-15T15:26:55.933840Z"
    },
    "trusted": true
   },
   "outputs": [
    {
     "name": "stderr",
     "output_type": "stream",
     "text": [
      "/usr/local/lib/python3.10/dist-packages/transformers/convert_slow_tokenizer.py:561: UserWarning: The sentencepiece tokenizer that you are converting to a fast tokenizer uses the byte fallback option which is not implemented in the fast tokenizers. In practice this means that the fast version of the tokenizer can produce unknown tokens whereas the sentencepiece version would have converted these unknown tokens into a sequence of byte tokens matching the original piece of text.\n",
      "  warnings.warn(\n"
     ]
    }
   ],
   "source": [
    "model_card = \"microsoft/mdeberta-v3-base\"\n",
    "tokenizer = detector.get_tokenizer(model_card=model_card)"
   ]
  },
  {
   "cell_type": "code",
   "execution_count": 61,
   "metadata": {
    "execution": {
     "iopub.execute_input": "2025-03-15T15:26:57.796782Z",
     "iopub.status.busy": "2025-03-15T15:26:57.796576Z",
     "iopub.status.idle": "2025-03-15T15:27:00.112751Z",
     "shell.execute_reply": "2025-03-15T15:27:00.111841Z",
     "shell.execute_reply.started": "2025-03-15T15:26:57.796763Z"
    },
    "trusted": true
   },
   "outputs": [
    {
     "data": {
      "application/vnd.jupyter.widget-view+json": {
       "model_id": "f01fc074b4834c16944d9acb90736c52",
       "version_major": 2,
       "version_minor": 0
      },
      "text/plain": [
       "Map:   0%|          | 0/6418 [00:00<?, ? examples/s]"
      ]
     },
     "metadata": {},
     "output_type": "display_data"
    },
    {
     "data": {
      "application/vnd.jupyter.widget-view+json": {
       "model_id": "6fbd5088541a4113aca0fe252473de6d",
       "version_major": 2,
       "version_minor": 0
      },
      "text/plain": [
       "Map:   0%|          | 0/2401 [00:00<?, ? examples/s]"
      ]
     },
     "metadata": {},
     "output_type": "display_data"
    },
    {
     "data": {
      "application/vnd.jupyter.widget-view+json": {
       "model_id": "235436dc805b415eb821416a871e8a2d",
       "version_major": 2,
       "version_minor": 0
      },
      "text/plain": [
       "Map:   0%|          | 0/2332 [00:00<?, ? examples/s]"
      ]
     },
     "metadata": {},
     "output_type": "display_data"
    }
   ],
   "source": [
    "language = 'multilingual'\n",
    "\n",
    "epochs = 6\n",
    "batch_size = 16\n",
    "lr = 1e-5\n",
    "weight_decay = 0.0\n",
    "label_smoothing = 0.0\n",
    "\n",
    "train_data = Dataset.from_pandas(detector.train)\n",
    "dev_data = Dataset.from_pandas(detector.dev)\n",
    "test_data = Dataset.from_pandas(detector.test)\n",
    "\n",
    "train_data = train_data.map(tokenize_text, batched=True)\n",
    "dev_data = dev_data.map(tokenize_text, batched=True)\n",
    "test_data = test_data.map(tokenize_text, batched=True)\n",
    "\n",
    "class_weights = detector.get_class_weights(detector.train)"
   ]
  },
  {
   "cell_type": "code",
   "execution_count": 62,
   "metadata": {
    "execution": {
     "iopub.execute_input": "2025-03-15T15:27:00.113888Z",
     "iopub.status.busy": "2025-03-15T15:27:00.113554Z",
     "iopub.status.idle": "2025-03-15T15:27:14.615548Z",
     "shell.execute_reply": "2025-03-15T15:27:14.614682Z",
     "shell.execute_reply.started": "2025-03-15T15:27:00.113838Z"
    },
    "trusted": true
   },
   "outputs": [
    {
     "data": {
      "application/vnd.jupyter.widget-view+json": {
       "model_id": "ea58893c41a54af990a69a9977e54170",
       "version_major": 2,
       "version_minor": 0
      },
      "text/plain": [
       "config.json:   0%|          | 0.00/1.00k [00:00<?, ?B/s]"
      ]
     },
     "metadata": {},
     "output_type": "display_data"
    },
    {
     "data": {
      "application/vnd.jupyter.widget-view+json": {
       "model_id": "26392d711b9d48a089af11eb2ea07a14",
       "version_major": 2,
       "version_minor": 0
      },
      "text/plain": [
       "model.safetensors:   0%|          | 0.00/1.12G [00:00<?, ?B/s]"
      ]
     },
     "metadata": {},
     "output_type": "display_data"
    }
   ],
   "source": [
    "model = detector.get_model(\n",
    "    model_card=f\"MatteoFasulo/mdeberta-v3-base-subjectivity-{language}\", \n",
    "    num_labels=2, \n",
    "    id2label={0: 'OBJ', 1: 'SUBJ'}, \n",
    "    label2id={'OBJ': 0, 'SUBJ': 1},\n",
    "    output_attentions = False,\n",
    "    output_hidden_states = False\n",
    ")\n",
    "\n",
    "collator_fn = DataCollatorWithPadding(tokenizer=tokenizer)"
   ]
  },
  {
   "cell_type": "code",
   "execution_count": 63,
   "metadata": {
    "execution": {
     "iopub.execute_input": "2025-03-15T15:27:14.616615Z",
     "iopub.status.busy": "2025-03-15T15:27:14.616409Z",
     "iopub.status.idle": "2025-03-15T15:27:14.643167Z",
     "shell.execute_reply": "2025-03-15T15:27:14.642500Z",
     "shell.execute_reply.started": "2025-03-15T15:27:14.616597Z"
    },
    "trusted": true
   },
   "outputs": [],
   "source": [
    "# Define training args\n",
    "training_args = TrainingArguments(\n",
    "    output_dir=f\"mdeberta-v3-base-subjectivity-{language}\",\n",
    "    per_device_train_batch_size=batch_size,\n",
    "    per_device_eval_batch_size=batch_size,\n",
    "    learning_rate=lr,\n",
    "    num_train_epochs=epochs,\n",
    "    #weight_decay=1e-1,\n",
    "    eval_strategy=\"epoch\",\n",
    "    save_strategy=\"epoch\",\n",
    "    save_total_limit=1,\n",
    "    #warmup_ratio=0.5,\n",
    "    load_best_model_at_end=True,\n",
    "    metric_for_best_model=\"eval_loss\",\n",
    "    greater_is_better=False,\n",
    "    report_to=\"none\"\n",
    ")"
   ]
  },
  {
   "cell_type": "code",
   "execution_count": 64,
   "metadata": {
    "execution": {
     "iopub.execute_input": "2025-03-15T15:27:14.644261Z",
     "iopub.status.busy": "2025-03-15T15:27:14.643949Z",
     "iopub.status.idle": "2025-03-15T15:27:15.420734Z",
     "shell.execute_reply": "2025-03-15T15:27:15.420042Z",
     "shell.execute_reply.started": "2025-03-15T15:27:14.644231Z"
    },
    "trusted": true
   },
   "outputs": [],
   "source": [
    "# Create a Trainer instance\n",
    "trainer = CustomTrainer(\n",
    "    model=model,\n",
    "    args=training_args,\n",
    "    train_dataset=train_data,\n",
    "    eval_dataset=dev_data,\n",
    "    data_collator=collator_fn,\n",
    "    compute_metrics=evaluate_metrics,\n",
    "    class_weights=class_weights,\n",
    ")"
   ]
  },
  {
   "cell_type": "code",
   "execution_count": 65,
   "metadata": {
    "execution": {
     "iopub.execute_input": "2025-03-15T15:27:15.421836Z",
     "iopub.status.busy": "2025-03-15T15:27:15.421627Z",
     "iopub.status.idle": "2025-03-15T15:28:11.112361Z",
     "shell.execute_reply": "2025-03-15T15:28:11.111626Z",
     "shell.execute_reply.started": "2025-03-15T15:27:15.421817Z"
    },
    "trusted": true
   },
   "outputs": [
    {
     "data": {
      "text/html": [],
      "text/plain": [
       "<IPython.core.display.HTML object>"
      ]
     },
     "metadata": {},
     "output_type": "display_data"
    },
    {
     "data": {
      "text/html": [],
      "text/plain": [
       "<IPython.core.display.HTML object>"
      ]
     },
     "metadata": {},
     "output_type": "display_data"
    },
    {
     "name": "stdout",
     "output_type": "stream",
     "text": [
      "Saved predictions into file: results/dev_multilingual_predicted.tsv\n"
     ]
    },
    {
     "data": {
      "text/html": [],
      "text/plain": [
       "<IPython.core.display.HTML object>"
      ]
     },
     "metadata": {},
     "output_type": "display_data"
    },
    {
     "name": "stdout",
     "output_type": "stream",
     "text": [
      "Saved predictions into file: results/test_multilingual_predicted.tsv\n",
      "{'macro_F1': 0.6941601722041967, 'macro_P': 0.6906958894763773, 'macro_R': 0.7008144557735656, 'SUBJ_F1': 0.6114050558495003, 'SUBJ_P': 0.5764966740576497, 'SUBJ_R': 0.6508135168961201, 'accuracy': 0.7165523156089194}\n"
     ]
    },
    {
     "data": {
      "image/png": "[encoded data removed]",
      "text/plain": [
       "<Figure size 640x480 with 2 Axes>"
      ]
     },
     "metadata": {},
     "output_type": "display_data"
    }
   ],
   "source": [
    "# Decision threshold calibration on dev set\n",
    "best_thr = trainer.compute_best_threshold(dataset=dev_data)\n",
    "# Predictions on dev set (with best threshold on dev set)\n",
    "pred_info = trainer.predict(dataset=dev_data, threshold=best_thr)\n",
    "\n",
    "predictions, labels = pred_info.predictions, pred_info.label_ids\n",
    "\n",
    "# Save dev set predictions\n",
    "save_predictions(dev_data, predictions, filename = f\"dev_{language}_predicted.tsv\")\n",
    "\n",
    "# Predictions on test set (with best threshold on dev set)\n",
    "pred_info = trainer.predict(dataset=test_data, threshold=best_thr)\n",
    "\n",
    "predictions, labels = pred_info.predictions, pred_info.label_ids\n",
    "\n",
    "# Save test set predictions\n",
    "save_predictions(test_data, predictions, filename = f\"test_{language}_predicted.tsv\")\n",
    "\n",
    "acc = accuracy_score(labels, predictions)\n",
    "m_prec, m_rec, m_f1, m_s = precision_recall_fscore_support(labels, predictions, average=\"macro\",\n",
    "                                                            zero_division=0)\n",
    "p_prec, p_rec, p_f1, p_s = precision_recall_fscore_support(labels, predictions, labels=[1],\n",
    "                                                            zero_division=0)\n",
    "stats = {\n",
    "        'macro_F1': m_f1,\n",
    "        'macro_P': m_prec,\n",
    "        'macro_R': m_rec,\n",
    "        'SUBJ_F1': p_f1[0],\n",
    "        'SUBJ_P': p_prec[0],\n",
    "        'SUBJ_R': p_rec[0],\n",
    "        'accuracy': acc\n",
    "    }\n",
    "\n",
    "print(stats)\n",
    "results[f\"{language}-thr\"] = stats\n",
    "\n",
    "cm = confusion_matrix(labels, predictions, normalize='all')\n",
    "ConfusionMatrixDisplay(cm, display_labels=['OBJ', 'SUBJ']).plot()\n",
    "plt.title(f\"Confusion Matrix ({language})\")\n",
    "plt.show()"
   ]
  },
  {
   "cell_type": "markdown",
   "metadata": {},
   "source": [
    "---"
   ]
  },
  {
   "cell_type": "markdown",
   "metadata": {},
   "source": [
    "# Multilingual Training with Sentiment Pipeline"
   ]
  },
  {
   "cell_type": "markdown",
   "metadata": {},
   "source": [
    "## mDeBERTa-base (multilingual + sentiment)"
   ]
  },
  {
   "cell_type": "code",
   "execution_count": 90,
   "metadata": {
    "execution": {
     "iopub.execute_input": "2025-03-16T14:30:35.834043Z",
     "iopub.status.busy": "2025-03-16T14:30:35.833685Z",
     "iopub.status.idle": "2025-03-16T14:30:36.256435Z",
     "shell.execute_reply": "2025-03-16T14:30:36.255717Z",
     "shell.execute_reply.started": "2025-03-16T14:30:35.834015Z"
    },
    "trusted": true
   },
   "outputs": [
    {
     "name": "stdout",
     "output_type": "stream",
     "text": [
      "Model deleted!\n"
     ]
    },
    {
     "data": {
      "text/plain": [
       "5161"
      ]
     },
     "execution_count": 90,
     "metadata": {},
     "output_type": "execute_result"
    }
   ],
   "source": [
    "with torch.no_grad():\n",
    "    torch.cuda.empty_cache()\n",
    "\n",
    "if 'model' in locals() or 'model' in globals():\n",
    "    del model\n",
    "    print(\"Model deleted!\")\n",
    "\n",
    "gc.collect()"
   ]
  },
  {
   "cell_type": "code",
   "execution_count": 92,
   "metadata": {
    "execution": {
     "iopub.execute_input": "2025-03-16T14:30:48.189431Z",
     "iopub.status.busy": "2025-03-16T14:30:48.189094Z",
     "iopub.status.idle": "2025-03-16T14:30:48.193426Z",
     "shell.execute_reply": "2025-03-16T14:30:48.192487Z",
     "shell.execute_reply.started": "2025-03-16T14:30:48.189405Z"
    },
    "trusted": true
   },
   "outputs": [],
   "source": [
    "language = 'multilingual'\n",
    "\n",
    "epochs = 6\n",
    "batch_size = 16\n",
    "lr = 1e-5\n",
    "weight_decay = 0.0"
   ]
  },
  {
   "cell_type": "code",
   "execution_count": 93,
   "metadata": {
    "execution": {
     "iopub.execute_input": "2025-03-16T14:30:53.632279Z",
     "iopub.status.busy": "2025-03-16T14:30:53.631965Z",
     "iopub.status.idle": "2025-03-16T14:31:12.567042Z",
     "shell.execute_reply": "2025-03-16T14:31:12.566326Z",
     "shell.execute_reply.started": "2025-03-16T14:30:53.632256Z"
    },
    "trusted": true
   },
   "outputs": [
    {
     "name": "stderr",
     "output_type": "stream",
     "text": [
      "/usr/local/lib/python3.10/dist-packages/transformers/convert_slow_tokenizer.py:561: UserWarning: The sentencepiece tokenizer that you are converting to a fast tokenizer uses the byte fallback option which is not implemented in the fast tokenizers. In practice this means that the fast version of the tokenizer can produce unknown tokens whereas the sentencepiece version would have converted these unknown tokens into a sequence of byte tokens matching the original piece of text.\n",
      "  warnings.warn(\n"
     ]
    },
    {
     "data": {
      "application/vnd.jupyter.widget-view+json": {
       "model_id": "47327ca1b7de4ce59682878f95cafa12",
       "version_major": 2,
       "version_minor": 0
      },
      "text/plain": [
       "config.json:   0%|          | 0.00/929 [00:00<?, ?B/s]"
      ]
     },
     "metadata": {},
     "output_type": "display_data"
    },
    {
     "data": {
      "application/vnd.jupyter.widget-view+json": {
       "model_id": "9bcb1c264a354d8b8a5de3280502a906",
       "version_major": 2,
       "version_minor": 0
      },
      "text/plain": [
       "model.safetensors:   0%|          | 0.00/1.12G [00:00<?, ?B/s]"
      ]
     },
     "metadata": {},
     "output_type": "display_data"
    }
   ],
   "source": [
    "model_card = \"microsoft/mdeberta-v3-base\"\n",
    "\n",
    "tokenizer = detector.get_tokenizer(model_card=model_card)\n",
    "\n",
    "# Load the config\n",
    "config = DebertaV2Config.from_pretrained(\n",
    "    f\"MatteoFasulo/mdeberta-v3-base-subjectivity-sentiment-{language}\",\n",
    "    num_labels=2,\n",
    "    id2label={0: 'OBJ', 1: 'SUBJ'},\n",
    "    label2id={'OBJ': 0, 'SUBJ': 1},\n",
    "    output_attentions=False,\n",
    "    output_hidden_states=False\n",
    ")\n",
    "\n",
    "# Initialize the custom model\n",
    "model = CustomModel(config=config, sentiment_dim=3, num_labels=2).from_pretrained(\n",
    "    f\"MatteoFasulo/mdeberta-v3-base-subjectivity-sentiment-{language}\"\n",
    ")"
   ]
  },
  {
   "cell_type": "code",
   "execution_count": null,
   "metadata": {
    "execution": {
     "iopub.execute_input": "2025-03-16T14:31:12.568326Z",
     "iopub.status.busy": "2025-03-16T14:31:12.568040Z",
     "iopub.status.idle": "2025-03-16T14:32:48.592440Z",
     "shell.execute_reply": "2025-03-16T14:32:48.591653Z",
     "shell.execute_reply.started": "2025-03-16T14:31:12.568291Z"
    },
    "trusted": true
   },
   "outputs": [
    {
     "name": "stderr",
     "output_type": "stream",
     "text": [
      "Device set to use cuda:0\n",
      "100%|██████████| 6418/6418 [00:53<00:00, 119.95it/s]\n",
      "100%|██████████| 2401/2401 [00:19<00:00, 122.28it/s]\n",
      "100%|██████████| 2332/2332 [00:19<00:00, 121.09it/s]\n"
     ]
    }
   ],
   "source": [
    "detector.train[['positive', 'neutral', 'negative']] = detector.train.progress_apply(lambda x: extract_sentiment(x['sentence']), axis=1, result_type='expand')\n",
    "detector.dev[['positive', 'neutral', 'negative']] = detector.dev.progress_apply(lambda x: extract_sentiment(x['sentence']), axis=1, result_type='expand')\n",
    "detector.test[['positive', 'neutral', 'negative']] = detector.test.progress_apply(lambda x: extract_sentiment(x['sentence']), axis=1, result_type='expand')"
   ]
  },
  {
   "cell_type": "code",
   "execution_count": 95,
   "metadata": {
    "execution": {
     "iopub.execute_input": "2025-03-16T14:32:48.594032Z",
     "iopub.status.busy": "2025-03-16T14:32:48.593776Z",
     "iopub.status.idle": "2025-03-16T14:32:51.044583Z",
     "shell.execute_reply": "2025-03-16T14:32:51.043583Z",
     "shell.execute_reply.started": "2025-03-16T14:32:48.594010Z"
    },
    "trusted": true
   },
   "outputs": [
    {
     "data": {
      "application/vnd.jupyter.widget-view+json": {
       "model_id": "611aab1f8eb04552a14b94dab3232c63",
       "version_major": 2,
       "version_minor": 0
      },
      "text/plain": [
       "Map:   0%|          | 0/6418 [00:00<?, ? examples/s]"
      ]
     },
     "metadata": {},
     "output_type": "display_data"
    },
    {
     "data": {
      "application/vnd.jupyter.widget-view+json": {
       "model_id": "013d1dac913a44e6981c57ebe824b476",
       "version_major": 2,
       "version_minor": 0
      },
      "text/plain": [
       "Map:   0%|          | 0/2401 [00:00<?, ? examples/s]"
      ]
     },
     "metadata": {},
     "output_type": "display_data"
    },
    {
     "data": {
      "application/vnd.jupyter.widget-view+json": {
       "model_id": "9ea3d42d3cc04b1faf282ae4da23148f",
       "version_major": 2,
       "version_minor": 0
      },
      "text/plain": [
       "Map:   0%|          | 0/2332 [00:00<?, ? examples/s]"
      ]
     },
     "metadata": {},
     "output_type": "display_data"
    }
   ],
   "source": [
    "train_data = Dataset.from_pandas(detector.train)\n",
    "dev_data = Dataset.from_pandas(detector.dev)\n",
    "test_data = Dataset.from_pandas(detector.test)\n",
    "\n",
    "train_data = train_data.map(tokenize_text, batched=True)\n",
    "dev_data = dev_data.map(tokenize_text, batched=True)\n",
    "test_data = test_data.map(tokenize_text, batched=True)\n",
    "\n",
    "collator_fn = DataCollatorWithPadding(tokenizer=tokenizer)\n",
    "\n",
    "class_weights = detector.get_class_weights(detector.train)"
   ]
  },
  {
   "cell_type": "code",
   "execution_count": 96,
   "metadata": {
    "execution": {
     "iopub.execute_input": "2025-03-16T14:32:51.046271Z",
     "iopub.status.busy": "2025-03-16T14:32:51.045998Z",
     "iopub.status.idle": "2025-03-16T14:32:51.077580Z",
     "shell.execute_reply": "2025-03-16T14:32:51.076636Z",
     "shell.execute_reply.started": "2025-03-16T14:32:51.046249Z"
    },
    "trusted": true
   },
   "outputs": [],
   "source": [
    "# Define training args\n",
    "training_args = TrainingArguments(\n",
    "    output_dir=f\"mdeberta-v3-base-subjectivity-sentiment-{language}\",\n",
    "    per_device_train_batch_size=batch_size,\n",
    "    per_device_eval_batch_size=batch_size,\n",
    "    learning_rate=lr,\n",
    "    num_train_epochs=epochs,\n",
    "    weight_decay=weight_decay,\n",
    "    eval_strategy=\"epoch\",\n",
    "    save_strategy=\"epoch\",\n",
    "    save_total_limit=1,\n",
    "    #warmup_ratio=0.5,\n",
    "    load_best_model_at_end=True,\n",
    "    metric_for_best_model=\"eval_loss\",\n",
    "    greater_is_better=False,\n",
    "    report_to=\"none\"\n",
    ")"
   ]
  },
  {
   "cell_type": "code",
   "execution_count": 97,
   "metadata": {
    "execution": {
     "iopub.execute_input": "2025-03-16T14:32:51.078842Z",
     "iopub.status.busy": "2025-03-16T14:32:51.078510Z",
     "iopub.status.idle": "2025-03-16T14:32:51.632640Z",
     "shell.execute_reply": "2025-03-16T14:32:51.631664Z",
     "shell.execute_reply.started": "2025-03-16T14:32:51.078808Z"
    },
    "trusted": true
   },
   "outputs": [],
   "source": [
    "trainer = CustomTrainer(\n",
    "    model = model,\n",
    "    args = training_args,\n",
    "    train_dataset = train_data,\n",
    "    eval_dataset = dev_data,\n",
    "    data_collator = collator_fn,\n",
    "    compute_metrics = evaluate_metrics,\n",
    "    class_weights=class_weights,\n",
    ")"
   ]
  },
  {
   "cell_type": "code",
   "execution_count": 98,
   "metadata": {
    "execution": {
     "iopub.execute_input": "2025-03-16T14:32:51.634113Z",
     "iopub.status.busy": "2025-03-16T14:32:51.633791Z",
     "iopub.status.idle": "2025-03-16T14:33:46.953724Z",
     "shell.execute_reply": "2025-03-16T14:33:46.952720Z",
     "shell.execute_reply.started": "2025-03-16T14:32:51.634091Z"
    },
    "trusted": true
   },
   "outputs": [
    {
     "data": {
      "text/html": [],
      "text/plain": [
       "<IPython.core.display.HTML object>"
      ]
     },
     "metadata": {},
     "output_type": "display_data"
    },
    {
     "data": {
      "text/html": [],
      "text/plain": [
       "<IPython.core.display.HTML object>"
      ]
     },
     "metadata": {},
     "output_type": "display_data"
    },
    {
     "name": "stdout",
     "output_type": "stream",
     "text": [
      "Saved predictions into file: results/dev_multilingual_sentiment_predicted.tsv\n"
     ]
    },
    {
     "data": {
      "text/html": [],
      "text/plain": [
       "<IPython.core.display.HTML object>"
      ]
     },
     "metadata": {},
     "output_type": "display_data"
    },
    {
     "name": "stdout",
     "output_type": "stream",
     "text": [
      "Saved predictions into file: results/test_multilingual_sentiment_predicted.tsv\n",
      "{'macro_F1': 0.6798492181682799, 'macro_P': 0.73863768566673, 'macro_R': 0.6691404046316866, 'SUBJ_F1': 0.5332278481012658, 'SUBJ_P': 0.7247311827956989, 'SUBJ_R': 0.42177722152690866, 'accuracy': 0.7469982847341338}\n"
     ]
    },
    {
     "data": {
      "image/png": "[encoded data removed]",
      "text/plain": [
       "<Figure size 640x480 with 2 Axes>"
      ]
     },
     "metadata": {},
     "output_type": "display_data"
    }
   ],
   "source": [
    "# Decision threshold calibration on dev set\n",
    "best_thr = trainer.compute_best_threshold(dataset=dev_data)\n",
    "# Predictions on dev set (with best threshold on dev set)\n",
    "pred_info = trainer.predict(dataset=dev_data, threshold=best_thr)\n",
    "\n",
    "predictions, labels = pred_info.predictions, pred_info.label_ids\n",
    "\n",
    "# Save dev set predictions\n",
    "save_predictions(dev_data, predictions, filename = f\"dev_{language}_sentiment_predicted.tsv\")\n",
    "\n",
    "# Predictions on test set (with best threshold on dev set)\n",
    "pred_info = trainer.predict(dataset=test_data, threshold=best_thr)\n",
    "\n",
    "predictions, labels = pred_info.predictions, pred_info.label_ids\n",
    "\n",
    "# Save test set predictions\n",
    "save_predictions(test_data, predictions, filename = f\"test_{language}_sentiment_predicted.tsv\")\n",
    "\n",
    "acc = accuracy_score(labels, predictions)\n",
    "m_prec, m_rec, m_f1, m_s = precision_recall_fscore_support(labels, predictions, average=\"macro\",\n",
    "                                                            zero_division=0)\n",
    "p_prec, p_rec, p_f1, p_s = precision_recall_fscore_support(labels, predictions, labels=[1],\n",
    "                                                            zero_division=0)\n",
    "stats = {\n",
    "        'macro_F1': m_f1,\n",
    "        'macro_P': m_prec,\n",
    "        'macro_R': m_rec,\n",
    "        'SUBJ_F1': p_f1[0],\n",
    "        'SUBJ_P': p_prec[0],\n",
    "        'SUBJ_R': p_rec[0],\n",
    "        'accuracy': acc\n",
    "    }\n",
    "\n",
    "print(stats)\n",
    "results[f\"{language}-sentiment-thr\"] = stats\n",
    "\n",
    "cm = confusion_matrix(labels, predictions, normalize='all')\n",
    "ConfusionMatrixDisplay(cm, display_labels=['OBJ', 'SUBJ']).plot()\n",
    "plt.title(f\"Confusion Matrix ({language})\")\n",
    "plt.show()"
   ]
  },
  {
   "cell_type": "code",
   "execution_count": 99,
   "metadata": {
    "execution": {
     "iopub.execute_input": "2025-03-16T14:33:46.955553Z",
     "iopub.status.busy": "2025-03-16T14:33:46.955303Z",
     "iopub.status.idle": "2025-03-16T14:33:46.979319Z",
     "shell.execute_reply": "2025-03-16T14:33:46.978265Z",
     "shell.execute_reply.started": "2025-03-16T14:33:46.955531Z"
    },
    "trusted": true
   },
   "outputs": [
    {
     "data": {
      "text/html": [
       "<div>\n",
       "<style scoped>\n",
       "    .dataframe tbody tr th:only-of-type {\n",
       "        vertical-align: middle;\n",
       "    }\n",
       "\n",
       "    .dataframe tbody tr th {\n",
       "        vertical-align: top;\n",
       "    }\n",
       "\n",
       "    .dataframe thead th {\n",
       "        text-align: right;\n",
       "    }\n",
       "</style>\n",
       "<table border=\"1\" class=\"dataframe\">\n",
       "  <thead>\n",
       "    <tr style=\"text-align: right;\">\n",
       "      <th></th>\n",
       "      <th>macro_F1</th>\n",
       "      <th>macro_P</th>\n",
       "      <th>macro_R</th>\n",
       "      <th>SUBJ_F1</th>\n",
       "      <th>SUBJ_P</th>\n",
       "      <th>SUBJ_R</th>\n",
       "      <th>accuracy</th>\n",
       "    </tr>\n",
       "  </thead>\n",
       "  <tbody>\n",
       "    <tr>\n",
       "      <th>german-sentiment-thr</th>\n",
       "      <td>0.8291</td>\n",
       "      <td>0.8233</td>\n",
       "      <td>0.8368</td>\n",
       "      <td>0.7759</td>\n",
       "      <td>0.7438</td>\n",
       "      <td>0.8108</td>\n",
       "      <td>0.8457</td>\n",
       "    </tr>\n",
       "    <tr>\n",
       "      <th>italian-sentiment-thr</th>\n",
       "      <td>0.7769</td>\n",
       "      <td>0.7677</td>\n",
       "      <td>0.7897</td>\n",
       "      <td>0.6804</td>\n",
       "      <td>0.6387</td>\n",
       "      <td>0.7279</td>\n",
       "      <td>0.8187</td>\n",
       "    </tr>\n",
       "    <tr>\n",
       "      <th>bulgarian-sentiment-thr</th>\n",
       "      <td>0.7718</td>\n",
       "      <td>0.7712</td>\n",
       "      <td>0.7724</td>\n",
       "      <td>0.7407</td>\n",
       "      <td>0.7339</td>\n",
       "      <td>0.7477</td>\n",
       "      <td>0.7760</td>\n",
       "    </tr>\n",
       "    <tr>\n",
       "      <th>english-sentiment-thr</th>\n",
       "      <td>0.7036</td>\n",
       "      <td>0.7611</td>\n",
       "      <td>0.6813</td>\n",
       "      <td>0.5279</td>\n",
       "      <td>0.6933</td>\n",
       "      <td>0.4262</td>\n",
       "      <td>0.8079</td>\n",
       "    </tr>\n",
       "    <tr>\n",
       "      <th>multilingual-sentiment-thr</th>\n",
       "      <td>0.6798</td>\n",
       "      <td>0.7386</td>\n",
       "      <td>0.6691</td>\n",
       "      <td>0.5332</td>\n",
       "      <td>0.7247</td>\n",
       "      <td>0.4218</td>\n",
       "      <td>0.7470</td>\n",
       "    </tr>\n",
       "    <tr>\n",
       "      <th>arabic-sentiment-thr</th>\n",
       "      <td>0.5735</td>\n",
       "      <td>0.5846</td>\n",
       "      <td>0.5846</td>\n",
       "      <td>0.5741</td>\n",
       "      <td>0.5047</td>\n",
       "      <td>0.6656</td>\n",
       "      <td>0.5735</td>\n",
       "    </tr>\n",
       "  </tbody>\n",
       "</table>\n",
       "</div>"
      ],
      "text/plain": [
       "                            macro_F1  macro_P  macro_R  SUBJ_F1  SUBJ_P  \\\n",
       "german-sentiment-thr          0.8291   0.8233   0.8368   0.7759  0.7438   \n",
       "italian-sentiment-thr         0.7769   0.7677   0.7897   0.6804  0.6387   \n",
       "bulgarian-sentiment-thr       0.7718   0.7712   0.7724   0.7407  0.7339   \n",
       "english-sentiment-thr         0.7036   0.7611   0.6813   0.5279  0.6933   \n",
       "multilingual-sentiment-thr    0.6798   0.7386   0.6691   0.5332  0.7247   \n",
       "arabic-sentiment-thr          0.5735   0.5846   0.5846   0.5741  0.5047   \n",
       "\n",
       "                            SUBJ_R  accuracy  \n",
       "german-sentiment-thr        0.8108    0.8457  \n",
       "italian-sentiment-thr       0.7279    0.8187  \n",
       "bulgarian-sentiment-thr     0.7477    0.7760  \n",
       "english-sentiment-thr       0.4262    0.8079  \n",
       "multilingual-sentiment-thr  0.4218    0.7470  \n",
       "arabic-sentiment-thr        0.6656    0.5735  "
      ]
     },
     "execution_count": 99,
     "metadata": {},
     "output_type": "execute_result"
    }
   ],
   "source": [
    "pd.DataFrame(results).T.sort_values(by='macro_F1', ascending=False).round(4)"
   ]
  },
  {
   "cell_type": "code",
   "execution_count": 76,
   "metadata": {
    "execution": {
     "iopub.execute_input": "2025-03-14T16:02:53.076265Z",
     "iopub.status.busy": "2025-03-14T16:02:53.075871Z",
     "iopub.status.idle": "2025-03-14T16:02:53.085940Z",
     "shell.execute_reply": "2025-03-14T16:02:53.084828Z",
     "shell.execute_reply.started": "2025-03-14T16:02:53.076223Z"
    },
    "trusted": true
   },
   "outputs": [],
   "source": [
    "predictions_dict['true_labels'] = labels\n",
    "predictions_dict['sentence'] = test_data['sentence']\n",
    "predictions_dict['sentence_id'] = test_data['sentence_id']\n",
    "predictions_dict['positive'] = test_data['positive']\n",
    "predictions_dict['neutral'] = test_data['neutral']\n",
    "predictions_dict['negative'] = test_data['negative']"
   ]
  },
  {
   "cell_type": "code",
   "execution_count": 77,
   "metadata": {
    "execution": {
     "iopub.execute_input": "2025-03-14T16:02:54.771817Z",
     "iopub.status.busy": "2025-03-14T16:02:54.771417Z",
     "iopub.status.idle": "2025-03-14T16:02:54.786264Z",
     "shell.execute_reply": "2025-03-14T16:02:54.785166Z",
     "shell.execute_reply.started": "2025-03-14T16:02:54.771774Z"
    },
    "trusted": true
   },
   "outputs": [
    {
     "data": {
      "text/html": [
       "<div>\n",
       "<style scoped>\n",
       "    .dataframe tbody tr th:only-of-type {\n",
       "        vertical-align: middle;\n",
       "    }\n",
       "\n",
       "    .dataframe tbody tr th {\n",
       "        vertical-align: top;\n",
       "    }\n",
       "\n",
       "    .dataframe thead th {\n",
       "        text-align: right;\n",
       "    }\n",
       "</style>\n",
       "<table border=\"1\" class=\"dataframe\">\n",
       "  <thead>\n",
       "    <tr style=\"text-align: right;\">\n",
       "      <th></th>\n",
       "      <th>english-sentiment-thr</th>\n",
       "      <th>english-thr</th>\n",
       "      <th>english-modern-bert-thr</th>\n",
       "      <th>true_labels</th>\n",
       "      <th>sentence</th>\n",
       "      <th>sentence_id</th>\n",
       "      <th>positive</th>\n",
       "      <th>neutral</th>\n",
       "      <th>negative</th>\n",
       "    </tr>\n",
       "  </thead>\n",
       "  <tbody>\n",
       "    <tr>\n",
       "      <th>0</th>\n",
       "      <td>0</td>\n",
       "      <td>0</td>\n",
       "      <td>0</td>\n",
       "      <td>0</td>\n",
       "      <td>Blanco established himself earlier in his care...</td>\n",
       "      <td>44f33601-157a-42ce-aa9f-0f7d305501f2</td>\n",
       "      <td>0.802878</td>\n",
       "      <td>0.178354</td>\n",
       "      <td>0.018768</td>\n",
       "    </tr>\n",
       "    <tr>\n",
       "      <th>1</th>\n",
       "      <td>0</td>\n",
       "      <td>0</td>\n",
       "      <td>0</td>\n",
       "      <td>0</td>\n",
       "      <td>RULE 13: ARTIFICIAL INTELLIGENCE  Not only thi...</td>\n",
       "      <td>6f9e0f53-f76c-432f-bbea-b78400d600b8</td>\n",
       "      <td>0.508778</td>\n",
       "      <td>0.389381</td>\n",
       "      <td>0.101840</td>\n",
       "    </tr>\n",
       "    <tr>\n",
       "      <th>2</th>\n",
       "      <td>0</td>\n",
       "      <td>0</td>\n",
       "      <td>0</td>\n",
       "      <td>0</td>\n",
       "      <td>The valuation is required by law and the figur...</td>\n",
       "      <td>61f93bdc-4c3e-4963-926c-0bbf139b44b9</td>\n",
       "      <td>0.849510</td>\n",
       "      <td>0.093090</td>\n",
       "      <td>0.057400</td>\n",
       "    </tr>\n",
       "    <tr>\n",
       "      <th>3</th>\n",
       "      <td>1</td>\n",
       "      <td>1</td>\n",
       "      <td>0</td>\n",
       "      <td>1</td>\n",
       "      <td>A sip can really hit the spot after a long bik...</td>\n",
       "      <td>902148ec-dda3-4736-b318-0f20c63a1cf3</td>\n",
       "      <td>0.220061</td>\n",
       "      <td>0.736456</td>\n",
       "      <td>0.043484</td>\n",
       "    </tr>\n",
       "    <tr>\n",
       "      <th>4</th>\n",
       "      <td>0</td>\n",
       "      <td>0</td>\n",
       "      <td>0</td>\n",
       "      <td>0</td>\n",
       "      <td>\"Lobster!\"\"\"</td>\n",
       "      <td>065b1996-4b40-4c74-9f62-afb44f69834e</td>\n",
       "      <td>0.444932</td>\n",
       "      <td>0.295773</td>\n",
       "      <td>0.259295</td>\n",
       "    </tr>\n",
       "  </tbody>\n",
       "</table>\n",
       "</div>"
      ],
      "text/plain": [
       "   english-sentiment-thr  english-thr  english-modern-bert-thr  true_labels  \\\n",
       "0                      0            0                        0            0   \n",
       "1                      0            0                        0            0   \n",
       "2                      0            0                        0            0   \n",
       "3                      1            1                        0            1   \n",
       "4                      0            0                        0            0   \n",
       "\n",
       "                                            sentence  \\\n",
       "0  Blanco established himself earlier in his care...   \n",
       "1  RULE 13: ARTIFICIAL INTELLIGENCE  Not only thi...   \n",
       "2  The valuation is required by law and the figur...   \n",
       "3  A sip can really hit the spot after a long bik...   \n",
       "4                                       \"Lobster!\"\"\"   \n",
       "\n",
       "                            sentence_id  positive   neutral  negative  \n",
       "0  44f33601-157a-42ce-aa9f-0f7d305501f2  0.802878  0.178354  0.018768  \n",
       "1  6f9e0f53-f76c-432f-bbea-b78400d600b8  0.508778  0.389381  0.101840  \n",
       "2  61f93bdc-4c3e-4963-926c-0bbf139b44b9  0.849510  0.093090  0.057400  \n",
       "3  902148ec-dda3-4736-b318-0f20c63a1cf3  0.220061  0.736456  0.043484  \n",
       "4  065b1996-4b40-4c74-9f62-afb44f69834e  0.444932  0.295773  0.259295  "
      ]
     },
     "execution_count": 77,
     "metadata": {},
     "output_type": "execute_result"
    }
   ],
   "source": [
    "predictions_df = pd.DataFrame(predictions_dict)\n",
    "predictions_df.head()"
   ]
  },
  {
   "cell_type": "code",
   "execution_count": 78,
   "metadata": {
    "execution": {
     "iopub.execute_input": "2025-03-14T16:03:25.896533Z",
     "iopub.status.busy": "2025-03-14T16:03:25.896198Z",
     "iopub.status.idle": "2025-03-14T16:03:25.909671Z",
     "shell.execute_reply": "2025-03-14T16:03:25.908688Z",
     "shell.execute_reply.started": "2025-03-14T16:03:25.896507Z"
    },
    "trusted": true
   },
   "outputs": [],
   "source": [
    "predictions_df.to_csv('predictions_to_be_compared.csv', index=False, encoding='UTF-8')"
   ]
  },
  {
   "cell_type": "code",
   "execution_count": 79,
   "metadata": {
    "execution": {
     "iopub.execute_input": "2025-03-14T16:04:00.575815Z",
     "iopub.status.busy": "2025-03-14T16:04:00.575413Z",
     "iopub.status.idle": "2025-03-14T16:04:00.594364Z",
     "shell.execute_reply": "2025-03-14T16:04:00.593436Z",
     "shell.execute_reply.started": "2025-03-14T16:04:00.575778Z"
    },
    "trusted": true
   },
   "outputs": [
    {
     "data": {
      "text/html": [
       "<div>\n",
       "<style scoped>\n",
       "    .dataframe tbody tr th:only-of-type {\n",
       "        vertical-align: middle;\n",
       "    }\n",
       "\n",
       "    .dataframe tbody tr th {\n",
       "        vertical-align: top;\n",
       "    }\n",
       "\n",
       "    .dataframe thead th {\n",
       "        text-align: right;\n",
       "    }\n",
       "</style>\n",
       "<table border=\"1\" class=\"dataframe\">\n",
       "  <thead>\n",
       "    <tr style=\"text-align: right;\">\n",
       "      <th></th>\n",
       "      <th>english-sentiment-thr</th>\n",
       "      <th>english-thr</th>\n",
       "      <th>english-modern-bert-thr</th>\n",
       "      <th>true_labels</th>\n",
       "      <th>sentence</th>\n",
       "      <th>sentence_id</th>\n",
       "      <th>positive</th>\n",
       "      <th>neutral</th>\n",
       "      <th>negative</th>\n",
       "    </tr>\n",
       "  </thead>\n",
       "  <tbody>\n",
       "    <tr>\n",
       "      <th>6</th>\n",
       "      <td>0</td>\n",
       "      <td>1</td>\n",
       "      <td>1</td>\n",
       "      <td>0</td>\n",
       "      <td>Googled how to cook a good lobster and I read ...</td>\n",
       "      <td>d5429c1d-802b-4427-8ffa-88ac62091a62</td>\n",
       "      <td>0.128520</td>\n",
       "      <td>0.024822</td>\n",
       "      <td>0.846658</td>\n",
       "    </tr>\n",
       "    <tr>\n",
       "      <th>48</th>\n",
       "      <td>0</td>\n",
       "      <td>1</td>\n",
       "      <td>1</td>\n",
       "      <td>0</td>\n",
       "      <td>This is why the more Osborne slashed public sp...</td>\n",
       "      <td>f77261bb-91b1-4f85-809c-8a588bcf1ab7</td>\n",
       "      <td>0.410512</td>\n",
       "      <td>0.116610</td>\n",
       "      <td>0.472878</td>\n",
       "    </tr>\n",
       "    <tr>\n",
       "      <th>49</th>\n",
       "      <td>0</td>\n",
       "      <td>1</td>\n",
       "      <td>1</td>\n",
       "      <td>0</td>\n",
       "      <td>When your credit card is “maxed out”, you do i...</td>\n",
       "      <td>2510c90d-872b-44f3-9329-7e614f6ba821</td>\n",
       "      <td>0.268093</td>\n",
       "      <td>0.042711</td>\n",
       "      <td>0.689196</td>\n",
       "    </tr>\n",
       "    <tr>\n",
       "      <th>50</th>\n",
       "      <td>0</td>\n",
       "      <td>1</td>\n",
       "      <td>1</td>\n",
       "      <td>0</td>\n",
       "      <td>This was inaccurate.</td>\n",
       "      <td>fd834368-aa38-4dd6-aecd-ad2d6ac00ad0</td>\n",
       "      <td>0.078637</td>\n",
       "      <td>0.020564</td>\n",
       "      <td>0.900799</td>\n",
       "    </tr>\n",
       "    <tr>\n",
       "      <th>55</th>\n",
       "      <td>0</td>\n",
       "      <td>1</td>\n",
       "      <td>0</td>\n",
       "      <td>0</td>\n",
       "      <td>\"I know you was heartbroken lol.\"\"\"</td>\n",
       "      <td>4e021920-81a3-44e0-97e7-e5fc7d0acb46</td>\n",
       "      <td>0.361328</td>\n",
       "      <td>0.119520</td>\n",
       "      <td>0.519152</td>\n",
       "    </tr>\n",
       "    <tr>\n",
       "      <th>58</th>\n",
       "      <td>0</td>\n",
       "      <td>1</td>\n",
       "      <td>0</td>\n",
       "      <td>0</td>\n",
       "      <td>I scribbled down what I saw and what I felt an...</td>\n",
       "      <td>b256f52b-e2ce-49f5-b3be-8b2e48e99000</td>\n",
       "      <td>0.681925</td>\n",
       "      <td>0.182852</td>\n",
       "      <td>0.135223</td>\n",
       "    </tr>\n",
       "    <tr>\n",
       "      <th>61</th>\n",
       "      <td>0</td>\n",
       "      <td>1</td>\n",
       "      <td>0</td>\n",
       "      <td>0</td>\n",
       "      <td>\"But one person who knows exactly what's that ...</td>\n",
       "      <td>c8840daf-2871-4d51-9c40-53d22cd8a8f8</td>\n",
       "      <td>0.070693</td>\n",
       "      <td>0.010807</td>\n",
       "      <td>0.918500</td>\n",
       "    </tr>\n",
       "    <tr>\n",
       "      <th>68</th>\n",
       "      <td>0</td>\n",
       "      <td>1</td>\n",
       "      <td>0</td>\n",
       "      <td>0</td>\n",
       "      <td>\"\"\"I'm not really a gambler - it was a $10k (£...</td>\n",
       "      <td>03802121-73ba-427a-8a60-1a5d3bc64dfe</td>\n",
       "      <td>0.565224</td>\n",
       "      <td>0.120331</td>\n",
       "      <td>0.314445</td>\n",
       "    </tr>\n",
       "    <tr>\n",
       "      <th>69</th>\n",
       "      <td>0</td>\n",
       "      <td>1</td>\n",
       "      <td>0</td>\n",
       "      <td>0</td>\n",
       "      <td>When it was an Emma and Dex day I felt good ab...</td>\n",
       "      <td>3934802e-66b0-4501-9ff2-2a4ce3b19371</td>\n",
       "      <td>0.230351</td>\n",
       "      <td>0.737375</td>\n",
       "      <td>0.032274</td>\n",
       "    </tr>\n",
       "    <tr>\n",
       "      <th>100</th>\n",
       "      <td>0</td>\n",
       "      <td>1</td>\n",
       "      <td>0</td>\n",
       "      <td>0</td>\n",
       "      <td>Bring it out done.'</td>\n",
       "      <td>ef352be8-43ca-4627-bc90-9477a3e0e322</td>\n",
       "      <td>0.618892</td>\n",
       "      <td>0.335233</td>\n",
       "      <td>0.045875</td>\n",
       "    </tr>\n",
       "    <tr>\n",
       "      <th>127</th>\n",
       "      <td>1</td>\n",
       "      <td>0</td>\n",
       "      <td>1</td>\n",
       "      <td>1</td>\n",
       "      <td>But the state’s budget is nothing like a credi...</td>\n",
       "      <td>e707436a-6dd3-41c4-be1a-16cdf2efd2b9</td>\n",
       "      <td>0.545011</td>\n",
       "      <td>0.047952</td>\n",
       "      <td>0.407037</td>\n",
       "    </tr>\n",
       "    <tr>\n",
       "      <th>136</th>\n",
       "      <td>1</td>\n",
       "      <td>0</td>\n",
       "      <td>1</td>\n",
       "      <td>1</td>\n",
       "      <td>By comparing the state’s coffers to an overlad...</td>\n",
       "      <td>7ce61351-f9cc-4ba4-8d35-65766a3c681c</td>\n",
       "      <td>0.056728</td>\n",
       "      <td>0.016872</td>\n",
       "      <td>0.926400</td>\n",
       "    </tr>\n",
       "    <tr>\n",
       "      <th>148</th>\n",
       "      <td>0</td>\n",
       "      <td>1</td>\n",
       "      <td>1</td>\n",
       "      <td>0</td>\n",
       "      <td>It’s one of my favourite cordials to mix with ...</td>\n",
       "      <td>59a0ab29-91e3-4dc6-a77c-4e2cb03d493b</td>\n",
       "      <td>0.117318</td>\n",
       "      <td>0.860415</td>\n",
       "      <td>0.022267</td>\n",
       "    </tr>\n",
       "    <tr>\n",
       "      <th>152</th>\n",
       "      <td>1</td>\n",
       "      <td>0</td>\n",
       "      <td>0</td>\n",
       "      <td>1</td>\n",
       "      <td>A three-goal winning margin would have put the...</td>\n",
       "      <td>d7424c75-7ee0-4164-8add-9500bf9d96ab</td>\n",
       "      <td>0.339919</td>\n",
       "      <td>0.256555</td>\n",
       "      <td>0.403526</td>\n",
       "    </tr>\n",
       "    <tr>\n",
       "      <th>154</th>\n",
       "      <td>1</td>\n",
       "      <td>0</td>\n",
       "      <td>1</td>\n",
       "      <td>1</td>\n",
       "      <td>But then Trump came to power and sidelined the...</td>\n",
       "      <td>24cd1e99-58ba-4a40-9ea3-637cfb4bed41</td>\n",
       "      <td>0.109047</td>\n",
       "      <td>0.034579</td>\n",
       "      <td>0.856374</td>\n",
       "    </tr>\n",
       "    <tr>\n",
       "      <th>181</th>\n",
       "      <td>0</td>\n",
       "      <td>1</td>\n",
       "      <td>0</td>\n",
       "      <td>0</td>\n",
       "      <td>\"READ MORE ON LOTTERY  \"\"I went right to the l...</td>\n",
       "      <td>fde04bf6-d58a-4324-a8b5-2eb319c91fa4</td>\n",
       "      <td>0.350828</td>\n",
       "      <td>0.094557</td>\n",
       "      <td>0.554615</td>\n",
       "    </tr>\n",
       "    <tr>\n",
       "      <th>186</th>\n",
       "      <td>0</td>\n",
       "      <td>1</td>\n",
       "      <td>0</td>\n",
       "      <td>0</td>\n",
       "      <td>Horrible choice.'</td>\n",
       "      <td>6f91bca9-585c-4141-a846-9cac0a929e56</td>\n",
       "      <td>0.024767</td>\n",
       "      <td>0.014309</td>\n",
       "      <td>0.960924</td>\n",
       "    </tr>\n",
       "    <tr>\n",
       "      <th>189</th>\n",
       "      <td>0</td>\n",
       "      <td>1</td>\n",
       "      <td>0</td>\n",
       "      <td>0</td>\n",
       "      <td>But I never felt anything like that while work...</td>\n",
       "      <td>233d2de9-839f-48b5-9799-49944be03d88</td>\n",
       "      <td>0.344257</td>\n",
       "      <td>0.269286</td>\n",
       "      <td>0.386457</td>\n",
       "    </tr>\n",
       "    <tr>\n",
       "      <th>194</th>\n",
       "      <td>0</td>\n",
       "      <td>1</td>\n",
       "      <td>1</td>\n",
       "      <td>0</td>\n",
       "      <td>This is a great chance for me to cook somethin...</td>\n",
       "      <td>50a4dd5b-9c85-4319-8562-e7caae386ddf</td>\n",
       "      <td>0.423722</td>\n",
       "      <td>0.205333</td>\n",
       "      <td>0.370945</td>\n",
       "    </tr>\n",
       "    <tr>\n",
       "      <th>226</th>\n",
       "      <td>0</td>\n",
       "      <td>1</td>\n",
       "      <td>0</td>\n",
       "      <td>0</td>\n",
       "      <td>I checked into a hotel and all the blackjack t...</td>\n",
       "      <td>79f07920-e125-4c4c-9848-f90812c4ac7f</td>\n",
       "      <td>0.471102</td>\n",
       "      <td>0.303233</td>\n",
       "      <td>0.225665</td>\n",
       "    </tr>\n",
       "    <tr>\n",
       "      <th>236</th>\n",
       "      <td>0</td>\n",
       "      <td>1</td>\n",
       "      <td>0</td>\n",
       "      <td>0</td>\n",
       "      <td>\"Beks captioned the post: \"\"Taxes are the real...</td>\n",
       "      <td>d4b42120-82e9-414e-9830-e3b383bd249a</td>\n",
       "      <td>0.499410</td>\n",
       "      <td>0.289012</td>\n",
       "      <td>0.211578</td>\n",
       "    </tr>\n",
       "    <tr>\n",
       "      <th>244</th>\n",
       "      <td>0</td>\n",
       "      <td>1</td>\n",
       "      <td>0</td>\n",
       "      <td>0</td>\n",
       "      <td>I went to a restaurant that I knew and I asked...</td>\n",
       "      <td>4e404b41-2299-4684-b22b-809c7a79ceab</td>\n",
       "      <td>0.624696</td>\n",
       "      <td>0.260397</td>\n",
       "      <td>0.114907</td>\n",
       "    </tr>\n",
       "    <tr>\n",
       "      <th>252</th>\n",
       "      <td>1</td>\n",
       "      <td>0</td>\n",
       "      <td>1</td>\n",
       "      <td>1</td>\n",
       "      <td>Now the bill goes to the House, where the spea...</td>\n",
       "      <td>0836046d-c025-4460-a687-febadda0517e</td>\n",
       "      <td>0.293871</td>\n",
       "      <td>0.070402</td>\n",
       "      <td>0.635726</td>\n",
       "    </tr>\n",
       "    <tr>\n",
       "      <th>256</th>\n",
       "      <td>1</td>\n",
       "      <td>0</td>\n",
       "      <td>0</td>\n",
       "      <td>1</td>\n",
       "      <td>By combining powerful missiles with kamikaze s...</td>\n",
       "      <td>012204d4-5e65-44e3-8938-b6083040ddf6</td>\n",
       "      <td>0.271254</td>\n",
       "      <td>0.433491</td>\n",
       "      <td>0.295256</td>\n",
       "    </tr>\n",
       "    <tr>\n",
       "      <th>287</th>\n",
       "      <td>0</td>\n",
       "      <td>1</td>\n",
       "      <td>0</td>\n",
       "      <td>0</td>\n",
       "      <td>\"A second penned: \"\"Infuriating how taxes almo...</td>\n",
       "      <td>435eb818-9910-4cc0-ae8e-cdca2d465a26</td>\n",
       "      <td>0.075920</td>\n",
       "      <td>0.018063</td>\n",
       "      <td>0.906018</td>\n",
       "    </tr>\n",
       "    <tr>\n",
       "      <th>315</th>\n",
       "      <td>0</td>\n",
       "      <td>1</td>\n",
       "      <td>1</td>\n",
       "      <td>0</td>\n",
       "      <td>She has the warmth of Elizabeth Taylor or Judy...</td>\n",
       "      <td>f94a2609-1254-4670-ab4b-a3bbcf84b149</td>\n",
       "      <td>0.161523</td>\n",
       "      <td>0.796674</td>\n",
       "      <td>0.041803</td>\n",
       "    </tr>\n",
       "    <tr>\n",
       "      <th>322</th>\n",
       "      <td>1</td>\n",
       "      <td>0</td>\n",
       "      <td>1</td>\n",
       "      <td>1</td>\n",
       "      <td>Boxing Day ambush &amp; flagship attack  Putin has...</td>\n",
       "      <td>9658af0e-5a34-40bd-93ad-214aa5dda20a</td>\n",
       "      <td>0.056042</td>\n",
       "      <td>0.014027</td>\n",
       "      <td>0.929932</td>\n",
       "    </tr>\n",
       "    <tr>\n",
       "      <th>327</th>\n",
       "      <td>0</td>\n",
       "      <td>1</td>\n",
       "      <td>1</td>\n",
       "      <td>0</td>\n",
       "      <td>It was fun and challenging and hard work and t...</td>\n",
       "      <td>82d8b054-ae66-4f0d-906e-d2b6165a1431</td>\n",
       "      <td>0.060191</td>\n",
       "      <td>0.924311</td>\n",
       "      <td>0.015497</td>\n",
       "    </tr>\n",
       "    <tr>\n",
       "      <th>345</th>\n",
       "      <td>0</td>\n",
       "      <td>1</td>\n",
       "      <td>1</td>\n",
       "      <td>0</td>\n",
       "      <td>It was the best rack of lamb I've ever had.</td>\n",
       "      <td>db8acc4f-2498-4fd9-bd32-04b0d26fcf4f</td>\n",
       "      <td>0.060889</td>\n",
       "      <td>0.911821</td>\n",
       "      <td>0.027290</td>\n",
       "    </tr>\n",
       "    <tr>\n",
       "      <th>362</th>\n",
       "      <td>0</td>\n",
       "      <td>1</td>\n",
       "      <td>1</td>\n",
       "      <td>0</td>\n",
       "      <td>I was engaged and stimulated, and I cared deep...</td>\n",
       "      <td>6c6abf1d-3d7e-43f6-9ec2-1ac318118c4b</td>\n",
       "      <td>0.200040</td>\n",
       "      <td>0.772930</td>\n",
       "      <td>0.027030</td>\n",
       "    </tr>\n",
       "    <tr>\n",
       "      <th>372</th>\n",
       "      <td>0</td>\n",
       "      <td>1</td>\n",
       "      <td>1</td>\n",
       "      <td>0</td>\n",
       "      <td>“Talking to my grandmother engages my brain in...</td>\n",
       "      <td>d47d22c7-de29-4b12-b747-0b2298b01123</td>\n",
       "      <td>0.470304</td>\n",
       "      <td>0.467379</td>\n",
       "      <td>0.062317</td>\n",
       "    </tr>\n",
       "    <tr>\n",
       "      <th>423</th>\n",
       "      <td>0</td>\n",
       "      <td>1</td>\n",
       "      <td>0</td>\n",
       "      <td>0</td>\n",
       "      <td>Move it or you will lose itGina Stewart  “It w...</td>\n",
       "      <td>768f2206-5264-4f92-81c2-23c20517d1d2</td>\n",
       "      <td>0.506044</td>\n",
       "      <td>0.353995</td>\n",
       "      <td>0.139961</td>\n",
       "    </tr>\n",
       "    <tr>\n",
       "      <th>434</th>\n",
       "      <td>1</td>\n",
       "      <td>0</td>\n",
       "      <td>1</td>\n",
       "      <td>1</td>\n",
       "      <td>It will be delicious to drink now, but also ma...</td>\n",
       "      <td>786bbcb6-6de9-4775-8a90-cb7dce84b538</td>\n",
       "      <td>0.081146</td>\n",
       "      <td>0.902494</td>\n",
       "      <td>0.016360</td>\n",
       "    </tr>\n",
       "  </tbody>\n",
       "</table>\n",
       "</div>"
      ],
      "text/plain": [
       "     english-sentiment-thr  english-thr  english-modern-bert-thr  true_labels  \\\n",
       "6                        0            1                        1            0   \n",
       "48                       0            1                        1            0   \n",
       "49                       0            1                        1            0   \n",
       "50                       0            1                        1            0   \n",
       "55                       0            1                        0            0   \n",
       "58                       0            1                        0            0   \n",
       "61                       0            1                        0            0   \n",
       "68                       0            1                        0            0   \n",
       "69                       0            1                        0            0   \n",
       "100                      0            1                        0            0   \n",
       "127                      1            0                        1            1   \n",
       "136                      1            0                        1            1   \n",
       "148                      0            1                        1            0   \n",
       "152                      1            0                        0            1   \n",
       "154                      1            0                        1            1   \n",
       "181                      0            1                        0            0   \n",
       "186                      0            1                        0            0   \n",
       "189                      0            1                        0            0   \n",
       "194                      0            1                        1            0   \n",
       "226                      0            1                        0            0   \n",
       "236                      0            1                        0            0   \n",
       "244                      0            1                        0            0   \n",
       "252                      1            0                        1            1   \n",
       "256                      1            0                        0            1   \n",
       "287                      0            1                        0            0   \n",
       "315                      0            1                        1            0   \n",
       "322                      1            0                        1            1   \n",
       "327                      0            1                        1            0   \n",
       "345                      0            1                        1            0   \n",
       "362                      0            1                        1            0   \n",
       "372                      0            1                        1            0   \n",
       "423                      0            1                        0            0   \n",
       "434                      1            0                        1            1   \n",
       "\n",
       "                                              sentence  \\\n",
       "6    Googled how to cook a good lobster and I read ...   \n",
       "48   This is why the more Osborne slashed public sp...   \n",
       "49   When your credit card is “maxed out”, you do i...   \n",
       "50                                This was inaccurate.   \n",
       "55                 \"I know you was heartbroken lol.\"\"\"   \n",
       "58   I scribbled down what I saw and what I felt an...   \n",
       "61   \"But one person who knows exactly what's that ...   \n",
       "68   \"\"\"I'm not really a gambler - it was a $10k (£...   \n",
       "69   When it was an Emma and Dex day I felt good ab...   \n",
       "100                                Bring it out done.'   \n",
       "127  But the state’s budget is nothing like a credi...   \n",
       "136  By comparing the state’s coffers to an overlad...   \n",
       "148  It’s one of my favourite cordials to mix with ...   \n",
       "152  A three-goal winning margin would have put the...   \n",
       "154  But then Trump came to power and sidelined the...   \n",
       "181  \"READ MORE ON LOTTERY  \"\"I went right to the l...   \n",
       "186                                  Horrible choice.'   \n",
       "189  But I never felt anything like that while work...   \n",
       "194  This is a great chance for me to cook somethin...   \n",
       "226  I checked into a hotel and all the blackjack t...   \n",
       "236  \"Beks captioned the post: \"\"Taxes are the real...   \n",
       "244  I went to a restaurant that I knew and I asked...   \n",
       "252  Now the bill goes to the House, where the spea...   \n",
       "256  By combining powerful missiles with kamikaze s...   \n",
       "287  \"A second penned: \"\"Infuriating how taxes almo...   \n",
       "315  She has the warmth of Elizabeth Taylor or Judy...   \n",
       "322  Boxing Day ambush & flagship attack  Putin has...   \n",
       "327  It was fun and challenging and hard work and t...   \n",
       "345        It was the best rack of lamb I've ever had.   \n",
       "362  I was engaged and stimulated, and I cared deep...   \n",
       "372  “Talking to my grandmother engages my brain in...   \n",
       "423  Move it or you will lose itGina Stewart  “It w...   \n",
       "434  It will be delicious to drink now, but also ma...   \n",
       "\n",
       "                              sentence_id  positive   neutral  negative  \n",
       "6    d5429c1d-802b-4427-8ffa-88ac62091a62  0.128520  0.024822  0.846658  \n",
       "48   f77261bb-91b1-4f85-809c-8a588bcf1ab7  0.410512  0.116610  0.472878  \n",
       "49   2510c90d-872b-44f3-9329-7e614f6ba821  0.268093  0.042711  0.689196  \n",
       "50   fd834368-aa38-4dd6-aecd-ad2d6ac00ad0  0.078637  0.020564  0.900799  \n",
       "55   4e021920-81a3-44e0-97e7-e5fc7d0acb46  0.361328  0.119520  0.519152  \n",
       "58   b256f52b-e2ce-49f5-b3be-8b2e48e99000  0.681925  0.182852  0.135223  \n",
       "61   c8840daf-2871-4d51-9c40-53d22cd8a8f8  0.070693  0.010807  0.918500  \n",
       "68   03802121-73ba-427a-8a60-1a5d3bc64dfe  0.565224  0.120331  0.314445  \n",
       "69   3934802e-66b0-4501-9ff2-2a4ce3b19371  0.230351  0.737375  0.032274  \n",
       "100  ef352be8-43ca-4627-bc90-9477a3e0e322  0.618892  0.335233  0.045875  \n",
       "127  e707436a-6dd3-41c4-be1a-16cdf2efd2b9  0.545011  0.047952  0.407037  \n",
       "136  7ce61351-f9cc-4ba4-8d35-65766a3c681c  0.056728  0.016872  0.926400  \n",
       "148  59a0ab29-91e3-4dc6-a77c-4e2cb03d493b  0.117318  0.860415  0.022267  \n",
       "152  d7424c75-7ee0-4164-8add-9500bf9d96ab  0.339919  0.256555  0.403526  \n",
       "154  24cd1e99-58ba-4a40-9ea3-637cfb4bed41  0.109047  0.034579  0.856374  \n",
       "181  fde04bf6-d58a-4324-a8b5-2eb319c91fa4  0.350828  0.094557  0.554615  \n",
       "186  6f91bca9-585c-4141-a846-9cac0a929e56  0.024767  0.014309  0.960924  \n",
       "189  233d2de9-839f-48b5-9799-49944be03d88  0.344257  0.269286  0.386457  \n",
       "194  50a4dd5b-9c85-4319-8562-e7caae386ddf  0.423722  0.205333  0.370945  \n",
       "226  79f07920-e125-4c4c-9848-f90812c4ac7f  0.471102  0.303233  0.225665  \n",
       "236  d4b42120-82e9-414e-9830-e3b383bd249a  0.499410  0.289012  0.211578  \n",
       "244  4e404b41-2299-4684-b22b-809c7a79ceab  0.624696  0.260397  0.114907  \n",
       "252  0836046d-c025-4460-a687-febadda0517e  0.293871  0.070402  0.635726  \n",
       "256  012204d4-5e65-44e3-8938-b6083040ddf6  0.271254  0.433491  0.295256  \n",
       "287  435eb818-9910-4cc0-ae8e-cdca2d465a26  0.075920  0.018063  0.906018  \n",
       "315  f94a2609-1254-4670-ab4b-a3bbcf84b149  0.161523  0.796674  0.041803  \n",
       "322  9658af0e-5a34-40bd-93ad-214aa5dda20a  0.056042  0.014027  0.929932  \n",
       "327  82d8b054-ae66-4f0d-906e-d2b6165a1431  0.060191  0.924311  0.015497  \n",
       "345  db8acc4f-2498-4fd9-bd32-04b0d26fcf4f  0.060889  0.911821  0.027290  \n",
       "362  6c6abf1d-3d7e-43f6-9ec2-1ac318118c4b  0.200040  0.772930  0.027030  \n",
       "372  d47d22c7-de29-4b12-b747-0b2298b01123  0.470304  0.467379  0.062317  \n",
       "423  768f2206-5264-4f92-81c2-23c20517d1d2  0.506044  0.353995  0.139961  \n",
       "434  786bbcb6-6de9-4775-8a90-cb7dce84b538  0.081146  0.902494  0.016360  "
      ]
     },
     "execution_count": 79,
     "metadata": {},
     "output_type": "execute_result"
    }
   ],
   "source": [
    "# correct guess but sentiment provides better understanding\n",
    "predictions_df[(predictions_df['english-sentiment-thr'] == predictions_df['true_labels']) & \n",
    "                (predictions_df['english-sentiment-thr'] != predictions_df['english-thr'])]"
   ]
  }
 ],
 "metadata": {
  "kaggle": {
   "accelerator": "gpu",
   "dataSources": [
    {
     "datasetId": 6742324,
     "isSourceIdPinned": false,
     "sourceId": 10881030,
     "sourceType": "datasetVersion"
    }
   ],
   "isGpuEnabled": true,
   "isInternetEnabled": true,
   "language": "python",
   "sourceType": "notebook"
  },
  "kernelspec": {
   "display_name": "env",
   "language": "python",
   "name": "python3"
  },
  "language_info": {
   "codemirror_mode": {
    "name": "ipython",
    "version": 3
   },
   "file_extension": ".py",
   "mimetype": "text/x-python",
   "name": "python",
   "nbconvert_exporter": "python",
   "pygments_lexer": "ipython3",
   "version": "3.10.12"
  }
 },
 "nbformat": 4,
 "nbformat_minor": 4
}
